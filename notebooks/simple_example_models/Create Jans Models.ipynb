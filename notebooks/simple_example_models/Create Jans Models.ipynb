{
 "cells": [
  {
   "cell_type": "code",
   "execution_count": 11,
   "metadata": {},
   "outputs": [
    {
     "name": "stderr",
     "output_type": "stream",
     "text": [
      "C:\\Users\\elisa\\Anaconda3\\envs\\gempy_n\\lib\\site-packages\\dask\\config.py:168: YAMLLoadWarning: calling yaml.load() without Loader=... is deprecated, as the default Loader is unsafe. Please read https://msg.pyyaml.org/load for full details.\n",
      "  data = yaml.load(f.read()) or {}\n",
      "WARNING (theano.configdefaults): g++ not available, if using conda: `conda install m2w64-toolchain`\n",
      "C:\\Users\\elisa\\Anaconda3\\envs\\gempy_n\\lib\\site-packages\\theano\\configdefaults.py:560: UserWarning: DeprecationWarning: there is no c++ compiler.This is deprecated and with Theano 0.11 a c++ compiler will be mandatory\n",
      "  warnings.warn(\"DeprecationWarning: there is no c++ compiler.\"\n",
      "WARNING (theano.configdefaults): g++ not detected ! Theano will be unable to execute optimized C-implementations (for both CPU and GPU) and will default to Python implementations. Performance will be severely degraded. To remove this warning, set Theano flags cxx to an empty string.\n",
      "WARNING (theano.tensor.blas): Using NumPy C-API based implementation for BLAS functions.\n"
     ]
    }
   ],
   "source": [
    "import sys, os\n",
    "sys.path.append('C:\\\\Users\\\\elisa\\\\Documents\\\\git\\\\gempy')\n",
    "# Importing GemPy\n",
    "import gempy as gp\n",
    "import matplotlib.pyplot as plt"
   ]
  },
  {
   "cell_type": "code",
   "execution_count": 12,
   "metadata": {},
   "outputs": [],
   "source": [
    "theano_optimizer = 'fast_compile'"
   ]
  },
  {
   "cell_type": "code",
   "execution_count": 13,
   "metadata": {},
   "outputs": [],
   "source": [
    "data_path=r'inputdata/'"
   ]
  },
  {
   "cell_type": "code",
   "execution_count": 14,
   "metadata": {},
   "outputs": [],
   "source": [
    "change_color=False\n",
    "extent = [0,1000,0,1000,0,1000]"
   ]
  },
  {
   "cell_type": "code",
   "execution_count": 15,
   "metadata": {},
   "outputs": [],
   "source": [
    "all_models = ['Horizontal_layers', 'Recumbent_fold', 'Anticline',\n",
    "         'Pinchout', 'Fault', 'Unconformity']"
   ]
  },
  {
   "cell_type": "markdown",
   "metadata": {},
   "source": [
    "### Horizontal Stratigraphic layers"
   ]
  },
  {
   "cell_type": "code",
   "execution_count": 31,
   "metadata": {},
   "outputs": [],
   "source": [
    "def create_example_model(name, extent = [0,1000,0,1000,0,1000], change_color=False, data_path=r'inputdata/'):\n",
    "    \n",
    "    all_models = ['Horizontal_layers', 'Recumbent_fold', 'Anticline',\n",
    "             'Pinchout', 'Fault', 'Unconformity']\n",
    "    \n",
    "    assert name in all_models, 'possible model names are '+ str(all_models)\n",
    "    geo_model = gp.create_model(name)\n",
    "    \n",
    "    if name == 'Horizontal_layers':\n",
    "        geo_model = gp.create_data(extent=extent,#resolution=[5,5,5], \n",
    "                                path_o = data_path+\"model1_orientations.csv\",\n",
    "                                path_i = data_path+\"model1_surface_points.csv\")\n",
    "        if change_color:\n",
    "            geo_model.surfaces.colors.change_colors({\"rock2\": '#9f0052', 'rock1': '#e36746', \n",
    "                                                 'basement': '#f9f871'})\n",
    "\n",
    "        gp.map_series_to_surfaces(geo_model, {\"Strat_Series\": ('rock2','rock1'),\n",
    "                                             \"Basement_Series\":('basement')})\n",
    "    \n",
    "    elif name == 'Recumbent_fold':\n",
    "        geo_model = gp.create_data(extent=extent, \n",
    "                        path_o = data_path + \"model3_orientations.csv\",\n",
    "                        path_i = data_path + \"model3_surface_points.csv\") \n",
    "        gp.map_series_to_surfaces(geo_model, {\"Strat_Series\": ('rock2','rock1'),\n",
    "                                             \"Basement_Series\":('basement')})\n",
    "        if change_color:\n",
    "            geo_model.surfaces.colors.change_colors({\"rock2\": '#e36746', 'rock1': '#c0539f', \n",
    "                                                 'basement': '#006fa8'})\n",
    "            \n",
    "    elif name == 'Anticline':\n",
    "        geo_model = gp.create_data(extent=extent, \n",
    "                                  path_o = data_path + \"model2_orientations.csv\",\n",
    "                                  path_i = data_path + \"model2_surface_points.csv\")\n",
    "        gp.map_series_to_surfaces(geo_model, {\"Strat_Series\": ('rock2','rock1'),\n",
    "                                             \"Basement_Series\":('basement')})\n",
    "        \n",
    "    elif name == 'Pinchout':\n",
    "        geo_model = gp.create_data(extent=extent,\n",
    "                                path_o = data_path + \"model4_orientations.csv\",\n",
    "                                path_i = data_path + \"model4_surface_points.csv\")\n",
    "        gp.map_series_to_surfaces(geo_model, {\"Strat_Series\": ('rock2','rock1'),\n",
    "                                             \"Basement_Series\":('basement')})\n",
    "        if change_color:\n",
    "            geo_model.surfaces.colors.change_colors({\"rock2\": '#a1b455', 'rock1': '#ffbe00', \n",
    "                                                 'basement': '#006471'})\n",
    "            \n",
    "    elif name == 'Fault':\n",
    "        geo_model = gp.create_data(extent=extent,\n",
    "                                path_o = data_path + \"model5_orientations.csv\",\n",
    "                                path_i = data_path + \"model5_surface_points.csv\") \n",
    "        gp.map_series_to_surfaces(geo_model, {\"Fault_Series\":'fault', \n",
    "                                 \"Strat_Series\": ('rock2','rock1')})\n",
    "        geo_model.set_is_fault(['Fault_Series'], change_color=False)\n",
    "        if change_color:\n",
    "            geo_model.surfaces.colors.change_colors({\"rock2\": '#00c2d0', 'rock1': '#a43d00', \n",
    "                                                 'basement': '#76a237', 'fault':'#000000'})\n",
    "            \n",
    "    elif name == 'Unconformity':\n",
    "        geo_model = gp.create_data(extent=extent, \n",
    "                                path_o = data_path + \"model6_orientations.csv\",\n",
    "                                path_i = data_path + \"model6_surface_points.csv\")\n",
    "        \n",
    "        gp.map_series_to_surfaces(geo_model, {\"Strat_Series1\": ('rock3'),\n",
    "                                             \"Strat_Series2\": ('rock2','rock1'),\n",
    "                                             \"Basement_Series\":('basement')})\n",
    "        \n",
    "    # das kann auch weg theoretisch\n",
    "    geo_model.grid.set_section_grid({'section'+' '+name:([0,500],[1000,500],[30,30])})\n",
    "\n",
    "    interp_data = gp.set_interpolation_data(geo_model, compile_theano=True,\n",
    "                                        theano_optimizer=theano_optimizer)\n",
    "\n",
    "    _=gp.compute_model(geo_model, compute_mesh=False)\n",
    "    \n",
    "    # kann auch weg\n",
    "    gp.plot.plot_section_by_name(geo_model,'section'+' '+name, show_data=False)\n",
    "        \n",
    "    return geo_model"
   ]
  },
  {
   "cell_type": "code",
   "execution_count": 33,
   "metadata": {},
   "outputs": [
    {
     "name": "stdout",
     "output_type": "stream",
     "text": [
      "Active grids: ['regular']\n",
      "Compiling theano function...\n",
      "Level of Optimization:  fast_compile\n",
      "Device:  cpu\n",
      "Precision:  float64\n",
      "Number of faults:  0\n",
      "Compilation Done!\n"
     ]
    },
    {
     "data": {
      "image/png": "[encoded data removed]",
      "text/plain": [
       "<Figure size 432x288 with 1 Axes>"
      ]
     },
     "metadata": {
      "needs_background": "light"
     },
     "output_type": "display_data"
    }
   ],
   "source": [
    "geo_model = create_example_model('Pinchout')"
   ]
  },
  {
   "cell_type": "code",
   "execution_count": null,
   "metadata": {},
   "outputs": [],
   "source": []
  }
 ],
 "metadata": {
  "kernelspec": {
   "display_name": "Python 3",
   "language": "python",
   "name": "python3"
  },
  "language_info": {
   "codemirror_mode": {
    "name": "ipython",
    "version": 3
   },
   "file_extension": ".py",
   "mimetype": "text/x-python",
   "name": "python",
   "nbconvert_exporter": "python",
   "pygments_lexer": "ipython3",
   "version": "3.7.4"
  }
 },
 "nbformat": 4,
 "nbformat_minor": 2
}
