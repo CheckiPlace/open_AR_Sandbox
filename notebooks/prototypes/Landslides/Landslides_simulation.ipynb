{
 "cells": [
  {
   "cell_type": "code",
   "execution_count": 14,
   "metadata": {},
   "outputs": [],
   "source": [
    "import sys\n",
    "sys.path.append(\"C:/Users/Admin/PycharmProjects/open_AR_Sandbox/notebooks/prototypes/Landslides/Simulation_data/Output/\")\n",
    "import numpy as np\n",
    "import matplotlib.pyplot as plt\n",
    "import pandas as pd\n",
    "%matplotlib inline"
   ]
  },
  {
   "cell_type": "code",
   "execution_count": null,
   "metadata": {},
   "outputs": [],
   "source": [
    "infile= ''\n",
    "f = open(infile, \"r\")\n",
    "ncols =f.readline().split()[1]\n",
    "nrows f.readline().split()[1]\n",
    "xllcorner = f.readline().split()[1]\n",
    "yllcorner=b  f.readline().split()[1] \n",
    "NODATA_value = f.readline().split()[1]"
   ]
  }
 ],
 "metadata": {
  "kernelspec": {
   "display_name": "Python 3",
   "language": "python",
   "name": "python3"
  },
  "language_info": {
   "codemirror_mode": {
    "name": "ipython",
    "version": 3
   },
   "file_extension": ".py",
   "mimetype": "text/x-python",
   "name": "python",
   "nbconvert_exporter": "python",
   "pygments_lexer": "ipython3",
   "version": "3.7.4"
  }
 },
 "nbformat": 4,
 "nbformat_minor": 2
}
