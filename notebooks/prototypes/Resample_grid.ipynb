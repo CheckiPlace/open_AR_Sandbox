{
 "cells": [
  {
   "cell_type": "markdown",
   "metadata": {},
   "source": [
    "# Import irregularly gridded reservoir models and resample them regularly with nearest neighbour"
   ]
  },
  {
   "cell_type": "code",
   "execution_count": 1,
   "metadata": {},
   "outputs": [],
   "source": [
    "import numpy as np\n",
    "import pandas as pd\n",
    "import scipy.spatial\n",
    "from tqdm.auto import tqdm\n",
    "\n",
    "from annoy import AnnoyIndex\n",
    "import random"
   ]
  },
  {
   "cell_type": "markdown",
   "metadata": {},
   "source": [
    "### Create artificial, irregular model"
   ]
  },
  {
   "cell_type": "code",
   "execution_count": 2,
   "metadata": {},
   "outputs": [],
   "source": [
    "# size of dataset\n",
    "size = 100\n",
    "#size = 120*166*105"
   ]
  },
  {
   "cell_type": "code",
   "execution_count": 3,
   "metadata": {},
   "outputs": [
    {
     "data": {
      "text/plain": [
       "array([47, 33, 10, 51, 16,  7, 15, 38, 16, 59, 17, 52, 46, 53, 43, 54, 52,\n",
       "       47, 15, 29, 38, 61, 31, 45, 62, 46, 59, 44, 41,  6,  4, 26, 35, 53,\n",
       "       47, 43, 22, 64, 19, 10, 31, 17, 23, 63, 34, 22, 14,  7, 15,  8, 27,\n",
       "        8, 35, 45, 59,  2, 55, 40,  0, 42, 16, 38, 33, 17,  7, 36, 32, 60,\n",
       "       37,  3,  2, 35, 11,  4, 15, 22, 26, 21, 16, 34, 17,  1, 35, 49, 52,\n",
       "       41, 64, 30, 50, 36, 10, 29, 63, 14, 58, 10, 11, 46, 24, 48])"
      ]
     },
     "execution_count": 3,
     "metadata": {},
     "output_type": "execute_result"
    }
   ],
   "source": [
    "# Assume a paramter of grid cells, named zone\n",
    "zone = np.random.randint(0,64+1, size=size)\n",
    "zone"
   ]
  },
  {
   "cell_type": "code",
   "execution_count": 4,
   "metadata": {},
   "outputs": [
    {
     "data": {
      "text/plain": [
       "array([ 58.33176053, 186.24550183, 213.81581259, 280.07745789,\n",
       "        34.45024899,  16.23962987, 176.39815524,  15.59225876,\n",
       "       277.14024396,  16.35417611])"
      ]
     },
     "execution_count": 4,
     "metadata": {},
     "output_type": "execute_result"
    }
   ],
   "source": [
    "x = np.random.random(size=size) * 300\n",
    "x[0:10]"
   ]
  },
  {
   "cell_type": "code",
   "execution_count": 5,
   "metadata": {},
   "outputs": [
    {
     "data": {
      "text/plain": [
       "array([303.41082574,  91.67373937,  14.23229646, 200.01866935,\n",
       "       372.66578874, 129.94735174, 333.67017496, 180.0979077 ,\n",
       "        73.81213755, 267.36097253])"
      ]
     },
     "execution_count": 5,
     "metadata": {},
     "output_type": "execute_result"
    }
   ],
   "source": [
    "y = np.random.random(size=size) * 400\n",
    "y[0:10]"
   ]
  },
  {
   "cell_type": "code",
   "execution_count": 6,
   "metadata": {},
   "outputs": [
    {
     "data": {
      "text/plain": [
       "array([30.62159707, 19.76450168, 77.34919676, 62.16576916, 64.18028825,\n",
       "       46.00662348, 88.36554776, 86.28358408, 44.42652456, 90.54812522])"
      ]
     },
     "execution_count": 6,
     "metadata": {},
     "output_type": "execute_result"
    }
   ],
   "source": [
    "z = np.random.random(size=size) * 100\n",
    "z[0:10]"
   ]
  },
  {
   "cell_type": "code",
   "execution_count": 7,
   "metadata": {},
   "outputs": [],
   "source": [
    "#300*400*100"
   ]
  },
  {
   "cell_type": "code",
   "execution_count": 8,
   "metadata": {},
   "outputs": [
    {
     "data": {
      "text/html": [
       "<div>\n",
       "<style scoped>\n",
       "    .dataframe tbody tr th:only-of-type {\n",
       "        vertical-align: middle;\n",
       "    }\n",
       "\n",
       "    .dataframe tbody tr th {\n",
       "        vertical-align: top;\n",
       "    }\n",
       "\n",
       "    .dataframe thead th {\n",
       "        text-align: right;\n",
       "    }\n",
       "</style>\n",
       "<table border=\"1\" class=\"dataframe\">\n",
       "  <thead>\n",
       "    <tr style=\"text-align: right;\">\n",
       "      <th></th>\n",
       "      <th>x</th>\n",
       "      <th>y</th>\n",
       "      <th>z</th>\n",
       "      <th>zone</th>\n",
       "    </tr>\n",
       "  </thead>\n",
       "  <tbody>\n",
       "    <tr>\n",
       "      <th>0</th>\n",
       "      <td>58.331761</td>\n",
       "      <td>303.410826</td>\n",
       "      <td>30.621597</td>\n",
       "      <td>47</td>\n",
       "    </tr>\n",
       "    <tr>\n",
       "      <th>1</th>\n",
       "      <td>186.245502</td>\n",
       "      <td>91.673739</td>\n",
       "      <td>19.764502</td>\n",
       "      <td>33</td>\n",
       "    </tr>\n",
       "    <tr>\n",
       "      <th>2</th>\n",
       "      <td>213.815813</td>\n",
       "      <td>14.232296</td>\n",
       "      <td>77.349197</td>\n",
       "      <td>10</td>\n",
       "    </tr>\n",
       "    <tr>\n",
       "      <th>3</th>\n",
       "      <td>280.077458</td>\n",
       "      <td>200.018669</td>\n",
       "      <td>62.165769</td>\n",
       "      <td>51</td>\n",
       "    </tr>\n",
       "    <tr>\n",
       "      <th>4</th>\n",
       "      <td>34.450249</td>\n",
       "      <td>372.665789</td>\n",
       "      <td>64.180288</td>\n",
       "      <td>16</td>\n",
       "    </tr>\n",
       "  </tbody>\n",
       "</table>\n",
       "</div>"
      ],
      "text/plain": [
       "            x           y          z  zone\n",
       "0   58.331761  303.410826  30.621597    47\n",
       "1  186.245502   91.673739  19.764502    33\n",
       "2  213.815813   14.232296  77.349197    10\n",
       "3  280.077458  200.018669  62.165769    51\n",
       "4   34.450249  372.665789  64.180288    16"
      ]
     },
     "execution_count": 8,
     "metadata": {},
     "output_type": "execute_result"
    }
   ],
   "source": [
    "# combine in a pandas dataframe for readability\n",
    "data = pd.DataFrame.from_dict({'x': x, 'y': y, 'z': z, 'zone': zone})\n",
    "data.head()"
   ]
  },
  {
   "cell_type": "code",
   "execution_count": 9,
   "metadata": {},
   "outputs": [],
   "source": [
    "# xarray representation, might be useful at some point\n",
    "#xd = df.set_index(['x','y','z']).to_xarray()\n",
    "#xd"
   ]
  },
  {
   "cell_type": "markdown",
   "metadata": {},
   "source": [
    "## Create regular grid for lookup"
   ]
  },
  {
   "cell_type": "code",
   "execution_count": 10,
   "metadata": {},
   "outputs": [],
   "source": [
    "rx = np.arange(0,300,30)\n",
    "ry = np.arange(0,400,20)\n",
    "rz = np.arange(0,100,10)"
   ]
  },
  {
   "cell_type": "code",
   "execution_count": 11,
   "metadata": {},
   "outputs": [],
   "source": [
    "a,b,c = np.meshgrid(rx,ry,rz)"
   ]
  },
  {
   "cell_type": "code",
   "execution_count": 12,
   "metadata": {},
   "outputs": [
    {
     "data": {
      "text/html": [
       "<div>\n",
       "<style scoped>\n",
       "    .dataframe tbody tr th:only-of-type {\n",
       "        vertical-align: middle;\n",
       "    }\n",
       "\n",
       "    .dataframe tbody tr th {\n",
       "        vertical-align: top;\n",
       "    }\n",
       "\n",
       "    .dataframe thead th {\n",
       "        text-align: right;\n",
       "    }\n",
       "</style>\n",
       "<table border=\"1\" class=\"dataframe\">\n",
       "  <thead>\n",
       "    <tr style=\"text-align: right;\">\n",
       "      <th></th>\n",
       "      <th>x</th>\n",
       "      <th>y</th>\n",
       "      <th>z</th>\n",
       "    </tr>\n",
       "  </thead>\n",
       "  <tbody>\n",
       "    <tr>\n",
       "      <th>0</th>\n",
       "      <td>0</td>\n",
       "      <td>0</td>\n",
       "      <td>0</td>\n",
       "    </tr>\n",
       "    <tr>\n",
       "      <th>1</th>\n",
       "      <td>0</td>\n",
       "      <td>0</td>\n",
       "      <td>10</td>\n",
       "    </tr>\n",
       "    <tr>\n",
       "      <th>2</th>\n",
       "      <td>0</td>\n",
       "      <td>0</td>\n",
       "      <td>20</td>\n",
       "    </tr>\n",
       "    <tr>\n",
       "      <th>3</th>\n",
       "      <td>0</td>\n",
       "      <td>0</td>\n",
       "      <td>30</td>\n",
       "    </tr>\n",
       "    <tr>\n",
       "      <th>4</th>\n",
       "      <td>0</td>\n",
       "      <td>0</td>\n",
       "      <td>40</td>\n",
       "    </tr>\n",
       "  </tbody>\n",
       "</table>\n",
       "</div>"
      ],
      "text/plain": [
       "   x  y   z\n",
       "0  0  0   0\n",
       "1  0  0  10\n",
       "2  0  0  20\n",
       "3  0  0  30\n",
       "4  0  0  40"
      ]
     },
     "execution_count": 12,
     "metadata": {},
     "output_type": "execute_result"
    }
   ],
   "source": [
    "grid = pd.DataFrame.from_dict({'x': a.ravel(), 'y': b.ravel(), 'z': c.ravel()})\n",
    "grid.head()"
   ]
  },
  {
   "cell_type": "markdown",
   "metadata": {},
   "source": [
    "### Develop nearest neighbour algorithm"
   ]
  },
  {
   "cell_type": "code",
   "execution_count": 13,
   "metadata": {},
   "outputs": [
    {
     "data": {
      "text/plain": [
       "((100, 4), (2000, 3))"
      ]
     },
     "execution_count": 13,
     "metadata": {},
     "output_type": "execute_result"
    }
   ],
   "source": [
    "# Check shapes\n",
    "data.values.shape, grid.values.shape"
   ]
  },
  {
   "cell_type": "code",
   "execution_count": 14,
   "metadata": {},
   "outputs": [],
   "source": [
    "def nearest_neighbour(data, grid, threshold=10):\n",
    "    \"\"\"Find nearest neighbour of a new grid-cell in a set of data-grid-cells\n",
    "    \n",
    "    Args:\n",
    "        data (array): n x 3 array with x,y,z coordinates of irregular grid points\n",
    "        grid (array): n x 3 array with x,y,z coordinates of regular grid points\n",
    "        threshold (float): Maximum distance, within a neighbour is accepted as such\n",
    "        \n",
    "    Returns:\n",
    "        mask (bool array): 1D mask defining the validity of grid cells dependent on threshold\n",
    "        idx (int array): 1D array of size grid[mask], with inidces pointing to nearest point in data\n",
    "        dis (float array): 1D array of size grid[mask], with distances to indixed neighbour (for testing)        \n",
    "    \"\"\"\n",
    "    \n",
    "    # calculate distances between all data points and grid points\n",
    "    dist = scipy.spatial.distance.cdist(grid, data)\n",
    "    \n",
    "    # nan out all distances that are too large  (maybe use np.inf?)\n",
    "    if threshold is not None:\n",
    "        dist = np.where(dist < threshold, dist, np.nan)\n",
    "    \n",
    "    # get a mask of all \"valid\" grid cells\n",
    "    mask = ~np.all(np.isnan(dist), axis=1)\n",
    "    \n",
    "    # get array of \"valid\" distance combinations\n",
    "    valid_dist = dist[mask,:]\n",
    "    \n",
    "    # find minimum distance indices for each valid grid cell\n",
    "    idx = np.nanargmin(valid_dist, axis=1)\n",
    "    dis = np.nanmin(valid_dist, axis=1)\n",
    "    \n",
    "    return mask, idx, dis"
   ]
  },
  {
   "cell_type": "code",
   "execution_count": 15,
   "metadata": {},
   "outputs": [],
   "source": [
    "def nn_vectorized(data, grid, threshold=10):\n",
    "    \"\"\"Find nearest neighbour of a new grid-cell in a set of data-grid-cells\n",
    "    \n",
    "    Args:\n",
    "        data (array): n x 3 array with x,y,z coordinates of irregular grid points\n",
    "        grid (array): n x 3 array with x,y,z coordinates of regular grid points\n",
    "        threshold (float): Maximum distance, within a neighbour is accepted as such\n",
    "        \n",
    "    Returns:\n",
    "        mask (bool array): 1D mask defining the validity of grid cells dependent on threshold\n",
    "        idx (int array): 1D array of size grid[mask], with inidces pointing to nearest point in data\n",
    "        mindist (float array): 1D array of size grid[mask], with distances to indixed neighbour (for testing)        \n",
    "    \"\"\"\n",
    "    \n",
    "    # calculate distances between all data points and grid points\n",
    "    dist = scipy.spatial.distance.cdist(grid, data)\n",
    "    \n",
    "    # find minimum distance indices for each grid cell\n",
    "    idx = np.argmin(dist, axis=1)\n",
    "    \n",
    "    # find minimum distances for each grid cell\n",
    "    mindist = np.min(dist, axis=1)\n",
    "    \n",
    "    # get \"valid\" distances, indices and the mask to filter grid\n",
    "    if threshold is not None:\n",
    "        mask = np.where(mindist < threshold, True, False)\n",
    "        idx = idx[mask]\n",
    "        mindist = mindist[mask]\n",
    "    \n",
    "    return mask, idx, mindist"
   ]
  },
  {
   "cell_type": "code",
   "execution_count": 16,
   "metadata": {},
   "outputs": [],
   "source": [
    "def nn_elemwise(data, grid, threshold=10):\n",
    "    \"\"\"Find nearest neighbour of a new grid-cell in a set of data-grid-cells\n",
    "    \n",
    "    Args:\n",
    "        data (array): n x 3 array with x,y,z coordinates of irregular grid points\n",
    "        grid (array): n x 3 array with x,y,z coordinates of regular grid points\n",
    "        threshold (float): Maximum distance, within a neighbour is accepted as such\n",
    "        \n",
    "    Returns:\n",
    "        mask (bool array): 1D mask defining the validity of grid cells dependent on threshold\n",
    "        idx (int array): 1D array of size grid[mask], with inidces pointing to nearest point in data\n",
    "        mindist (float array): 1D array of size grid[mask], with distances to indixed neighbour (for testing)        \n",
    "    \"\"\"\n",
    "    \n",
    "    gs = grid.shape[0]\n",
    "    \n",
    "    idx = np.empty(gs, dtype=np.int)\n",
    "    mindist = np.empty(gs)\n",
    "    \n",
    "    iteration = tqdm(np.arange(gs), 'Calculating distances...')\n",
    "    for i in iteration:\n",
    "        dist = scipy.spatial.distance.cdist([grid[i]], data)\n",
    "        \n",
    "        # find minimum distance indices for each grid cell\n",
    "        idx[i] = np.argmin(dist)\n",
    "    \n",
    "        # find minimum distances for each grid cell\n",
    "        mindist[i] = np.nanmin(dist)\n",
    "    \n",
    "    # get \"valid\" distances, indices and the mask to filter grid\n",
    "    if threshold is not None:\n",
    "        tqdm.write('Creating and applying mask...')\n",
    "        mask = np.where(mindist < threshold, True, False)\n",
    "        idx = idx[mask]\n",
    "        mindist = mindist[mask]\n",
    "            \n",
    "    return mask, idx, mindist"
   ]
  },
  {
   "cell_type": "code",
   "execution_count": 46,
   "metadata": {},
   "outputs": [],
   "source": [
    "def nn_spotify(data, grid, threshold=10, tree_number=10):\n",
    "    \"\"\"Find nearest neighbour of a new grid-cell in a set of data-grid-cells\n",
    "    \n",
    "    Args:\n",
    "        data (array): n x 3 array with x,y,z coordinates of irregular grid points\n",
    "        grid (array): n x 3 array with x,y,z coordinates of regular grid points\n",
    "        threshold (float): Maximum distance, within a neighbour is accepted as such\n",
    "        \n",
    "    Returns:\n",
    "        mask (bool array): 1D mask defining the validity of grid cells dependent on threshold\n",
    "        idx (int array): 1D array of size grid[mask], with inidces pointing to nearest point in data\n",
    "        mindist (float array): 1D array of size grid[mask], with distances to indixed neighbour (for testing)        \n",
    "    \"\"\"\n",
    "    \n",
    "    ds = data.shape[0]\n",
    "    gs = grid.shape[0]\n",
    "    \n",
    "    idx = np.empty(gs, dtype=np.int)\n",
    "    mindist = np.empty(gs)\n",
    "    \n",
    "    data_lookup = AnnoyIndex(3, 'euclidean')  # dimensions and distance metric\n",
    "\n",
    "    # add all data points to the annoy lookup object\n",
    "    range_a = tqdm(np.arange(ds), 'Building data lookup...')  # track process\n",
    "    for i in range_a:\n",
    "        data_lookup.add_item(i, data[i])\n",
    "    \n",
    "    tqdm.write('Building trees... (That can take a while)')\n",
    "    data_lookup.build(tree_number) # build lookup trees, afterwards items cannot be added anymore\n",
    "\n",
    "    # start lookup for each grid point\n",
    "    range_b = tqdm(np.arange(gs), 'Calculating distances...')    \n",
    "    for i in range_b:\n",
    "        result = data_lookup.get_nns_by_vector(grid[i], 1, include_distances=True)  # lookup of nearest neighbours for each grid point, get index and distance\n",
    "        idx[i] = result[0][0]  # minimum distance index for each grid point\n",
    "        mindist[i] = result[1][0]  # minimum distance for each grid point\n",
    "    \n",
    "    # get \"valid\" distances, indices and the mask to filter grid\n",
    "    if threshold is not None:\n",
    "        tqdm.write('Creating and applying mask...')\n",
    "        mask = np.where(mindist < threshold, True, False)\n",
    "        idx = idx[mask]\n",
    "        mindist = mindist[mask]\n",
    "           \n",
    "    return mask, idx, mindist"
   ]
  },
  {
   "cell_type": "code",
   "execution_count": 18,
   "metadata": {},
   "outputs": [],
   "source": [
    "threshold = 10"
   ]
  },
  {
   "cell_type": "markdown",
   "metadata": {},
   "source": [
    "### Application Vectorized"
   ]
  },
  {
   "cell_type": "code",
   "execution_count": 19,
   "metadata": {},
   "outputs": [
    {
     "name": "stdout",
     "output_type": "stream",
     "text": [
      "Mask:  (2000,) 54\n",
      "Indices:  (54,) 94\n",
      "Distances:  (54,) 9.989882470233326\n"
     ]
    }
   ],
   "source": [
    "mask, idx, dis = nn_vectorized(data.iloc[:,0:3].values, grid.values, threshold=threshold)\n",
    "print('Mask: ', mask.shape, np.sum(mask))\n",
    "print('Indices: ', idx.shape, np.max(idx))\n",
    "print('Distances: ', dis.shape, np.max(dis))"
   ]
  },
  {
   "cell_type": "code",
   "execution_count": 20,
   "metadata": {},
   "outputs": [
    {
     "data": {
      "text/html": [
       "<div>\n",
       "<style scoped>\n",
       "    .dataframe tbody tr th:only-of-type {\n",
       "        vertical-align: middle;\n",
       "    }\n",
       "\n",
       "    .dataframe tbody tr th {\n",
       "        vertical-align: top;\n",
       "    }\n",
       "\n",
       "    .dataframe thead th {\n",
       "        text-align: right;\n",
       "    }\n",
       "</style>\n",
       "<table border=\"1\" class=\"dataframe\">\n",
       "  <thead>\n",
       "    <tr style=\"text-align: right;\">\n",
       "      <th></th>\n",
       "      <th>x</th>\n",
       "      <th>y</th>\n",
       "      <th>z</th>\n",
       "    </tr>\n",
       "  </thead>\n",
       "  <tbody>\n",
       "    <tr>\n",
       "      <th>24</th>\n",
       "      <td>60</td>\n",
       "      <td>0</td>\n",
       "      <td>40</td>\n",
       "    </tr>\n",
       "    <tr>\n",
       "      <th>44</th>\n",
       "      <td>120</td>\n",
       "      <td>0</td>\n",
       "      <td>40</td>\n",
       "    </tr>\n",
       "    <tr>\n",
       "      <th>78</th>\n",
       "      <td>210</td>\n",
       "      <td>0</td>\n",
       "      <td>80</td>\n",
       "    </tr>\n",
       "    <tr>\n",
       "      <th>113</th>\n",
       "      <td>30</td>\n",
       "      <td>20</td>\n",
       "      <td>30</td>\n",
       "    </tr>\n",
       "    <tr>\n",
       "      <th>114</th>\n",
       "      <td>30</td>\n",
       "      <td>20</td>\n",
       "      <td>40</td>\n",
       "    </tr>\n",
       "  </tbody>\n",
       "</table>\n",
       "</div>"
      ],
      "text/plain": [
       "       x   y   z\n",
       "24    60   0  40\n",
       "44   120   0  40\n",
       "78   210   0  80\n",
       "113   30  20  30\n",
       "114   30  20  40"
      ]
     },
     "execution_count": 20,
     "metadata": {},
     "output_type": "execute_result"
    }
   ],
   "source": [
    "valid_grid = grid.loc[mask].copy()\n",
    "valid_grid.head()"
   ]
  },
  {
   "cell_type": "code",
   "execution_count": 21,
   "metadata": {},
   "outputs": [
    {
     "data": {
      "text/html": [
       "<div>\n",
       "<style scoped>\n",
       "    .dataframe tbody tr th:only-of-type {\n",
       "        vertical-align: middle;\n",
       "    }\n",
       "\n",
       "    .dataframe tbody tr th {\n",
       "        vertical-align: top;\n",
       "    }\n",
       "\n",
       "    .dataframe thead th {\n",
       "        text-align: right;\n",
       "    }\n",
       "</style>\n",
       "<table border=\"1\" class=\"dataframe\">\n",
       "  <thead>\n",
       "    <tr style=\"text-align: right;\">\n",
       "      <th></th>\n",
       "      <th>x</th>\n",
       "      <th>y</th>\n",
       "      <th>z</th>\n",
       "      <th>zone</th>\n",
       "      <th>dis</th>\n",
       "    </tr>\n",
       "  </thead>\n",
       "  <tbody>\n",
       "    <tr>\n",
       "      <th>24</th>\n",
       "      <td>60</td>\n",
       "      <td>0</td>\n",
       "      <td>40</td>\n",
       "      <td>17</td>\n",
       "      <td>8.183178</td>\n",
       "    </tr>\n",
       "    <tr>\n",
       "      <th>44</th>\n",
       "      <td>120</td>\n",
       "      <td>0</td>\n",
       "      <td>40</td>\n",
       "      <td>16</td>\n",
       "      <td>7.524357</td>\n",
       "    </tr>\n",
       "    <tr>\n",
       "      <th>78</th>\n",
       "      <td>210</td>\n",
       "      <td>0</td>\n",
       "      <td>80</td>\n",
       "      <td>23</td>\n",
       "      <td>9.868706</td>\n",
       "    </tr>\n",
       "    <tr>\n",
       "      <th>113</th>\n",
       "      <td>30</td>\n",
       "      <td>20</td>\n",
       "      <td>30</td>\n",
       "      <td>1</td>\n",
       "      <td>8.958069</td>\n",
       "    </tr>\n",
       "    <tr>\n",
       "      <th>114</th>\n",
       "      <td>30</td>\n",
       "      <td>20</td>\n",
       "      <td>40</td>\n",
       "      <td>1</td>\n",
       "      <td>4.725459</td>\n",
       "    </tr>\n",
       "    <tr>\n",
       "      <th>167</th>\n",
       "      <td>180</td>\n",
       "      <td>20</td>\n",
       "      <td>70</td>\n",
       "      <td>58</td>\n",
       "      <td>7.753416</td>\n",
       "    </tr>\n",
       "  </tbody>\n",
       "</table>\n",
       "</div>"
      ],
      "text/plain": [
       "       x   y   z  zone       dis\n",
       "24    60   0  40    17  8.183178\n",
       "44   120   0  40    16  7.524357\n",
       "78   210   0  80    23  9.868706\n",
       "113   30  20  30     1  8.958069\n",
       "114   30  20  40     1  4.725459\n",
       "167  180  20  70    58  7.753416"
      ]
     },
     "execution_count": 21,
     "metadata": {},
     "output_type": "execute_result"
    }
   ],
   "source": [
    "valid_grid['zone'] = data.zone[idx].values\n",
    "valid_grid['dis'] = dis\n",
    "valid_grid.head(6)"
   ]
  },
  {
   "cell_type": "code",
   "execution_count": 22,
   "metadata": {},
   "outputs": [
    {
     "data": {
      "text/plain": [
       "9.989882470233326"
      ]
     },
     "execution_count": 22,
     "metadata": {},
     "output_type": "execute_result"
    }
   ],
   "source": [
    "# check validity of treshhold\n",
    "valid_grid.dis.max()"
   ]
  },
  {
   "cell_type": "markdown",
   "metadata": {},
   "source": [
    "### Application Element-wise"
   ]
  },
  {
   "cell_type": "code",
   "execution_count": 23,
   "metadata": {},
   "outputs": [
    {
     "data": {
      "application/vnd.jupyter.widget-view+json": {
       "model_id": "ea75b49767d349fea8e93546af6f8331",
       "version_major": 2,
       "version_minor": 0
      },
      "text/plain": [
       "HBox(children=(IntProgress(value=0, description='Calculating distances...', max=2000, style=ProgressStyle(desc…"
      ]
     },
     "metadata": {},
     "output_type": "display_data"
    },
    {
     "name": "stdout",
     "output_type": "stream",
     "text": [
      "\n",
      "Creating and applying mask...\n",
      "Mask:  (2000,) 54\n",
      "Indices:  (54,) 94\n",
      "Distances:  (54,) 9.989882470233326\n"
     ]
    }
   ],
   "source": [
    "mask2, idx2, dis2 = nn_elemwise(data.iloc[:,0:3].values, grid.values, threshold=threshold)\n",
    "print('Mask: ', mask2.shape, np.sum(mask2))\n",
    "print('Indices: ', idx2.shape, np.max(idx2))\n",
    "print('Distances: ', dis2.shape, np.max(dis2))"
   ]
  },
  {
   "cell_type": "code",
   "execution_count": 24,
   "metadata": {},
   "outputs": [
    {
     "data": {
      "text/plain": [
       "(True, True, True)"
      ]
     },
     "execution_count": 24,
     "metadata": {},
     "output_type": "execute_result"
    }
   ],
   "source": [
    "# check conformity of functions\n",
    "np.all(mask == mask2), np.all(idx == idx2), np.all(dis == dis2)"
   ]
  },
  {
   "cell_type": "markdown",
   "metadata": {},
   "source": [
    "### Application Spotify"
   ]
  },
  {
   "cell_type": "code",
   "execution_count": 25,
   "metadata": {},
   "outputs": [
    {
     "data": {
      "application/vnd.jupyter.widget-view+json": {
       "model_id": "972b125d8814425c9a97d9fea66f6373",
       "version_major": 2,
       "version_minor": 0
      },
      "text/plain": [
       "HBox(children=(IntProgress(value=0, description='Building lookup...', style=ProgressStyle(description_width='i…"
      ]
     },
     "metadata": {},
     "output_type": "display_data"
    },
    {
     "name": "stdout",
     "output_type": "stream",
     "text": [
      "\n",
      "Building trees... (That can take a while)\n"
     ]
    },
    {
     "data": {
      "application/vnd.jupyter.widget-view+json": {
       "model_id": "b765ef8ee9c94b83b18746095ba547bd",
       "version_major": 2,
       "version_minor": 0
      },
      "text/plain": [
       "HBox(children=(IntProgress(value=0, description='Calculating distances...', max=2000, style=ProgressStyle(desc…"
      ]
     },
     "metadata": {},
     "output_type": "display_data"
    },
    {
     "name": "stdout",
     "output_type": "stream",
     "text": [
      "\n",
      "Creating and applying mask...\n",
      "Mask:  (2000,) 54\n",
      "Indices:  (54,) 94\n",
      "Distances:  (54,) 9.989895820617676\n"
     ]
    }
   ],
   "source": [
    "mask3, idx3, dis3 = nn_spotify(data.iloc[:,0:3].values, grid.values, threshold=threshold, tree_number=10)\n",
    "print('Mask: ', mask3.shape, np.sum(mask3))\n",
    "print('Indices: ', idx3.shape, np.max(idx3))\n",
    "print('Distances: ', dis3.shape, np.max(dis3))"
   ]
  },
  {
   "cell_type": "code",
   "execution_count": 26,
   "metadata": {},
   "outputs": [
    {
     "data": {
      "text/plain": [
       "True"
      ]
     },
     "execution_count": 26,
     "metadata": {},
     "output_type": "execute_result"
    }
   ],
   "source": [
    "# check conformity of functions\n",
    "np.all(mask == mask3)"
   ]
  },
  {
   "cell_type": "code",
   "execution_count": 27,
   "metadata": {},
   "outputs": [
    {
     "data": {
      "text/plain": [
       "True"
      ]
     },
     "execution_count": 27,
     "metadata": {},
     "output_type": "execute_result"
    }
   ],
   "source": [
    "np.all(idx == idx3)"
   ]
  },
  {
   "cell_type": "code",
   "execution_count": 28,
   "metadata": {},
   "outputs": [
    {
     "data": {
      "text/plain": [
       "True"
      ]
     },
     "execution_count": 28,
     "metadata": {},
     "output_type": "execute_result"
    }
   ],
   "source": [
    "np.all(np.round(dis, 3) == np.round(dis3, 3))"
   ]
  },
  {
   "cell_type": "markdown",
   "metadata": {},
   "source": [
    "# Application to large data-sets"
   ]
  },
  {
   "cell_type": "code",
   "execution_count": 29,
   "metadata": {},
   "outputs": [],
   "source": [
    "# size of dataset\n",
    "size = 120*166*105"
   ]
  },
  {
   "cell_type": "code",
   "execution_count": 31,
   "metadata": {},
   "outputs": [],
   "source": [
    "x = np.random.random(size=size) * 300\n",
    "y = np.random.random(size=size) * 400\n",
    "z = np.random.random(size=size) * 100\n",
    "# Assume a paramter of grid cells, named zone\n",
    "zone = np.random.randint(0,64+1, size=size)"
   ]
  },
  {
   "cell_type": "code",
   "execution_count": 32,
   "metadata": {},
   "outputs": [],
   "source": [
    "#300*400*100"
   ]
  },
  {
   "cell_type": "code",
   "execution_count": 41,
   "metadata": {},
   "outputs": [
    {
     "data": {
      "text/html": [
       "<div>\n",
       "<style scoped>\n",
       "    .dataframe tbody tr th:only-of-type {\n",
       "        vertical-align: middle;\n",
       "    }\n",
       "\n",
       "    .dataframe tbody tr th {\n",
       "        vertical-align: top;\n",
       "    }\n",
       "\n",
       "    .dataframe thead th {\n",
       "        text-align: right;\n",
       "    }\n",
       "</style>\n",
       "<table border=\"1\" class=\"dataframe\">\n",
       "  <thead>\n",
       "    <tr style=\"text-align: right;\">\n",
       "      <th></th>\n",
       "      <th>x</th>\n",
       "      <th>y</th>\n",
       "      <th>z</th>\n",
       "      <th>zone</th>\n",
       "    </tr>\n",
       "  </thead>\n",
       "  <tbody>\n",
       "    <tr>\n",
       "      <th>0</th>\n",
       "      <td>110.411196</td>\n",
       "      <td>311.235695</td>\n",
       "      <td>96.59083</td>\n",
       "      <td>63</td>\n",
       "    </tr>\n",
       "  </tbody>\n",
       "</table>\n",
       "</div>"
      ],
      "text/plain": [
       "            x           y         z  zone\n",
       "0  110.411196  311.235695  96.59083    63"
      ]
     },
     "execution_count": 41,
     "metadata": {},
     "output_type": "execute_result"
    }
   ],
   "source": [
    "# combine in a pandas dataframe for readability\n",
    "data = pd.DataFrame.from_dict({'x': x, 'y': y, 'z': z, 'zone': zone})\n",
    "data.head(1)"
   ]
  },
  {
   "cell_type": "code",
   "execution_count": 34,
   "metadata": {},
   "outputs": [],
   "source": [
    "# xarray representation, might be useful at some point\n",
    "#xd = df.set_index(['x','y','z']).to_xarray()\n",
    "#xd"
   ]
  },
  {
   "cell_type": "markdown",
   "metadata": {},
   "source": [
    "## Create regular grid for lookup"
   ]
  },
  {
   "cell_type": "code",
   "execution_count": 42,
   "metadata": {},
   "outputs": [],
   "source": [
    "rx = np.arange(0,300,1)\n",
    "ry = np.arange(0,400,1)\n",
    "rz = np.arange(0,100,10)"
   ]
  },
  {
   "cell_type": "code",
   "execution_count": 43,
   "metadata": {},
   "outputs": [],
   "source": [
    "a,b,c = np.meshgrid(rx,ry,rz)"
   ]
  },
  {
   "cell_type": "code",
   "execution_count": 50,
   "metadata": {},
   "outputs": [
    {
     "data": {
      "text/html": [
       "<div>\n",
       "<style scoped>\n",
       "    .dataframe tbody tr th:only-of-type {\n",
       "        vertical-align: middle;\n",
       "    }\n",
       "\n",
       "    .dataframe tbody tr th {\n",
       "        vertical-align: top;\n",
       "    }\n",
       "\n",
       "    .dataframe thead th {\n",
       "        text-align: right;\n",
       "    }\n",
       "</style>\n",
       "<table border=\"1\" class=\"dataframe\">\n",
       "  <thead>\n",
       "    <tr style=\"text-align: right;\">\n",
       "      <th></th>\n",
       "      <th>x</th>\n",
       "      <th>y</th>\n",
       "      <th>z</th>\n",
       "    </tr>\n",
       "  </thead>\n",
       "  <tbody>\n",
       "    <tr>\n",
       "      <th>0</th>\n",
       "      <td>0</td>\n",
       "      <td>0</td>\n",
       "      <td>0</td>\n",
       "    </tr>\n",
       "    <tr>\n",
       "      <th>1</th>\n",
       "      <td>0</td>\n",
       "      <td>0</td>\n",
       "      <td>10</td>\n",
       "    </tr>\n",
       "  </tbody>\n",
       "</table>\n",
       "</div>"
      ],
      "text/plain": [
       "   x  y   z\n",
       "0  0  0   0\n",
       "1  0  0  10"
      ]
     },
     "execution_count": 50,
     "metadata": {},
     "output_type": "execute_result"
    }
   ],
   "source": [
    "grid = pd.DataFrame.from_dict({'x': a.ravel(), 'y': b.ravel(), 'z': c.ravel()})\n",
    "grid.head(2)"
   ]
  },
  {
   "cell_type": "markdown",
   "metadata": {},
   "source": [
    "# Calculation with Spotify Annoy"
   ]
  },
  {
   "cell_type": "code",
   "execution_count": 48,
   "metadata": {},
   "outputs": [
    {
     "data": {
      "application/vnd.jupyter.widget-view+json": {
       "model_id": "71895c79ce0244509edac57df94cdb26",
       "version_major": 2,
       "version_minor": 0
      },
      "text/plain": [
       "HBox(children=(IntProgress(value=0, description='Building data lookup...', max=2091600, style=ProgressStyle(de…"
      ]
     },
     "metadata": {},
     "output_type": "display_data"
    },
    {
     "name": "stdout",
     "output_type": "stream",
     "text": [
      "\n",
      "Building trees... (That can take a while)\n"
     ]
    },
    {
     "data": {
      "application/vnd.jupyter.widget-view+json": {
       "model_id": "e3864740b9574f729897fd2f59a31354",
       "version_major": 2,
       "version_minor": 0
      },
      "text/plain": [
       "HBox(children=(IntProgress(value=0, description='Calculating distances...', max=1200000, style=ProgressStyle(d…"
      ]
     },
     "metadata": {},
     "output_type": "display_data"
    },
    {
     "name": "stdout",
     "output_type": "stream",
     "text": [
      "\n",
      "Creating and applying mask...\n"
     ]
    }
   ],
   "source": [
    "mask4, idx4, dis4 = nn_spotify(data.iloc[:,0:3].values, grid.values, threshold=2, tree_number=10)"
   ]
  },
  {
   "cell_type": "code",
   "execution_count": 49,
   "metadata": {},
   "outputs": [
    {
     "name": "stdout",
     "output_type": "stream",
     "text": [
      "Mask:  (1200000,) 1184652\n",
      "Indices:  (1184652,) 2091594\n",
      "Distances:  (1184652,) 1.9999750852584839\n"
     ]
    }
   ],
   "source": [
    "print('Mask: ', mask4.shape, np.sum(mask4))\n",
    "print('Indices: ', idx4.shape, np.max(idx4))\n",
    "print('Distances: ', dis4.shape, np.max(dis4))"
   ]
  },
  {
   "cell_type": "code",
   "execution_count": null,
   "metadata": {},
   "outputs": [],
   "source": []
  }
 ],
 "metadata": {
  "kernelspec": {
   "display_name": "Python 3",
   "language": "python",
   "name": "python3"
  },
  "language_info": {
   "codemirror_mode": {
    "name": "ipython",
    "version": 3
   },
   "file_extension": ".py",
   "mimetype": "text/x-python",
   "name": "python",
   "nbconvert_exporter": "python",
   "pygments_lexer": "ipython3",
   "version": "3.6.8"
  }
 },
 "nbformat": 4,
 "nbformat_minor": 4
}
