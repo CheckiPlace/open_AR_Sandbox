{
 "cells": [
  {
   "cell_type": "markdown",
   "metadata": {},
   "source": [
    "# Import irregularly gridded reservoir models and resample them regularly with nearest neighbour"
   ]
  },
  {
   "cell_type": "code",
   "execution_count": 1,
   "metadata": {},
   "outputs": [],
   "source": [
    "import numpy as np\n",
    "import pandas as pd\n",
    "import scipy.spatial"
   ]
  },
  {
   "cell_type": "markdown",
   "metadata": {},
   "source": [
    "### Create artificial, irregular model"
   ]
  },
  {
   "cell_type": "code",
   "execution_count": 2,
   "metadata": {},
   "outputs": [],
   "source": [
    "# size of dataset\n",
    "size = 100\n",
    "#size = 120*166*105"
   ]
  },
  {
   "cell_type": "code",
   "execution_count": 3,
   "metadata": {},
   "outputs": [
    {
     "data": {
      "text/plain": [
       "array([ 6, 42, 49, 63, 31, 18, 29, 22,  1, 11, 11, 10,  9, 59,  5, 25, 41,\n",
       "       18, 45,  2, 44, 10, 19, 14,  4, 50, 32, 10, 44, 62, 35, 43, 32, 15,\n",
       "       54, 54, 58, 51, 21, 16, 34, 60, 41, 13, 62, 19, 13, 45, 30, 23, 26,\n",
       "       41, 37, 31, 11, 26,  2, 62,  8, 60, 14,  6,  7, 56, 28, 17, 27, 59,\n",
       "       15,  7, 38, 21, 45, 52, 32, 53, 56,  7, 27, 57, 51, 55, 35, 63, 51,\n",
       "       18, 11, 48, 58, 13, 37, 61, 46, 29,  6, 30, 13, 49, 57, 30])"
      ]
     },
     "execution_count": 3,
     "metadata": {},
     "output_type": "execute_result"
    }
   ],
   "source": [
    "# Assume a paramter of grid cells, named zone\n",
    "zone = np.random.randint(0,64+1, size=size)\n",
    "zone"
   ]
  },
  {
   "cell_type": "code",
   "execution_count": 4,
   "metadata": {},
   "outputs": [
    {
     "data": {
      "text/plain": [
       "array([293.10223042, 232.50123866, 221.50980979, 208.3381015 ,\n",
       "        28.04580832,  26.54252101,  44.52493462,  43.803259  ,\n",
       "       285.93164893,  25.72777042])"
      ]
     },
     "execution_count": 4,
     "metadata": {},
     "output_type": "execute_result"
    }
   ],
   "source": [
    "x = np.random.random(size=size) * 300\n",
    "x[0:10]"
   ]
  },
  {
   "cell_type": "code",
   "execution_count": 5,
   "metadata": {},
   "outputs": [
    {
     "data": {
      "text/plain": [
       "array([ 33.10883767, 142.16585485, 185.64572981, 229.11387477,\n",
       "       256.82414824, 215.91856075, 308.84221516, 353.48808211,\n",
       "       294.47920925, 245.17598044])"
      ]
     },
     "execution_count": 5,
     "metadata": {},
     "output_type": "execute_result"
    }
   ],
   "source": [
    "y = np.random.random(size=size) * 400\n",
    "y[0:10]"
   ]
  },
  {
   "cell_type": "code",
   "execution_count": 6,
   "metadata": {},
   "outputs": [
    {
     "data": {
      "text/plain": [
       "array([75.52959224, 90.50087812, 90.19008858, 75.45058348,  8.03363798,\n",
       "        6.41302624,  3.13539414, 27.67146609, 18.58180224, 37.4575374 ])"
      ]
     },
     "execution_count": 6,
     "metadata": {},
     "output_type": "execute_result"
    }
   ],
   "source": [
    "z = np.random.random(size=size) * 100\n",
    "z[0:10]"
   ]
  },
  {
   "cell_type": "code",
   "execution_count": 7,
   "metadata": {},
   "outputs": [],
   "source": [
    "#300*400*100"
   ]
  },
  {
   "cell_type": "code",
   "execution_count": 8,
   "metadata": {},
   "outputs": [
    {
     "data": {
      "text/html": [
       "<div>\n",
       "<style scoped>\n",
       "    .dataframe tbody tr th:only-of-type {\n",
       "        vertical-align: middle;\n",
       "    }\n",
       "\n",
       "    .dataframe tbody tr th {\n",
       "        vertical-align: top;\n",
       "    }\n",
       "\n",
       "    .dataframe thead th {\n",
       "        text-align: right;\n",
       "    }\n",
       "</style>\n",
       "<table border=\"1\" class=\"dataframe\">\n",
       "  <thead>\n",
       "    <tr style=\"text-align: right;\">\n",
       "      <th></th>\n",
       "      <th>x</th>\n",
       "      <th>y</th>\n",
       "      <th>z</th>\n",
       "      <th>zone</th>\n",
       "    </tr>\n",
       "  </thead>\n",
       "  <tbody>\n",
       "    <tr>\n",
       "      <th>0</th>\n",
       "      <td>293.102230</td>\n",
       "      <td>33.108838</td>\n",
       "      <td>75.529592</td>\n",
       "      <td>6</td>\n",
       "    </tr>\n",
       "    <tr>\n",
       "      <th>1</th>\n",
       "      <td>232.501239</td>\n",
       "      <td>142.165855</td>\n",
       "      <td>90.500878</td>\n",
       "      <td>42</td>\n",
       "    </tr>\n",
       "    <tr>\n",
       "      <th>2</th>\n",
       "      <td>221.509810</td>\n",
       "      <td>185.645730</td>\n",
       "      <td>90.190089</td>\n",
       "      <td>49</td>\n",
       "    </tr>\n",
       "    <tr>\n",
       "      <th>3</th>\n",
       "      <td>208.338102</td>\n",
       "      <td>229.113875</td>\n",
       "      <td>75.450583</td>\n",
       "      <td>63</td>\n",
       "    </tr>\n",
       "    <tr>\n",
       "      <th>4</th>\n",
       "      <td>28.045808</td>\n",
       "      <td>256.824148</td>\n",
       "      <td>8.033638</td>\n",
       "      <td>31</td>\n",
       "    </tr>\n",
       "  </tbody>\n",
       "</table>\n",
       "</div>"
      ],
      "text/plain": [
       "            x           y          z  zone\n",
       "0  293.102230   33.108838  75.529592     6\n",
       "1  232.501239  142.165855  90.500878    42\n",
       "2  221.509810  185.645730  90.190089    49\n",
       "3  208.338102  229.113875  75.450583    63\n",
       "4   28.045808  256.824148   8.033638    31"
      ]
     },
     "execution_count": 8,
     "metadata": {},
     "output_type": "execute_result"
    }
   ],
   "source": [
    "# combine in a pandas dataframe for readability\n",
    "data = pd.DataFrame.from_dict({'x': x, 'y': y, 'z': z, 'zone': zone})\n",
    "data.head()"
   ]
  },
  {
   "cell_type": "code",
   "execution_count": 9,
   "metadata": {},
   "outputs": [],
   "source": [
    "# xarray representation, might be useful at some point\n",
    "#xd = df.set_index(['x','y','z']).to_xarray()\n",
    "#xd"
   ]
  },
  {
   "cell_type": "markdown",
   "metadata": {},
   "source": [
    "## Create regular grid for lookup"
   ]
  },
  {
   "cell_type": "code",
   "execution_count": 10,
   "metadata": {},
   "outputs": [],
   "source": [
    "rx = np.arange(0,300,30)\n",
    "ry = np.arange(0,400,20)\n",
    "rz = np.arange(0,100,10)"
   ]
  },
  {
   "cell_type": "code",
   "execution_count": 11,
   "metadata": {},
   "outputs": [],
   "source": [
    "a,b,c = np.meshgrid(rx,ry,rz)"
   ]
  },
  {
   "cell_type": "code",
   "execution_count": 12,
   "metadata": {},
   "outputs": [
    {
     "data": {
      "text/html": [
       "<div>\n",
       "<style scoped>\n",
       "    .dataframe tbody tr th:only-of-type {\n",
       "        vertical-align: middle;\n",
       "    }\n",
       "\n",
       "    .dataframe tbody tr th {\n",
       "        vertical-align: top;\n",
       "    }\n",
       "\n",
       "    .dataframe thead th {\n",
       "        text-align: right;\n",
       "    }\n",
       "</style>\n",
       "<table border=\"1\" class=\"dataframe\">\n",
       "  <thead>\n",
       "    <tr style=\"text-align: right;\">\n",
       "      <th></th>\n",
       "      <th>x</th>\n",
       "      <th>y</th>\n",
       "      <th>z</th>\n",
       "    </tr>\n",
       "  </thead>\n",
       "  <tbody>\n",
       "    <tr>\n",
       "      <th>0</th>\n",
       "      <td>0</td>\n",
       "      <td>0</td>\n",
       "      <td>0</td>\n",
       "    </tr>\n",
       "    <tr>\n",
       "      <th>1</th>\n",
       "      <td>0</td>\n",
       "      <td>0</td>\n",
       "      <td>10</td>\n",
       "    </tr>\n",
       "    <tr>\n",
       "      <th>2</th>\n",
       "      <td>0</td>\n",
       "      <td>0</td>\n",
       "      <td>20</td>\n",
       "    </tr>\n",
       "    <tr>\n",
       "      <th>3</th>\n",
       "      <td>0</td>\n",
       "      <td>0</td>\n",
       "      <td>30</td>\n",
       "    </tr>\n",
       "    <tr>\n",
       "      <th>4</th>\n",
       "      <td>0</td>\n",
       "      <td>0</td>\n",
       "      <td>40</td>\n",
       "    </tr>\n",
       "  </tbody>\n",
       "</table>\n",
       "</div>"
      ],
      "text/plain": [
       "   x  y   z\n",
       "0  0  0   0\n",
       "1  0  0  10\n",
       "2  0  0  20\n",
       "3  0  0  30\n",
       "4  0  0  40"
      ]
     },
     "execution_count": 12,
     "metadata": {},
     "output_type": "execute_result"
    }
   ],
   "source": [
    "grid = pd.DataFrame.from_dict({'x': a.ravel(), 'y': b.ravel(), 'z': c.ravel()})\n",
    "grid.head()"
   ]
  },
  {
   "cell_type": "markdown",
   "metadata": {},
   "source": [
    "### Develop nearest neighbour algorithm"
   ]
  },
  {
   "cell_type": "code",
   "execution_count": 13,
   "metadata": {},
   "outputs": [
    {
     "data": {
      "text/plain": [
       "((100, 4), (2000, 3))"
      ]
     },
     "execution_count": 13,
     "metadata": {},
     "output_type": "execute_result"
    }
   ],
   "source": [
    "# Check shapes\n",
    "data.values.shape, grid.values.shape"
   ]
  },
  {
   "cell_type": "code",
   "execution_count": 14,
   "metadata": {},
   "outputs": [],
   "source": [
    "def nearest_neighbour(data, grid, threshold=10):\n",
    "    \"\"\"Find nearest neighbour of a new grid-cell in a set of data-grid-cells\n",
    "    \n",
    "    Args:\n",
    "        data (array): n x 3 array with x,y,z coordinates of irregular grid points\n",
    "        grid (array): n x 3 array with x,y,z coordinates of regular grid points\n",
    "        threshold (float): Maximum distance, within a neighbour is accepted as such\n",
    "        \n",
    "    Returns:\n",
    "        mask (bool array): 1D mask defining the validity of grid cells dependent on threshold\n",
    "        idx (int array): 1D array of size grid[mask], with inidces pointing to nearest point in data\n",
    "        dis (float array): 1D array of size grid[mask], with distances to indixed neighbour (for testing)        \n",
    "    \"\"\"\n",
    "    \n",
    "    # calculate distances between all data points and grid points\n",
    "    dist = scipy.spatial.distance.cdist(grid, data)\n",
    "    \n",
    "    # nan out all distances that are too large  (maybe use np.inf?)\n",
    "    if threshold is not None:\n",
    "        dist = np.where(dist < threshold, dist, np.nan)\n",
    "    \n",
    "    # get a mask of all \"valid\" grid cells\n",
    "    mask = ~np.all(np.isnan(dist), axis=1)\n",
    "    \n",
    "    # get array of \"valid\" distance combinations\n",
    "    valid_dist = dist[mask,:]\n",
    "    \n",
    "    # find minimum distance indices for each valid grid cell\n",
    "    idx = np.nanargmin(valid_dist, axis=1)\n",
    "    dis = np.nanmin(valid_dist, axis=1)\n",
    "    \n",
    "    return mask, idx, dis"
   ]
  },
  {
   "cell_type": "code",
   "execution_count": 24,
   "metadata": {},
   "outputs": [],
   "source": [
    "def nearest_neighbour_2(data, grid, threshold=10):\n",
    "    \"\"\"Find nearest neighbour of a new grid-cell in a set of data-grid-cells\n",
    "    \n",
    "    Args:\n",
    "        data (array): n x 3 array with x,y,z coordinates of irregular grid points\n",
    "        grid (array): n x 3 array with x,y,z coordinates of regular grid points\n",
    "        threshold (float): Maximum distance, within a neighbour is accepted as such\n",
    "        \n",
    "    Returns:\n",
    "        mask (bool array): 1D mask defining the validity of grid cells dependent on threshold\n",
    "        idx (int array): 1D array of size grid[mask], with inidces pointing to nearest point in data\n",
    "        mindist (float array): 1D array of size grid[mask], with distances to indixed neighbour (for testing)        \n",
    "    \"\"\"\n",
    "    \n",
    "    # calculate distances between all data points and grid points\n",
    "    dist = scipy.spatial.distance.cdist(grid, data)\n",
    "    \n",
    "    # find minimum distance indices for each grid cell\n",
    "    idx = np.argmin(dist, axis=1)\n",
    "    \n",
    "    # find minimum distances for each grid cell\n",
    "    mindist = np.min(dist, axis=1)\n",
    "    \n",
    "    # get \"valid\" distances, indices and the mask to filter grid\n",
    "    if threshold is not None:\n",
    "        mask = np.where(mindist < threshold, True, False)\n",
    "        idx = idx[mask]\n",
    "        mindist = mindist[mask]\n",
    "    \n",
    "    return mask, idx, mindist"
   ]
  },
  {
   "cell_type": "code",
   "execution_count": 42,
   "metadata": {},
   "outputs": [],
   "source": [
    "def nearest_neighbour_elemwise(data, grid, threshold=10):\n",
    "    \"\"\"Find nearest neighbour of a new grid-cell in a set of data-grid-cells\n",
    "    \n",
    "    Args:\n",
    "        data (array): n x 3 array with x,y,z coordinates of irregular grid points\n",
    "        grid (array): n x 3 array with x,y,z coordinates of regular grid points\n",
    "        threshold (float): Maximum distance, within a neighbour is accepted as such\n",
    "        \n",
    "    Returns:\n",
    "        mask (bool array): 1D mask defining the validity of grid cells dependent on threshold\n",
    "        idx (int array): 1D array of size grid[mask], with inidces pointing to nearest point in data\n",
    "        mindist (float array): 1D array of size grid[mask], with distances to indixed neighbour (for testing)        \n",
    "    \"\"\"\n",
    "    \n",
    "    gs = grid.shape[0]\n",
    "    \n",
    "    idx = np.empty(gs, dtype=np.int)\n",
    "    mindist = np.empty(gs)\n",
    "    \n",
    "    for i in np.arange(gs):\n",
    "        dist = scipy.spatial.distance.cdist([grid[i]], data)\n",
    "        \n",
    "        # find minimum distance indices for each grid cell\n",
    "        idx[i] = np.argmin(dist)\n",
    "    \n",
    "        # find minimum distances for each grid cell\n",
    "        mindist[i] = np.nanmin(dist)\n",
    "    \n",
    "    # get \"valid\" distances, indices and the mask to filter grid\n",
    "    if threshold is not None:\n",
    "        mask = np.where(mindist < threshold, True, False)\n",
    "        idx = idx[mask]\n",
    "        mindist = mindist[mask]\n",
    "    \n",
    "    return mask, idx, mindist"
   ]
  },
  {
   "cell_type": "code",
   "execution_count": 43,
   "metadata": {},
   "outputs": [],
   "source": [
    "threshold = 20"
   ]
  },
  {
   "cell_type": "markdown",
   "metadata": {},
   "source": [
    "### Application 1"
   ]
  },
  {
   "cell_type": "code",
   "execution_count": 44,
   "metadata": {},
   "outputs": [
    {
     "name": "stdout",
     "output_type": "stream",
     "text": [
      "Mask:  (2000,) 409\n",
      "Indices:  (409,) 99\n",
      "Distances:  (409,) 19.998208539898517\n"
     ]
    }
   ],
   "source": [
    "mask, idx, dis = nearest_neighbour(data.iloc[:,0:3].values, grid.values, threshold=threshold)\n",
    "print('Mask: ', mask.shape, np.sum(mask))\n",
    "print('Indices: ', idx.shape, np.max(idx))\n",
    "print('Distances: ', dis.shape, np.max(dis))"
   ]
  },
  {
   "cell_type": "code",
   "execution_count": 45,
   "metadata": {},
   "outputs": [
    {
     "data": {
      "text/html": [
       "<div>\n",
       "<style scoped>\n",
       "    .dataframe tbody tr th:only-of-type {\n",
       "        vertical-align: middle;\n",
       "    }\n",
       "\n",
       "    .dataframe tbody tr th {\n",
       "        vertical-align: top;\n",
       "    }\n",
       "\n",
       "    .dataframe thead th {\n",
       "        text-align: right;\n",
       "    }\n",
       "</style>\n",
       "<table border=\"1\" class=\"dataframe\">\n",
       "  <thead>\n",
       "    <tr style=\"text-align: right;\">\n",
       "      <th></th>\n",
       "      <th>x</th>\n",
       "      <th>y</th>\n",
       "      <th>z</th>\n",
       "    </tr>\n",
       "  </thead>\n",
       "  <tbody>\n",
       "    <tr>\n",
       "      <th>29</th>\n",
       "      <td>60</td>\n",
       "      <td>0</td>\n",
       "      <td>90</td>\n",
       "    </tr>\n",
       "    <tr>\n",
       "      <th>31</th>\n",
       "      <td>90</td>\n",
       "      <td>0</td>\n",
       "      <td>10</td>\n",
       "    </tr>\n",
       "    <tr>\n",
       "      <th>32</th>\n",
       "      <td>90</td>\n",
       "      <td>0</td>\n",
       "      <td>20</td>\n",
       "    </tr>\n",
       "    <tr>\n",
       "      <th>36</th>\n",
       "      <td>90</td>\n",
       "      <td>0</td>\n",
       "      <td>60</td>\n",
       "    </tr>\n",
       "    <tr>\n",
       "      <th>37</th>\n",
       "      <td>90</td>\n",
       "      <td>0</td>\n",
       "      <td>70</td>\n",
       "    </tr>\n",
       "  </tbody>\n",
       "</table>\n",
       "</div>"
      ],
      "text/plain": [
       "     x  y   z\n",
       "29  60  0  90\n",
       "31  90  0  10\n",
       "32  90  0  20\n",
       "36  90  0  60\n",
       "37  90  0  70"
      ]
     },
     "execution_count": 45,
     "metadata": {},
     "output_type": "execute_result"
    }
   ],
   "source": [
    "valid_grid = grid.loc[mask].copy()\n",
    "valid_grid.head()"
   ]
  },
  {
   "cell_type": "code",
   "execution_count": 46,
   "metadata": {},
   "outputs": [
    {
     "data": {
      "text/html": [
       "<div>\n",
       "<style scoped>\n",
       "    .dataframe tbody tr th:only-of-type {\n",
       "        vertical-align: middle;\n",
       "    }\n",
       "\n",
       "    .dataframe tbody tr th {\n",
       "        vertical-align: top;\n",
       "    }\n",
       "\n",
       "    .dataframe thead th {\n",
       "        text-align: right;\n",
       "    }\n",
       "</style>\n",
       "<table border=\"1\" class=\"dataframe\">\n",
       "  <thead>\n",
       "    <tr style=\"text-align: right;\">\n",
       "      <th></th>\n",
       "      <th>x</th>\n",
       "      <th>y</th>\n",
       "      <th>z</th>\n",
       "      <th>zone</th>\n",
       "      <th>dis</th>\n",
       "    </tr>\n",
       "  </thead>\n",
       "  <tbody>\n",
       "    <tr>\n",
       "      <th>29</th>\n",
       "      <td>60</td>\n",
       "      <td>0</td>\n",
       "      <td>90</td>\n",
       "      <td>19</td>\n",
       "      <td>19.064208</td>\n",
       "    </tr>\n",
       "    <tr>\n",
       "      <th>31</th>\n",
       "      <td>90</td>\n",
       "      <td>0</td>\n",
       "      <td>10</td>\n",
       "      <td>51</td>\n",
       "      <td>16.045523</td>\n",
       "    </tr>\n",
       "    <tr>\n",
       "      <th>32</th>\n",
       "      <td>90</td>\n",
       "      <td>0</td>\n",
       "      <td>20</td>\n",
       "      <td>51</td>\n",
       "      <td>16.400062</td>\n",
       "    </tr>\n",
       "    <tr>\n",
       "      <th>36</th>\n",
       "      <td>90</td>\n",
       "      <td>0</td>\n",
       "      <td>60</td>\n",
       "      <td>23</td>\n",
       "      <td>14.702194</td>\n",
       "    </tr>\n",
       "    <tr>\n",
       "      <th>37</th>\n",
       "      <td>90</td>\n",
       "      <td>0</td>\n",
       "      <td>70</td>\n",
       "      <td>23</td>\n",
       "      <td>8.419593</td>\n",
       "    </tr>\n",
       "    <tr>\n",
       "      <th>38</th>\n",
       "      <td>90</td>\n",
       "      <td>0</td>\n",
       "      <td>80</td>\n",
       "      <td>23</td>\n",
       "      <td>11.208236</td>\n",
       "    </tr>\n",
       "  </tbody>\n",
       "</table>\n",
       "</div>"
      ],
      "text/plain": [
       "     x  y   z  zone        dis\n",
       "29  60  0  90    19  19.064208\n",
       "31  90  0  10    51  16.045523\n",
       "32  90  0  20    51  16.400062\n",
       "36  90  0  60    23  14.702194\n",
       "37  90  0  70    23   8.419593\n",
       "38  90  0  80    23  11.208236"
      ]
     },
     "execution_count": 46,
     "metadata": {},
     "output_type": "execute_result"
    }
   ],
   "source": [
    "valid_grid['zone'] = data.zone[idx].values\n",
    "valid_grid['dis'] = dis\n",
    "valid_grid.head(6)"
   ]
  },
  {
   "cell_type": "code",
   "execution_count": 47,
   "metadata": {},
   "outputs": [
    {
     "data": {
      "text/plain": [
       "19.998208539898517"
      ]
     },
     "execution_count": 47,
     "metadata": {},
     "output_type": "execute_result"
    }
   ],
   "source": [
    "# check validity of treshhold\n",
    "valid_grid.dis.max()"
   ]
  },
  {
   "cell_type": "markdown",
   "metadata": {},
   "source": [
    "### Application 2"
   ]
  },
  {
   "cell_type": "code",
   "execution_count": 48,
   "metadata": {},
   "outputs": [
    {
     "name": "stdout",
     "output_type": "stream",
     "text": [
      "Mask:  (2000,) 409\n",
      "Indices:  (409,) 99\n",
      "Distances:  (409,) 19.998208539898517\n"
     ]
    }
   ],
   "source": [
    "mask2, idx2, dis2 = nearest_neighbour_2(data.iloc[:,0:3].values, grid.values, threshold=threshold)\n",
    "print('Mask: ', mask2.shape, np.sum(mask2))\n",
    "print('Indices: ', idx2.shape, np.max(idx2))\n",
    "print('Distances: ', dis2.shape, np.max(dis2))"
   ]
  },
  {
   "cell_type": "code",
   "execution_count": 49,
   "metadata": {},
   "outputs": [
    {
     "data": {
      "text/plain": [
       "(True, True, True)"
      ]
     },
     "execution_count": 49,
     "metadata": {},
     "output_type": "execute_result"
    }
   ],
   "source": [
    "# check conformity of functions\n",
    "np.all(mask == mask2), np.all(idx == idx2), np.all(dis == dis2)"
   ]
  },
  {
   "cell_type": "markdown",
   "metadata": {},
   "source": [
    "### Application element-wise"
   ]
  },
  {
   "cell_type": "code",
   "execution_count": 50,
   "metadata": {},
   "outputs": [
    {
     "name": "stdout",
     "output_type": "stream",
     "text": [
      "Mask:  (2000,) 409\n",
      "Indices:  (409,) 99\n",
      "Distances:  (409,) 19.998208539898517\n"
     ]
    }
   ],
   "source": [
    "mask3, idx3, dis3 = nearest_neighbour_elemwise(data.iloc[:,0:3].values, grid.values, threshold=threshold)\n",
    "print('Mask: ', mask3.shape, np.sum(mask3))\n",
    "print('Indices: ', idx3.shape, np.max(idx3))\n",
    "print('Distances: ', dis3.shape, np.max(dis3))"
   ]
  },
  {
   "cell_type": "code",
   "execution_count": 51,
   "metadata": {},
   "outputs": [
    {
     "data": {
      "text/plain": [
       "(True, True, True)"
      ]
     },
     "execution_count": 51,
     "metadata": {},
     "output_type": "execute_result"
    }
   ],
   "source": [
    "# check conformity of functions\n",
    "np.all(mask == mask3), np.all(idx == idx3), np.all(dis == dis3)"
   ]
  },
  {
   "cell_type": "markdown",
   "metadata": {},
   "source": [
    "# Application element-wise to large data-sets"
   ]
  },
  {
   "cell_type": "code",
   "execution_count": 53,
   "metadata": {},
   "outputs": [],
   "source": [
    "# size of dataset\n",
    "size = 120*166*105"
   ]
  },
  {
   "cell_type": "code",
   "execution_count": 54,
   "metadata": {},
   "outputs": [
    {
     "data": {
      "text/plain": [
       "array([57, 48, 40, ..., 64,  8,  4])"
      ]
     },
     "execution_count": 54,
     "metadata": {},
     "output_type": "execute_result"
    }
   ],
   "source": [
    "# Assume a paramter of grid cells, named zone\n",
    "zone = np.random.randint(0,64+1, size=size)\n",
    "zone"
   ]
  },
  {
   "cell_type": "code",
   "execution_count": 57,
   "metadata": {},
   "outputs": [],
   "source": [
    "x = np.random.random(size=size) * 300\n",
    "y = np.random.random(size=size) * 400\n",
    "z = np.random.random(size=size) * 100"
   ]
  },
  {
   "cell_type": "code",
   "execution_count": 6,
   "metadata": {},
   "outputs": [
    {
     "data": {
      "text/plain": [
       "array([75.52959224, 90.50087812, 90.19008858, 75.45058348,  8.03363798,\n",
       "        6.41302624,  3.13539414, 27.67146609, 18.58180224, 37.4575374 ])"
      ]
     },
     "execution_count": 6,
     "metadata": {},
     "output_type": "execute_result"
    }
   ],
   "source": [
    "\n",
    "z[0:10]"
   ]
  },
  {
   "cell_type": "code",
   "execution_count": 7,
   "metadata": {},
   "outputs": [],
   "source": [
    "#300*400*100"
   ]
  },
  {
   "cell_type": "code",
   "execution_count": 8,
   "metadata": {},
   "outputs": [
    {
     "data": {
      "text/html": [
       "<div>\n",
       "<style scoped>\n",
       "    .dataframe tbody tr th:only-of-type {\n",
       "        vertical-align: middle;\n",
       "    }\n",
       "\n",
       "    .dataframe tbody tr th {\n",
       "        vertical-align: top;\n",
       "    }\n",
       "\n",
       "    .dataframe thead th {\n",
       "        text-align: right;\n",
       "    }\n",
       "</style>\n",
       "<table border=\"1\" class=\"dataframe\">\n",
       "  <thead>\n",
       "    <tr style=\"text-align: right;\">\n",
       "      <th></th>\n",
       "      <th>x</th>\n",
       "      <th>y</th>\n",
       "      <th>z</th>\n",
       "      <th>zone</th>\n",
       "    </tr>\n",
       "  </thead>\n",
       "  <tbody>\n",
       "    <tr>\n",
       "      <th>0</th>\n",
       "      <td>293.102230</td>\n",
       "      <td>33.108838</td>\n",
       "      <td>75.529592</td>\n",
       "      <td>6</td>\n",
       "    </tr>\n",
       "    <tr>\n",
       "      <th>1</th>\n",
       "      <td>232.501239</td>\n",
       "      <td>142.165855</td>\n",
       "      <td>90.500878</td>\n",
       "      <td>42</td>\n",
       "    </tr>\n",
       "    <tr>\n",
       "      <th>2</th>\n",
       "      <td>221.509810</td>\n",
       "      <td>185.645730</td>\n",
       "      <td>90.190089</td>\n",
       "      <td>49</td>\n",
       "    </tr>\n",
       "    <tr>\n",
       "      <th>3</th>\n",
       "      <td>208.338102</td>\n",
       "      <td>229.113875</td>\n",
       "      <td>75.450583</td>\n",
       "      <td>63</td>\n",
       "    </tr>\n",
       "    <tr>\n",
       "      <th>4</th>\n",
       "      <td>28.045808</td>\n",
       "      <td>256.824148</td>\n",
       "      <td>8.033638</td>\n",
       "      <td>31</td>\n",
       "    </tr>\n",
       "  </tbody>\n",
       "</table>\n",
       "</div>"
      ],
      "text/plain": [
       "            x           y          z  zone\n",
       "0  293.102230   33.108838  75.529592     6\n",
       "1  232.501239  142.165855  90.500878    42\n",
       "2  221.509810  185.645730  90.190089    49\n",
       "3  208.338102  229.113875  75.450583    63\n",
       "4   28.045808  256.824148   8.033638    31"
      ]
     },
     "execution_count": 8,
     "metadata": {},
     "output_type": "execute_result"
    }
   ],
   "source": [
    "# combine in a pandas dataframe for readability\n",
    "data = pd.DataFrame.from_dict({'x': x, 'y': y, 'z': z, 'zone': zone})\n",
    "data.head()"
   ]
  },
  {
   "cell_type": "code",
   "execution_count": 9,
   "metadata": {},
   "outputs": [],
   "source": [
    "# xarray representation, might be useful at some point\n",
    "#xd = df.set_index(['x','y','z']).to_xarray()\n",
    "#xd"
   ]
  },
  {
   "cell_type": "markdown",
   "metadata": {},
   "source": [
    "## Create regular grid for lookup"
   ]
  },
  {
   "cell_type": "code",
   "execution_count": 10,
   "metadata": {},
   "outputs": [],
   "source": [
    "rx = np.arange(0,300,30)\n",
    "ry = np.arange(0,400,20)\n",
    "rz = np.arange(0,100,10)"
   ]
  },
  {
   "cell_type": "code",
   "execution_count": 11,
   "metadata": {},
   "outputs": [],
   "source": [
    "a,b,c = np.meshgrid(rx,ry,rz)"
   ]
  },
  {
   "cell_type": "code",
   "execution_count": 12,
   "metadata": {},
   "outputs": [
    {
     "data": {
      "text/html": [
       "<div>\n",
       "<style scoped>\n",
       "    .dataframe tbody tr th:only-of-type {\n",
       "        vertical-align: middle;\n",
       "    }\n",
       "\n",
       "    .dataframe tbody tr th {\n",
       "        vertical-align: top;\n",
       "    }\n",
       "\n",
       "    .dataframe thead th {\n",
       "        text-align: right;\n",
       "    }\n",
       "</style>\n",
       "<table border=\"1\" class=\"dataframe\">\n",
       "  <thead>\n",
       "    <tr style=\"text-align: right;\">\n",
       "      <th></th>\n",
       "      <th>x</th>\n",
       "      <th>y</th>\n",
       "      <th>z</th>\n",
       "    </tr>\n",
       "  </thead>\n",
       "  <tbody>\n",
       "    <tr>\n",
       "      <th>0</th>\n",
       "      <td>0</td>\n",
       "      <td>0</td>\n",
       "      <td>0</td>\n",
       "    </tr>\n",
       "    <tr>\n",
       "      <th>1</th>\n",
       "      <td>0</td>\n",
       "      <td>0</td>\n",
       "      <td>10</td>\n",
       "    </tr>\n",
       "    <tr>\n",
       "      <th>2</th>\n",
       "      <td>0</td>\n",
       "      <td>0</td>\n",
       "      <td>20</td>\n",
       "    </tr>\n",
       "    <tr>\n",
       "      <th>3</th>\n",
       "      <td>0</td>\n",
       "      <td>0</td>\n",
       "      <td>30</td>\n",
       "    </tr>\n",
       "    <tr>\n",
       "      <th>4</th>\n",
       "      <td>0</td>\n",
       "      <td>0</td>\n",
       "      <td>40</td>\n",
       "    </tr>\n",
       "  </tbody>\n",
       "</table>\n",
       "</div>"
      ],
      "text/plain": [
       "   x  y   z\n",
       "0  0  0   0\n",
       "1  0  0  10\n",
       "2  0  0  20\n",
       "3  0  0  30\n",
       "4  0  0  40"
      ]
     },
     "execution_count": 12,
     "metadata": {},
     "output_type": "execute_result"
    }
   ],
   "source": [
    "grid = pd.DataFrame.from_dict({'x': a.ravel(), 'y': b.ravel(), 'z': c.ravel()})\n",
    "grid.head()"
   ]
  }
 ],
 "metadata": {
  "kernelspec": {
   "display_name": "Python 3",
   "language": "python",
   "name": "python3"
  },
  "language_info": {
   "codemirror_mode": {
    "name": "ipython",
    "version": 3
   },
   "file_extension": ".py",
   "mimetype": "text/x-python",
   "name": "python",
   "nbconvert_exporter": "python",
   "pygments_lexer": "ipython3",
   "version": "3.6.8"
  }
 },
 "nbformat": 4,
 "nbformat_minor": 4
}
