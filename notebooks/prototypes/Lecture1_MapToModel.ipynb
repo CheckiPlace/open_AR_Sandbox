{
 "cells": [
  {
   "cell_type": "markdown",
   "metadata": {},
   "source": [
    "## Geologische Geschichte des Geländes\n",
    "\n",
    "1. Ablagerung der ersten Sequenz:\n",
    "    *  A\n",
    "    *  B\n",
    "    *  C \n",
    "    *  D\n",
    "  \n",
    "2. Störung F1\n",
    "\n",
    "3. Ablagerung der 2. Sequenz\n",
    "    * G\n",
    "    * H\n",
    "4. Störung F2"
   ]
  },
  {
   "cell_type": "code",
   "execution_count": 1,
   "metadata": {},
   "outputs": [],
   "source": [
    "# These three lines are necessary only if GemPy is not installed\n",
    "import sys, os\n",
    "sys.path.append('../..')\n",
    "sys.path.append('../../../gempy/')\n",
    "\n",
    "# Importing GemPy\n",
    "import gempy as gp\n",
    "\n",
    "# Importing aux libraries\n",
    "from ipywidgets import interact\n",
    "import numpy as np\n",
    "import matplotlib.pyplot as plt\n",
    "import matplotlib.image as mpimg\n",
    "import pandas as pn\n",
    "import matplotlib\n",
    "import theano\n",
    "import qgrid\n",
    "import pickle\n",
    "\n",
    "# Imort SandBox\n",
    "os.environ[\"THEANO_FLAGS\"] = \"mode=FAST_RUN\"\n",
    "#import sandbox.sandbox as sb\n"
   ]
  },
  {
   "cell_type": "markdown",
   "metadata": {},
   "source": [
    "### Initializing the model:\n",
    "\n",
    "The first step to create a GemPy model is create a gempy.Model object that will contain all the other data structures and necessary functionality.\n",
    "\n",
    "In addition for this example we will define a regular grid since the beginning. This is the grid where we will interpolate the 3D geological model. GemPy comes with an array of different grids for different pourposes as we will see below. For visualization usually a regular grid is the one that makes more sense."
   ]
  },
  {
   "cell_type": "code",
   "execution_count": 2,
   "metadata": {},
   "outputs": [
    {
     "name": "stdout",
     "output_type": "stream",
     "text": [
      "Active grids: ['regular']\n"
     ]
    }
   ],
   "source": [
    "geo_model = gp.create_model('Geological_Model1')\n",
    "geo_model = gp.init_data(geo_model, extent= [0, 4000, 0, 2775, 200, 1200], resolution=[100, 10, 100])"
   ]
  },
  {
   "cell_type": "markdown",
   "metadata": {},
   "source": [
    "GemPy core code is written in Python. However for efficiency (and other reasons) most of heavy computations happend in optimize compile code, either C or CUDA for GPU. To do so, GemPy rely on the library theano. To guarantee maximum optimization theano requires to compile the code for every Python kernel. The compilation is done by calling the following line at any point (before computing the model):"
   ]
  },
  {
   "cell_type": "code",
   "execution_count": 3,
   "metadata": {},
   "outputs": [
    {
     "name": "stdout",
     "output_type": "stream",
     "text": [
      "[]\n",
      "[], Categories (3, object): [Erosion, Onlap, Fault]\n",
      "is_erosion []\n",
      "[]\n",
      "[], Categories (3, object): [Erosion, Onlap, Fault]\n",
      "is_erosion []\n",
      "Compiling theano function...\n",
      "Level of Optimization:  fast_run\n",
      "Device:  cpu\n",
      "Precision:  float64\n",
      "Number of faults:  0\n",
      "Compilation Done!\n"
     ]
    },
    {
     "data": {
      "text/plain": [
       "<gempy.core.interpolator.InterpolatorModel at 0x209fd8658c8>"
      ]
     },
     "execution_count": 3,
     "metadata": {},
     "output_type": "execute_result"
    }
   ],
   "source": [
    "gp.set_interpolator(geo_model, theano_optimizer='fast_run', verbose=[])"
   ]
  },
  {
   "cell_type": "markdown",
   "metadata": {},
   "source": [
    "### Creating figure:\n",
    "\n",
    "GemPy uses matplotlib and pyvista-vtk libraries for 2d and 3d visualization of the model respectively. One of the design decisions of GemPy is to allow real time construction of the model. What this means is that you can start adding input data and see in real time how the 3D surfaces evolve. Lets initialize the visualization windows.\n",
    "\n",
    "The first one is the 2d figure. Just place the window where you can see it (maybe move the jupyter notebook to half screen and use the other half for the renderers)."
   ]
  },
  {
   "cell_type": "code",
   "execution_count": 4,
   "metadata": {},
   "outputs": [],
   "source": [
    "#Visualization Widgets - Conflicts with bokeh visualization\n",
    "from gempy.plot import visualization_2d_pro as vv\n",
    "#from gempy.plot import vista"
   ]
  },
  {
   "cell_type": "code",
   "execution_count": 5,
   "metadata": {},
   "outputs": [
    {
     "data": {
      "text/plain": [
       "(<Figure size 3000x1600 with 0 Axes>, array([], shape=(0, 0), dtype=object))"
      ]
     },
     "execution_count": 5,
     "metadata": {},
     "output_type": "execute_result"
    }
   ],
   "source": [
    "%matplotlib qt5\n",
    "\n",
    "map_view = vv.Plot2D(geo_model)\n",
    "map_view.create_figure((15, 8))\n",
    "\n",
    "profile_view = vv.Plot2D(geo_model)\n",
    "profile_view.create_figure((15, 8))"
   ]
  },
  {
   "cell_type": "markdown",
   "metadata": {},
   "source": [
    "#### Add model section\n",
    "\n",
    "In the 2d renderer we can add several cross section of the model. In this case, for simplicity we are just adding one perpendicular to z."
   ]
  },
  {
   "cell_type": "code",
   "execution_count": 6,
   "metadata": {},
   "outputs": [],
   "source": [
    "# In this case perpendicular to the z axes\n",
    "ax = map_view.add_section(direction='z')\n",
    "\n",
    "ax2 = profile_view.add_section(direction='y')\n"
   ]
  },
  {
   "cell_type": "markdown",
   "metadata": {},
   "source": [
    "#### Loading geological map image:\n",
    "\n",
    "Remember that gempy is simply using matplotlib and therofe the ax object created above is a standard matplotlib axes. This allow to manipulate it freely. Lets load an image with the information of geological map"
   ]
  },
  {
   "cell_type": "code",
   "execution_count": 7,
   "metadata": {},
   "outputs": [
    {
     "data": {
      "text/plain": [
       "<matplotlib.image.AxesImage at 0x19c7bdc0508>"
      ]
     },
     "execution_count": 7,
     "metadata": {},
     "output_type": "execute_result"
    }
   ],
   "source": [
    "# Reading image\n",
    "img = mpimg.imread('geological_model.png')\n",
    "# Plotting it inplace\n",
    "ax.imshow(img, origin='upper', alpha=.8, extent = (0, 4000, 0,2775))\n",
    "\n"
   ]
  },
  {
   "cell_type": "code",
   "execution_count": 8,
   "metadata": {},
   "outputs": [
    {
     "data": {
      "text/plain": [
       "(200.0, 1200.0)"
      ]
     },
     "execution_count": 8,
     "metadata": {},
     "output_type": "execute_result"
    }
   ],
   "source": [
    "\n",
    "ax2.set_xlim(geo_model.grid.regular_grid.extent[0], geo_model.grid.regular_grid.extent[1])\n",
    "ax2.set_ylim(geo_model.grid.regular_grid.extent[4], geo_model.grid.regular_grid.extent[5])"
   ]
  },
  {
   "cell_type": "markdown",
   "metadata": {},
   "source": [
    "## Building the model\n",
    "\n",
    "Now that we have everything initialize we can start the construction of the geological model. \n",
    "### Cycle1:\n",
    "\n",
    "#### Surfaces\n",
    "\n",
    "GemPy is a surface based interpolator. This means that all the input data we add has to be refered to a surface. The surfaces always mark the bottom of a unit. By default GemPy surfaces are empty:"
   ]
  },
  {
   "cell_type": "code",
   "execution_count": 9,
   "metadata": {},
   "outputs": [
    {
     "data": {
      "text/html": [
       "<table border=\"1\" class=\"dataframe\">\n",
       "  <thead>\n",
       "    <tr style=\"text-align: right;\">\n",
       "      <th></th>\n",
       "      <th>order_series</th>\n",
       "      <th>BottomRelation</th>\n",
       "    </tr>\n",
       "  </thead>\n",
       "  <tbody>\n",
       "    <tr>\n",
       "      <th>Default series</th>\n",
       "      <td>1</td>\n",
       "      <td>Erosion</td>\n",
       "    </tr>\n",
       "  </tbody>\n",
       "</table>"
      ],
      "text/plain": [
       "                order_series BottomRelation\n",
       "Default series             1        Erosion"
      ]
     },
     "execution_count": 9,
     "metadata": {},
     "output_type": "execute_result"
    }
   ],
   "source": [
    "geo_model.series"
   ]
  },
  {
   "cell_type": "code",
   "execution_count": 10,
   "metadata": {},
   "outputs": [
    {
     "data": {
      "text/html": [
       "<table border=\"1\" class=\"dataframe\">\n",
       "  <thead>\n",
       "    <tr style=\"text-align: right;\">\n",
       "      <th></th>\n",
       "      <th>order_series</th>\n",
       "      <th>BottomRelation</th>\n",
       "    </tr>\n",
       "  </thead>\n",
       "  <tbody>\n",
       "    <tr>\n",
       "      <th>Default series</th>\n",
       "      <td>1</td>\n",
       "      <td>Erosion</td>\n",
       "    </tr>\n",
       "    <tr>\n",
       "      <th>Cycle1</th>\n",
       "      <td>2</td>\n",
       "      <td>Erosion</td>\n",
       "    </tr>\n",
       "  </tbody>\n",
       "</table>"
      ],
      "text/plain": [
       "                order_series BottomRelation\n",
       "Default series             1        Erosion\n",
       "Cycle1                     2        Erosion"
      ]
     },
     "execution_count": 10,
     "metadata": {},
     "output_type": "execute_result"
    }
   ],
   "source": [
    "geo_model.add_series('Cycle1')"
   ]
  },
  {
   "cell_type": "code",
   "execution_count": 11,
   "metadata": {},
   "outputs": [
    {
     "data": {
      "text/html": [
       "<table border=\"1\" class=\"dataframe\">\n",
       "  <thead>\n",
       "    <tr style=\"text-align: right;\">\n",
       "      <th></th>\n",
       "      <th>order_series</th>\n",
       "      <th>BottomRelation</th>\n",
       "    </tr>\n",
       "  </thead>\n",
       "  <tbody>\n",
       "    <tr>\n",
       "      <th>Cycle1</th>\n",
       "      <td>1</td>\n",
       "      <td>Erosion</td>\n",
       "    </tr>\n",
       "  </tbody>\n",
       "</table>"
      ],
      "text/plain": [
       "        order_series BottomRelation\n",
       "Cycle1             1        Erosion"
      ]
     },
     "execution_count": 11,
     "metadata": {},
     "output_type": "execute_result"
    }
   ],
   "source": [
    "geo_model.delete_series('Default series')"
   ]
  },
  {
   "cell_type": "code",
   "execution_count": 12,
   "metadata": {},
   "outputs": [],
   "source": [
    "#geo_model.set_is_fault(['Fault1', 'Fault2'])"
   ]
  },
  {
   "cell_type": "markdown",
   "metadata": {},
   "source": [
    "We can create the first surfaces for the Cycle1 of the sedimentary layers:"
   ]
  },
  {
   "cell_type": "code",
   "execution_count": 13,
   "metadata": {},
   "outputs": [
    {
     "data": {
      "text/html": [
       "<style  type=\"text/css\" >\n",
       "    #T_6b76785a_3778_11ea_a597_0024d6f26083row0_col3 {\n",
       "            background-color:  #015482;\n",
       "        }    #T_6b76785a_3778_11ea_a597_0024d6f26083row1_col3 {\n",
       "            background-color:  #9f0052;\n",
       "        }    #T_6b76785a_3778_11ea_a597_0024d6f26083row2_col3 {\n",
       "            background-color:  #ffbe00;\n",
       "        }    #T_6b76785a_3778_11ea_a597_0024d6f26083row3_col3 {\n",
       "            background-color:  #728f02;\n",
       "        }</style><table id=\"T_6b76785a_3778_11ea_a597_0024d6f26083\" ><thead>    <tr>        <th class=\"blank level0\" ></th>        <th class=\"col_heading level0 col0\" >surface</th>        <th class=\"col_heading level0 col1\" >series</th>        <th class=\"col_heading level0 col2\" >order_surfaces</th>        <th class=\"col_heading level0 col3\" >color</th>        <th class=\"col_heading level0 col4\" >id</th>    </tr></thead><tbody>\n",
       "                <tr>\n",
       "                        <th id=\"T_6b76785a_3778_11ea_a597_0024d6f26083level0_row0\" class=\"row_heading level0 row0\" >0</th>\n",
       "                        <td id=\"T_6b76785a_3778_11ea_a597_0024d6f26083row0_col0\" class=\"data row0 col0\" >D</td>\n",
       "                        <td id=\"T_6b76785a_3778_11ea_a597_0024d6f26083row0_col1\" class=\"data row0 col1\" >Cycle1</td>\n",
       "                        <td id=\"T_6b76785a_3778_11ea_a597_0024d6f26083row0_col2\" class=\"data row0 col2\" >1</td>\n",
       "                        <td id=\"T_6b76785a_3778_11ea_a597_0024d6f26083row0_col3\" class=\"data row0 col3\" >#015482</td>\n",
       "                        <td id=\"T_6b76785a_3778_11ea_a597_0024d6f26083row0_col4\" class=\"data row0 col4\" >1</td>\n",
       "            </tr>\n",
       "            <tr>\n",
       "                        <th id=\"T_6b76785a_3778_11ea_a597_0024d6f26083level0_row1\" class=\"row_heading level0 row1\" >1</th>\n",
       "                        <td id=\"T_6b76785a_3778_11ea_a597_0024d6f26083row1_col0\" class=\"data row1 col0\" >C</td>\n",
       "                        <td id=\"T_6b76785a_3778_11ea_a597_0024d6f26083row1_col1\" class=\"data row1 col1\" >Cycle1</td>\n",
       "                        <td id=\"T_6b76785a_3778_11ea_a597_0024d6f26083row1_col2\" class=\"data row1 col2\" >2</td>\n",
       "                        <td id=\"T_6b76785a_3778_11ea_a597_0024d6f26083row1_col3\" class=\"data row1 col3\" >#9f0052</td>\n",
       "                        <td id=\"T_6b76785a_3778_11ea_a597_0024d6f26083row1_col4\" class=\"data row1 col4\" >2</td>\n",
       "            </tr>\n",
       "            <tr>\n",
       "                        <th id=\"T_6b76785a_3778_11ea_a597_0024d6f26083level0_row2\" class=\"row_heading level0 row2\" >2</th>\n",
       "                        <td id=\"T_6b76785a_3778_11ea_a597_0024d6f26083row2_col0\" class=\"data row2 col0\" >B</td>\n",
       "                        <td id=\"T_6b76785a_3778_11ea_a597_0024d6f26083row2_col1\" class=\"data row2 col1\" >Cycle1</td>\n",
       "                        <td id=\"T_6b76785a_3778_11ea_a597_0024d6f26083row2_col2\" class=\"data row2 col2\" >3</td>\n",
       "                        <td id=\"T_6b76785a_3778_11ea_a597_0024d6f26083row2_col3\" class=\"data row2 col3\" >#ffbe00</td>\n",
       "                        <td id=\"T_6b76785a_3778_11ea_a597_0024d6f26083row2_col4\" class=\"data row2 col4\" >3</td>\n",
       "            </tr>\n",
       "            <tr>\n",
       "                        <th id=\"T_6b76785a_3778_11ea_a597_0024d6f26083level0_row3\" class=\"row_heading level0 row3\" >3</th>\n",
       "                        <td id=\"T_6b76785a_3778_11ea_a597_0024d6f26083row3_col0\" class=\"data row3 col0\" >A</td>\n",
       "                        <td id=\"T_6b76785a_3778_11ea_a597_0024d6f26083row3_col1\" class=\"data row3 col1\" >Cycle1</td>\n",
       "                        <td id=\"T_6b76785a_3778_11ea_a597_0024d6f26083row3_col2\" class=\"data row3 col2\" >4</td>\n",
       "                        <td id=\"T_6b76785a_3778_11ea_a597_0024d6f26083row3_col3\" class=\"data row3 col3\" >#728f02</td>\n",
       "                        <td id=\"T_6b76785a_3778_11ea_a597_0024d6f26083row3_col4\" class=\"data row3 col4\" >4</td>\n",
       "            </tr>\n",
       "    </tbody></table>"
      ],
      "text/plain": [
       "  surface  series  order_surfaces    color  id\n",
       "0       D  Cycle1               1  #015482   1\n",
       "1       C  Cycle1               2  #9f0052   2\n",
       "2       B  Cycle1               3  #ffbe00   3\n",
       "3       A  Cycle1               4  #728f02   4"
      ]
     },
     "execution_count": 13,
     "metadata": {},
     "output_type": "execute_result"
    }
   ],
   "source": [
    "geo_model.add_surfaces(['D','C','B', 'A'])"
   ]
  },
  {
   "cell_type": "markdown",
   "metadata": {},
   "source": [
    "Series is the object that contains the properties associated with each independent scalar field. The name by default is \"Default series\" but we can rename it and create new ones as we advance in the constructin of the model"
   ]
  },
  {
   "cell_type": "code",
   "execution_count": 14,
   "metadata": {},
   "outputs": [
    {
     "data": {
      "text/html": [
       "<table border=\"1\" class=\"dataframe\">\n",
       "  <thead>\n",
       "    <tr style=\"text-align: right;\">\n",
       "      <th></th>\n",
       "      <th>order_series</th>\n",
       "      <th>BottomRelation</th>\n",
       "    </tr>\n",
       "  </thead>\n",
       "  <tbody>\n",
       "    <tr>\n",
       "      <th>Cycle1</th>\n",
       "      <td>1</td>\n",
       "      <td>Erosion</td>\n",
       "    </tr>\n",
       "  </tbody>\n",
       "</table>"
      ],
      "text/plain": [
       "        order_series BottomRelation\n",
       "Cycle1             1        Erosion"
      ]
     },
     "execution_count": 14,
     "metadata": {},
     "output_type": "execute_result"
    }
   ],
   "source": [
    "geo_model.series"
   ]
  },
  {
   "cell_type": "code",
   "execution_count": 15,
   "metadata": {},
   "outputs": [],
   "source": [
    "#geo_model.rename_series(['Cycle1'])"
   ]
  },
  {
   "cell_type": "markdown",
   "metadata": {},
   "source": [
    "Now we can start adding data. GemPy input data consist on surface points and orientations (perpendicular to the layers). The 2D plot gives you the X and Y coordinates when hovering the mouse over. We can add a surface point as follows:"
   ]
  },
  {
   "cell_type": "code",
   "execution_count": 16,
   "metadata": {},
   "outputs": [
    {
     "data": {
      "text/html": [
       "<table border=\"1\" class=\"dataframe\">\n",
       "  <thead>\n",
       "    <tr style=\"text-align: right;\">\n",
       "      <th></th>\n",
       "      <th>X</th>\n",
       "      <th>Y</th>\n",
       "      <th>Z</th>\n",
       "      <th>X_r</th>\n",
       "      <th>Y_r</th>\n",
       "      <th>Z_r</th>\n",
       "      <th>surface</th>\n",
       "      <th>series</th>\n",
       "      <th>id</th>\n",
       "      <th>order_series</th>\n",
       "      <th>smooth</th>\n",
       "    </tr>\n",
       "  </thead>\n",
       "  <tbody>\n",
       "    <tr>\n",
       "      <th>0</th>\n",
       "      <td>429.0</td>\n",
       "      <td>2482.0</td>\n",
       "      <td>400.0</td>\n",
       "      <td>0.503643</td>\n",
       "      <td>0.750100</td>\n",
       "      <td>0.479857</td>\n",
       "      <td>B</td>\n",
       "      <td>Cycle1</td>\n",
       "      <td>3</td>\n",
       "      <td>1</td>\n",
       "      <td>0.000001</td>\n",
       "    </tr>\n",
       "    <tr>\n",
       "      <th>1</th>\n",
       "      <td>483.0</td>\n",
       "      <td>2180.0</td>\n",
       "      <td>400.0</td>\n",
       "      <td>0.514574</td>\n",
       "      <td>0.688966</td>\n",
       "      <td>0.479857</td>\n",
       "      <td>B</td>\n",
       "      <td>Cycle1</td>\n",
       "      <td>3</td>\n",
       "      <td>1</td>\n",
       "      <td>0.000001</td>\n",
       "    </tr>\n",
       "    <tr>\n",
       "      <th>2</th>\n",
       "      <td>523.0</td>\n",
       "      <td>682.0</td>\n",
       "      <td>500.0</td>\n",
       "      <td>0.522671</td>\n",
       "      <td>0.385728</td>\n",
       "      <td>0.500100</td>\n",
       "      <td>B</td>\n",
       "      <td>Cycle1</td>\n",
       "      <td>3</td>\n",
       "      <td>1</td>\n",
       "      <td>0.000001</td>\n",
       "    </tr>\n",
       "    <tr>\n",
       "      <th>3</th>\n",
       "      <td>300.0</td>\n",
       "      <td>12.0</td>\n",
       "      <td>600.0</td>\n",
       "      <td>0.477529</td>\n",
       "      <td>0.250100</td>\n",
       "      <td>0.520343</td>\n",
       "      <td>B</td>\n",
       "      <td>Cycle1</td>\n",
       "      <td>3</td>\n",
       "      <td>1</td>\n",
       "      <td>0.000001</td>\n",
       "    </tr>\n",
       "  </tbody>\n",
       "</table>"
      ],
      "text/plain": [
       "       X       Y      Z       X_r       Y_r       Z_r surface  series  id  order_series    smooth\n",
       "0  429.0  2482.0  400.0  0.503643  0.750100  0.479857       B  Cycle1   3             1  0.000001\n",
       "1  483.0  2180.0  400.0  0.514574  0.688966  0.479857       B  Cycle1   3             1  0.000001\n",
       "2  523.0   682.0  500.0  0.522671  0.385728  0.500100       B  Cycle1   3             1  0.000001\n",
       "3  300.0    12.0  600.0  0.477529  0.250100  0.520343       B  Cycle1   3             1  0.000001"
      ]
     },
     "execution_count": 16,
     "metadata": {},
     "output_type": "execute_result"
    }
   ],
   "source": [
    "#surface B\n",
    "geo_model.add_surface_points(X=429, Y=2482, Z=400, surface='B')\n",
    "geo_model.add_surface_points(X=483, Y=2180, Z=400, surface='B')\n",
    "geo_model.add_surface_points(X=523, Y=682, Z=500, surface='B')\n",
    "geo_model.add_surface_points(X=300, Y=12, Z=600, surface='B')"
   ]
  },
  {
   "cell_type": "code",
   "execution_count": 17,
   "metadata": {},
   "outputs": [
    {
     "data": {
      "text/html": [
       "<table border=\"1\" class=\"dataframe\">\n",
       "  <thead>\n",
       "    <tr style=\"text-align: right;\">\n",
       "      <th></th>\n",
       "      <th>X</th>\n",
       "      <th>Y</th>\n",
       "      <th>Z</th>\n",
       "      <th>X_r</th>\n",
       "      <th>Y_r</th>\n",
       "      <th>Z_r</th>\n",
       "      <th>surface</th>\n",
       "      <th>series</th>\n",
       "      <th>id</th>\n",
       "      <th>order_series</th>\n",
       "      <th>smooth</th>\n",
       "    </tr>\n",
       "  </thead>\n",
       "  <tbody>\n",
       "    <tr>\n",
       "      <th>8</th>\n",
       "      <td>961.0</td>\n",
       "      <td>1635.0</td>\n",
       "      <td>800.0</td>\n",
       "      <td>0.551994</td>\n",
       "      <td>0.577186</td>\n",
       "      <td>0.540406</td>\n",
       "      <td>D</td>\n",
       "      <td>Cycle1</td>\n",
       "      <td>1</td>\n",
       "      <td>1</td>\n",
       "      <td>0.000001</td>\n",
       "    </tr>\n",
       "    <tr>\n",
       "      <th>9</th>\n",
       "      <td>1107.0</td>\n",
       "      <td>991.0</td>\n",
       "      <td>800.0</td>\n",
       "      <td>0.581418</td>\n",
       "      <td>0.447399</td>\n",
       "      <td>0.540406</td>\n",
       "      <td>D</td>\n",
       "      <td>Cycle1</td>\n",
       "      <td>1</td>\n",
       "      <td>1</td>\n",
       "      <td>0.000001</td>\n",
       "    </tr>\n",
       "    <tr>\n",
       "      <th>4</th>\n",
       "      <td>780.0</td>\n",
       "      <td>2493.0</td>\n",
       "      <td>500.0</td>\n",
       "      <td>0.515517</td>\n",
       "      <td>0.750100</td>\n",
       "      <td>0.479947</td>\n",
       "      <td>C</td>\n",
       "      <td>Cycle1</td>\n",
       "      <td>2</td>\n",
       "      <td>1</td>\n",
       "      <td>0.000001</td>\n",
       "    </tr>\n",
       "    <tr>\n",
       "      <th>5</th>\n",
       "      <td>832.0</td>\n",
       "      <td>2133.0</td>\n",
       "      <td>500.0</td>\n",
       "      <td>0.525997</td>\n",
       "      <td>0.677549</td>\n",
       "      <td>0.479947</td>\n",
       "      <td>C</td>\n",
       "      <td>Cycle1</td>\n",
       "      <td>2</td>\n",
       "      <td>1</td>\n",
       "      <td>0.000001</td>\n",
       "    </tr>\n",
       "    <tr>\n",
       "      <th>6</th>\n",
       "      <td>850.0</td>\n",
       "      <td>665.0</td>\n",
       "      <td>600.0</td>\n",
       "      <td>0.529624</td>\n",
       "      <td>0.381700</td>\n",
       "      <td>0.500100</td>\n",
       "      <td>C</td>\n",
       "      <td>Cycle1</td>\n",
       "      <td>2</td>\n",
       "      <td>1</td>\n",
       "      <td>0.000001</td>\n",
       "    </tr>\n",
       "    <tr>\n",
       "      <th>7</th>\n",
       "      <td>952.0</td>\n",
       "      <td>192.0</td>\n",
       "      <td>600.0</td>\n",
       "      <td>0.550181</td>\n",
       "      <td>0.286376</td>\n",
       "      <td>0.500100</td>\n",
       "      <td>C</td>\n",
       "      <td>Cycle1</td>\n",
       "      <td>2</td>\n",
       "      <td>1</td>\n",
       "      <td>0.000001</td>\n",
       "    </tr>\n",
       "    <tr>\n",
       "      <th>0</th>\n",
       "      <td>429.0</td>\n",
       "      <td>2482.0</td>\n",
       "      <td>400.0</td>\n",
       "      <td>0.444780</td>\n",
       "      <td>0.747883</td>\n",
       "      <td>0.459794</td>\n",
       "      <td>B</td>\n",
       "      <td>Cycle1</td>\n",
       "      <td>3</td>\n",
       "      <td>1</td>\n",
       "      <td>0.000001</td>\n",
       "    </tr>\n",
       "    <tr>\n",
       "      <th>1</th>\n",
       "      <td>483.0</td>\n",
       "      <td>2180.0</td>\n",
       "      <td>400.0</td>\n",
       "      <td>0.455662</td>\n",
       "      <td>0.687021</td>\n",
       "      <td>0.459794</td>\n",
       "      <td>B</td>\n",
       "      <td>Cycle1</td>\n",
       "      <td>3</td>\n",
       "      <td>1</td>\n",
       "      <td>0.000001</td>\n",
       "    </tr>\n",
       "    <tr>\n",
       "      <th>2</th>\n",
       "      <td>523.0</td>\n",
       "      <td>682.0</td>\n",
       "      <td>500.0</td>\n",
       "      <td>0.463724</td>\n",
       "      <td>0.385126</td>\n",
       "      <td>0.479947</td>\n",
       "      <td>B</td>\n",
       "      <td>Cycle1</td>\n",
       "      <td>3</td>\n",
       "      <td>1</td>\n",
       "      <td>0.000001</td>\n",
       "    </tr>\n",
       "    <tr>\n",
       "      <th>3</th>\n",
       "      <td>300.0</td>\n",
       "      <td>12.0</td>\n",
       "      <td>600.0</td>\n",
       "      <td>0.418782</td>\n",
       "      <td>0.250100</td>\n",
       "      <td>0.500100</td>\n",
       "      <td>B</td>\n",
       "      <td>Cycle1</td>\n",
       "      <td>3</td>\n",
       "      <td>1</td>\n",
       "      <td>0.000001</td>\n",
       "    </tr>\n",
       "  </tbody>\n",
       "</table>"
      ],
      "text/plain": [
       "        X       Y      Z       X_r       Y_r       Z_r surface  series  id  order_series    smooth\n",
       "8   961.0  1635.0  800.0  0.551994  0.577186  0.540406       D  Cycle1   1             1  0.000001\n",
       "9  1107.0   991.0  800.0  0.581418  0.447399  0.540406       D  Cycle1   1             1  0.000001\n",
       "4   780.0  2493.0  500.0  0.515517  0.750100  0.479947       C  Cycle1   2             1  0.000001\n",
       "5   832.0  2133.0  500.0  0.525997  0.677549  0.479947       C  Cycle1   2             1  0.000001\n",
       "6   850.0   665.0  600.0  0.529624  0.381700  0.500100       C  Cycle1   2             1  0.000001\n",
       "7   952.0   192.0  600.0  0.550181  0.286376  0.500100       C  Cycle1   2             1  0.000001\n",
       "0   429.0  2482.0  400.0  0.444780  0.747883  0.459794       B  Cycle1   3             1  0.000001\n",
       "1   483.0  2180.0  400.0  0.455662  0.687021  0.459794       B  Cycle1   3             1  0.000001\n",
       "2   523.0   682.0  500.0  0.463724  0.385126  0.479947       B  Cycle1   3             1  0.000001\n",
       "3   300.0    12.0  600.0  0.418782  0.250100  0.500100       B  Cycle1   3             1  0.000001"
      ]
     },
     "execution_count": 17,
     "metadata": {},
     "output_type": "execute_result"
    }
   ],
   "source": [
    "#surface C\n",
    "geo_model.add_surface_points(X=780, Y=2493, Z=500, surface='C')\n",
    "geo_model.add_surface_points(X=832, Y=2133, Z=500, surface='C')\n",
    "geo_model.add_surface_points(X=850, Y=665, Z=600, surface='C')\n",
    "geo_model.add_surface_points(X=952, Y=192, Z=600, surface='C')\n",
    "#Surface D\n",
    "geo_model.add_surface_points(X=961, Y=1635, Z=800, surface='D')\n",
    "geo_model.add_surface_points(X=1107, Y=991, Z=800, surface='D')\n"
   ]
  },
  {
   "cell_type": "markdown",
   "metadata": {},
   "source": [
    "The minimum amount of data to interpolate anything in gempy is\n",
    "\n",
    "a) 2 surface points per surface\n",
    "b) One orientation per series.\n",
    "\n",
    "Lets add an orientation for the first cycle:"
   ]
  },
  {
   "cell_type": "code",
   "execution_count": 18,
   "metadata": {},
   "outputs": [
    {
     "data": {
      "text/html": [
       "<table border=\"1\" class=\"dataframe\">\n",
       "  <thead>\n",
       "    <tr style=\"text-align: right;\">\n",
       "      <th></th>\n",
       "      <th>X</th>\n",
       "      <th>Y</th>\n",
       "      <th>Z</th>\n",
       "      <th>X_r</th>\n",
       "      <th>Y_r</th>\n",
       "      <th>Z_r</th>\n",
       "      <th>G_x</th>\n",
       "      <th>G_y</th>\n",
       "      <th>G_z</th>\n",
       "      <th>dip</th>\n",
       "      <th>azimuth</th>\n",
       "      <th>polarity</th>\n",
       "      <th>surface</th>\n",
       "      <th>series</th>\n",
       "      <th>id</th>\n",
       "      <th>order_series</th>\n",
       "      <th>smooth</th>\n",
       "    </tr>\n",
       "  </thead>\n",
       "  <tbody>\n",
       "    <tr>\n",
       "      <th>0</th>\n",
       "      <td>429.0</td>\n",
       "      <td>2482.0</td>\n",
       "      <td>400.0</td>\n",
       "      <td>0.44478</td>\n",
       "      <td>0.747883</td>\n",
       "      <td>0.459794</td>\n",
       "      <td>0.507825</td>\n",
       "      <td>0.145617</td>\n",
       "      <td>0.849064</td>\n",
       "      <td>31.89</td>\n",
       "      <td>74.0</td>\n",
       "      <td>1.0</td>\n",
       "      <td>B</td>\n",
       "      <td>Cycle1</td>\n",
       "      <td>3</td>\n",
       "      <td>1</td>\n",
       "      <td>0.01</td>\n",
       "    </tr>\n",
       "  </tbody>\n",
       "</table>"
      ],
      "text/plain": [
       "       X       Y      Z      X_r       Y_r       Z_r       G_x       G_y       G_z    dip  azimuth  polarity surface  series  id  order_series  smooth\n",
       "0  429.0  2482.0  400.0  0.44478  0.747883  0.459794  0.507825  0.145617  0.849064  31.89     74.0       1.0       B  Cycle1   3             1    0.01"
      ]
     },
     "execution_count": 18,
     "metadata": {},
     "output_type": "execute_result"
    }
   ],
   "source": [
    "# Adding orientation\n",
    "geo_model.add_orientations(X=429, Y=2482, Z=400, surface='B', orientation = [74.0, 31.89, 1.0])\n"
   ]
  },
  {
   "cell_type": "code",
   "execution_count": 19,
   "metadata": {},
   "outputs": [],
   "source": [
    "# Plot in 2D\n",
    "map_view.plot_data(ax, direction='z')"
   ]
  },
  {
   "cell_type": "markdown",
   "metadata": {},
   "source": [
    "Now we have enough data for finally interpolate!"
   ]
  },
  {
   "cell_type": "code",
   "execution_count": 20,
   "metadata": {},
   "outputs": [
    {
     "name": "stderr",
     "output_type": "stream",
     "text": [
      "../../../gempy\\gempy\\core\\solution.py:266: UserWarning: Attribute error. Using non masked marching cubesmarching_cubes_lewiner() got an unexpected keyword argument 'mask'.\n",
      "  warnings.warn('Attribute error. Using non masked marching cubes' + str(e)+'.')\n"
     ]
    },
    {
     "data": {
      "text/plain": [
       "True"
      ]
     },
     "execution_count": 20,
     "metadata": {},
     "output_type": "execute_result"
    }
   ],
   "source": [
    "gp.compute_model(geo_model)\n",
    "#export and send model to sandbox\n",
    "geo_model.save_model_pickle(path='temp.pickle')"
   ]
  },
  {
   "cell_type": "code",
   "execution_count": 21,
   "metadata": {},
   "outputs": [
    {
     "name": "stdout",
     "output_type": "stream",
     "text": [
      "0 3\n"
     ]
    },
    {
     "data": {
      "text/plain": [
       "<matplotlib.axes._subplots.AxesSubplot at 0x19c7bd5de88>"
      ]
     },
     "execution_count": 21,
     "metadata": {},
     "output_type": "execute_result"
    }
   ],
   "source": [
    "# In 2D\n",
    "#profile_view.remove(ax2)\n",
    "profile_view.plot_contacts(ax2, direction='y', cell_number=5)\n",
    "profile_view.plot_lith(ax2, direction='y', cell_number=5)\n",
    "# In 3D\n",
    "#p3d.plot_surfaces()"
   ]
  },
  {
   "cell_type": "code",
   "execution_count": null,
   "metadata": {},
   "outputs": [],
   "source": [
    "gp.plot.plot_3D(geo_model)"
   ]
  },
  {
   "cell_type": "markdown",
   "metadata": {},
   "source": [
    "### Fault1 :\n",
    "So far the model is simply a depositional unit. GemPy allows for unconformities and faults to build complex models. This input is given by categorical data. In general:\n",
    "\n",
    "input data (surface points/ orientations) <belong to< surface <belong to< series\n",
    "\n",
    "And series can be a fault---i.e. offset the rest of surface--- or not. We are going to show how to add a fault.\n",
    "\n",
    "First we need to add a series:"
   ]
  },
  {
   "cell_type": "code",
   "execution_count": 22,
   "metadata": {},
   "outputs": [
    {
     "data": {
      "text/html": [
       "<table border=\"1\" class=\"dataframe\">\n",
       "  <thead>\n",
       "    <tr style=\"text-align: right;\">\n",
       "      <th></th>\n",
       "      <th>order_series</th>\n",
       "      <th>BottomRelation</th>\n",
       "    </tr>\n",
       "  </thead>\n",
       "  <tbody>\n",
       "    <tr>\n",
       "      <th>Cycle1</th>\n",
       "      <td>1</td>\n",
       "      <td>Erosion</td>\n",
       "    </tr>\n",
       "    <tr>\n",
       "      <th>Fault1</th>\n",
       "      <td>2</td>\n",
       "      <td>Erosion</td>\n",
       "    </tr>\n",
       "  </tbody>\n",
       "</table>"
      ],
      "text/plain": [
       "        order_series BottomRelation\n",
       "Cycle1             1        Erosion\n",
       "Fault1             2        Erosion"
      ]
     },
     "execution_count": 22,
     "metadata": {},
     "output_type": "execute_result"
    }
   ],
   "source": [
    "geo_model.add_series(['Fault1'])"
   ]
  },
  {
   "cell_type": "code",
   "execution_count": 23,
   "metadata": {},
   "outputs": [
    {
     "data": {
      "text/html": [
       "<table border=\"1\" class=\"dataframe\">\n",
       "  <thead>\n",
       "    <tr style=\"text-align: right;\">\n",
       "      <th></th>\n",
       "      <th>order_series</th>\n",
       "      <th>BottomRelation</th>\n",
       "    </tr>\n",
       "  </thead>\n",
       "  <tbody>\n",
       "    <tr>\n",
       "      <th>Fault1</th>\n",
       "      <td>1</td>\n",
       "      <td>Erosion</td>\n",
       "    </tr>\n",
       "    <tr>\n",
       "      <th>Cycle1</th>\n",
       "      <td>2</td>\n",
       "      <td>Erosion</td>\n",
       "    </tr>\n",
       "  </tbody>\n",
       "</table>"
      ],
      "text/plain": [
       "        order_series BottomRelation\n",
       "Fault1             1        Erosion\n",
       "Cycle1             2        Erosion"
      ]
     },
     "execution_count": 23,
     "metadata": {},
     "output_type": "execute_result"
    }
   ],
   "source": [
    "geo_model.modify_order_series(1, 'Fault1')"
   ]
  },
  {
   "cell_type": "code",
   "execution_count": 24,
   "metadata": {},
   "outputs": [],
   "source": [
    "#geo_model.reorder_series(['Fault1', 'Cycle1'])"
   ]
  },
  {
   "cell_type": "markdown",
   "metadata": {},
   "source": [
    "Then define that is a fault:"
   ]
  },
  {
   "cell_type": "markdown",
   "metadata": {},
   "source": [
    "But we also need to add a new surface:"
   ]
  },
  {
   "cell_type": "code",
   "execution_count": 25,
   "metadata": {},
   "outputs": [
    {
     "data": {
      "text/html": [
       "<style  type=\"text/css\" >\n",
       "    #T_0d0d38d8_3779_11ea_9bfb_0024d6f26083row0_col3 {\n",
       "            background-color:  #015482;\n",
       "        }    #T_0d0d38d8_3779_11ea_9bfb_0024d6f26083row1_col3 {\n",
       "            background-color:  #9f0052;\n",
       "        }    #T_0d0d38d8_3779_11ea_9bfb_0024d6f26083row2_col3 {\n",
       "            background-color:  #ffbe00;\n",
       "        }    #T_0d0d38d8_3779_11ea_9bfb_0024d6f26083row3_col3 {\n",
       "            background-color:  #728f02;\n",
       "        }    #T_0d0d38d8_3779_11ea_9bfb_0024d6f26083row4_col3 {\n",
       "            background-color:  #443988;\n",
       "        }</style><table id=\"T_0d0d38d8_3779_11ea_9bfb_0024d6f26083\" ><thead>    <tr>        <th class=\"blank level0\" ></th>        <th class=\"col_heading level0 col0\" >surface</th>        <th class=\"col_heading level0 col1\" >series</th>        <th class=\"col_heading level0 col2\" >order_surfaces</th>        <th class=\"col_heading level0 col3\" >color</th>        <th class=\"col_heading level0 col4\" >id</th>    </tr></thead><tbody>\n",
       "                <tr>\n",
       "                        <th id=\"T_0d0d38d8_3779_11ea_9bfb_0024d6f26083level0_row0\" class=\"row_heading level0 row0\" >0</th>\n",
       "                        <td id=\"T_0d0d38d8_3779_11ea_9bfb_0024d6f26083row0_col0\" class=\"data row0 col0\" >D</td>\n",
       "                        <td id=\"T_0d0d38d8_3779_11ea_9bfb_0024d6f26083row0_col1\" class=\"data row0 col1\" >Cycle1</td>\n",
       "                        <td id=\"T_0d0d38d8_3779_11ea_9bfb_0024d6f26083row0_col2\" class=\"data row0 col2\" >1</td>\n",
       "                        <td id=\"T_0d0d38d8_3779_11ea_9bfb_0024d6f26083row0_col3\" class=\"data row0 col3\" >#015482</td>\n",
       "                        <td id=\"T_0d0d38d8_3779_11ea_9bfb_0024d6f26083row0_col4\" class=\"data row0 col4\" >1</td>\n",
       "            </tr>\n",
       "            <tr>\n",
       "                        <th id=\"T_0d0d38d8_3779_11ea_9bfb_0024d6f26083level0_row1\" class=\"row_heading level0 row1\" >1</th>\n",
       "                        <td id=\"T_0d0d38d8_3779_11ea_9bfb_0024d6f26083row1_col0\" class=\"data row1 col0\" >C</td>\n",
       "                        <td id=\"T_0d0d38d8_3779_11ea_9bfb_0024d6f26083row1_col1\" class=\"data row1 col1\" >Cycle1</td>\n",
       "                        <td id=\"T_0d0d38d8_3779_11ea_9bfb_0024d6f26083row1_col2\" class=\"data row1 col2\" >2</td>\n",
       "                        <td id=\"T_0d0d38d8_3779_11ea_9bfb_0024d6f26083row1_col3\" class=\"data row1 col3\" >#9f0052</td>\n",
       "                        <td id=\"T_0d0d38d8_3779_11ea_9bfb_0024d6f26083row1_col4\" class=\"data row1 col4\" >2</td>\n",
       "            </tr>\n",
       "            <tr>\n",
       "                        <th id=\"T_0d0d38d8_3779_11ea_9bfb_0024d6f26083level0_row2\" class=\"row_heading level0 row2\" >2</th>\n",
       "                        <td id=\"T_0d0d38d8_3779_11ea_9bfb_0024d6f26083row2_col0\" class=\"data row2 col0\" >B</td>\n",
       "                        <td id=\"T_0d0d38d8_3779_11ea_9bfb_0024d6f26083row2_col1\" class=\"data row2 col1\" >Cycle1</td>\n",
       "                        <td id=\"T_0d0d38d8_3779_11ea_9bfb_0024d6f26083row2_col2\" class=\"data row2 col2\" >3</td>\n",
       "                        <td id=\"T_0d0d38d8_3779_11ea_9bfb_0024d6f26083row2_col3\" class=\"data row2 col3\" >#ffbe00</td>\n",
       "                        <td id=\"T_0d0d38d8_3779_11ea_9bfb_0024d6f26083row2_col4\" class=\"data row2 col4\" >3</td>\n",
       "            </tr>\n",
       "            <tr>\n",
       "                        <th id=\"T_0d0d38d8_3779_11ea_9bfb_0024d6f26083level0_row3\" class=\"row_heading level0 row3\" >3</th>\n",
       "                        <td id=\"T_0d0d38d8_3779_11ea_9bfb_0024d6f26083row3_col0\" class=\"data row3 col0\" >A</td>\n",
       "                        <td id=\"T_0d0d38d8_3779_11ea_9bfb_0024d6f26083row3_col1\" class=\"data row3 col1\" >Cycle1</td>\n",
       "                        <td id=\"T_0d0d38d8_3779_11ea_9bfb_0024d6f26083row3_col2\" class=\"data row3 col2\" >4</td>\n",
       "                        <td id=\"T_0d0d38d8_3779_11ea_9bfb_0024d6f26083row3_col3\" class=\"data row3 col3\" >#728f02</td>\n",
       "                        <td id=\"T_0d0d38d8_3779_11ea_9bfb_0024d6f26083row3_col4\" class=\"data row3 col4\" >4</td>\n",
       "            </tr>\n",
       "            <tr>\n",
       "                        <th id=\"T_0d0d38d8_3779_11ea_9bfb_0024d6f26083level0_row4\" class=\"row_heading level0 row4\" >4</th>\n",
       "                        <td id=\"T_0d0d38d8_3779_11ea_9bfb_0024d6f26083row4_col0\" class=\"data row4 col0\" >F1</td>\n",
       "                        <td id=\"T_0d0d38d8_3779_11ea_9bfb_0024d6f26083row4_col1\" class=\"data row4 col1\" >Cycle1</td>\n",
       "                        <td id=\"T_0d0d38d8_3779_11ea_9bfb_0024d6f26083row4_col2\" class=\"data row4 col2\" >5</td>\n",
       "                        <td id=\"T_0d0d38d8_3779_11ea_9bfb_0024d6f26083row4_col3\" class=\"data row4 col3\" >#443988</td>\n",
       "                        <td id=\"T_0d0d38d8_3779_11ea_9bfb_0024d6f26083row4_col4\" class=\"data row4 col4\" >5</td>\n",
       "            </tr>\n",
       "    </tbody></table>"
      ],
      "text/plain": [
       "  surface  series  order_surfaces    color  id\n",
       "0       D  Cycle1               1  #015482   1\n",
       "1       C  Cycle1               2  #9f0052   2\n",
       "2       B  Cycle1               3  #ffbe00   3\n",
       "3       A  Cycle1               4  #728f02   4\n",
       "4      F1  Cycle1               5  #443988   5"
      ]
     },
     "execution_count": 25,
     "metadata": {},
     "output_type": "execute_result"
    }
   ],
   "source": [
    "geo_model.add_surfaces(['F1'])"
   ]
  },
  {
   "cell_type": "markdown",
   "metadata": {},
   "source": [
    "And finally assign the new surface to the new series/fault"
   ]
  },
  {
   "cell_type": "code",
   "execution_count": 26,
   "metadata": {},
   "outputs": [
    {
     "data": {
      "text/html": [
       "<style  type=\"text/css\" >\n",
       "    #T_117f8936_3779_11ea_ac55_0024d6f26083row0_col3 {\n",
       "            background-color:  #443988;\n",
       "        }    #T_117f8936_3779_11ea_ac55_0024d6f26083row1_col3 {\n",
       "            background-color:  #015482;\n",
       "        }    #T_117f8936_3779_11ea_ac55_0024d6f26083row2_col3 {\n",
       "            background-color:  #9f0052;\n",
       "        }    #T_117f8936_3779_11ea_ac55_0024d6f26083row3_col3 {\n",
       "            background-color:  #ffbe00;\n",
       "        }    #T_117f8936_3779_11ea_ac55_0024d6f26083row4_col3 {\n",
       "            background-color:  #728f02;\n",
       "        }</style><table id=\"T_117f8936_3779_11ea_ac55_0024d6f26083\" ><thead>    <tr>        <th class=\"blank level0\" ></th>        <th class=\"col_heading level0 col0\" >surface</th>        <th class=\"col_heading level0 col1\" >series</th>        <th class=\"col_heading level0 col2\" >order_surfaces</th>        <th class=\"col_heading level0 col3\" >color</th>        <th class=\"col_heading level0 col4\" >id</th>    </tr></thead><tbody>\n",
       "                <tr>\n",
       "                        <th id=\"T_117f8936_3779_11ea_ac55_0024d6f26083level0_row0\" class=\"row_heading level0 row0\" >4</th>\n",
       "                        <td id=\"T_117f8936_3779_11ea_ac55_0024d6f26083row0_col0\" class=\"data row0 col0\" >F1</td>\n",
       "                        <td id=\"T_117f8936_3779_11ea_ac55_0024d6f26083row0_col1\" class=\"data row0 col1\" >Fault1</td>\n",
       "                        <td id=\"T_117f8936_3779_11ea_ac55_0024d6f26083row0_col2\" class=\"data row0 col2\" >1</td>\n",
       "                        <td id=\"T_117f8936_3779_11ea_ac55_0024d6f26083row0_col3\" class=\"data row0 col3\" >#443988</td>\n",
       "                        <td id=\"T_117f8936_3779_11ea_ac55_0024d6f26083row0_col4\" class=\"data row0 col4\" >1</td>\n",
       "            </tr>\n",
       "            <tr>\n",
       "                        <th id=\"T_117f8936_3779_11ea_ac55_0024d6f26083level0_row1\" class=\"row_heading level0 row1\" >0</th>\n",
       "                        <td id=\"T_117f8936_3779_11ea_ac55_0024d6f26083row1_col0\" class=\"data row1 col0\" >D</td>\n",
       "                        <td id=\"T_117f8936_3779_11ea_ac55_0024d6f26083row1_col1\" class=\"data row1 col1\" >Cycle1</td>\n",
       "                        <td id=\"T_117f8936_3779_11ea_ac55_0024d6f26083row1_col2\" class=\"data row1 col2\" >1</td>\n",
       "                        <td id=\"T_117f8936_3779_11ea_ac55_0024d6f26083row1_col3\" class=\"data row1 col3\" >#015482</td>\n",
       "                        <td id=\"T_117f8936_3779_11ea_ac55_0024d6f26083row1_col4\" class=\"data row1 col4\" >2</td>\n",
       "            </tr>\n",
       "            <tr>\n",
       "                        <th id=\"T_117f8936_3779_11ea_ac55_0024d6f26083level0_row2\" class=\"row_heading level0 row2\" >1</th>\n",
       "                        <td id=\"T_117f8936_3779_11ea_ac55_0024d6f26083row2_col0\" class=\"data row2 col0\" >C</td>\n",
       "                        <td id=\"T_117f8936_3779_11ea_ac55_0024d6f26083row2_col1\" class=\"data row2 col1\" >Cycle1</td>\n",
       "                        <td id=\"T_117f8936_3779_11ea_ac55_0024d6f26083row2_col2\" class=\"data row2 col2\" >2</td>\n",
       "                        <td id=\"T_117f8936_3779_11ea_ac55_0024d6f26083row2_col3\" class=\"data row2 col3\" >#9f0052</td>\n",
       "                        <td id=\"T_117f8936_3779_11ea_ac55_0024d6f26083row2_col4\" class=\"data row2 col4\" >3</td>\n",
       "            </tr>\n",
       "            <tr>\n",
       "                        <th id=\"T_117f8936_3779_11ea_ac55_0024d6f26083level0_row3\" class=\"row_heading level0 row3\" >2</th>\n",
       "                        <td id=\"T_117f8936_3779_11ea_ac55_0024d6f26083row3_col0\" class=\"data row3 col0\" >B</td>\n",
       "                        <td id=\"T_117f8936_3779_11ea_ac55_0024d6f26083row3_col1\" class=\"data row3 col1\" >Cycle1</td>\n",
       "                        <td id=\"T_117f8936_3779_11ea_ac55_0024d6f26083row3_col2\" class=\"data row3 col2\" >3</td>\n",
       "                        <td id=\"T_117f8936_3779_11ea_ac55_0024d6f26083row3_col3\" class=\"data row3 col3\" >#ffbe00</td>\n",
       "                        <td id=\"T_117f8936_3779_11ea_ac55_0024d6f26083row3_col4\" class=\"data row3 col4\" >4</td>\n",
       "            </tr>\n",
       "            <tr>\n",
       "                        <th id=\"T_117f8936_3779_11ea_ac55_0024d6f26083level0_row4\" class=\"row_heading level0 row4\" >3</th>\n",
       "                        <td id=\"T_117f8936_3779_11ea_ac55_0024d6f26083row4_col0\" class=\"data row4 col0\" >A</td>\n",
       "                        <td id=\"T_117f8936_3779_11ea_ac55_0024d6f26083row4_col1\" class=\"data row4 col1\" >Cycle1</td>\n",
       "                        <td id=\"T_117f8936_3779_11ea_ac55_0024d6f26083row4_col2\" class=\"data row4 col2\" >4</td>\n",
       "                        <td id=\"T_117f8936_3779_11ea_ac55_0024d6f26083row4_col3\" class=\"data row4 col3\" >#728f02</td>\n",
       "                        <td id=\"T_117f8936_3779_11ea_ac55_0024d6f26083row4_col4\" class=\"data row4 col4\" >5</td>\n",
       "            </tr>\n",
       "    </tbody></table>"
      ],
      "text/plain": [
       "  surface  series  order_surfaces    color  id\n",
       "4      F1  Fault1               1  #443988   1\n",
       "0       D  Cycle1               1  #015482   2\n",
       "1       C  Cycle1               2  #9f0052   3\n",
       "2       B  Cycle1               3  #ffbe00   4\n",
       "3       A  Cycle1               4  #728f02   5"
      ]
     },
     "execution_count": 26,
     "metadata": {},
     "output_type": "execute_result"
    }
   ],
   "source": [
    "gp.map_series_to_surfaces(geo_model, {'Fault1':'F1'})"
   ]
  },
  {
   "cell_type": "code",
   "execution_count": 27,
   "metadata": {},
   "outputs": [
    {
     "name": "stdout",
     "output_type": "stream",
     "text": [
      "Fault colors changed. If you do not like this behavior, set change_color to False.\n"
     ]
    },
    {
     "data": {
      "text/html": [
       "<table border=\"1\" class=\"dataframe\">\n",
       "  <thead>\n",
       "    <tr style=\"text-align: right;\">\n",
       "      <th></th>\n",
       "      <th>isFault</th>\n",
       "      <th>isFinite</th>\n",
       "    </tr>\n",
       "  </thead>\n",
       "  <tbody>\n",
       "    <tr>\n",
       "      <th>Fault1</th>\n",
       "      <td>True</td>\n",
       "      <td>False</td>\n",
       "    </tr>\n",
       "    <tr>\n",
       "      <th>Cycle1</th>\n",
       "      <td>False</td>\n",
       "      <td>False</td>\n",
       "    </tr>\n",
       "  </tbody>\n",
       "</table>"
      ],
      "text/plain": [
       "        isFault  isFinite\n",
       "Fault1     True     False\n",
       "Cycle1    False     False"
      ]
     },
     "execution_count": 27,
     "metadata": {},
     "output_type": "execute_result"
    }
   ],
   "source": [
    "geo_model.set_is_fault('Fault1')"
   ]
  },
  {
   "cell_type": "markdown",
   "metadata": {},
   "source": [
    "Now we can just add input data as before (remember the minimum amount of input data to compute a model):"
   ]
  },
  {
   "cell_type": "code",
   "execution_count": 29,
   "metadata": {},
   "outputs": [
    {
     "data": {
      "text/html": [
       "<table border=\"1\" class=\"dataframe\">\n",
       "  <thead>\n",
       "    <tr style=\"text-align: right;\">\n",
       "      <th></th>\n",
       "      <th>X</th>\n",
       "      <th>Y</th>\n",
       "      <th>Z</th>\n",
       "      <th>X_r</th>\n",
       "      <th>Y_r</th>\n",
       "      <th>Z_r</th>\n",
       "      <th>G_x</th>\n",
       "      <th>G_y</th>\n",
       "      <th>G_z</th>\n",
       "      <th>dip</th>\n",
       "      <th>azimuth</th>\n",
       "      <th>polarity</th>\n",
       "      <th>surface</th>\n",
       "      <th>series</th>\n",
       "      <th>id</th>\n",
       "      <th>order_series</th>\n",
       "      <th>smooth</th>\n",
       "    </tr>\n",
       "  </thead>\n",
       "  <tbody>\n",
       "    <tr>\n",
       "      <th>1</th>\n",
       "      <td>1250.0</td>\n",
       "      <td>1864.0</td>\n",
       "      <td>700.0</td>\n",
       "      <td>0.595828</td>\n",
       "      <td>0.623337</td>\n",
       "      <td>0.520253</td>\n",
       "      <td>0.999391</td>\n",
       "      <td>-0.034899</td>\n",
       "      <td>1.000061e-12</td>\n",
       "      <td>90.00</td>\n",
       "      <td>92.0</td>\n",
       "      <td>1.0</td>\n",
       "      <td>F1</td>\n",
       "      <td>Fault1</td>\n",
       "      <td>1</td>\n",
       "      <td>1</td>\n",
       "      <td>0.01</td>\n",
       "    </tr>\n",
       "    <tr>\n",
       "      <th>0</th>\n",
       "      <td>429.0</td>\n",
       "      <td>2482.0</td>\n",
       "      <td>400.0</td>\n",
       "      <td>0.430370</td>\n",
       "      <td>0.747883</td>\n",
       "      <td>0.459794</td>\n",
       "      <td>0.507825</td>\n",
       "      <td>0.145617</td>\n",
       "      <td>8.490639e-01</td>\n",
       "      <td>31.89</td>\n",
       "      <td>74.0</td>\n",
       "      <td>1.0</td>\n",
       "      <td>B</td>\n",
       "      <td>Cycle1</td>\n",
       "      <td>4</td>\n",
       "      <td>2</td>\n",
       "      <td>0.01</td>\n",
       "    </tr>\n",
       "  </tbody>\n",
       "</table>"
      ],
      "text/plain": [
       "        X       Y      Z       X_r       Y_r       Z_r       G_x       G_y           G_z    dip  azimuth  polarity surface  series  id  order_series  smooth\n",
       "1  1250.0  1864.0  700.0  0.595828  0.623337  0.520253  0.999391 -0.034899  1.000061e-12  90.00     92.0       1.0      F1  Fault1   1             1    0.01\n",
       "0   429.0  2482.0  400.0  0.430370  0.747883  0.459794  0.507825  0.145617  8.490639e-01  31.89     74.0       1.0       B  Cycle1   4             2    0.01"
      ]
     },
     "execution_count": 29,
     "metadata": {},
     "output_type": "execute_result"
    }
   ],
   "source": [
    "# Add input data of the fault\n",
    "geo_model.add_surface_points(X=1213, Y=309, Z=500, surface='F1')\n",
    "geo_model.add_surface_points(X=1250, Y=1864, Z=700, surface='F1')\n",
    "\n",
    "#Add orientation\n",
    "geo_model.add_orientations(X=1250, Y=1864, Z=700, surface='F1', orientation = [92.0, 90.0, 1.0])"
   ]
  },
  {
   "cell_type": "code",
   "execution_count": 31,
   "metadata": {},
   "outputs": [
    {
     "data": {
      "text/plain": [
       "<matplotlib.axes._subplots.AxesSubplot at 0x19c7bd5de88>"
      ]
     },
     "execution_count": 31,
     "metadata": {},
     "output_type": "execute_result"
    }
   ],
   "source": [
    "# Compute\n",
    "gp.compute_model(geo_model)\n",
    "\n",
    "# Plot\n",
    "map_view.plot_data(ax, direction='z')\n",
    "\n",
    "profile_view.remove(ax2)\n",
    "profile_view.plot_lith(ax2, cell_number=5)\n",
    "#p3d.plot_structured_grid(opacity=.2, annotations = {2: 'surface1', 3:'surface2', 4:'surface3', 5:'basement'})"
   ]
  },
  {
   "cell_type": "markdown",
   "metadata": {},
   "source": [
    "As you can see now instead of having dipping layers we have a sharp jump. But there is no information on the other side of the fault. That is because we now are going to add the information on the afected block. "
   ]
  },
  {
   "cell_type": "code",
   "execution_count": 32,
   "metadata": {
    "scrolled": true
   },
   "outputs": [
    {
     "data": {
      "text/html": [
       "<table border=\"1\" class=\"dataframe\">\n",
       "  <thead>\n",
       "    <tr style=\"text-align: right;\">\n",
       "      <th></th>\n",
       "      <th>X</th>\n",
       "      <th>Y</th>\n",
       "      <th>Z</th>\n",
       "      <th>X_r</th>\n",
       "      <th>Y_r</th>\n",
       "      <th>Z_r</th>\n",
       "      <th>surface</th>\n",
       "      <th>series</th>\n",
       "      <th>id</th>\n",
       "      <th>order_series</th>\n",
       "      <th>smooth</th>\n",
       "    </tr>\n",
       "  </thead>\n",
       "  <tbody>\n",
       "    <tr>\n",
       "      <th>10</th>\n",
       "      <td>1213.0</td>\n",
       "      <td>309.0</td>\n",
       "      <td>500.0</td>\n",
       "      <td>0.426355</td>\n",
       "      <td>0.311490</td>\n",
       "      <td>0.480795</td>\n",
       "      <td>F1</td>\n",
       "      <td>Fault1</td>\n",
       "      <td>1</td>\n",
       "      <td>1</td>\n",
       "      <td>0.000001</td>\n",
       "    </tr>\n",
       "    <tr>\n",
       "      <th>11</th>\n",
       "      <td>1250.0</td>\n",
       "      <td>1864.0</td>\n",
       "      <td>700.0</td>\n",
       "      <td>0.433498</td>\n",
       "      <td>0.611683</td>\n",
       "      <td>0.519405</td>\n",
       "      <td>F1</td>\n",
       "      <td>Fault1</td>\n",
       "      <td>1</td>\n",
       "      <td>1</td>\n",
       "      <td>0.000001</td>\n",
       "    </tr>\n",
       "    <tr>\n",
       "      <th>8</th>\n",
       "      <td>961.0</td>\n",
       "      <td>1635.0</td>\n",
       "      <td>800.0</td>\n",
       "      <td>0.377706</td>\n",
       "      <td>0.567475</td>\n",
       "      <td>0.538710</td>\n",
       "      <td>D</td>\n",
       "      <td>Cycle1</td>\n",
       "      <td>2</td>\n",
       "      <td>2</td>\n",
       "      <td>0.000001</td>\n",
       "    </tr>\n",
       "    <tr>\n",
       "      <th>9</th>\n",
       "      <td>1107.0</td>\n",
       "      <td>991.0</td>\n",
       "      <td>800.0</td>\n",
       "      <td>0.405892</td>\n",
       "      <td>0.443150</td>\n",
       "      <td>0.538710</td>\n",
       "      <td>D</td>\n",
       "      <td>Cycle1</td>\n",
       "      <td>2</td>\n",
       "      <td>2</td>\n",
       "      <td>0.000001</td>\n",
       "    </tr>\n",
       "    <tr>\n",
       "      <th>16</th>\n",
       "      <td>2810.0</td>\n",
       "      <td>2560.0</td>\n",
       "      <td>600.0</td>\n",
       "      <td>0.734656</td>\n",
       "      <td>0.746046</td>\n",
       "      <td>0.500100</td>\n",
       "      <td>D</td>\n",
       "      <td>Cycle1</td>\n",
       "      <td>2</td>\n",
       "      <td>2</td>\n",
       "      <td>0.000001</td>\n",
       "    </tr>\n",
       "    <tr>\n",
       "      <th>17</th>\n",
       "      <td>2890.0</td>\n",
       "      <td>860.0</td>\n",
       "      <td>700.0</td>\n",
       "      <td>0.750100</td>\n",
       "      <td>0.417861</td>\n",
       "      <td>0.519405</td>\n",
       "      <td>D</td>\n",
       "      <td>Cycle1</td>\n",
       "      <td>2</td>\n",
       "      <td>2</td>\n",
       "      <td>0.000001</td>\n",
       "    </tr>\n",
       "    <tr>\n",
       "      <th>4</th>\n",
       "      <td>780.0</td>\n",
       "      <td>2493.0</td>\n",
       "      <td>500.0</td>\n",
       "      <td>0.342764</td>\n",
       "      <td>0.733112</td>\n",
       "      <td>0.480795</td>\n",
       "      <td>C</td>\n",
       "      <td>Cycle1</td>\n",
       "      <td>3</td>\n",
       "      <td>2</td>\n",
       "      <td>0.000001</td>\n",
       "    </tr>\n",
       "    <tr>\n",
       "      <th>5</th>\n",
       "      <td>832.0</td>\n",
       "      <td>2133.0</td>\n",
       "      <td>500.0</td>\n",
       "      <td>0.352803</td>\n",
       "      <td>0.663614</td>\n",
       "      <td>0.480795</td>\n",
       "      <td>C</td>\n",
       "      <td>Cycle1</td>\n",
       "      <td>3</td>\n",
       "      <td>2</td>\n",
       "      <td>0.000001</td>\n",
       "    </tr>\n",
       "    <tr>\n",
       "      <th>6</th>\n",
       "      <td>850.0</td>\n",
       "      <td>665.0</td>\n",
       "      <td>600.0</td>\n",
       "      <td>0.356278</td>\n",
       "      <td>0.380216</td>\n",
       "      <td>0.500100</td>\n",
       "      <td>C</td>\n",
       "      <td>Cycle1</td>\n",
       "      <td>3</td>\n",
       "      <td>2</td>\n",
       "      <td>0.000001</td>\n",
       "    </tr>\n",
       "    <tr>\n",
       "      <th>7</th>\n",
       "      <td>952.0</td>\n",
       "      <td>192.0</td>\n",
       "      <td>600.0</td>\n",
       "      <td>0.375969</td>\n",
       "      <td>0.288903</td>\n",
       "      <td>0.500100</td>\n",
       "      <td>C</td>\n",
       "      <td>Cycle1</td>\n",
       "      <td>3</td>\n",
       "      <td>2</td>\n",
       "      <td>0.000001</td>\n",
       "    </tr>\n",
       "    <tr>\n",
       "      <th>14</th>\n",
       "      <td>1890.0</td>\n",
       "      <td>2076.0</td>\n",
       "      <td>600.0</td>\n",
       "      <td>0.557050</td>\n",
       "      <td>0.652610</td>\n",
       "      <td>0.500100</td>\n",
       "      <td>C</td>\n",
       "      <td>Cycle1</td>\n",
       "      <td>3</td>\n",
       "      <td>2</td>\n",
       "      <td>0.000001</td>\n",
       "    </tr>\n",
       "    <tr>\n",
       "      <th>15</th>\n",
       "      <td>2010.0</td>\n",
       "      <td>155.0</td>\n",
       "      <td>700.0</td>\n",
       "      <td>0.580216</td>\n",
       "      <td>0.281760</td>\n",
       "      <td>0.519405</td>\n",
       "      <td>C</td>\n",
       "      <td>Cycle1</td>\n",
       "      <td>3</td>\n",
       "      <td>2</td>\n",
       "      <td>0.000001</td>\n",
       "    </tr>\n",
       "    <tr>\n",
       "      <th>0</th>\n",
       "      <td>429.0</td>\n",
       "      <td>2482.0</td>\n",
       "      <td>400.0</td>\n",
       "      <td>0.275003</td>\n",
       "      <td>0.730988</td>\n",
       "      <td>0.461490</td>\n",
       "      <td>B</td>\n",
       "      <td>Cycle1</td>\n",
       "      <td>4</td>\n",
       "      <td>2</td>\n",
       "      <td>0.000001</td>\n",
       "    </tr>\n",
       "    <tr>\n",
       "      <th>1</th>\n",
       "      <td>483.0</td>\n",
       "      <td>2180.0</td>\n",
       "      <td>400.0</td>\n",
       "      <td>0.285428</td>\n",
       "      <td>0.672687</td>\n",
       "      <td>0.461490</td>\n",
       "      <td>B</td>\n",
       "      <td>Cycle1</td>\n",
       "      <td>4</td>\n",
       "      <td>2</td>\n",
       "      <td>0.000001</td>\n",
       "    </tr>\n",
       "    <tr>\n",
       "      <th>2</th>\n",
       "      <td>523.0</td>\n",
       "      <td>682.0</td>\n",
       "      <td>500.0</td>\n",
       "      <td>0.293150</td>\n",
       "      <td>0.383498</td>\n",
       "      <td>0.480795</td>\n",
       "      <td>B</td>\n",
       "      <td>Cycle1</td>\n",
       "      <td>4</td>\n",
       "      <td>2</td>\n",
       "      <td>0.000001</td>\n",
       "    </tr>\n",
       "    <tr>\n",
       "      <th>3</th>\n",
       "      <td>300.0</td>\n",
       "      <td>12.0</td>\n",
       "      <td>600.0</td>\n",
       "      <td>0.250100</td>\n",
       "      <td>0.254154</td>\n",
       "      <td>0.500100</td>\n",
       "      <td>B</td>\n",
       "      <td>Cycle1</td>\n",
       "      <td>4</td>\n",
       "      <td>2</td>\n",
       "      <td>0.000001</td>\n",
       "    </tr>\n",
       "    <tr>\n",
       "      <th>12</th>\n",
       "      <td>1450.0</td>\n",
       "      <td>2550.0</td>\n",
       "      <td>500.0</td>\n",
       "      <td>0.472108</td>\n",
       "      <td>0.744115</td>\n",
       "      <td>0.480795</td>\n",
       "      <td>B</td>\n",
       "      <td>Cycle1</td>\n",
       "      <td>4</td>\n",
       "      <td>2</td>\n",
       "      <td>0.000001</td>\n",
       "    </tr>\n",
       "    <tr>\n",
       "      <th>13</th>\n",
       "      <td>1640.0</td>\n",
       "      <td>270.0</td>\n",
       "      <td>600.0</td>\n",
       "      <td>0.508787</td>\n",
       "      <td>0.303961</td>\n",
       "      <td>0.500100</td>\n",
       "      <td>B</td>\n",
       "      <td>Cycle1</td>\n",
       "      <td>4</td>\n",
       "      <td>2</td>\n",
       "      <td>0.000001</td>\n",
       "    </tr>\n",
       "  </tbody>\n",
       "</table>"
      ],
      "text/plain": [
       "         X       Y      Z       X_r       Y_r       Z_r surface  series  id  order_series    smooth\n",
       "10  1213.0   309.0  500.0  0.426355  0.311490  0.480795      F1  Fault1   1             1  0.000001\n",
       "11  1250.0  1864.0  700.0  0.433498  0.611683  0.519405      F1  Fault1   1             1  0.000001\n",
       "8    961.0  1635.0  800.0  0.377706  0.567475  0.538710       D  Cycle1   2             2  0.000001\n",
       "9   1107.0   991.0  800.0  0.405892  0.443150  0.538710       D  Cycle1   2             2  0.000001\n",
       "16  2810.0  2560.0  600.0  0.734656  0.746046  0.500100       D  Cycle1   2             2  0.000001\n",
       "17  2890.0   860.0  700.0  0.750100  0.417861  0.519405       D  Cycle1   2             2  0.000001\n",
       "4    780.0  2493.0  500.0  0.342764  0.733112  0.480795       C  Cycle1   3             2  0.000001\n",
       "5    832.0  2133.0  500.0  0.352803  0.663614  0.480795       C  Cycle1   3             2  0.000001\n",
       "6    850.0   665.0  600.0  0.356278  0.380216  0.500100       C  Cycle1   3             2  0.000001\n",
       "7    952.0   192.0  600.0  0.375969  0.288903  0.500100       C  Cycle1   3             2  0.000001\n",
       "14  1890.0  2076.0  600.0  0.557050  0.652610  0.500100       C  Cycle1   3             2  0.000001\n",
       "15  2010.0   155.0  700.0  0.580216  0.281760  0.519405       C  Cycle1   3             2  0.000001\n",
       "0    429.0  2482.0  400.0  0.275003  0.730988  0.461490       B  Cycle1   4             2  0.000001\n",
       "1    483.0  2180.0  400.0  0.285428  0.672687  0.461490       B  Cycle1   4             2  0.000001\n",
       "2    523.0   682.0  500.0  0.293150  0.383498  0.480795       B  Cycle1   4             2  0.000001\n",
       "3    300.0    12.0  600.0  0.250100  0.254154  0.500100       B  Cycle1   4             2  0.000001\n",
       "12  1450.0  2550.0  500.0  0.472108  0.744115  0.480795       B  Cycle1   4             2  0.000001\n",
       "13  1640.0   270.0  600.0  0.508787  0.303961  0.500100       B  Cycle1   4             2  0.000001"
      ]
     },
     "execution_count": 32,
     "metadata": {},
     "output_type": "execute_result"
    }
   ],
   "source": [
    "#surface B\n",
    "geo_model.add_surface_points(X=1450, Y=2550, Z=500, surface='B')\n",
    "geo_model.add_surface_points(X=1640, Y=270, Z=600, surface='B')\n",
    "\n",
    "#surface C\n",
    "geo_model.add_surface_points(X=1890, Y=2076, Z=600, surface='C')\n",
    "geo_model.add_surface_points(X=2010, Y=155, Z=700, surface='C')\n",
    "#Surface D\n",
    "geo_model.add_surface_points(X=2810, Y=2560, Z=600, surface='D')\n",
    "geo_model.add_surface_points(X=2890, Y=860, Z=700, surface='D')\n"
   ]
  },
  {
   "cell_type": "code",
   "execution_count": 33,
   "metadata": {},
   "outputs": [
    {
     "data": {
      "text/plain": [
       "<matplotlib.axes._subplots.AxesSubplot at 0x19c7bd5de88>"
      ]
     },
     "execution_count": 33,
     "metadata": {},
     "output_type": "execute_result"
    }
   ],
   "source": [
    "# Compute\n",
    "gp.compute_model(geo_model)\n",
    "#export and send model to sandbox\n",
    "geo_model.save_model_pickle(path='temp.pickle')\n",
    "\n",
    "# Plot\n",
    "map_view.plot_data(ax, direction='z', cell_number=11)\n",
    "\n",
    "profile_view.remove(ax2)\n",
    "profile_view.plot_lith(ax2, cell_number=5)\n"
   ]
  },
  {
   "cell_type": "markdown",
   "metadata": {},
   "source": [
    "Now all the first sequence is complete, with the deposition of some sedimentary layes and its posterior faulting"
   ]
  },
  {
   "cell_type": "markdown",
   "metadata": {},
   "source": [
    "## Iteractive DataFrame"
   ]
  },
  {
   "cell_type": "markdown",
   "metadata": {},
   "source": [
    "### Activating Qgrid\n",
    "\n",
    "Qgrid is only a gempy dependency. Therefore to use it, first we need to activate it in a given model by using:"
   ]
  },
  {
   "cell_type": "code",
   "execution_count": null,
   "metadata": {},
   "outputs": [],
   "source": [
    "gp.activate_interactive_df(geo_model)"
   ]
  },
  {
   "cell_type": "markdown",
   "metadata": {},
   "source": [
    "This will create the interactive dataframes objects. This dataframes are tightly linked to the main dataframes of each data class."
   ]
  },
  {
   "cell_type": "markdown",
   "metadata": {},
   "source": [
    "#### Series"
   ]
  },
  {
   "cell_type": "code",
   "execution_count": null,
   "metadata": {},
   "outputs": [],
   "source": [
    "geo_model.qi.qgrid_se"
   ]
  },
  {
   "cell_type": "markdown",
   "metadata": {},
   "source": [
    "#### Faults"
   ]
  },
  {
   "cell_type": "code",
   "execution_count": null,
   "metadata": {},
   "outputs": [],
   "source": [
    "geo_model.qi.qgrid_fa"
   ]
  },
  {
   "cell_type": "markdown",
   "metadata": {},
   "source": [
    "#### surfaces"
   ]
  },
  {
   "cell_type": "code",
   "execution_count": null,
   "metadata": {},
   "outputs": [],
   "source": [
    "geo_model.qi.qgrid_fo"
   ]
  },
  {
   "cell_type": "markdown",
   "metadata": {},
   "source": [
    "#### surface points"
   ]
  },
  {
   "cell_type": "code",
   "execution_count": null,
   "metadata": {},
   "outputs": [],
   "source": [
    "geo_model.qi.qgrid_in"
   ]
  },
  {
   "cell_type": "markdown",
   "metadata": {},
   "source": [
    "#### Orientations"
   ]
  },
  {
   "cell_type": "code",
   "execution_count": null,
   "metadata": {},
   "outputs": [],
   "source": [
    "geo_model.qi.qgrid_or"
   ]
  },
  {
   "cell_type": "markdown",
   "metadata": {},
   "source": [
    "Remember we are always changing the main df as well!"
   ]
  },
  {
   "cell_type": "markdown",
   "metadata": {},
   "source": [
    "### Plot"
   ]
  },
  {
   "cell_type": "code",
   "execution_count": 34,
   "metadata": {},
   "outputs": [
    {
     "name": "stdout",
     "output_type": "stream",
     "text": [
      "holding... Use vtk.resume to go back to the interactive window\n"
     ]
    },
    {
     "data": {
      "text/plain": [
       "<gempy.plot.visualization_3d.GemPyvtkInteract at 0x19c08bbb748>"
      ]
     },
     "execution_count": 34,
     "metadata": {},
     "output_type": "execute_result"
    }
   ],
   "source": [
    "# Compute\n",
    "gp.compute_model(geo_model)\n",
    "\n",
    "# Plot\n",
    "gp.plot.plot_3D(geo_model)\n"
   ]
  },
  {
   "cell_type": "markdown",
   "metadata": {},
   "source": [
    "### Sandbox "
   ]
  },
  {
   "cell_type": "code",
   "execution_count": null,
   "metadata": {},
   "outputs": [],
   "source": [
    "#export and send model to sandbox\n",
    "geo_model.save_model_pickle(path='temp.pickle')"
   ]
  }
 ],
 "metadata": {
  "kernelspec": {
   "display_name": "Python 3",
   "language": "python",
   "name": "python3"
  },
  "language_info": {
   "codemirror_mode": {
    "name": "ipython",
    "version": 3
   },
   "file_extension": ".py",
   "mimetype": "text/x-python",
   "name": "python",
   "nbconvert_exporter": "python",
   "pygments_lexer": "ipython3",
   "version": "3.7.4"
  }
 },
 "nbformat": 4,
 "nbformat_minor": 2
}
