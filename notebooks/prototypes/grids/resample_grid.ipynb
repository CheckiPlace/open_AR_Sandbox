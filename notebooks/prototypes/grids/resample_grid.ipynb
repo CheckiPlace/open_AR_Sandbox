{
 "cells": [
  {
   "cell_type": "markdown",
   "metadata": {},
   "source": [
    "# Import irregularly gridded reservoir models and resample them regularly with nearest neighbour"
   ]
  },
  {
   "cell_type": "code",
   "execution_count": 52,
   "metadata": {},
   "outputs": [],
   "source": [
    "import numpy as np\n",
    "import pandas as pd\n",
    "import scipy.spatial\n",
    "from tqdm.auto import tqdm\n",
    "\n",
    "from annoy import AnnoyIndex\n",
    "import random"
   ]
  },
  {
   "cell_type": "markdown",
   "metadata": {},
   "source": [
    "### Create artificial, irregular model"
   ]
  },
  {
   "cell_type": "code",
   "execution_count": 53,
   "metadata": {},
   "outputs": [],
   "source": [
    "# size of dataset\n",
    "size = 100\n",
    "#size = 120*166*105"
   ]
  },
  {
   "cell_type": "code",
   "execution_count": 54,
   "metadata": {},
   "outputs": [
    {
     "data": {
      "text/plain": [
       "array([54, 14, 21, 62,  6, 56, 36, 43, 46, 38, 61, 26,  9, 40, 39, 38, 62,\n",
       "       44, 15,  0, 32, 51, 19, 17, 15, 61, 45, 20, 53, 31, 54,  4, 41, 33,\n",
       "       28, 58,  1, 14, 52, 27, 20, 45, 19, 38, 30, 10, 26, 29, 14,  8, 58,\n",
       "       57, 31, 51, 58, 15, 57, 54, 16,  4, 64,  6, 32, 32, 44, 60, 36, 62,\n",
       "       28,  4, 26, 34, 25, 32, 32, 14,  1, 58, 48, 59, 29, 28, 18, 29, 22,\n",
       "       53, 61, 54, 42, 23, 59, 50, 45, 22, 57, 44, 42,  6, 52, 49])"
      ]
     },
     "execution_count": 54,
     "metadata": {},
     "output_type": "execute_result"
    }
   ],
   "source": [
    "# Assume a paramter of grid cells, named zone\n",
    "zone = np.random.randint(0,64+1, size=size)\n",
    "zone"
   ]
  },
  {
   "cell_type": "code",
   "execution_count": 55,
   "metadata": {},
   "outputs": [
    {
     "data": {
      "text/plain": [
       "array([ 63.41012257,  44.51520036,  70.66870286, 100.02266983,\n",
       "       192.83227372, 132.33777307,  70.40829849, 258.19810291,\n",
       "       189.37478773,  28.96923354])"
      ]
     },
     "execution_count": 55,
     "metadata": {},
     "output_type": "execute_result"
    }
   ],
   "source": [
    "x = np.random.random(size=size) * 300\n",
    "x[0:10]"
   ]
  },
  {
   "cell_type": "code",
   "execution_count": 56,
   "metadata": {},
   "outputs": [
    {
     "data": {
      "text/plain": [
       "array([291.00648038, 385.03553051, 286.17714255,  82.55406012,\n",
       "        68.09871713, 192.64648293, 334.5850094 , 332.75020959,\n",
       "       131.86564703, 343.31476333])"
      ]
     },
     "execution_count": 56,
     "metadata": {},
     "output_type": "execute_result"
    }
   ],
   "source": [
    "y = np.random.random(size=size) * 400\n",
    "y[0:10]"
   ]
  },
  {
   "cell_type": "code",
   "execution_count": 57,
   "metadata": {},
   "outputs": [
    {
     "data": {
      "text/plain": [
       "array([37.3066156 , 67.77520714, 35.56966046, 11.4868504 , 78.44643609,\n",
       "       30.47484209,  7.95087942, 86.73956794,  9.6359521 , 90.71220981])"
      ]
     },
     "execution_count": 57,
     "metadata": {},
     "output_type": "execute_result"
    }
   ],
   "source": [
    "z = np.random.random(size=size) * 100\n",
    "z[0:10]"
   ]
  },
  {
   "cell_type": "code",
   "execution_count": 58,
   "metadata": {},
   "outputs": [],
   "source": [
    "#300*400*100"
   ]
  },
  {
   "cell_type": "code",
   "execution_count": 59,
   "metadata": {},
   "outputs": [
    {
     "data": {
      "text/html": [
       "<div>\n",
       "<style scoped>\n",
       "    .dataframe tbody tr th:only-of-type {\n",
       "        vertical-align: middle;\n",
       "    }\n",
       "\n",
       "    .dataframe tbody tr th {\n",
       "        vertical-align: top;\n",
       "    }\n",
       "\n",
       "    .dataframe thead th {\n",
       "        text-align: right;\n",
       "    }\n",
       "</style>\n",
       "<table border=\"1\" class=\"dataframe\">\n",
       "  <thead>\n",
       "    <tr style=\"text-align: right;\">\n",
       "      <th></th>\n",
       "      <th>x</th>\n",
       "      <th>y</th>\n",
       "      <th>z</th>\n",
       "      <th>zone</th>\n",
       "    </tr>\n",
       "  </thead>\n",
       "  <tbody>\n",
       "    <tr>\n",
       "      <th>0</th>\n",
       "      <td>63.410123</td>\n",
       "      <td>291.006480</td>\n",
       "      <td>37.306616</td>\n",
       "      <td>54</td>\n",
       "    </tr>\n",
       "    <tr>\n",
       "      <th>1</th>\n",
       "      <td>44.515200</td>\n",
       "      <td>385.035531</td>\n",
       "      <td>67.775207</td>\n",
       "      <td>14</td>\n",
       "    </tr>\n",
       "    <tr>\n",
       "      <th>2</th>\n",
       "      <td>70.668703</td>\n",
       "      <td>286.177143</td>\n",
       "      <td>35.569660</td>\n",
       "      <td>21</td>\n",
       "    </tr>\n",
       "    <tr>\n",
       "      <th>3</th>\n",
       "      <td>100.022670</td>\n",
       "      <td>82.554060</td>\n",
       "      <td>11.486850</td>\n",
       "      <td>62</td>\n",
       "    </tr>\n",
       "    <tr>\n",
       "      <th>4</th>\n",
       "      <td>192.832274</td>\n",
       "      <td>68.098717</td>\n",
       "      <td>78.446436</td>\n",
       "      <td>6</td>\n",
       "    </tr>\n",
       "  </tbody>\n",
       "</table>\n",
       "</div>"
      ],
      "text/plain": [
       "            x           y          z  zone\n",
       "0   63.410123  291.006480  37.306616    54\n",
       "1   44.515200  385.035531  67.775207    14\n",
       "2   70.668703  286.177143  35.569660    21\n",
       "3  100.022670   82.554060  11.486850    62\n",
       "4  192.832274   68.098717  78.446436     6"
      ]
     },
     "execution_count": 59,
     "metadata": {},
     "output_type": "execute_result"
    }
   ],
   "source": [
    "# combine in a pandas dataframe for readability\n",
    "data = pd.DataFrame.from_dict({'x': x, 'y': y, 'z': z, 'zone': zone})\n",
    "data.head()"
   ]
  },
  {
   "cell_type": "code",
   "execution_count": 60,
   "metadata": {},
   "outputs": [],
   "source": [
    "# xarray representation, might be useful at some point\n",
    "#xd = df.set_index(['x','y','z']).to_xarray()\n",
    "#xd"
   ]
  },
  {
   "cell_type": "markdown",
   "metadata": {},
   "source": [
    "## Create regular grid for lookup"
   ]
  },
  {
   "cell_type": "code",
   "execution_count": 61,
   "metadata": {},
   "outputs": [],
   "source": [
    "rx = np.arange(0,300,30)\n",
    "ry = np.arange(0,400,20)\n",
    "rz = np.arange(0,100,10)"
   ]
  },
  {
   "cell_type": "code",
   "execution_count": 62,
   "metadata": {},
   "outputs": [],
   "source": [
    "a,b,c = np.meshgrid(rx,ry,rz)"
   ]
  },
  {
   "cell_type": "code",
   "execution_count": 63,
   "metadata": {},
   "outputs": [
    {
     "data": {
      "text/html": [
       "<div>\n",
       "<style scoped>\n",
       "    .dataframe tbody tr th:only-of-type {\n",
       "        vertical-align: middle;\n",
       "    }\n",
       "\n",
       "    .dataframe tbody tr th {\n",
       "        vertical-align: top;\n",
       "    }\n",
       "\n",
       "    .dataframe thead th {\n",
       "        text-align: right;\n",
       "    }\n",
       "</style>\n",
       "<table border=\"1\" class=\"dataframe\">\n",
       "  <thead>\n",
       "    <tr style=\"text-align: right;\">\n",
       "      <th></th>\n",
       "      <th>x</th>\n",
       "      <th>y</th>\n",
       "      <th>z</th>\n",
       "    </tr>\n",
       "  </thead>\n",
       "  <tbody>\n",
       "    <tr>\n",
       "      <th>0</th>\n",
       "      <td>0</td>\n",
       "      <td>0</td>\n",
       "      <td>0</td>\n",
       "    </tr>\n",
       "    <tr>\n",
       "      <th>1</th>\n",
       "      <td>0</td>\n",
       "      <td>0</td>\n",
       "      <td>10</td>\n",
       "    </tr>\n",
       "    <tr>\n",
       "      <th>2</th>\n",
       "      <td>0</td>\n",
       "      <td>0</td>\n",
       "      <td>20</td>\n",
       "    </tr>\n",
       "    <tr>\n",
       "      <th>3</th>\n",
       "      <td>0</td>\n",
       "      <td>0</td>\n",
       "      <td>30</td>\n",
       "    </tr>\n",
       "    <tr>\n",
       "      <th>4</th>\n",
       "      <td>0</td>\n",
       "      <td>0</td>\n",
       "      <td>40</td>\n",
       "    </tr>\n",
       "  </tbody>\n",
       "</table>\n",
       "</div>"
      ],
      "text/plain": [
       "   x  y   z\n",
       "0  0  0   0\n",
       "1  0  0  10\n",
       "2  0  0  20\n",
       "3  0  0  30\n",
       "4  0  0  40"
      ]
     },
     "execution_count": 63,
     "metadata": {},
     "output_type": "execute_result"
    }
   ],
   "source": [
    "grid = pd.DataFrame.from_dict({'x': a.ravel(), 'y': b.ravel(), 'z': c.ravel()})\n",
    "grid.head()"
   ]
  },
  {
   "cell_type": "markdown",
   "metadata": {},
   "source": [
    "### Develop nearest neighbour algorithm"
   ]
  },
  {
   "cell_type": "code",
   "execution_count": 64,
   "metadata": {},
   "outputs": [
    {
     "data": {
      "text/plain": [
       "((100, 4), (2000, 3))"
      ]
     },
     "execution_count": 64,
     "metadata": {},
     "output_type": "execute_result"
    }
   ],
   "source": [
    "# Check shapes\n",
    "data.values.shape, grid.values.shape"
   ]
  },
  {
   "cell_type": "code",
   "execution_count": 65,
   "metadata": {},
   "outputs": [],
   "source": [
    "def nearest_neighbour(data, grid, threshold=10):\n",
    "    \"\"\"Find nearest neighbour of a new grid-cell in a set of data-grid-cells\n",
    "    \n",
    "    Args:\n",
    "        data (array): n x 3 array with x,y,z coordinates of irregular grid points\n",
    "        grid (array): n x 3 array with x,y,z coordinates of regular grid points\n",
    "        threshold (float): Maximum distance, within a neighbour is accepted as such\n",
    "        \n",
    "    Returns:\n",
    "        mask (bool array): 1D mask defining the validity of grid cells dependent on threshold\n",
    "        idx (int array): 1D array of size grid[mask], with inidces pointing to nearest point in data\n",
    "        dis (float array): 1D array of size grid[mask], with distances to indixed neighbour (for testing)        \n",
    "    \"\"\"\n",
    "    \n",
    "    # calculate distances between all data points and grid points\n",
    "    dist = scipy.spatial.distance.cdist(grid, data)\n",
    "    \n",
    "    # nan out all distances that are too large  (maybe use np.inf?)\n",
    "    if threshold is not None:\n",
    "        dist = np.where(dist < threshold, dist, np.nan)\n",
    "    \n",
    "    # get a mask of all \"valid\" grid cells\n",
    "    mask = ~np.all(np.isnan(dist), axis=1)\n",
    "    \n",
    "    # get array of \"valid\" distance combinations\n",
    "    valid_dist = dist[mask,:]\n",
    "    \n",
    "    # find minimum distance indices for each valid grid cell\n",
    "    idx = np.nanargmin(valid_dist, axis=1)\n",
    "    dis = np.nanmin(valid_dist, axis=1)\n",
    "    \n",
    "    return mask, idx, dis"
   ]
  },
  {
   "cell_type": "code",
   "execution_count": 66,
   "metadata": {},
   "outputs": [],
   "source": [
    "def nn_vectorized(data, grid, threshold=10):\n",
    "    \"\"\"Find nearest neighbour of a new grid-cell in a set of data-grid-cells\n",
    "    \n",
    "    Args:\n",
    "        data (array): n x 3 array with x,y,z coordinates of irregular grid points\n",
    "        grid (array): n x 3 array with x,y,z coordinates of regular grid points\n",
    "        threshold (float): Maximum distance, within a neighbour is accepted as such\n",
    "        \n",
    "    Returns:\n",
    "        mask (bool array): 1D mask defining the validity of grid cells dependent on threshold\n",
    "        idx (int array): 1D array of size grid[mask], with inidces pointing to nearest point in data\n",
    "        mindist (float array): 1D array of size grid[mask], with distances to indixed neighbour (for testing)        \n",
    "    \"\"\"\n",
    "    \n",
    "    # calculate distances between all data points and grid points\n",
    "    dist = scipy.spatial.distance.cdist(grid, data)\n",
    "    \n",
    "    # find minimum distance indices for each grid cell\n",
    "    idx = np.argmin(dist, axis=1)\n",
    "    \n",
    "    # find minimum distances for each grid cell\n",
    "    mindist = np.min(dist, axis=1)\n",
    "    \n",
    "    # get \"valid\" distances, indices and the mask to filter grid\n",
    "    if threshold is not None:\n",
    "        mask = np.where(mindist < threshold, True, False)\n",
    "        idx = idx[mask]\n",
    "        mindist = mindist[mask]\n",
    "    \n",
    "    return mask, idx, mindist"
   ]
  },
  {
   "cell_type": "code",
   "execution_count": 67,
   "metadata": {},
   "outputs": [],
   "source": [
    "def nn_elemwise(data, grid, threshold=10):\n",
    "    \"\"\"Find nearest neighbour of a new grid-cell in a set of data-grid-cells\n",
    "    \n",
    "    Args:\n",
    "        data (array): n x 3 array with x,y,z coordinates of irregular grid points\n",
    "        grid (array): n x 3 array with x,y,z coordinates of regular grid points\n",
    "        threshold (float): Maximum distance, within a neighbour is accepted as such\n",
    "        \n",
    "    Returns:\n",
    "        mask (bool array): 1D mask defining the validity of grid cells dependent on threshold\n",
    "        idx (int array): 1D array of size grid[mask], with inidces pointing to nearest point in data\n",
    "        mindist (float array): 1D array of size grid[mask], with distances to indixed neighbour (for testing)        \n",
    "    \"\"\"\n",
    "    \n",
    "    gs = grid.shape[0]\n",
    "    \n",
    "    idx = np.empty(gs, dtype=np.int)\n",
    "    mindist = np.empty(gs)\n",
    "    \n",
    "    iteration = tqdm(np.arange(gs), 'Calculating distances...')\n",
    "    for i in iteration:\n",
    "        dist = scipy.spatial.distance.cdist([grid[i]], data)\n",
    "        \n",
    "        # find minimum distance indices for each grid cell\n",
    "        idx[i] = np.argmin(dist)\n",
    "    \n",
    "        # find minimum distances for each grid cell\n",
    "        mindist[i] = np.nanmin(dist)\n",
    "    \n",
    "    # get \"valid\" distances, indices and the mask to filter grid\n",
    "    if threshold is not None:\n",
    "        tqdm.write('Creating and applying mask...')\n",
    "        mask = np.where(mindist < threshold, True, False)\n",
    "        idx = idx[mask]\n",
    "        mindist = mindist[mask]\n",
    "            \n",
    "    return mask, idx, mindist"
   ]
  },
  {
   "cell_type": "code",
   "execution_count": 68,
   "metadata": {},
   "outputs": [],
   "source": [
    "def nn_spotify(data, grid, threshold=10, tree_number=10):\n",
    "    \"\"\"Find nearest neighbour of a new grid-cell in a set of data-grid-cells\n",
    "    \n",
    "    Args:\n",
    "        data (array): n x 3 array with x,y,z coordinates of irregular grid points\n",
    "        grid (array): n x 3 array with x,y,z coordinates of regular grid points\n",
    "        threshold (float): Maximum distance, within a neighbour is accepted as such\n",
    "        \n",
    "    Returns:\n",
    "        mask (bool array): 1D mask defining the validity of grid cells dependent on threshold\n",
    "        idx (int array): 1D array of size grid[mask], with inidces pointing to nearest point in data\n",
    "        mindist (float array): 1D array of size grid[mask], with distances to indixed neighbour (for testing)        \n",
    "    \"\"\"\n",
    "    \n",
    "    ds = data.shape[0]\n",
    "    gs = grid.shape[0]\n",
    "    \n",
    "    idx = np.empty(gs, dtype=np.int)\n",
    "    mindist = np.empty(gs)\n",
    "    \n",
    "    data_lookup = AnnoyIndex(3, 'euclidean')  # dimensions and distance metric\n",
    "\n",
    "    # add all data points to the annoy lookup object\n",
    "    range_a = tqdm(np.arange(ds), 'Building data lookup...')  # track process\n",
    "    for i in range_a:\n",
    "        data_lookup.add_item(i, data[i])\n",
    "    \n",
    "    tqdm.write('Building trees... (That can take a while)')\n",
    "    data_lookup.build(tree_number) # build lookup trees, afterwards items cannot be added anymore\n",
    "\n",
    "    # start lookup for each grid point\n",
    "    range_b = tqdm(np.arange(gs), 'Calculating distances...')    \n",
    "    for i in range_b:\n",
    "        result = data_lookup.get_nns_by_vector(grid[i], 1, include_distances=True)  # lookup of nearest neighbours for each grid point, get index and distance\n",
    "        idx[i] = result[0][0]  # minimum distance index for each grid point\n",
    "        mindist[i] = result[1][0]  # minimum distance for each grid point\n",
    "    \n",
    "    # get \"valid\" distances, indices and the mask to filter grid\n",
    "    if threshold is not None:\n",
    "        tqdm.write('Creating and applying mask...')\n",
    "        mask = np.where(mindist < threshold, True, False)\n",
    "        idx = idx[mask]\n",
    "        mindist = mindist[mask]\n",
    "           \n",
    "    return mask, idx, mindist"
   ]
  },
  {
   "cell_type": "code",
   "execution_count": 69,
   "metadata": {},
   "outputs": [],
   "source": [
    "threshold = 10"
   ]
  },
  {
   "cell_type": "markdown",
   "metadata": {},
   "source": [
    "### Application Vectorized"
   ]
  },
  {
   "cell_type": "code",
   "execution_count": 70,
   "metadata": {},
   "outputs": [
    {
     "name": "stdout",
     "output_type": "stream",
     "text": [
      "Mask:  (2000,) 67\n",
      "Indices:  (67,) 99\n",
      "Distances:  (67,) 9.988325717317261\n"
     ]
    }
   ],
   "source": [
    "mask, idx, dis = nn_vectorized(data.iloc[:,0:3].values, grid.values, threshold=threshold)\n",
    "print('Mask: ', mask.shape, np.sum(mask))\n",
    "print('Indices: ', idx.shape, np.max(idx))\n",
    "print('Distances: ', dis.shape, np.max(dis))"
   ]
  },
  {
   "cell_type": "code",
   "execution_count": 71,
   "metadata": {},
   "outputs": [
    {
     "data": {
      "text/html": [
       "<div>\n",
       "<style scoped>\n",
       "    .dataframe tbody tr th:only-of-type {\n",
       "        vertical-align: middle;\n",
       "    }\n",
       "\n",
       "    .dataframe tbody tr th {\n",
       "        vertical-align: top;\n",
       "    }\n",
       "\n",
       "    .dataframe thead th {\n",
       "        text-align: right;\n",
       "    }\n",
       "</style>\n",
       "<table border=\"1\" class=\"dataframe\">\n",
       "  <thead>\n",
       "    <tr style=\"text-align: right;\">\n",
       "      <th></th>\n",
       "      <th>x</th>\n",
       "      <th>y</th>\n",
       "      <th>z</th>\n",
       "    </tr>\n",
       "  </thead>\n",
       "  <tbody>\n",
       "    <tr>\n",
       "      <th>133</th>\n",
       "      <td>90</td>\n",
       "      <td>20</td>\n",
       "      <td>30</td>\n",
       "    </tr>\n",
       "    <tr>\n",
       "      <th>169</th>\n",
       "      <td>180</td>\n",
       "      <td>20</td>\n",
       "      <td>90</td>\n",
       "    </tr>\n",
       "    <tr>\n",
       "      <th>196</th>\n",
       "      <td>270</td>\n",
       "      <td>20</td>\n",
       "      <td>60</td>\n",
       "    </tr>\n",
       "    <tr>\n",
       "      <th>197</th>\n",
       "      <td>270</td>\n",
       "      <td>20</td>\n",
       "      <td>70</td>\n",
       "    </tr>\n",
       "    <tr>\n",
       "      <th>340</th>\n",
       "      <td>120</td>\n",
       "      <td>60</td>\n",
       "      <td>0</td>\n",
       "    </tr>\n",
       "  </tbody>\n",
       "</table>\n",
       "</div>"
      ],
      "text/plain": [
       "       x   y   z\n",
       "133   90  20  30\n",
       "169  180  20  90\n",
       "196  270  20  60\n",
       "197  270  20  70\n",
       "340  120  60   0"
      ]
     },
     "execution_count": 71,
     "metadata": {},
     "output_type": "execute_result"
    }
   ],
   "source": [
    "valid_grid = grid.loc[mask].copy()\n",
    "valid_grid.head()"
   ]
  },
  {
   "cell_type": "code",
   "execution_count": 72,
   "metadata": {},
   "outputs": [
    {
     "data": {
      "text/html": [
       "<div>\n",
       "<style scoped>\n",
       "    .dataframe tbody tr th:only-of-type {\n",
       "        vertical-align: middle;\n",
       "    }\n",
       "\n",
       "    .dataframe tbody tr th {\n",
       "        vertical-align: top;\n",
       "    }\n",
       "\n",
       "    .dataframe thead th {\n",
       "        text-align: right;\n",
       "    }\n",
       "</style>\n",
       "<table border=\"1\" class=\"dataframe\">\n",
       "  <thead>\n",
       "    <tr style=\"text-align: right;\">\n",
       "      <th></th>\n",
       "      <th>x</th>\n",
       "      <th>y</th>\n",
       "      <th>z</th>\n",
       "      <th>zone</th>\n",
       "      <th>dis</th>\n",
       "    </tr>\n",
       "  </thead>\n",
       "  <tbody>\n",
       "    <tr>\n",
       "      <th>133</th>\n",
       "      <td>90</td>\n",
       "      <td>20</td>\n",
       "      <td>30</td>\n",
       "      <td>14</td>\n",
       "      <td>9.093656</td>\n",
       "    </tr>\n",
       "    <tr>\n",
       "      <th>169</th>\n",
       "      <td>180</td>\n",
       "      <td>20</td>\n",
       "      <td>90</td>\n",
       "      <td>57</td>\n",
       "      <td>9.914815</td>\n",
       "    </tr>\n",
       "    <tr>\n",
       "      <th>196</th>\n",
       "      <td>270</td>\n",
       "      <td>20</td>\n",
       "      <td>60</td>\n",
       "      <td>57</td>\n",
       "      <td>4.508971</td>\n",
       "    </tr>\n",
       "    <tr>\n",
       "      <th>197</th>\n",
       "      <td>270</td>\n",
       "      <td>20</td>\n",
       "      <td>70</td>\n",
       "      <td>57</td>\n",
       "      <td>8.971577</td>\n",
       "    </tr>\n",
       "    <tr>\n",
       "      <th>340</th>\n",
       "      <td>120</td>\n",
       "      <td>60</td>\n",
       "      <td>0</td>\n",
       "      <td>52</td>\n",
       "      <td>6.631212</td>\n",
       "    </tr>\n",
       "    <tr>\n",
       "      <th>341</th>\n",
       "      <td>120</td>\n",
       "      <td>60</td>\n",
       "      <td>10</td>\n",
       "      <td>52</td>\n",
       "      <td>8.145988</td>\n",
       "    </tr>\n",
       "  </tbody>\n",
       "</table>\n",
       "</div>"
      ],
      "text/plain": [
       "       x   y   z  zone       dis\n",
       "133   90  20  30    14  9.093656\n",
       "169  180  20  90    57  9.914815\n",
       "196  270  20  60    57  4.508971\n",
       "197  270  20  70    57  8.971577\n",
       "340  120  60   0    52  6.631212\n",
       "341  120  60  10    52  8.145988"
      ]
     },
     "execution_count": 72,
     "metadata": {},
     "output_type": "execute_result"
    }
   ],
   "source": [
    "valid_grid['zone'] = data.zone[idx].values\n",
    "valid_grid['dis'] = dis\n",
    "valid_grid.head(6)"
   ]
  },
  {
   "cell_type": "code",
   "execution_count": 73,
   "metadata": {},
   "outputs": [
    {
     "data": {
      "text/plain": [
       "9.988325717317261"
      ]
     },
     "execution_count": 73,
     "metadata": {},
     "output_type": "execute_result"
    }
   ],
   "source": [
    "# check validity of treshhold\n",
    "valid_grid.dis.max()"
   ]
  },
  {
   "cell_type": "markdown",
   "metadata": {},
   "source": [
    "### Application Element-wise"
   ]
  },
  {
   "cell_type": "code",
   "execution_count": 74,
   "metadata": {},
   "outputs": [
    {
     "data": {
      "application/vnd.jupyter.widget-view+json": {
       "model_id": "ea54bee51fb943f6ba92e29cf6b73def",
       "version_major": 2,
       "version_minor": 0
      },
      "text/plain": [
       "HBox(children=(IntProgress(value=0, description='Calculating distances...', max=2000, style=ProgressStyle(desc…"
      ]
     },
     "metadata": {},
     "output_type": "display_data"
    },
    {
     "name": "stdout",
     "output_type": "stream",
     "text": [
      "\n",
      "Creating and applying mask...\n",
      "Mask:  (2000,) 67\n",
      "Indices:  (67,) 99\n",
      "Distances:  (67,) 9.988325717317261\n"
     ]
    }
   ],
   "source": [
    "mask2, idx2, dis2 = nn_elemwise(data.iloc[:,0:3].values, grid.values, threshold=threshold)\n",
    "print('Mask: ', mask2.shape, np.sum(mask2))\n",
    "print('Indices: ', idx2.shape, np.max(idx2))\n",
    "print('Distances: ', dis2.shape, np.max(dis2))"
   ]
  },
  {
   "cell_type": "code",
   "execution_count": 75,
   "metadata": {},
   "outputs": [
    {
     "data": {
      "text/plain": [
       "(True, True, True)"
      ]
     },
     "execution_count": 75,
     "metadata": {},
     "output_type": "execute_result"
    }
   ],
   "source": [
    "# check conformity of functions\n",
    "np.all(mask == mask2), np.all(idx == idx2), np.all(dis == dis2)"
   ]
  },
  {
   "cell_type": "markdown",
   "metadata": {},
   "source": [
    "### Application Spotify"
   ]
  },
  {
   "cell_type": "code",
   "execution_count": 84,
   "metadata": {},
   "outputs": [
    {
     "data": {
      "application/vnd.jupyter.widget-view+json": {
       "model_id": "128e959a459d4e34a97ac23476de2d62",
       "version_major": 2,
       "version_minor": 0
      },
      "text/plain": [
       "HBox(children=(IntProgress(value=0, description='Building data lookup...', style=ProgressStyle(description_wid…"
      ]
     },
     "metadata": {},
     "output_type": "display_data"
    },
    {
     "name": "stdout",
     "output_type": "stream",
     "text": [
      "\n",
      "Building trees... (That can take a while)\n"
     ]
    },
    {
     "data": {
      "application/vnd.jupyter.widget-view+json": {
       "model_id": "604743a984024f1cb1b69a16f2f860dc",
       "version_major": 2,
       "version_minor": 0
      },
      "text/plain": [
       "HBox(children=(IntProgress(value=0, description='Calculating distances...', max=2000, style=ProgressStyle(desc…"
      ]
     },
     "metadata": {},
     "output_type": "display_data"
    },
    {
     "name": "stdout",
     "output_type": "stream",
     "text": [
      "\n",
      "Creating and applying mask...\n",
      "Mask:  (2000,) 67\n",
      "Indices:  (67,) 99\n",
      "Distances:  (67,) 9.988335609436035\n"
     ]
    }
   ],
   "source": [
    "mask3, idx3, dis3 = nn_spotify(data.iloc[:,0:3].values, grid.values, threshold=threshold, tree_number=30)\n",
    "print('Mask: ', mask3.shape, np.sum(mask3))\n",
    "print('Indices: ', idx3.shape, np.max(idx3))\n",
    "print('Distances: ', dis3.shape, np.max(dis3))"
   ]
  },
  {
   "cell_type": "code",
   "execution_count": 85,
   "metadata": {},
   "outputs": [
    {
     "data": {
      "text/plain": [
       "True"
      ]
     },
     "execution_count": 85,
     "metadata": {},
     "output_type": "execute_result"
    }
   ],
   "source": [
    "# check conformity of functions\n",
    "np.all(mask == mask3)"
   ]
  },
  {
   "cell_type": "code",
   "execution_count": 86,
   "metadata": {},
   "outputs": [
    {
     "data": {
      "text/plain": [
       "True"
      ]
     },
     "execution_count": 86,
     "metadata": {},
     "output_type": "execute_result"
    }
   ],
   "source": [
    "np.all(idx == idx3)"
   ]
  },
  {
   "cell_type": "code",
   "execution_count": 87,
   "metadata": {},
   "outputs": [
    {
     "data": {
      "text/plain": [
       "True"
      ]
     },
     "execution_count": 87,
     "metadata": {},
     "output_type": "execute_result"
    }
   ],
   "source": [
    "np.all(np.round(dis, 3) == np.round(dis3, 3))"
   ]
  },
  {
   "cell_type": "markdown",
   "metadata": {},
   "source": [
    "# Application to large data-sets"
   ]
  },
  {
   "cell_type": "markdown",
   "metadata": {},
   "source": [
    "### Test data"
   ]
  },
  {
   "cell_type": "code",
   "execution_count": 29,
   "metadata": {},
   "outputs": [],
   "source": [
    "# size of dataset\n",
    "size = 120*166*105"
   ]
  },
  {
   "cell_type": "code",
   "execution_count": 31,
   "metadata": {},
   "outputs": [],
   "source": [
    "x = np.random.random(size=size) * 300\n",
    "y = np.random.random(size=size) * 400\n",
    "z = np.random.random(size=size) * 100\n",
    "# Assume a paramter of grid cells, named zone\n",
    "zone = np.random.randint(0,64+1, size=size)"
   ]
  },
  {
   "cell_type": "code",
   "execution_count": 32,
   "metadata": {},
   "outputs": [],
   "source": [
    "#300*400*100"
   ]
  },
  {
   "cell_type": "code",
   "execution_count": 41,
   "metadata": {},
   "outputs": [
    {
     "data": {
      "text/html": [
       "<div>\n",
       "<style scoped>\n",
       "    .dataframe tbody tr th:only-of-type {\n",
       "        vertical-align: middle;\n",
       "    }\n",
       "\n",
       "    .dataframe tbody tr th {\n",
       "        vertical-align: top;\n",
       "    }\n",
       "\n",
       "    .dataframe thead th {\n",
       "        text-align: right;\n",
       "    }\n",
       "</style>\n",
       "<table border=\"1\" class=\"dataframe\">\n",
       "  <thead>\n",
       "    <tr style=\"text-align: right;\">\n",
       "      <th></th>\n",
       "      <th>x</th>\n",
       "      <th>y</th>\n",
       "      <th>z</th>\n",
       "      <th>zone</th>\n",
       "    </tr>\n",
       "  </thead>\n",
       "  <tbody>\n",
       "    <tr>\n",
       "      <th>0</th>\n",
       "      <td>110.411196</td>\n",
       "      <td>311.235695</td>\n",
       "      <td>96.59083</td>\n",
       "      <td>63</td>\n",
       "    </tr>\n",
       "  </tbody>\n",
       "</table>\n",
       "</div>"
      ],
      "text/plain": [
       "            x           y         z  zone\n",
       "0  110.411196  311.235695  96.59083    63"
      ]
     },
     "execution_count": 41,
     "metadata": {},
     "output_type": "execute_result"
    }
   ],
   "source": [
    "# combine in a pandas dataframe for readability\n",
    "data = pd.DataFrame.from_dict({'x': x, 'y': y, 'z': z, 'zone': zone})\n",
    "data.head(1)"
   ]
  },
  {
   "cell_type": "code",
   "execution_count": 34,
   "metadata": {},
   "outputs": [],
   "source": [
    "# xarray representation, might be useful at some point\n",
    "#xd = df.set_index(['x','y','z']).to_xarray()\n",
    "#xd"
   ]
  },
  {
   "cell_type": "markdown",
   "metadata": {},
   "source": [
    "### Test regular grid for lookup"
   ]
  },
  {
   "cell_type": "code",
   "execution_count": 42,
   "metadata": {},
   "outputs": [],
   "source": [
    "rx = np.arange(0,300,1)\n",
    "ry = np.arange(0,400,1)\n",
    "rz = np.arange(0,100,10)"
   ]
  },
  {
   "cell_type": "code",
   "execution_count": 43,
   "metadata": {},
   "outputs": [],
   "source": [
    "a,b,c = np.meshgrid(rx,ry,rz)"
   ]
  },
  {
   "cell_type": "code",
   "execution_count": 50,
   "metadata": {},
   "outputs": [
    {
     "data": {
      "text/html": [
       "<div>\n",
       "<style scoped>\n",
       "    .dataframe tbody tr th:only-of-type {\n",
       "        vertical-align: middle;\n",
       "    }\n",
       "\n",
       "    .dataframe tbody tr th {\n",
       "        vertical-align: top;\n",
       "    }\n",
       "\n",
       "    .dataframe thead th {\n",
       "        text-align: right;\n",
       "    }\n",
       "</style>\n",
       "<table border=\"1\" class=\"dataframe\">\n",
       "  <thead>\n",
       "    <tr style=\"text-align: right;\">\n",
       "      <th></th>\n",
       "      <th>x</th>\n",
       "      <th>y</th>\n",
       "      <th>z</th>\n",
       "    </tr>\n",
       "  </thead>\n",
       "  <tbody>\n",
       "    <tr>\n",
       "      <th>0</th>\n",
       "      <td>0</td>\n",
       "      <td>0</td>\n",
       "      <td>0</td>\n",
       "    </tr>\n",
       "    <tr>\n",
       "      <th>1</th>\n",
       "      <td>0</td>\n",
       "      <td>0</td>\n",
       "      <td>10</td>\n",
       "    </tr>\n",
       "  </tbody>\n",
       "</table>\n",
       "</div>"
      ],
      "text/plain": [
       "   x  y   z\n",
       "0  0  0   0\n",
       "1  0  0  10"
      ]
     },
     "execution_count": 50,
     "metadata": {},
     "output_type": "execute_result"
    }
   ],
   "source": [
    "grid = pd.DataFrame.from_dict({'x': a.ravel(), 'y': b.ravel(), 'z': c.ravel()})\n",
    "grid.head(2)"
   ]
  },
  {
   "cell_type": "markdown",
   "metadata": {},
   "source": [
    "# Calculation with Spotify Annoy"
   ]
  },
  {
   "cell_type": "code",
   "execution_count": 48,
   "metadata": {},
   "outputs": [
    {
     "data": {
      "application/vnd.jupyter.widget-view+json": {
       "model_id": "71895c79ce0244509edac57df94cdb26",
       "version_major": 2,
       "version_minor": 0
      },
      "text/plain": [
       "HBox(children=(IntProgress(value=0, description='Building data lookup...', max=2091600, style=ProgressStyle(de…"
      ]
     },
     "metadata": {},
     "output_type": "display_data"
    },
    {
     "name": "stdout",
     "output_type": "stream",
     "text": [
      "\n",
      "Building trees... (That can take a while)\n"
     ]
    },
    {
     "data": {
      "application/vnd.jupyter.widget-view+json": {
       "model_id": "e3864740b9574f729897fd2f59a31354",
       "version_major": 2,
       "version_minor": 0
      },
      "text/plain": [
       "HBox(children=(IntProgress(value=0, description='Calculating distances...', max=1200000, style=ProgressStyle(d…"
      ]
     },
     "metadata": {},
     "output_type": "display_data"
    },
    {
     "name": "stdout",
     "output_type": "stream",
     "text": [
      "\n",
      "Creating and applying mask...\n"
     ]
    }
   ],
   "source": [
    "mask4, idx4, dis4 = nn_spotify(data.iloc[:,0:3].values, grid.values, threshold=2, tree_number=10)"
   ]
  },
  {
   "cell_type": "code",
   "execution_count": 51,
   "metadata": {},
   "outputs": [
    {
     "name": "stdout",
     "output_type": "stream",
     "text": [
      "Mask:  (1200000,) 1184652\n",
      "Indices:  (1184652,) 2091594\n",
      "Distances:  (1184652,) 1.9999750852584839\n"
     ]
    }
   ],
   "source": [
    "print('Mask: ', mask4.shape, np.sum(mask4))\n",
    "print('Indices: ', idx4.shape, np.max(idx4))\n",
    "print('Distances: ', dis4.shape, np.max(dis4))"
   ]
  },
  {
   "cell_type": "code",
   "execution_count": null,
   "metadata": {},
   "outputs": [],
   "source": []
  }
 ],
 "metadata": {
  "kernelspec": {
   "display_name": "Python 3",
   "language": "python",
   "name": "python3"
  },
  "language_info": {
   "codemirror_mode": {
    "name": "ipython",
    "version": 3
   },
   "file_extension": ".py",
   "mimetype": "text/x-python",
   "name": "python",
   "nbconvert_exporter": "python",
   "pygments_lexer": "ipython3",
   "version": "3.6.8"
  }
 },
 "nbformat": 4,
 "nbformat_minor": 4
}
