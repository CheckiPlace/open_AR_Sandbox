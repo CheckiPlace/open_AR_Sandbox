{
 "cells": [
  {
   "cell_type": "markdown",
   "metadata": {},
   "source": [
    "## Importing used libraries"
   ]
  },
  {
   "cell_type": "code",
   "execution_count": null,
   "metadata": {},
   "outputs": [],
   "source": [
    "# These three lines are necessary only if GemPy is not installed\n",
    "import sys, os\n",
    "sys.path.append('../..')\n",
    "sys.path.append('../../../gempy/')\n",
    "\n",
    "# Importing GemPy\n",
    "import gempy as gp\n",
    "\n",
    "# Importing aux libraries\n",
    "from ipywidgets import interact\n",
    "import numpy as np\n",
    "import matplotlib.pyplot as plt\n",
    "import matplotlib.image as mpimg\n",
    "import pandas as pn\n",
    "import matplotlib\n",
    "import theano\n",
    "import qgrid\n",
    "import pickle"
   ]
  },
  {
   "cell_type": "markdown",
   "metadata": {},
   "source": [
    "### Initializing the model:\n",
    "\n",
    "The first step to create a GemPy model is create a gempy.Model object that will contain all the other data structures and necessary functionality.\n",
    "\n",
    "In addition for this example we will define a regular grid since the beginning. This is the grid where we will interpolate the 3D geological model. GemPy comes with an array of different grids for different pourposes as we will see below. For visualization usually a regular grid is the one that makes more sense."
   ]
  },
  {
   "cell_type": "code",
   "execution_count": null,
   "metadata": {},
   "outputs": [],
   "source": [
    "geo_model = gp.create_model('Geological_Model1')\n",
    "geo_model = gp.init_data(geo_model, extent= [0, 4000, 0, 2775, 200, 1200], resolution=[100, 10, 100])"
   ]
  },
  {
   "cell_type": "markdown",
   "metadata": {},
   "source": [
    "GemPy core code is written in Python. However for efficiency (and other reasons) most of heavy computations happend in optimize compile code, either C or CUDA for GPU. To do so, GemPy rely on the library theano. To guarantee maximum optimization theano requires to compile the code for every Python kernel. The compilation is done by calling the following line at any point (before computing the model):"
   ]
  },
  {
   "cell_type": "code",
   "execution_count": null,
   "metadata": {},
   "outputs": [],
   "source": [
    "gp.set_interpolator(geo_model, theano_optimizer='fast_run', verbose=[])"
   ]
  },
  {
   "cell_type": "markdown",
   "metadata": {},
   "source": [
    "### Creating figure:\n",
    "\n",
    "GemPy uses matplotlib and pyvista-vtk libraries for 2d and 3d visualization of the model respectively. One of the design decisions of GemPy is to allow real time construction of the model. What this means is that you can start adding input data and see in real time how the 3D surfaces evolve. Lets initialize the visualization windows.\n",
    "\n",
    "The first one is the 2d figure. Just place the window where you can see it (maybe move the jupyter notebook to half screen and use the other half for the renderers)."
   ]
  },
  {
   "cell_type": "code",
   "execution_count": null,
   "metadata": {},
   "outputs": [],
   "source": [
    "#Visualization Widgets - Conflicts with bokeh visualization\n",
    "from gempy.plot import visualization_2d_pro as vv\n",
    "from gempy.plot import vista"
   ]
  },
  {
   "cell_type": "code",
   "execution_count": null,
   "metadata": {},
   "outputs": [],
   "source": [
    "%matplotlib qt5\n",
    "\n",
    "map_view = vv.Plot2D(geo_model)\n",
    "map_view.create_figure((15, 8))\n",
    "\n",
    "profile_view = vv.Plot2D(geo_model)\n",
    "profile_view.create_figure((15, 8))"
   ]
  },
  {
   "cell_type": "markdown",
   "metadata": {},
   "source": [
    "We can do the same in 3D through pyvista and vtk rendering. Click the qt5 button Back (+Y) to have the same view as in the 2D viwer:"
   ]
  },
  {
   "cell_type": "code",
   "execution_count": null,
   "metadata": {},
   "outputs": [],
   "source": [
    "view_3D = vista.Vista(geo_model, plotter_type='background', notebook=False, real_time=False)"
   ]
  },
  {
   "cell_type": "markdown",
   "metadata": {},
   "source": [
    "#### Add model section\n",
    "\n",
    "In the 2d renderer we can add several cross section of the model. In this case, for simplicity we are just adding one perpendicular to z."
   ]
  },
  {
   "cell_type": "code",
   "execution_count": null,
   "metadata": {},
   "outputs": [],
   "source": [
    "# In this case perpendicular to the z axes\n",
    "ax = map_view.add_section(direction='z')\n",
    "\n",
    "ax2 = profile_view.add_section(direction='y')\n"
   ]
  },
  {
   "cell_type": "markdown",
   "metadata": {},
   "source": [
    "#### Loading geological map image:\n",
    "\n",
    "Remember that gempy is simply using matplotlib and therofe the ax object created above is a standard matplotlib axes. This allow to manipulate it freely. Lets load an image with the information of geological map"
   ]
  },
  {
   "cell_type": "code",
   "execution_count": null,
   "metadata": {},
   "outputs": [],
   "source": [
    "# Reading image\n",
    "img = mpimg.imread('geological_model.png')\n",
    "# Plotting it inplace\n",
    "ax.imshow(img, origin='upper', alpha=.8, extent = (0, 4000, 0,2775))\n",
    "\n"
   ]
  },
  {
   "cell_type": "code",
   "execution_count": null,
   "metadata": {},
   "outputs": [],
   "source": [
    "#Cross-section of the model\n",
    "ax2.set_xlim(geo_model.grid.regular_grid.extent[0], geo_model.grid.regular_grid.extent[1])\n",
    "ax2.set_ylim(geo_model.grid.regular_grid.extent[4], geo_model.grid.regular_grid.extent[5])"
   ]
  },
  {
   "cell_type": "markdown",
   "metadata": {},
   "source": [
    "## Building the model\n",
    "\n",
    "#### Defining the series"
   ]
  },
  {
   "cell_type": "code",
   "execution_count": null,
   "metadata": {},
   "outputs": [],
   "source": [
    "geo_model.series"
   ]
  },
  {
   "cell_type": "code",
   "execution_count": null,
   "metadata": {},
   "outputs": [],
   "source": [
    "geo_model.add_series(['Fault2','Cycle2','Fault1','Cycle1'])"
   ]
  },
  {
   "cell_type": "code",
   "execution_count": null,
   "metadata": {},
   "outputs": [],
   "source": [
    "geo_model.delete_series('Default series')"
   ]
  },
  {
   "cell_type": "markdown",
   "metadata": {},
   "source": [
    "#### Defining surfaces"
   ]
  },
  {
   "cell_type": "code",
   "execution_count": null,
   "metadata": {},
   "outputs": [],
   "source": [
    "geo_model.add_surfaces(['F2','G','H','F1','D','C','B', 'A'])"
   ]
  },
  {
   "cell_type": "code",
   "execution_count": null,
   "metadata": {},
   "outputs": [],
   "source": [
    "gp.map_series_to_surfaces(geo_model, {'Fault1':'F1', 'Fault2':'F2', 'Cycle2':['G','H']})"
   ]
  },
  {
   "cell_type": "markdown",
   "metadata": {},
   "source": [
    "#### Defining fault series"
   ]
  },
  {
   "cell_type": "code",
   "execution_count": null,
   "metadata": {},
   "outputs": [],
   "source": [
    "geo_model.set_is_fault(['Fault1', 'Fault2'])"
   ]
  },
  {
   "cell_type": "markdown",
   "metadata": {},
   "source": [
    "#### Adding surface points and orientations"
   ]
  },
  {
   "cell_type": "code",
   "execution_count": null,
   "metadata": {},
   "outputs": [],
   "source": [
    "###Cycle 1\n",
    "#surface B - before F1\n",
    "geo_model.add_surface_points(X=584, Y=285, Z=500, surface='B')\n",
    "geo_model.add_surface_points(X=494, Y=696, Z=500, surface='B')\n",
    "geo_model.add_surface_points(X=197, Y=1898, Z=500, surface='B')\n",
    "geo_model.add_surface_points(X=473, Y=2180, Z=400, surface='B')\n",
    "geo_model.add_surface_points(X=435, Y=2453, Z=400, surface='B')\n",
    "#surface C - before F1\n",
    "geo_model.add_surface_points(X=946, Y=188, Z=600, surface='C')\n",
    "geo_model.add_surface_points(X=853, Y=661, Z=600, surface='C')\n",
    "geo_model.add_surface_points(X=570, Y=1845, Z=600, surface='C')\n",
    "geo_model.add_surface_points(X=832, Y=2132, Z=500, surface='C')\n",
    "geo_model.add_surface_points(X=767, Y=2495, Z=500, surface='C')\n",
    "#Surface D - Before F1\n",
    "geo_model.add_surface_points(X=967, Y=1638, Z=800, surface='D')\n",
    "geo_model.add_surface_points(X=1095, Y=996, Z=800, surface='D')\n",
    "# Adding orientation to Cycle 1\n",
    "geo_model.add_orientations(X=832, Y=2132, Z=500, surface='C', orientation = [76,17.88,1])\n",
    "#surface B - After F1\n",
    "geo_model.add_surface_points(X=1447, Y=2554, Z=500, surface='B')\n",
    "geo_model.add_surface_points(X=1511, Y=2200, Z=500, surface='B')\n",
    "geo_model.add_surface_points(X=1549, Y=629, Z=600, surface='B')\n",
    "geo_model.add_surface_points(X=1630, Y=287, Z=600, surface='B')\n",
    "#surface C - After F1\n",
    "geo_model.add_surface_points(X=1891, Y=2063, Z=600, surface='C')\n",
    "geo_model.add_surface_points(X=1605, Y=1846, Z=700, surface='C')\n",
    "geo_model.add_surface_points(X=1306, Y=1641, Z=800, surface='C')\n",
    "geo_model.add_surface_points(X=1476, Y=979, Z=800, surface='C')\n",
    "geo_model.add_surface_points(X=1839, Y=962, Z=700, surface='C')\n",
    "geo_model.add_surface_points(X=2185, Y=893, Z=600, surface='C')\n",
    "geo_model.add_surface_points(X=2245, Y=547, Z=600, surface='C')\n",
    "#Surface D - After F1\n",
    "geo_model.add_surface_points(X=2809, Y=2567, Z=600, surface='D')\n",
    "geo_model.add_surface_points(X=2843, Y=2448, Z=600, surface='D')\n",
    "geo_model.add_surface_points(X=2873, Y=876, Z=700, surface='D')\n",
    "# Surface D - After F2\n",
    "geo_model.add_surface_points(X=3056, Y=2439, Z=650, surface='D')\n",
    "geo_model.add_surface_points(X=3151, Y=1292, Z=700, surface='D')\n",
    "\n",
    "### Fault 1\n",
    "# Surface F1\n",
    "geo_model.add_surface_points(X=1203, Y=138, Z=600, surface='F1')\n",
    "geo_model.add_surface_points(X=1250, Y=1653, Z=800, surface='F1')\n",
    "#orientation to Fault 1\n",
    "geo_model.add_orientations(X=1280, Y=2525, Z=500, surface='F1', orientation = [272,90,1])\n",
    "\n",
    "### Cycle 2\n",
    "# Surface G - Before F2\n",
    "geo_model.add_surface_points(X=1012, Y=1493, Z=900, surface='G')\n",
    "geo_model.add_surface_points(X=1002, Y=1224, Z=900, surface='G')\n",
    "geo_model.add_surface_points(X=1579, Y=1376, Z=850, surface='G')\n",
    "geo_model.add_surface_points(X=2489, Y=336, Z=750, surface='G')\n",
    "geo_model.add_surface_points(X=2814, Y=1848, Z=750, surface='G')\n",
    "#Surface H - Before F2\n",
    "geo_model.add_surface_points(X=2567, Y=129, Z=850, surface='H')\n",
    "geo_model.add_surface_points(X=3012, Y=726, Z=800, surface='H')\n",
    "#Orientation to cycle 2\n",
    "geo_model.add_orientations(X=1996, Y=47, Z=800, surface='G', orientation = [92,5.54,1])\n",
    "#Surface G - After F2\n",
    "geo_model.add_surface_points(X=3031, Y=2725, Z=800, surface='G')\n",
    "geo_model.add_surface_points(X=3281, Y=2314, Z=750, surface='G')\n",
    "geo_model.add_surface_points(X=3311, Y=1357, Z=750, surface='G')\n",
    "geo_model.add_surface_points(X=3336, Y=898, Z=750, surface='G')\n",
    "#Surface H - After F2\n",
    "geo_model.add_surface_points(X=3218, Y=1818, Z=890, surface='H')\n",
    "geo_model.add_surface_points(X=3934, Y=1207, Z=810, surface='H')\n",
    "geo_model.add_surface_points(X=3336, Y=704, Z=850, surface='H')\n",
    "\n",
    "### Fault 2\n",
    "geo_model.add_surface_points(X=3232, Y=178, Z=1000, surface='F2')\n",
    "geo_model.add_surface_points(X=2912, Y=2653, Z=700, surface='F2')\n",
    "#Add orientation to Fault 2\n",
    "geo_model.add_orientations(X=3132, Y=951, Z=700, surface='F2', orientation = [85,90,1])\n",
    "\n",
    "\n"
   ]
  },
  {
   "cell_type": "markdown",
   "metadata": {},
   "source": [
    "#### Ready to compute model?"
   ]
  },
  {
   "cell_type": "code",
   "execution_count": null,
   "metadata": {},
   "outputs": [],
   "source": [
    "geo_model.series"
   ]
  },
  {
   "cell_type": "code",
   "execution_count": null,
   "metadata": {},
   "outputs": [],
   "source": [
    "geo_model.faults"
   ]
  },
  {
   "cell_type": "code",
   "execution_count": null,
   "metadata": {},
   "outputs": [],
   "source": [
    "geo_model.surfaces"
   ]
  },
  {
   "cell_type": "markdown",
   "metadata": {},
   "source": [
    "#### Computing model and plotting"
   ]
  },
  {
   "cell_type": "code",
   "execution_count": null,
   "metadata": {},
   "outputs": [],
   "source": [
    "gp.compute_model(geo_model)"
   ]
  },
  {
   "cell_type": "code",
   "execution_count": null,
   "metadata": {},
   "outputs": [],
   "source": [
    "# Plot 2D\n",
    "map_view.remove(ax)\n",
    "map_view.plot_data(ax, direction='z', cell_number=5, legend ='force')\n",
    "\n",
    "profile_view.remove(ax2)\n",
    "profile_view.plot_lith(ax2, cell_number=5, legend ='force')\n",
    "\n",
    "#Plot 3D\n",
    "view_3D.plot_data()\n",
    "view_3D.plot_surfaces()\n",
    "view_3D.plot_structured_grid(opacity=.2)"
   ]
  },
  {
   "cell_type": "markdown",
   "metadata": {},
   "source": [
    "#### export and send model to sandbox"
   ]
  },
  {
   "cell_type": "code",
   "execution_count": null,
   "metadata": {},
   "outputs": [],
   "source": [
    "geo_model.save_model_pickle(path='temp.pickle')"
   ]
  },
  {
   "cell_type": "markdown",
   "metadata": {},
   "source": [
    "## Iteractive DataFrame"
   ]
  },
  {
   "cell_type": "markdown",
   "metadata": {},
   "source": [
    "### Activating Qgrid\n",
    "\n",
    "Qgrid is only a gempy dependency. Therefore to use it, first we need to activate it in a given model by using:"
   ]
  },
  {
   "cell_type": "code",
   "execution_count": null,
   "metadata": {},
   "outputs": [],
   "source": [
    "gp.activate_interactive_df(geo_model)"
   ]
  },
  {
   "cell_type": "markdown",
   "metadata": {},
   "source": [
    "This will create the interactive dataframes objects. This dataframes are tightly linked to the main dataframes of each data class."
   ]
  },
  {
   "cell_type": "markdown",
   "metadata": {},
   "source": [
    "#### Series"
   ]
  },
  {
   "cell_type": "code",
   "execution_count": null,
   "metadata": {},
   "outputs": [],
   "source": [
    "geo_model.qi.qgrid_se"
   ]
  },
  {
   "cell_type": "markdown",
   "metadata": {},
   "source": [
    "#### Faults"
   ]
  },
  {
   "cell_type": "code",
   "execution_count": null,
   "metadata": {},
   "outputs": [],
   "source": [
    "geo_model.qi.qgrid_fa"
   ]
  },
  {
   "cell_type": "markdown",
   "metadata": {},
   "source": [
    "#### surfaces"
   ]
  },
  {
   "cell_type": "code",
   "execution_count": null,
   "metadata": {},
   "outputs": [],
   "source": [
    "geo_model.qi.qgrid_fo"
   ]
  },
  {
   "cell_type": "markdown",
   "metadata": {},
   "source": [
    "#### surface points"
   ]
  },
  {
   "cell_type": "code",
   "execution_count": null,
   "metadata": {},
   "outputs": [],
   "source": [
    "geo_model.qi.qgrid_in"
   ]
  },
  {
   "cell_type": "markdown",
   "metadata": {},
   "source": [
    "#### Orientations"
   ]
  },
  {
   "cell_type": "code",
   "execution_count": null,
   "metadata": {},
   "outputs": [],
   "source": [
    "geo_model.qi.qgrid_or"
   ]
  },
  {
   "cell_type": "markdown",
   "metadata": {},
   "source": [
    "Remember we are always changing the main df as well!"
   ]
  },
  {
   "cell_type": "markdown",
   "metadata": {},
   "source": [
    "### Plot"
   ]
  },
  {
   "cell_type": "code",
   "execution_count": null,
   "metadata": {},
   "outputs": [],
   "source": [
    "# Plot 2D\n",
    "map_view.remove(ax)\n",
    "map_view.plot_data(ax, direction='z', cell_number=5)\n",
    "\n",
    "profile_view.remove(ax2)\n",
    "profile_view.plot_lith(ax2, cell_number=5, legend ='force')\n",
    "\n",
    "#Plot 3D\n",
    "view_3D.plot_data()\n",
    "view_3D.plot_surfaces()\n",
    "view_3D.plot_structured_grid(opacity=.2, annotations = {3: 'H', 4:'G', 5:'D', 6:'C', 7:'B', 8:'A'})\n"
   ]
  },
  {
   "cell_type": "code",
   "execution_count": null,
   "metadata": {},
   "outputs": [],
   "source": [
    "#plot in vtk\n",
    "#gp.plot.plot_3D(geo_model)"
   ]
  },
  {
   "cell_type": "code",
   "execution_count": null,
   "metadata": {},
   "outputs": [],
   "source": [
    "%matplotlib inline\n",
    "gp.plot.plot_section(geo_model, cell_number=5)"
   ]
  },
  {
   "cell_type": "code",
   "execution_count": null,
   "metadata": {},
   "outputs": [],
   "source": []
  },
  {
   "cell_type": "code",
   "execution_count": null,
   "metadata": {},
   "outputs": [],
   "source": []
  },
  {
   "cell_type": "code",
   "execution_count": null,
   "metadata": {},
   "outputs": [],
   "source": []
  },
  {
   "cell_type": "code",
   "execution_count": null,
   "metadata": {},
   "outputs": [],
   "source": []
  }
 ],
 "metadata": {
  "kernelspec": {
   "display_name": "Python 3",
   "language": "python",
   "name": "python3"
  },
  "language_info": {
   "codemirror_mode": {
    "name": "ipython",
    "version": 3
   },
   "file_extension": ".py",
   "mimetype": "text/x-python",
   "name": "python",
   "nbconvert_exporter": "python",
   "pygments_lexer": "ipython3",
   "version": "3.7.4"
  }
 },
 "nbformat": 4,
 "nbformat_minor": 2
}
