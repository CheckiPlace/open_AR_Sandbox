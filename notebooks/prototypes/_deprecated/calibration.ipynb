{
 "cells": [
  {
   "cell_type": "markdown",
   "metadata": {},
   "source": [
    "# JSON serilization of calibration data"
   ]
  },
  {
   "cell_type": "code",
   "execution_count": 1,
   "metadata": {},
   "outputs": [],
   "source": [
    "import json"
   ]
  },
  {
   "cell_type": "code",
   "execution_count": 2,
   "metadata": {},
   "outputs": [],
   "source": [
    "class CalibrationData ():\n",
    "    \n",
    "    def __init__(self, file=None):\n",
    "        self.p_top_margin = 0\n",
    "        self.p_left_margin = 0\n",
    "        self.p_map_width = 0\n",
    "        self.p_map_height = 0\n",
    "        \n",
    "        if file is not None:\n",
    "            self.load_json(file)\n",
    "        \n",
    "    def load_json(self, file):\n",
    "        with open(file) as calibration_json:\n",
    "            self.__dict__ = json.load(calibration_json)\n",
    "        print(\"JSON configuration loaded.\")\n",
    "    \n",
    "    def save_json(self, file='calibration.json'):\n",
    "        with open(file, \"w\") as calibration_json:\n",
    "            json.dump(self.__dict__, calibration_json)\n",
    "        print('JSON configuration file saved:', str(file))"
   ]
  },
  {
   "cell_type": "markdown",
   "metadata": {},
   "source": [
    "## Create instance and save"
   ]
  },
  {
   "cell_type": "code",
   "execution_count": 3,
   "metadata": {},
   "outputs": [],
   "source": [
    "o = CalibrationData()"
   ]
  },
  {
   "cell_type": "code",
   "execution_count": 4,
   "metadata": {},
   "outputs": [],
   "source": [
    "o.p_left_margin = 20\n",
    "o.p_top_margin = 10\n",
    "o.p_map_height = 400\n",
    "o.p_map_width = 600"
   ]
  },
  {
   "cell_type": "code",
   "execution_count": 5,
   "metadata": {},
   "outputs": [
    {
     "data": {
      "text/plain": [
       "{'p_top_margin': 10,\n",
       " 'p_left_margin': 20,\n",
       " 'p_map_width': 600,\n",
       " 'p_map_height': 400}"
      ]
     },
     "execution_count": 5,
     "metadata": {},
     "output_type": "execute_result"
    }
   ],
   "source": [
    "o.__dict__"
   ]
  },
  {
   "cell_type": "code",
   "execution_count": 6,
   "metadata": {},
   "outputs": [
    {
     "name": "stdout",
     "output_type": "stream",
     "text": [
      "JSON configuration file saved: calibration.json\n"
     ]
    }
   ],
   "source": [
    "o.save_json()"
   ]
  },
  {
   "cell_type": "markdown",
   "metadata": {},
   "source": [
    "## Create new instance and overwrite configuration"
   ]
  },
  {
   "cell_type": "code",
   "execution_count": 7,
   "metadata": {},
   "outputs": [],
   "source": [
    "t = CalibrationData()"
   ]
  },
  {
   "cell_type": "code",
   "execution_count": 8,
   "metadata": {},
   "outputs": [
    {
     "data": {
      "text/plain": [
       "{'p_top_margin': 0, 'p_left_margin': 0, 'p_map_width': 0, 'p_map_height': 0}"
      ]
     },
     "execution_count": 8,
     "metadata": {},
     "output_type": "execute_result"
    }
   ],
   "source": [
    "t.__dict__"
   ]
  },
  {
   "cell_type": "code",
   "execution_count": 10,
   "metadata": {},
   "outputs": [
    {
     "name": "stdout",
     "output_type": "stream",
     "text": [
      "JSON configuration loaded.\n"
     ]
    }
   ],
   "source": [
    "t.load_json('calibration.json')"
   ]
  },
  {
   "cell_type": "code",
   "execution_count": 11,
   "metadata": {},
   "outputs": [
    {
     "data": {
      "text/plain": [
       "{'p_top_margin': 10,\n",
       " 'p_left_margin': 20,\n",
       " 'p_map_width': 600,\n",
       " 'p_map_height': 400}"
      ]
     },
     "execution_count": 11,
     "metadata": {},
     "output_type": "execute_result"
    }
   ],
   "source": [
    "t.__dict__"
   ]
  },
  {
   "cell_type": "markdown",
   "metadata": {},
   "source": [
    "## New instance with predefined import file"
   ]
  },
  {
   "cell_type": "code",
   "execution_count": 12,
   "metadata": {},
   "outputs": [
    {
     "name": "stdout",
     "output_type": "stream",
     "text": [
      "JSON configuration loaded.\n"
     ]
    },
    {
     "data": {
      "text/plain": [
       "{'p_top_margin': 10,\n",
       " 'p_left_margin': 20,\n",
       " 'p_map_width': 600,\n",
       " 'p_map_height': 400}"
      ]
     },
     "execution_count": 12,
     "metadata": {},
     "output_type": "execute_result"
    }
   ],
   "source": [
    "l = CalibrationData('calibration.json')\n",
    "l.__dict__"
   ]
  },
  {
   "cell_type": "code",
   "execution_count": null,
   "metadata": {},
   "outputs": [],
   "source": []
  }
 ],
 "metadata": {
  "kernelspec": {
   "display_name": "Python 3",
   "language": "python",
   "name": "python3"
  },
  "language_info": {
   "codemirror_mode": {
    "name": "ipython",
    "version": 3
   },
   "file_extension": ".py",
   "mimetype": "text/x-python",
   "name": "python",
   "nbconvert_exporter": "python",
   "pygments_lexer": "ipython3",
   "version": "3.7.3"
  }
 },
 "nbformat": 4,
 "nbformat_minor": 4
}
