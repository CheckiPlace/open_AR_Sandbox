{
 "cells": [
  {
   "cell_type": "markdown",
   "metadata": {},
   "source": [
    "# Basic model infrastructure and resampling\n",
    "uses the sandbox_model.py toolbox\n",
    "\n",
    "WARNING! This has not been tested on real data. Please check if resonable, especially when reshaping 1D arrays to fit grid model!"
   ]
  },
  {
   "cell_type": "code",
   "execution_count": 1,
   "metadata": {},
   "outputs": [],
   "source": [
    "import os,sys\n",
    "sys.path.append('../../sandbox')\n",
    "\n",
    "#import sandbox as sb\n",
    "import sandbox_model as sm\n",
    "\n",
    "import numpy as np\n",
    "import pandas as pd"
   ]
  },
  {
   "cell_type": "markdown",
   "metadata": {},
   "source": [
    "First, we create an artificial dataset. That could be the coordinate and value representation of a parsed model, that is based on irregular grid cells. Here we assume, we get the locations of the cell midpoints."
   ]
  },
  {
   "cell_type": "code",
   "execution_count": 2,
   "metadata": {},
   "outputs": [],
   "source": [
    "def create_some_data(size = 120*166*105):\n",
    "    x = np.random.random(size=size) * 300\n",
    "    y = np.random.random(size=size) * 400\n",
    "    z = np.random.random(size=size) * 100\n",
    "    \n",
    "    # Assume a paramter of grid cells, named zone\n",
    "    zone = np.random.randint(0,64+1, size=size)\n",
    "    \n",
    "    return pd.DataFrame.from_dict({'x': x, 'y': y, 'z': z, 'zone': zone})"
   ]
  },
  {
   "cell_type": "code",
   "execution_count": 3,
   "metadata": {},
   "outputs": [
    {
     "data": {
      "text/html": [
       "<div>\n",
       "<style scoped>\n",
       "    .dataframe tbody tr th:only-of-type {\n",
       "        vertical-align: middle;\n",
       "    }\n",
       "\n",
       "    .dataframe tbody tr th {\n",
       "        vertical-align: top;\n",
       "    }\n",
       "\n",
       "    .dataframe thead th {\n",
       "        text-align: right;\n",
       "    }\n",
       "</style>\n",
       "<table border=\"1\" class=\"dataframe\">\n",
       "  <thead>\n",
       "    <tr style=\"text-align: right;\">\n",
       "      <th></th>\n",
       "      <th>x</th>\n",
       "      <th>y</th>\n",
       "      <th>z</th>\n",
       "      <th>zone</th>\n",
       "    </tr>\n",
       "  </thead>\n",
       "  <tbody>\n",
       "    <tr>\n",
       "      <th>0</th>\n",
       "      <td>135.931242</td>\n",
       "      <td>393.248549</td>\n",
       "      <td>17.752643</td>\n",
       "      <td>34</td>\n",
       "    </tr>\n",
       "    <tr>\n",
       "      <th>1</th>\n",
       "      <td>162.933637</td>\n",
       "      <td>73.861392</td>\n",
       "      <td>86.891709</td>\n",
       "      <td>11</td>\n",
       "    </tr>\n",
       "    <tr>\n",
       "      <th>2</th>\n",
       "      <td>20.880435</td>\n",
       "      <td>247.728998</td>\n",
       "      <td>8.023002</td>\n",
       "      <td>44</td>\n",
       "    </tr>\n",
       "  </tbody>\n",
       "</table>\n",
       "</div>"
      ],
      "text/plain": [
       "            x           y          z  zone\n",
       "0  135.931242  393.248549  17.752643    34\n",
       "1  162.933637   73.861392  86.891709    11\n",
       "2   20.880435  247.728998   8.023002    44"
      ]
     },
     "execution_count": 3,
     "metadata": {},
     "output_type": "execute_result"
    }
   ],
   "source": [
    "data = create_some_data()\n",
    "data.head(3)"
   ]
  },
  {
   "cell_type": "markdown",
   "metadata": {},
   "source": [
    "## Grid / model creation"
   ]
  },
  {
   "cell_type": "markdown",
   "metadata": {},
   "source": [
    "Now, we create a basic grid. We provide coordintes as 1D numpy ranges:"
   ]
  },
  {
   "cell_type": "code",
   "execution_count": 4,
   "metadata": {},
   "outputs": [],
   "source": [
    "gx = np.arange(0,300,1)\n",
    "gy = np.arange(0,400,1)\n",
    "gz = np.arange(0,100,1)\n",
    "grid = sm.Model(gx, gy, gz)"
   ]
  },
  {
   "cell_type": "markdown",
   "metadata": {},
   "source": [
    "### Some methods\n",
    "Unsure about the dimensions, or the shape, you numpy array should have?"
   ]
  },
  {
   "cell_type": "code",
   "execution_count": 5,
   "metadata": {},
   "outputs": [
    {
     "data": {
      "text/plain": [
       "(300, 400, 100)"
      ]
     },
     "execution_count": 5,
     "metadata": {},
     "output_type": "execute_result"
    }
   ],
   "source": [
    "grid.dimensions"
   ]
  },
  {
   "cell_type": "markdown",
   "metadata": {},
   "source": [
    "Right now, there are no attributes saved. That could be the resampled zones, lithology or simply a mask.\n",
    "\n",
    "Let's add something :)"
   ]
  },
  {
   "cell_type": "code",
   "execution_count": 6,
   "metadata": {},
   "outputs": [],
   "source": [
    "density = np.empty((300,400,100))"
   ]
  },
  {
   "cell_type": "code",
   "execution_count": 7,
   "metadata": {},
   "outputs": [],
   "source": [
    "grid.add_attribute('density', density)"
   ]
  },
  {
   "cell_type": "code",
   "execution_count": 8,
   "metadata": {},
   "outputs": [
    {
     "data": {
      "text/plain": [
       "['X', 'Y', 'Z', 'density']"
      ]
     },
     "execution_count": 8,
     "metadata": {},
     "output_type": "execute_result"
    }
   ],
   "source": [
    "grid.list_attributes() # also prints out the coordinates, because it can be unordered after reloading..."
   ]
  },
  {
   "cell_type": "markdown",
   "metadata": {},
   "source": [
    "We can also save and load the model. This is based on the netCDF format. When loading, everything will be override!!!"
   ]
  },
  {
   "cell_type": "code",
   "execution_count": 9,
   "metadata": {},
   "outputs": [],
   "source": [
    "grid.save('grid.nc')"
   ]
  },
  {
   "cell_type": "code",
   "execution_count": 10,
   "metadata": {},
   "outputs": [],
   "source": [
    "grid.load('grid.nc')"
   ]
  },
  {
   "cell_type": "markdown",
   "metadata": {},
   "source": [
    "Especially for the resampling we need a list of point coordinates, like np.meshgrid and np.stack creates:"
   ]
  },
  {
   "cell_type": "code",
   "execution_count": 11,
   "metadata": {},
   "outputs": [
    {
     "data": {
      "text/plain": [
       "array([[  0,   0,   0],\n",
       "       [  0,   0,   1],\n",
       "       [  0,   0,   2],\n",
       "       ...,\n",
       "       [299, 399,  97],\n",
       "       [299, 399,  98],\n",
       "       [299, 399,  99]], dtype=int32)"
      ]
     },
     "execution_count": 11,
     "metadata": {},
     "output_type": "execute_result"
    }
   ],
   "source": [
    "grid.get_coords()"
   ]
  },
  {
   "cell_type": "markdown",
   "metadata": {},
   "source": [
    "To see the xarray dataset behind, just call:"
   ]
  },
  {
   "cell_type": "code",
   "execution_count": 12,
   "metadata": {},
   "outputs": [
    {
     "data": {
      "text/plain": [
       "<xarray.Dataset>\n",
       "Dimensions:  (X: 300, Y: 400, Z: 100)\n",
       "Coordinates:\n",
       "  * Y        (Y) int32 0 1 2 3 4 5 6 7 8 ... 391 392 393 394 395 396 397 398 399\n",
       "  * X        (X) int32 0 1 2 3 4 5 6 7 8 ... 291 292 293 294 295 296 297 298 299\n",
       "  * Z        (Z) int32 0 1 2 3 4 5 6 7 8 9 10 ... 90 91 92 93 94 95 96 97 98 99\n",
       "Data variables:\n",
       "    density  (X, Y, Z) float64 ..."
      ]
     },
     "execution_count": 12,
     "metadata": {},
     "output_type": "execute_result"
    }
   ],
   "source": [
    "grid.dataset"
   ]
  },
  {
   "cell_type": "markdown",
   "metadata": {},
   "source": [
    "## Resampling"
   ]
  },
  {
   "cell_type": "markdown",
   "metadata": {},
   "source": [
    "We init a resampling object and pass our already created grid:"
   ]
  },
  {
   "cell_type": "code",
   "execution_count": 13,
   "metadata": {},
   "outputs": [],
   "source": [
    "resampling = sm.Resampling(grid)"
   ]
  },
  {
   "cell_type": "markdown",
   "metadata": {},
   "source": [
    "This class uses the Spotify Annoy library to find nearest neighbours of each grid cell inside the data positions. Therefore, a data lookup object with a tree forest has to be created.\n",
    "Increasing the number of trees increases accuracy. That means, not all grid cells will be estimated correct! It is a trade-off between estimation (maybe 10 minutes) and perfect calculation, which could take several days.\n",
    "\n",
    "_Reference: https://github.com/spotify/annoy_"
   ]
  },
  {
   "cell_type": "code",
   "execution_count": 14,
   "metadata": {},
   "outputs": [
    {
     "data": {
      "application/vnd.jupyter.widget-view+json": {
       "model_id": "0925190816774b6b9e8083310cd1fb62",
       "version_major": 2,
       "version_minor": 0
      },
      "text/plain": [
       "HBox(children=(IntProgress(value=0, description='Building data lookup...', max=2091600, style=ProgressStyle(de…"
      ]
     },
     "metadata": {},
     "output_type": "display_data"
    },
    {
     "name": "stdout",
     "output_type": "stream",
     "text": [
      "\n",
      "Building trees... (That can take a while)\n"
     ]
    }
   ],
   "source": [
    "resampling.build_data_lookup(data.iloc[:,0:3].values, tree_number=10)"
   ]
  },
  {
   "cell_type": "markdown",
   "metadata": {},
   "source": [
    "Because building the trees takes a while, we can save and load them again"
   ]
  },
  {
   "cell_type": "code",
   "execution_count": 20,
   "metadata": {},
   "outputs": [],
   "source": [
    "resampling.save_lookup('data_lookup.ann')"
   ]
  },
  {
   "cell_type": "code",
   "execution_count": 14,
   "metadata": {},
   "outputs": [],
   "source": [
    "resampling.load_lookup('data_lookup.ann') # Bug! Calculating distances does not work afterwards"
   ]
  },
  {
   "cell_type": "markdown",
   "metadata": {},
   "source": [
    "Let's find the nearest neighbours for each grid cell, all grid cells that don't have one within 10 units, can be masked later as empty/invalid."
   ]
  },
  {
   "cell_type": "code",
   "execution_count": 15,
   "metadata": {},
   "outputs": [
    {
     "data": {
      "application/vnd.jupyter.widget-view+json": {
       "model_id": "429fcaa6e0594b7bbef9618c9460fbd8",
       "version_major": 2,
       "version_minor": 0
      },
      "text/plain": [
       "HBox(children=(IntProgress(value=0, description='Calculating distances...', max=12000000, style=ProgressStyle(…"
      ]
     },
     "metadata": {},
     "output_type": "display_data"
    },
    {
     "name": "stdout",
     "output_type": "stream",
     "text": [
      "\n",
      "Creating and applying mask...\n"
     ]
    },
    {
     "data": {
      "text/plain": [
       "True"
      ]
     },
     "execution_count": 15,
     "metadata": {},
     "output_type": "execute_result"
    }
   ],
   "source": [
    "resampling.find_nearest_neighbours(threshold=10)"
   ]
  },
  {
   "cell_type": "markdown",
   "metadata": {},
   "source": [
    "## What's next?"
   ]
  },
  {
   "cell_type": "markdown",
   "metadata": {},
   "source": [
    "This creates two important variables:\n",
    "\n",
    "* **indices:** An 1D array of indices for each grid cell, to look up values in the data\n",
    "* **mask** An 1D array that masks grid cells as true that could find a data point within the defined treshold distance "
   ]
  },
  {
   "cell_type": "code",
   "execution_count": 17,
   "metadata": {},
   "outputs": [
    {
     "data": {
      "text/plain": [
       "array([   7263,    7263,    7263, ...,  861012,  312140, 1362224])"
      ]
     },
     "execution_count": 17,
     "metadata": {},
     "output_type": "execute_result"
    }
   ],
   "source": [
    "resampling.indices"
   ]
  },
  {
   "cell_type": "code",
   "execution_count": 18,
   "metadata": {},
   "outputs": [
    {
     "data": {
      "text/plain": [
       "array([ True,  True,  True, ...,  True,  True,  True])"
      ]
     },
     "execution_count": 18,
     "metadata": {},
     "output_type": "execute_result"
    }
   ],
   "source": [
    "resampling.mask"
   ]
  },
  {
   "cell_type": "markdown",
   "metadata": {},
   "source": [
    "Let's add at least the mask to our grid"
   ]
  },
  {
   "cell_type": "code",
   "execution_count": 19,
   "metadata": {},
   "outputs": [
    {
     "name": "stdout",
     "output_type": "stream",
     "text": [
      "Cannot assign array. Model dimensions are: (300, 400, 100)\n"
     ]
    }
   ],
   "source": [
    "grid.add_attribute('mask', resampling.mask)"
   ]
  },
  {
   "cell_type": "markdown",
   "metadata": {},
   "source": [
    "Yep..."
   ]
  },
  {
   "cell_type": "code",
   "execution_count": 20,
   "metadata": {},
   "outputs": [],
   "source": [
    "mask = resampling.mask.reshape(grid.dimensions)"
   ]
  },
  {
   "cell_type": "code",
   "execution_count": 21,
   "metadata": {},
   "outputs": [],
   "source": [
    "grid.add_attribute('mask', mask)"
   ]
  },
  {
   "cell_type": "code",
   "execution_count": 22,
   "metadata": {},
   "outputs": [
    {
     "data": {
      "text/plain": [
       "['X', 'Y', 'Z', 'density', 'mask']"
      ]
     },
     "execution_count": 22,
     "metadata": {},
     "output_type": "execute_result"
    }
   ],
   "source": [
    "grid.list_attributes()"
   ]
  },
  {
   "cell_type": "markdown",
   "metadata": {},
   "source": [
    "## Example: Map zones to grid"
   ]
  },
  {
   "cell_type": "code",
   "execution_count": 23,
   "metadata": {},
   "outputs": [],
   "source": [
    "# Map data values to grid cells\n",
    "grid_zones = data['zone'].values[resampling.indices]"
   ]
  },
  {
   "cell_type": "code",
   "execution_count": 24,
   "metadata": {},
   "outputs": [],
   "source": [
    "# Use mask to set invalid cells\n",
    "grid_zones = np.where(resampling.mask, grid_zones, np.nan)"
   ]
  },
  {
   "cell_type": "code",
   "execution_count": 26,
   "metadata": {},
   "outputs": [],
   "source": [
    "# Add to grid :)\n",
    "grid.add_attribute('zone', grid_zones.reshape(grid.dimensions))"
   ]
  },
  {
   "cell_type": "code",
   "execution_count": 27,
   "metadata": {},
   "outputs": [
    {
     "data": {
      "text/plain": [
       "['X', 'Y', 'Z', 'density', 'mask', 'zone']"
      ]
     },
     "execution_count": 27,
     "metadata": {},
     "output_type": "execute_result"
    }
   ],
   "source": [
    "grid.list_attributes()"
   ]
  },
  {
   "cell_type": "code",
   "execution_count": 29,
   "metadata": {},
   "outputs": [
    {
     "data": {
      "text/plain": [
       "array([[[12., 12., 12., ..., 48., 45.,  9.],\n",
       "        [12., 12., 12., ..., 45., 45.,  9.],\n",
       "        [56., 61., 12., ..., 45., 45.,  9.],\n",
       "        ...,\n",
       "        [19., 52., 47., ...,  1.,  1., 17.],\n",
       "        [ 9., 47., 47., ...,  1.,  1., 17.],\n",
       "        [ 9.,  9.,  9., ..., 64.,  1., 17.]],\n",
       "\n",
       "       [[ 9., 61., 11., ..., 64., 46., 46.],\n",
       "        [61., 61., 11., ..., 46., 46., 46.],\n",
       "        [61., 13., 13., ..., 64., 64., 63.],\n",
       "        ...,\n",
       "        [ 0.,  0.,  0., ...,  7., 61., 61.],\n",
       "        [ 2., 10.,  6., ..., 62.,  7., 32.],\n",
       "        [55., 55., 55., ..., 62., 56., 32.]],\n",
       "\n",
       "       [[55., 55., 55., ..., 42., 16.,  6.],\n",
       "        [32., 32., 32., ..., 16., 16.,  6.],\n",
       "        [32., 60., 60., ..., 51., 51., 24.],\n",
       "        ...,\n",
       "        [64.,  3.,  3., ...,  4., 61., 61.],\n",
       "        [ 3.,  3.,  3., ..., 15.,  9.,  9.],\n",
       "        [33., 33., 63., ..., 23., 23.,  9.]],\n",
       "\n",
       "       ...,\n",
       "\n",
       "       [[ 5.,  5., 23., ..., 33., 33., 34.],\n",
       "        [ 5., 24., 23., ..., 51., 51., 34.],\n",
       "        [24., 24., 45., ..., 51., 34., 34.],\n",
       "        ...,\n",
       "        [21., 62.,  8., ...,  7.,  4., 51.],\n",
       "        [21., 62., 15., ...,  4.,  7., 51.],\n",
       "        [21., 21., 15., ..., 15., 57., 57.]],\n",
       "\n",
       "       [[24., 14., 14., ..., 15.,  4., 18.],\n",
       "        [14., 14., 14., ...,  8., 18., 18.],\n",
       "        [14., 22., 22., ...,  8., 50., 18.],\n",
       "        ...,\n",
       "        [11., 40., 40., ..., 22., 12., 12.],\n",
       "        [37., 37., 40., ..., 37., 36., 36.],\n",
       "        [37., 37., 37., ..., 37., 37., 36.]],\n",
       "\n",
       "       [[30., 30., 30., ..., 37., 37., 41.],\n",
       "        [30., 30., 51., ..., 34., 34., 34.],\n",
       "        [29., 29., 54., ..., 59.,  3.,  3.],\n",
       "        ...,\n",
       "        [54., 52., 52., ..., 23., 43.,  0.],\n",
       "        [54., 52., 59., ..., 23., 43., 43.],\n",
       "        [59., 59., 59., ..., 17., 43., 24.]]])"
      ]
     },
     "execution_count": 29,
     "metadata": {},
     "output_type": "execute_result"
    }
   ],
   "source": [
    "# How to get model for visualization?\n",
    "grid.get_attribute('zone')"
   ]
  },
  {
   "cell_type": "code",
   "execution_count": null,
   "metadata": {},
   "outputs": [],
   "source": [
    "\n"
   ]
  }
 ],
 "metadata": {
  "kernelspec": {
   "display_name": "Python 3",
   "language": "python",
   "name": "python3"
  },
  "language_info": {
   "codemirror_mode": {
    "name": "ipython",
    "version": 3
   },
   "file_extension": ".py",
   "mimetype": "text/x-python",
   "name": "python",
   "nbconvert_exporter": "python",
   "pygments_lexer": "ipython3",
   "version": "3.6.8"
  }
 },
 "nbformat": 4,
 "nbformat_minor": 4
}
