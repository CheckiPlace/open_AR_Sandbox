{
 "cells": [
  {
   "cell_type": "markdown",
   "metadata": {},
   "source": [
    "# Visualizing RMS Grid datasets in the sandbox\n",
    "\n",
    "First we import the necessary modules:"
   ]
  },
  {
   "cell_type": "code",
   "execution_count": null,
   "metadata": {},
   "outputs": [],
   "source": [
    "import os,sys\n",
    "#set the path to the Sandbox repository\n",
    "sys.path.append('../../../')\n",
    "#import the sandbox\n",
    "import sandbox as sb\n",
    "import matplotlib.pyplot as plt"
   ]
  },
  {
   "cell_type": "markdown",
   "metadata": {},
   "source": [
    "## Block Module\n",
    "The Sandbox.BlockModule class contains all necessary methods to visualize RMS grid data. In the following steps we will create an instance of the module and load one or more RMS grids from VIP Datasets. Furthermore we will call methods to specify a custom colorbar and range for some datasets. \n",
    "For now the dimensions of the RMS grid are scaled to the dimensions of the sandbox, so if you need for example a larger vertical block size, adjust the vertical range accordingly. The horizontal aspect ratio of the sandbox is 1.2:1. Any model with a similar aspect ratio should look just fine. "
   ]
  },
  {
   "cell_type": "code",
   "execution_count": null,
   "metadata": {},
   "outputs": [],
   "source": [
    "#instantiate the block module module to display RMS Grids:\n",
    "module = sb.RMS_Grid()"
   ]
  },
  {
   "cell_type": "code",
   "execution_count": null,
   "metadata": {
    "scrolled": true
   },
   "outputs": [],
   "source": [
    "# specify path to the folder where the grids are stored: \n",
    "#grid_folder='/Users/simon/Documents/Equinor/grids/'\n",
    "grid_folder='/Users/Admin/PycharmProjects/open_AR_Sandbox/grids_do_not_push/'\n",
    "\n",
    "#load a dataset \n",
    "module.load_model_vip(grid_folder+'VIP_for_UKA.corp')\n",
    "\n",
    "#optional: load an additional block file and append it to the loaded dataset:\n",
    "#you can import multiple datasets as long as they share the model dimensions nx,ny,nz.\n",
    "\n",
    "additional_block_file=open(grid_folder+'VIP_ntg_fluid.fluid.inc', 'r')\n",
    "module.parse_block_vip(additional_block_file, module.block_dict,\"fluid\", module.nx, module.ny, module.nz)\n",
    "\n",
    "additional_block_file=open(grid_folder+'VIP_ntg_fluid.ntg.inc', 'r')\n",
    "module.parse_block_vip(additional_block_file, module.block_dict,\"ntg\", module.nx, module.ny, module.nz)\n",
    "\n",
    "#show the loaded datasets:\n",
    "module.block_dict.keys()"
   ]
  },
  {
   "cell_type": "markdown",
   "metadata": {},
   "source": [
    "## create reservoir topography map\n"
   ]
  },
  {
   "cell_type": "code",
   "execution_count": null,
   "metadata": {},
   "outputs": [],
   "source": [
    "module.create_reservoir_topo()"
   ]
  },
  {
   "cell_type": "code",
   "execution_count": null,
   "metadata": {},
   "outputs": [],
   "source": [
    "#preview the reservoir topography:\n",
    "plt.axis('equal')\n",
    "plt.contour(module.reservoir_topography)"
   ]
  },
  {
   "cell_type": "markdown",
   "metadata": {},
   "source": [
    "## convert to a regular grid\n",
    "interpolate and convert the irregular RMS grids into a regular grid. \n",
    "The default values for the regridding are the native resolution of the kinect and 100 depth levels. you can change the defaults by setting module.regridding_resolution, e.g. for testing (lower resolution will calculate a bit faster).\n",
    "\n",
    "This task will run for several minutes per dataset."
   ]
  },
  {
   "cell_type": "code",
   "execution_count": null,
   "metadata": {},
   "outputs": [],
   "source": [
    "module.regridding_resolution = [424,512,2*module.nz] \n",
    "module.convert_to_regular_grid()"
   ]
  },
  {
   "cell_type": "code",
   "execution_count": null,
   "metadata": {},
   "outputs": [],
   "source": [
    "# preview a slice from the dataset\n",
    "depth = 50\n",
    "key = 'mask'\n",
    "\n",
    "block=module.regular_grid_dict[key]\n",
    "plt.axis('equal')\n",
    "plt.pcolormesh(block[:,:,depth])"
   ]
  },
  {
   "cell_type": "code",
   "execution_count": null,
   "metadata": {},
   "outputs": [],
   "source": [
    "block=module.block_dict[key]\n",
    "plt.axis('equal')\n",
    "plt.pcolormesh(block[:,:,depth])"
   ]
  },
  {
   "cell_type": "markdown",
   "metadata": {},
   "source": [
    "## save dataset\n",
    "We save the caalculated regular grid to a file so conversion have to be done only once per dataset. \n",
    "The file can be loaded into the Sandbox with BlockModule.load_model(filename). "
   ]
  },
  {
   "cell_type": "code",
   "execution_count": null,
   "metadata": {
    "slideshow": {
     "slide_type": "slide"
    }
   },
   "outputs": [],
   "source": [
    "# save dataset to file\n",
    "module.save(grid_folder+\"VIP_for_UKA_linear.pickle\")"
   ]
  }
 ],
 "metadata": {
  "kernelspec": {
   "display_name": "Python 3",
   "language": "python",
   "name": "python3"
  },
  "language_info": {
   "codemirror_mode": {
    "name": "ipython",
    "version": 3
   },
   "file_extension": ".py",
   "mimetype": "text/x-python",
   "name": "python",
   "nbconvert_exporter": "python",
   "pygments_lexer": "ipython3",
   "version": "3.7.5"
  }
 },
 "nbformat": 4,
 "nbformat_minor": 4
}
