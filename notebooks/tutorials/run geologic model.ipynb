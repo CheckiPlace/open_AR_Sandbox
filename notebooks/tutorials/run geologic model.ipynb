{
 "cells": [
  {
   "cell_type": "code",
   "execution_count": 1,
   "metadata": {},
   "outputs": [
    {
     "name": "stderr",
     "output_type": "stream",
     "text": [
      "../../../gempy/gempy/plotting/visualization.py:36: UserWarning: Steno 3D package is not installed. No 3D online visualization available.\n",
      "  warnings.warn('Steno 3D package is not installed. No 3D online visualization available.')\n",
      "../../../gempy/gempy/posterior_analysis.py:28: UserWarning: pymc (v3) package is not installed. No support for stochastic simulation posterior analysis.\n",
      "  warnings.warn(\"pymc (v3) package is not installed. No support for stochastic simulation posterior analysis.\")\n",
      "../../sandbox/sandbox.py:34: RuntimeWarning: Two kernels cannot access the kinect at the same time. This will lead to a sudden death of the kernel. Be sure no other kernel is running before initialize a kinect object.\n",
      "  'Be sure no other kernel is running before initialize a kinect object.', RuntimeWarning)\n"
     ]
    }
   ],
   "source": [
    "import os,sys\n",
    "sys.path.append('../..')\n",
    "sys.path.append('../../../gempy/')\n",
    "import sandbox.sandbox as sb\n",
    "\n",
    "import gempy as gp\n",
    "#import gempy_sandbox a   s gpsb\n",
    "import numpy as np\n",
    "#from PIL import Image, ImageDraw\n",
    "import pickle"
   ]
  },
  {
   "cell_type": "markdown",
   "metadata": {},
   "source": [
    "### Set up the sandbox \n",
    "\n",
    "First we activate the kinect"
   ]
  },
  {
   "cell_type": "code",
   "execution_count": 2,
   "metadata": {},
   "outputs": [
    {
     "name": "stdout",
     "output_type": "stream",
     "text": [
      "dummy mode. get_frame() will return a synthetic depth frame, other functions may not work\n"
     ]
    }
   ],
   "source": [
    "kinect = sb.Kinect(dummy=True)"
   ]
  },
  {
   "cell_type": "markdown",
   "metadata": {},
   "source": [
    "Now we can set up the projector settings:"
   ]
  },
  {
   "cell_type": "code",
   "execution_count": 3,
   "metadata": {},
   "outputs": [],
   "source": [
    "projector = sb.Projector(resolution = (1024,768), work_directory='./temp',\n",
    "                        refresh=100, input_rescale=False)"
   ]
  },
  {
   "cell_type": "markdown",
   "metadata": {},
   "source": [
    "Next is to pass the calibration---kinect-projector---to the projector class to be able to project just on the sandbox"
   ]
  },
  {
   "cell_type": "code",
   "execution_count": 4,
   "metadata": {},
   "outputs": [
    {
     "name": "stdout",
     "output_type": "stream",
     "text": [
      "calibration data file not found. Using default values\n"
     ]
    }
   ],
   "source": [
    "calibration_filename = \"sandbox_brisbane.dat\" \n",
    "calibration = sb.Calibration(projector)\n",
    "calibration.load(calibration_file=calibration_filename)\n",
    "projector.set_calibration(calibration)\n",
    "projector.start_stream()   "
   ]
  },
  {
   "cell_type": "markdown",
   "metadata": {},
   "source": [
    "Also we need to set up the general options of Matplotlib (the library to create the models). Here we are passing the colors of GemPy simply for consistency."
   ]
  },
  {
   "cell_type": "code",
   "execution_count": 5,
   "metadata": {},
   "outputs": [],
   "source": [
    "plot_im = sb.Plot(\n",
    "    calibration=calibration,\n",
    "    cmap=gp.plotting.colors.cmap,\n",
    "    norm=gp.plotting.colors.norm\n",
    "    )"
   ]
  },
  {
   "cell_type": "markdown",
   "metadata": {},
   "source": [
    "### Setup the model gempy model\n",
    "\n",
    "Now we need to generate the map that we want to poject. In the case of a geological map we will use GemPy.\n",
    "\n",
    "First we need to load the underlaying 3D model. We can find some examples in the GemPy library"
   ]
  },
  {
   "cell_type": "code",
   "execution_count": 6,
   "metadata": {},
   "outputs": [],
   "source": [
    "geo_model = gp.read_pickle(r'../../../gempy/notebooks/examples/Models_Lisa/lisa-1.pickle')"
   ]
  },
  {
   "cell_type": "markdown",
   "metadata": {},
   "source": [
    "We want to scale the sandbox to the model extent. We can see a gempy model extent by"
   ]
  },
  {
   "cell_type": "code",
   "execution_count": 7,
   "metadata": {},
   "outputs": [
    {
     "data": {
      "text/plain": [
       "array([   0, 2000,    0, 2000,    0, 1600])"
      ]
     },
     "execution_count": 7,
     "metadata": {},
     "output_type": "execute_result"
    }
   ],
   "source": [
    "geo_model._geo_data.extent"
   ]
  },
  {
   "cell_type": "code",
   "execution_count": 8,
   "metadata": {},
   "outputs": [],
   "source": [
    "# pass that extent\n",
    "model_extent = geo_model._geo_data.extent"
   ]
  },
  {
   "cell_type": "markdown",
   "metadata": {},
   "source": [
    "### Create sandbox grid following the right scale sandbox-model"
   ]
  },
  {
   "cell_type": "markdown",
   "metadata": {},
   "source": [
    "Now we need to connect the cloud of points recorded by the kinect to the scale of geological model"
   ]
  },
  {
   "cell_type": "code",
   "execution_count": 9,
   "metadata": {},
   "outputs": [
    {
     "name": "stdout",
     "output_type": "stream",
     "text": [
      "Aspect ratio of the model is fixed in XY\n",
      "Model size is limited by Y dimension\n",
      "scale in Model units/ mm (X,Y,Z): [2.666666666666667, 3.3333333333333335, 2.6666666666666665]\n",
      "the shown extent is [0.0, 2662.5, 0.0, 1995.8333333333335] \n"
     ]
    }
   ],
   "source": [
    "scale=sb.Scale(extent=model_extent, calibration=calibration) #initialize scale object to handle the scaling of the model in the andbox\n",
    "scale.calculate_scales()\n",
    "grid = sb.Grid(calibration=calibration,scale=scale)"
   ]
  },
  {
   "cell_type": "markdown",
   "metadata": {},
   "source": [
    "### Create the GeoMap module for the Sandbox\n",
    "\n",
    "To increase the flexibility of the sandbox and generalize the hyperthreading (i.e. getting the sandbox running without blocking python), we have create a modules systems. This modules are classes that encapsulate the specific functionality for each type of map that we want to render. Lets create the geological map module."
   ]
  },
  {
   "cell_type": "code",
   "execution_count": 10,
   "metadata": {},
   "outputs": [
    {
     "data": {
      "text/plain": [
       "'./temp'"
      ]
     },
     "execution_count": 10,
     "metadata": {},
     "output_type": "execute_result"
    }
   ],
   "source": [
    "projector.work_directory"
   ]
  },
  {
   "cell_type": "code",
   "execution_count": 11,
   "metadata": {},
   "outputs": [],
   "source": [
    "geo_module = sb.GeoMapModule(geo_model, grid, plot_im,\n",
    "                             work_directory=projector.work_directory)"
   ]
  },
  {
   "cell_type": "code",
   "execution_count": 12,
   "metadata": {},
   "outputs": [
    {
     "name": "stderr",
     "output_type": "stream",
     "text": [
      "/home/miguel/anaconda3/lib/python3.6/site-packages/theano/tensor/subtensor.py:2339: FutureWarning: Using a non-tuple sequence for multidimensional indexing is deprecated; use `arr[tuple(seq)]` instead of `arr[seq]`. In the future this will be interpreted as an array index, `arr[np.array(seq)]`, which will result either in an error or a different result.\n",
      "  out[0][inputs[2:]] = inputs[1]\n"
     ]
    }
   ],
   "source": [
    "geo_module.render_geo_map(*geo_module.compute_model(kinect.get_filtered_frame()))"
   ]
  },
  {
   "cell_type": "markdown",
   "metadata": {},
   "source": [
    "### Hyperthreading"
   ]
  },
  {
   "cell_type": "code",
   "execution_count": 13,
   "metadata": {},
   "outputs": [],
   "source": [
    "s_thread = sb.SandboxThread(geo_module, kinect, projector)"
   ]
  },
  {
   "cell_type": "code",
   "execution_count": 14,
   "metadata": {},
   "outputs": [],
   "source": [
    "s_thread.run()"
   ]
  },
  {
   "cell_type": "code",
   "execution_count": 14,
   "metadata": {},
   "outputs": [
    {
     "name": "stderr",
     "output_type": "stream",
     "text": [
      "/home/miguel/anaconda3/lib/python3.6/site-packages/theano/tensor/subtensor.py:2339: FutureWarning: Using a non-tuple sequence for multidimensional indexing is deprecated; use `arr[tuple(seq)]` instead of `arr[seq]`. In the future this will be interpreted as an array index, `arr[np.array(seq)]`, which will result either in an error or a different result.\n",
      "  out[0][inputs[2:]] = inputs[1]\n",
      "Exception in thread Thread-12:\n",
      "Traceback (most recent call last):\n",
      "  File \"/home/miguel/anaconda3/lib/python3.6/threading.py\", line 916, in _bootstrap_inner\n",
      "    self.run()\n",
      "  File \"/home/miguel/anaconda3/lib/python3.6/threading.py\", line 864, in run\n",
      "    self._target(*self._args, **self._kwargs)\n",
      "  File \"../../sandbox/sandbox.py\", line 1300, in loop\n",
      "    self.module.render_geo_map(lith, fault, outfile=self.path)\n",
      "  File \"../../sandbox/sandbox.py\", line 1177, in render_geo_map\n",
      "    self.geol_map.save(outfile=outfile)\n",
      "  File \"../../sandbox/sandbox.py\", line 795, in save\n",
      "    self.fig.savefig (self.outfile, pad_inches=0)\n",
      "  File \"/home/miguel/anaconda3/lib/python3.6/site-packages/matplotlib/figure.py\", line 2097, in savefig\n",
      "    self.canvas.print_figure(fname, **kwargs)\n",
      "  File \"/home/miguel/anaconda3/lib/python3.6/site-packages/matplotlib/backend_bases.py\", line 2075, in print_figure\n",
      "    **kwargs)\n",
      "  File \"/home/miguel/anaconda3/lib/python3.6/site-packages/matplotlib/backends/backend_agg.py\", line 521, in print_png\n",
      "    cbook.open_file_cm(filename_or_obj, \"wb\") as fh:\n",
      "  File \"/home/miguel/anaconda3/lib/python3.6/contextlib.py\", line 81, in __enter__\n",
      "    return next(self.gen)\n",
      "  File \"/home/miguel/anaconda3/lib/python3.6/site-packages/matplotlib/cbook/__init__.py\", line 407, in open_file_cm\n",
      "    fh, opened = to_filehandle(path_or_file, mode, True, encoding)\n",
      "  File \"/home/miguel/anaconda3/lib/python3.6/site-packages/matplotlib/cbook/__init__.py\", line 398, in to_filehandle\n",
      "    raise ValueError('fname must be a PathLike or file handle')\n",
      "ValueError: fname must be a PathLike or file handle\n",
      "\n"
     ]
    }
   ],
   "source": [
    "s_thread.kill()"
   ]
  },
  {
   "cell_type": "markdown",
   "metadata": {},
   "source": [
    "- Change lines in real time\n",
    "- fault on and off\n",
    "- change the model"
   ]
  },
  {
   "cell_type": "code",
   "execution_count": 16,
   "metadata": {},
   "outputs": [],
   "source": [
    "with s_thread.lock:\n",
    "    geo_module.plot_topography =True"
   ]
  },
  {
   "cell_type": "markdown",
   "metadata": {},
   "source": [
    "### Save geological map"
   ]
  },
  {
   "cell_type": "code",
   "execution_count": 15,
   "metadata": {},
   "outputs": [
    {
     "data": {
      "image/png": "[encoded data removed]",
      "text/plain": [
       "<Figure size 640x480 with 1 Axes>"
      ]
     },
     "metadata": {
      "needs_background": "light"
     },
     "output_type": "display_data"
    }
   ],
   "source": [
    "#with s_thread.lock:\n",
    "geo_module.export_topographic_map('topographic_map.pdf')"
   ]
  },
  {
   "cell_type": "code",
   "execution_count": 19,
   "metadata": {},
   "outputs": [
    {
     "name": "stdout",
     "output_type": "stream",
     "text": [
      "there is still a bug in the map that causes the uppermost lithology to be displayed in the basement color. Unfortunately we do not have a quick fix for this currently... Sorry! Please fix the map yourself, for example using illustrator\n"
     ]
    }
   ],
   "source": [
    "with s_thread.lock:\n",
    "    geo_module.export_geological_map(kinect.get_filtered_frame(),\n",
    "                                     'geological_map.pdf')"
   ]
  },
  {
   "cell_type": "markdown",
   "metadata": {},
   "source": [
    "### Toggle fault visibility"
   ]
  },
  {
   "cell_type": "code",
   "execution_count": null,
   "metadata": {},
   "outputs": [],
   "source": [
    "geology.pause()\n",
    "if geology.module.show_faults is True:\n",
    "    geology.module.show_faults = False\n",
    "else:\n",
    "    geology.module.show_faults = True\n",
    "geology.resume()"
   ]
  },
  {
   "cell_type": "markdown",
   "metadata": {},
   "source": [
    "## change contour levels "
   ]
  },
  {
   "cell_type": "code",
   "execution_count": null,
   "metadata": {},
   "outputs": [],
   "source": [
    "#TODO\n",
    "\n",
    "#        self.fig = plt.figure(figsize=(self.w, self.h), dpi=100, frameon=False)\n",
    "#         self.ax = plt.Axes(self.fig, [0., 0., 1., 1.])\n",
    "#         self.ax.set_axis_off()\n",
    "#         self.fig.add_axes(self.ax)\n",
    "\n",
    "# geology.pause()\n",
    "# start = 0\n",
    "# end = 2000\n",
    "# main_step = 50\n",
    "# sub_step = 10\n",
    "\n",
    "# geology.module.main_contours = np.arange(start, end, main_step)\n",
    "# geology.module.sub_contours = np.arange(start, end, sub_step)\n",
    "# geology.resume()"
   ]
  },
  {
   "cell_type": "code",
   "execution_count": null,
   "metadata": {},
   "outputs": [],
   "source": [
    "gp.plot.plot_surfaces_3D(geo_model_3d)\n"
   ]
  },
  {
   "cell_type": "code",
   "execution_count": null,
   "metadata": {},
   "outputs": [],
   "source": []
  }
 ],
 "metadata": {
  "kernelspec": {
   "display_name": "Python 3",
   "language": "python",
   "name": "python3"
  },
  "language_info": {
   "codemirror_mode": {
    "name": "ipython",
    "version": 3
   },
   "file_extension": ".py",
   "mimetype": "text/x-python",
   "name": "python",
   "nbconvert_exporter": "python",
   "pygments_lexer": "ipython3",
   "version": "3.6.6"
  }
 },
 "nbformat": 4,
 "nbformat_minor": 2
}
