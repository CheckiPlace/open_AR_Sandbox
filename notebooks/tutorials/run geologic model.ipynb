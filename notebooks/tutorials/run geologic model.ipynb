{
 "cells": [
  {
   "cell_type": "code",
   "execution_count": 1,
   "metadata": {},
   "outputs": [
    {
     "name": "stderr",
     "output_type": "stream",
     "text": [
      "../..\\sandbox\\sandbox.py:9: UserWarning: Freenect is not installed. if you are using the Kinect Version 2 on a windows machine, use the KinectV2 class!\n",
      "  warn('Freenect is not installed. if you are using the Kinect Version 2 on a windows machine, use the KinectV2 class!')\n",
      "../../../gempy-1.16\\gempy\\plotting\\visualization.py:31: UserWarning: Vtk package is not installed. No vtk visualization available.\n",
      "  warnings.warn('Vtk package is not installed. No vtk visualization available.')\n",
      "../../../gempy-1.16\\gempy\\plotting\\visualization.py:36: UserWarning: Steno 3D package is not installed. No 3D online visualization available.\n",
      "  warnings.warn('Steno 3D package is not installed. No 3D online visualization available.')\n",
      "../../../gempy-1.16\\gempy\\data_management.py:34: UserWarning: qgrid package is not installed. No interactive dataframes available.\n",
      "  warnings.warn('qgrid package is not installed. No interactive dataframes available.')\n",
      "../../../gempy-1.16\\gempy\\posterior_analysis.py:24: UserWarning: pymc (v2) package is not installed. No support for stochastic simulation posterior analysis.\n",
      "  warnings.warn(\"pymc (v2) package is not installed. No support for stochastic simulation posterior analysis.\")\n",
      "../../../gempy-1.16\\gempy\\posterior_analysis.py:28: UserWarning: pymc (v3) package is not installed. No support for stochastic simulation posterior analysis.\n",
      "  warnings.warn(\"pymc (v3) package is not installed. No support for stochastic simulation posterior analysis.\")\n"
     ]
    }
   ],
   "source": [
    "import os,sys\n",
    "sys.path.append('../..')\n",
    "sys.path.append('../../../gempy-1.16/')\n",
    "import sandbox.sandbox as sb\n",
    "\n",
    "import gempy as gp\n",
    "#import gempy_sandbox a   s gpsb\n",
    "import numpy as np\n",
    "#from PIL import Image, ImageDraw\n",
    "import pickle"
   ]
  },
  {
   "cell_type": "markdown",
   "metadata": {},
   "source": [
    "### Set up the sandbox \n",
    "\n",
    "First we activate the kinect"
   ]
  },
  {
   "cell_type": "code",
   "execution_count": 2,
   "metadata": {},
   "outputs": [],
   "source": [
    "kinect = sb.KinectV2()"
   ]
  },
  {
   "cell_type": "markdown",
   "metadata": {},
   "source": [
    "Now we can set up the projector settings:"
   ]
  },
  {
   "cell_type": "code",
   "execution_count": 3,
   "metadata": {},
   "outputs": [],
   "source": [
    "projector = sb.Projector(resolution = (1024,768), work_directory='./temp',\n",
    "                        refresh=100, input_rescale=False)"
   ]
  },
  {
   "cell_type": "markdown",
   "metadata": {},
   "source": [
    "Next is to pass the calibration---kinect-projector---to the projector class to be able to project just on the sandbox."
   ]
  },
  {
   "cell_type": "code",
   "execution_count": 4,
   "metadata": {},
   "outputs": [],
   "source": [
    "calibration_filename = \"sandbox_test.dat\" \n",
    "calibration = sb.Calibration(projector)\n",
    "calibration.load(calibration_file=calibration_filename)\n",
    "projector.set_calibration(calibration)\n",
    "projector.start_stream()   "
   ]
  },
  {
   "cell_type": "markdown",
   "metadata": {},
   "source": [
    "Also we need to set up the general options of Matplotlib (the library to create the models). Here we are passing the colors of GemPy simply for consistency."
   ]
  },
  {
   "cell_type": "code",
   "execution_count": 5,
   "metadata": {},
   "outputs": [],
   "source": [
    "plot_im = sb.Plot(\n",
    "    calibration=calibration,\n",
    "    cmap=gp.plotting.colors.cmap,\n",
    "    norm=gp.plotting.colors.norm\n",
    "    )"
   ]
  },
  {
   "cell_type": "markdown",
   "metadata": {},
   "source": [
    "### Setup the model gempy model\n",
    "\n",
    "Now we need to generate the map that we want to poject. In the case of a geological map we will use GemPy.\n",
    "\n",
    "First we need to load the underlaying 3D model. We can find some examples in the GemPy library"
   ]
  },
  {
   "cell_type": "code",
   "execution_count": 6,
   "metadata": {},
   "outputs": [],
   "source": [
    "geo_model = gp.read_pickle(r'./../../../gempy-1.16/notebooks/examples/Gempy Modelle Lisa/lisa-7.pickle')"
   ]
  },
  {
   "cell_type": "markdown",
   "metadata": {},
   "source": [
    "We want to scale the sandbox next to the model extent. We can see a gempy model extent by"
   ]
  },
  {
   "cell_type": "code",
   "execution_count": 7,
   "metadata": {},
   "outputs": [
    {
     "data": {
      "text/plain": [
       "array([   0, 2000,    0, 2000,    0, 1600])"
      ]
     },
     "execution_count": 7,
     "metadata": {},
     "output_type": "execute_result"
    }
   ],
   "source": [
    "geo_model._geo_data.extent"
   ]
  },
  {
   "cell_type": "markdown",
   "metadata": {},
   "source": [
    "You can just pass those values. However the maximum high of the sandbox may to be to high. If that is the case you can just translate the whole extent up and down by changing the z values (i.e. the last two components of the extent)"
   ]
  },
  {
   "cell_type": "markdown",
   "metadata": {},
   "source": [
    "### Create sandbox grid following the right scale sandbox-model"
   ]
  },
  {
   "cell_type": "markdown",
   "metadata": {},
   "source": [
    "Now we need to connect the cloud of points recorded by the kinect to the scale of geological model"
   ]
  },
  {
   "cell_type": "code",
   "execution_count": 8,
   "metadata": {},
   "outputs": [
    {
     "name": "stdout",
     "output_type": "stream",
     "text": [
      "Aspect ratio of the model is fixed in XY\n",
      "Model size is limited by Y dimension\n",
      "scale in Model units/ mm (X,Y,Z): [2.3311258278145695, 3.3333333333333335, 3.3333333333333335]\n",
      "the shown extent is [0.0, 2324.5033112582782, 0.0, 1993.3774834437086] \n"
     ]
    }
   ],
   "source": [
    "scale=sb.Scale(extent=[   0, 2000,    0, 2000,    500, 2500], calibration=calibration) #initialize scale object to handle the scaling of the model in the andbox\n",
    "scale.calculate_scales()\n",
    "grid = sb.Grid(calibration=calibration,scale=scale)"
   ]
  },
  {
   "cell_type": "markdown",
   "metadata": {},
   "source": [
    "### Create the GeoMap module for the Sandbox\n",
    "\n",
    "To increase the flexibility of the sandbox and generalize the hyperthreading (i.e. getting the sandbox running without blocking python), we have create a modules systems. This modules are classes that encapsulate the specific functionality for each type of map that we want to render. Lets create the geological map module.\n",
    "\n",
    "The work_directory in this class is where we write the image of the geological map. Therefore is **important that it is pointing to same place as the projector class**---which renders the image in the projector."
   ]
  },
  {
   "cell_type": "code",
   "execution_count": 9,
   "metadata": {},
   "outputs": [],
   "source": [
    "geo_module = sb.GeoMapModule(geo_model, grid, plot_im,\n",
    "                             work_directory=projector.work_directory)"
   ]
  },
  {
   "cell_type": "markdown",
   "metadata": {},
   "source": [
    "This box is not necessary but it is good to test that the model gets computed without any error. If nothing is broken, you are good to go:"
   ]
  },
  {
   "cell_type": "code",
   "execution_count": 10,
   "metadata": {},
   "outputs": [
    {
     "name": "stderr",
     "output_type": "stream",
     "text": [
      "C:\\Users\\Admin\\Miniconda3\\lib\\site-packages\\theano\\tensor\\subtensor.py:2339: FutureWarning: Using a non-tuple sequence for multidimensional indexing is deprecated; use `arr[tuple(seq)]` instead of `arr[seq]`. In the future this will be interpreted as an array index, `arr[np.array(seq)]`, which will result either in an error or a different result.\n",
      "  out[0][inputs[2:]] = inputs[1]\n"
     ]
    }
   ],
   "source": [
    "geo_module.render_geo_map(*geo_module.compute_model(kinect.get_filtered_frame()))"
   ]
  },
  {
   "cell_type": "markdown",
   "metadata": {},
   "source": [
    "### Hyperthreading\n",
    "\n",
    "Hyperthreading is important not to block the python script once the sandbox is activated. Later we will show some things we can change while the model is running."
   ]
  },
  {
   "cell_type": "code",
   "execution_count": 11,
   "metadata": {},
   "outputs": [],
   "source": [
    "# This will create the threading object which contains the functionality related to the thread itself\n",
    "s_thread = sb.SandboxThread(geo_module, kinect, projector)"
   ]
  },
  {
   "cell_type": "markdown",
   "metadata": {},
   "source": [
    "Running the thread we will initialize the real-time updating in the sandbox. If you have made it up to here you have done most of the work."
   ]
  },
  {
   "cell_type": "code",
   "execution_count": 12,
   "metadata": {},
   "outputs": [
    {
     "name": "stderr",
     "output_type": "stream",
     "text": [
      "Exception in thread Thread-56:\n",
      "Traceback (most recent call last):\n",
      "  File \"C:\\Users\\Admin\\Miniconda3\\lib\\threading.py\", line 917, in _bootstrap_inner\n",
      "    self.run()\n",
      "  File \"C:\\Users\\Admin\\Miniconda3\\lib\\threading.py\", line 865, in run\n",
      "    self._target(*self._args, **self._kwargs)\n",
      "  File \"../..\\sandbox\\sandbox.py\", line 1411, in loop\n",
      "    self.projector.show()\n",
      "  File \"../..\\sandbox\\sandbox.py\", line 742, in show\n",
      "    os.replace(os.path.join(self.work_directory, 'output_temp.png'), os.path.join(self.work_directory, 'output.png')) #workaround to supress artifacts\n",
      "PermissionError: [WinError 5] Access is denied: './temp\\\\output_temp.png' -> './temp\\\\output.png'\n",
      "\n"
     ]
    }
   ],
   "source": [
    "s_thread.run()"
   ]
  },
  {
   "cell_type": "markdown",
   "metadata": {},
   "source": [
    "**Congratulations your Sandbox (should be) is running!!**\n",
    "<hr style='border-width: 6px'>\n",
    "\n",
    "\n",
    "Now if you want to stop the thread you can do it by calling next cell. (By default we leave it commented just delete the Hashtag)"
   ]
  },
  {
   "cell_type": "code",
   "execution_count": null,
   "metadata": {},
   "outputs": [],
   "source": [
    "# s_thread.kill()"
   ]
  },
  {
   "cell_type": "markdown",
   "metadata": {},
   "source": [
    "## Real time-manipulation\n",
    "\n",
    "Now that the hyperthreading is on, we can do couple of cool things. Most of the code from here on is written under the \n",
    "\n",
    "```python\n",
    "with s_thread.lock:\n",
    "    ...\n",
    "```\n",
    "\n",
    "This is to guarantee that one thread is not messing with the other. Lets start to see what good stuff can we do\n",
    "\n",
    "#### Show/hide topography"
   ]
  },
  {
   "cell_type": "code",
   "execution_count": null,
   "metadata": {},
   "outputs": [],
   "source": [
    "with s_thread.lock:\n",
    "    geo_module.plot_topography = True"
   ]
  },
  {
   "cell_type": "markdown",
   "metadata": {},
   "source": [
    "#### Show/hide faults"
   ]
  },
  {
   "cell_type": "code",
   "execution_count": null,
   "metadata": {},
   "outputs": [],
   "source": [
    "with s_thread.lock:\n",
    "    geo_module.plot_faults = False"
   ]
  },
  {
   "cell_type": "markdown",
   "metadata": {},
   "source": [
    "#### Moving the extent:"
   ]
  },
  {
   "cell_type": "code",
   "execution_count": null,
   "metadata": {},
   "outputs": [],
   "source": [
    "with s_thread.lock:\n",
    "    scale.extent = [0, 2000,    0, 2000,   1000, 2500]\n",
    "    scale.calculate_scales()"
   ]
  },
  {
   "cell_type": "markdown",
   "metadata": {},
   "source": [
    "#### Save geological/topology map\n",
    "(Okay these two work sometimes work better if you kill the thread first)"
   ]
  },
  {
   "cell_type": "code",
   "execution_count": null,
   "metadata": {},
   "outputs": [],
   "source": [
    "with s_thread.lock:\n",
    "    geo_module.export_geological_map(kinect.get_filtered_frame(),\n",
    "                                     'geological_map.pdf')"
   ]
  },
  {
   "cell_type": "code",
   "execution_count": null,
   "metadata": {},
   "outputs": [],
   "source": [
    "with s_thread.lock:\n",
    "    geo_module.export_topographic_map('topographic_map.pdf')"
   ]
  },
  {
   "cell_type": "markdown",
   "metadata": {},
   "source": [
    "#### change contour levels "
   ]
  },
  {
   "cell_type": "code",
   "execution_count": null,
   "metadata": {
    "scrolled": true
   },
   "outputs": [],
   "source": [
    "with s_thread.lock:\n",
    "    geo_module.create_sub_contours(0,2000,step=50)"
   ]
  },
  {
   "cell_type": "markdown",
   "metadata": {},
   "source": [
    "### Loading GemPy models and use GemPy functionality\n",
    "\n",
    "This is a big one. Since the  thread is free we can still use gempy. The main thing to keep in ming is **not to use the same name for the variable when you load a new model**. Otherwise you risk to mixing which variable is which model and where it is.\n",
    "\n",
    "For example we can visualize the model by reading it again:"
   ]
  },
  {
   "cell_type": "code",
   "execution_count": null,
   "metadata": {},
   "outputs": [],
   "source": [
    "geo_model_grab = gp.read_pickle(r'./../../../gempy/notebooks/examples/Models_Lisa/lisa-7.pickle')"
   ]
  },
  {
   "cell_type": "markdown",
   "metadata": {},
   "source": [
    "Computing it:"
   ]
  },
  {
   "cell_type": "code",
   "execution_count": null,
   "metadata": {
    "scrolled": true
   },
   "outputs": [],
   "source": [
    "with s_thread.lock:\n",
    "    l, f = gp.compute_model(geo_model_grab)\n"
   ]
  },
  {
   "cell_type": "markdown",
   "metadata": {},
   "source": [
    "And plotting it:"
   ]
  },
  {
   "cell_type": "code",
   "execution_count": null,
   "metadata": {},
   "outputs": [],
   "source": [
    "with s_thread.lock:\n",
    "    gp.plotting.plot_section(geo_model_grab._geo_data, l[0], 25)"
   ]
  },
  {
   "cell_type": "markdown",
   "metadata": {},
   "source": [
    "### Finally we can swap models as well!\n",
    "\n",
    "In the same fashion that we have imported the same model to visualize the section, we can load another model and swap it. **Be careful about the extent** if the second model has a different exntent you may be projecting the wrong area:"
   ]
  },
  {
   "cell_type": "code",
   "execution_count": null,
   "metadata": {},
   "outputs": [],
   "source": [
    "geo_model_swap= gp.read_pickle(r'./../../../gempy/notebooks/examples/Models_Lisa/lisa-3.pickle')"
   ]
  },
  {
   "cell_type": "code",
   "execution_count": null,
   "metadata": {},
   "outputs": [],
   "source": [
    "with s_thread.lock:\n",
    "    # The names choice is aweful. In new iteration we will use better the alphabet\n",
    "    geo_module.geo_model = geo_model_swap"
   ]
  },
  {
   "cell_type": "code",
   "execution_count": null,
   "metadata": {},
   "outputs": [],
   "source": [
    "geo_model_swap.potential_at_interfaces"
   ]
  },
  {
   "cell_type": "code",
   "execution_count": null,
   "metadata": {},
   "outputs": [],
   "source": [
    "geo_model_swap.geo_data_res.n_faults"
   ]
  },
  {
   "cell_type": "code",
   "execution_count": null,
   "metadata": {},
   "outputs": [],
   "source": []
  }
 ],
 "metadata": {
  "kernelspec": {
   "display_name": "Python 3",
   "language": "python",
   "name": "python3"
  },
  "language_info": {
   "codemirror_mode": {
    "name": "ipython",
    "version": 3
   },
   "file_extension": ".py",
   "mimetype": "text/x-python",
   "name": "python",
   "nbconvert_exporter": "python",
   "pygments_lexer": "ipython3",
   "version": "3.7.3"
  }
 },
 "nbformat": 4,
 "nbformat_minor": 2
}
