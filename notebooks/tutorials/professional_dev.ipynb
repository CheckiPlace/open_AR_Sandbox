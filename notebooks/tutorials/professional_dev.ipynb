{
 "cells": [
  {
   "cell_type": "code",
   "execution_count": 1,
   "metadata": {},
   "outputs": [
    {
     "name": "stderr",
     "output_type": "stream",
     "text": [
      "../..\\sandbox\\sandbox.py:11: UserWarning: Freenect is not installed. if you are using the Kinect Version 2 on a windows machine, use the KinectV2 class!\n",
      "  'Freenect is not installed. if you are using the Kinect Version 2 on a windows machine, use the KinectV2 class!')\n",
      "../../../gempy-1.16\\gempy\\plotting\\visualization.py:31: UserWarning: Vtk package is not installed. No vtk visualization available.\n",
      "  warnings.warn('Vtk package is not installed. No vtk visualization available.')\n",
      "../../../gempy-1.16\\gempy\\plotting\\visualization.py:36: UserWarning: Steno 3D package is not installed. No 3D online visualization available.\n",
      "  warnings.warn('Steno 3D package is not installed. No 3D online visualization available.')\n",
      "../../../gempy-1.16\\gempy\\data_management.py:34: UserWarning: qgrid package is not installed. No interactive dataframes available.\n",
      "  warnings.warn('qgrid package is not installed. No interactive dataframes available.')\n",
      "../../../gempy-1.16\\gempy\\posterior_analysis.py:24: UserWarning: pymc (v2) package is not installed. No support for stochastic simulation posterior analysis.\n",
      "  warnings.warn(\"pymc (v2) package is not installed. No support for stochastic simulation posterior analysis.\")\n",
      "../../../gempy-1.16\\gempy\\posterior_analysis.py:28: UserWarning: pymc (v3) package is not installed. No support for stochastic simulation posterior analysis.\n",
      "  warnings.warn(\"pymc (v3) package is not installed. No support for stochastic simulation posterior analysis.\")\n"
     ]
    }
   ],
   "source": [
    "import os,sys\n",
    "sys.path.append('../..')\n",
    "sys.path.append('../../../gempy-1.16/')\n",
    "import sandbox.sandbox as sb\n",
    "import sandbox.sandbox_new as nsb\n",
    "import gempy as gp"
   ]
  },
  {
   "cell_type": "code",
   "execution_count": 2,
   "metadata": {},
   "outputs": [
    {
     "ename": "AttributeError",
     "evalue": "'NoneType' object has no attribute 'resolution'",
     "output_type": "error",
     "traceback": [
      "\u001b[1;31m---------------------------------------------------------------------------\u001b[0m",
      "\u001b[1;31mAttributeError\u001b[0m                            Traceback (most recent call last)",
      "\u001b[1;32m<ipython-input-2-af38770cd2fe>\u001b[0m in \u001b[0;36m<module>\u001b[1;34m\u001b[0m\n\u001b[0;32m      1\u001b[0m \u001b[0mkinect\u001b[0m \u001b[1;33m=\u001b[0m \u001b[0msb\u001b[0m\u001b[1;33m.\u001b[0m\u001b[0mKinectV2\u001b[0m\u001b[1;33m(\u001b[0m\u001b[1;33m)\u001b[0m\u001b[1;33m\u001b[0m\u001b[1;33m\u001b[0m\u001b[0m\n\u001b[1;32m----> 2\u001b[1;33m \u001b[0mcalibration\u001b[0m \u001b[1;33m=\u001b[0m \u001b[0msb\u001b[0m\u001b[1;33m.\u001b[0m\u001b[0mCalibration\u001b[0m\u001b[1;33m(\u001b[0m\u001b[1;33m)\u001b[0m\u001b[1;33m\u001b[0m\u001b[1;33m\u001b[0m\u001b[0m\n\u001b[0m\u001b[0;32m      3\u001b[0m \u001b[0mprojector\u001b[0m \u001b[1;33m=\u001b[0m \u001b[0msb\u001b[0m\u001b[1;33m.\u001b[0m\u001b[0mProjector\u001b[0m\u001b[1;33m(\u001b[0m\u001b[0mcalibration\u001b[0m\u001b[1;33m)\u001b[0m\u001b[1;33m\u001b[0m\u001b[1;33m\u001b[0m\u001b[0m\n",
      "\u001b[1;32m~\\PycharmProjects\\open_AR_Sandbox\\sandbox\\sandbox.py\u001b[0m in \u001b[0;36m__init__\u001b[1;34m(self, associated_projector, associated_kinect, calibration_file, json_calibration_file)\u001b[0m\n\u001b[0;32m    424\u001b[0m         \u001b[0mself\u001b[0m\u001b[1;33m.\u001b[0m\u001b[0mid\u001b[0m \u001b[1;33m=\u001b[0m \u001b[1;36m0\u001b[0m\u001b[1;33m\u001b[0m\u001b[1;33m\u001b[0m\u001b[0m\n\u001b[0;32m    425\u001b[0m         \u001b[0mself\u001b[0m\u001b[1;33m.\u001b[0m\u001b[0massociated_projector\u001b[0m \u001b[1;33m=\u001b[0m \u001b[0massociated_projector\u001b[0m\u001b[1;33m\u001b[0m\u001b[1;33m\u001b[0m\u001b[0m\n\u001b[1;32m--> 426\u001b[1;33m         \u001b[0mself\u001b[0m\u001b[1;33m.\u001b[0m\u001b[0mprojector_resolution\u001b[0m \u001b[1;33m=\u001b[0m \u001b[0massociated_projector\u001b[0m\u001b[1;33m.\u001b[0m\u001b[0mresolution\u001b[0m\u001b[1;33m\u001b[0m\u001b[1;33m\u001b[0m\u001b[0m\n\u001b[0m\u001b[0;32m    427\u001b[0m         \u001b[0mself\u001b[0m\u001b[1;33m.\u001b[0m\u001b[0massociated_kinect\u001b[0m \u001b[1;33m=\u001b[0m \u001b[0massociated_kinect\u001b[0m\u001b[1;33m\u001b[0m\u001b[1;33m\u001b[0m\u001b[0m\n\u001b[0;32m    428\u001b[0m         \u001b[1;32mif\u001b[0m \u001b[0mcalibration_file\u001b[0m \u001b[1;32mis\u001b[0m \u001b[1;32mNone\u001b[0m\u001b[1;33m:\u001b[0m\u001b[1;33m\u001b[0m\u001b[1;33m\u001b[0m\u001b[0m\n",
      "\u001b[1;31mAttributeError\u001b[0m: 'NoneType' object has no attribute 'resolution'"
     ]
    }
   ],
   "source": [
    "kinect = sb.KinectV2()\n",
    "calibration = sb.Calibration()\n",
    "projector = sb.Projector(calibration)"
   ]
  },
  {
   "cell_type": "code",
   "execution_count": null,
   "metadata": {},
   "outputs": [],
   "source": [
    "geo_model = gp.read_pickle(r'./../../../gempy-1.16/notebooks/examples/Gempy Modelle Lisa/lisa-3.pickle')"
   ]
  },
  {
   "cell_type": "code",
   "execution_count": null,
   "metadata": {},
   "outputs": [],
   "source": [
    "scale=sb.Scale(extent=[   0, 2000,    0, 2000,    500, 2500], calibration=calibration) #initialize scale object to handle the scaling of the model in the andbox\n",
    "scale.calculate_scales()\n",
    "grid = sb.Grid(calibration=calibration,scale=scale)"
   ]
  },
  {
   "cell_type": "code",
   "execution_count": null,
   "metadata": {},
   "outputs": [],
   "source": []
  }
 ],
 "metadata": {
  "kernelspec": {
   "display_name": "Python 3",
   "language": "python",
   "name": "python3"
  },
  "language_info": {
   "codemirror_mode": {
    "name": "ipython",
    "version": 3
   },
   "file_extension": ".py",
   "mimetype": "text/x-python",
   "name": "python",
   "nbconvert_exporter": "python",
   "pygments_lexer": "ipython3",
   "version": "3.7.3"
  }
 },
 "nbformat": 4,
 "nbformat_minor": 2
}
