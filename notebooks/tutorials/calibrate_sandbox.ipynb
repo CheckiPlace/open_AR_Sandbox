{
 "cells": [
  {
   "cell_type": "markdown",
   "metadata": {},
   "source": [
    "# Sandbox calibration\n",
    "with this notebook you can create or change the calibration of a sandbox setup.\n",
    "Use the sliders in the widget to set the dimensions and vertical range of the sandbox and align the projected image of the kinect with the box.\n",
    "\n",
    "\n",
    "\n",
    "\n",
    "\n"
   ]
  },
  {
   "cell_type": "markdown",
   "metadata": {},
   "source": [
    "## Some remarks on setting up the box\n",
    "\n",
    "Please consider the following guidelines to make your sandbox experience as pleasant as possible:\n",
    "- use a rectangular box, ideally with semitransparent (frosted) or opaque walls.\n",
    "- position the kinect and projector in a central position over the box. the closer they are together the better!\n",
    "- make sure the kinect is perfectly horizontal (=parallel to the floor of the box)\n",
    "- the higer the distance between the sandbox and the sensor/projector the better! the distance should be at leat 1-1.5 times the longest dimension of your box! Don't worry if the sandbox does not cover the entire field of view of the kinect, the resolution will still be more than good enough in the end!\n",
    "- adjust the keystone of the projector so that the egdes of the image are orthogonal. \n",
    "- adjust the position of the sandbox (or the projector/kinect) that the projected image is parallel to the box edges and covers the sandbox completely.\n",
    "- set the projection mode that the image is not mirrored or flipped when you look down at the sand from the front of the box.\n",
    "\n",
    "Now let us start with the calibration!\n",
    "\n"
   ]
  },
  {
   "cell_type": "code",
   "execution_count": 4,
   "metadata": {},
   "outputs": [
    {
     "name": "stderr",
     "output_type": "stream",
     "text": [
      "./../../../open_AR_Sandbox/sandbox\\Sandbox.py:7: UserWarning: Freenect is not installed. Sandbox wont work. Good luck\n",
      "  warn('Freenect is not installed. Sandbox wont work. Good luck')\n"
     ]
    }
   ],
   "source": [
    "import os,sys\n",
    "sys.path.append('./../../../open_AR_Sandbox/')\n",
    "sys.path.append('./../../../gempy/')\n",
    "import sandbox.Sandbox as sb\n",
    "#import Sandbox as sb"
   ]
  },
  {
   "cell_type": "markdown",
   "metadata": {},
   "source": [
    "### setup the sandbox\n",
    "initialize the components of the sandbox and opens an output stream in a new Chrome tab. Drag the tab to the projector screen and set to fullscreen (F11).\n",
    "If this step kills the kernel make sure there is not another notebook running with an active Kinect instance"
   ]
  },
  {
   "cell_type": "code",
   "execution_count": 5,
   "metadata": {},
   "outputs": [
    {
     "name": "stdout",
     "output_type": "stream",
     "text": [
      "dummy mode. get_frame() will return a synthetic depth frame, other functions may not work\n"
     ]
    }
   ],
   "source": [
    "kinect = sb.Kinect(dummy=True)"
   ]
  },
  {
   "cell_type": "code",
   "execution_count": 6,
   "metadata": {},
   "outputs": [
    {
     "name": "stdout",
     "output_type": "stream",
     "text": [
      "('created new calibration:', <sandbox.Sandbox.Calibration instance at 0x0000000009C21988>)\n"
     ]
    }
   ],
   "source": [
    "\n",
    "projector = sb.Projector(resolution = (1024,768))\n",
    "projector.refresh = 100           #Set projector refresh interval in milliseconds. 100ms = 10Hz \n",
    "projector.work_directory=\"./temp\"\n",
    "projector.start_stream()          #Open an new Tab with sandbox output.\n",
    "calibration = sb.Calibration(projector)#projector.calibration\n",
    "projector.set_calibration(calibration)"
   ]
  },
  {
   "cell_type": "markdown",
   "metadata": {},
   "source": [
    "### Parameters:\n",
    "* *rot_angle:* rotation of kinect in respect to projector \n",
    "* *x_lim, y_lim:* horizontal and vertical extent of projeced image in pixels\n",
    "* *x_pos, y_pos:* offset of projected frame from top left corner \n",
    "* *scale_factor:* scaling factor from kinect pixels to projector pixels \n",
    "* *z_range:* vertical extend of the sandbox in mm distance from the kinect sensor. the vertical model extend is later mapped to these these values, so choose a z_range and model extend that is in the correct ratio with the horizontal dimension to avoid vertical exaggeration.\n",
    "* *box_width, box_height:* horizontal extent of th sandbox in millimeters. THese values are only used to calculate the scale of the model but have no further effect.\n",
    "* *legend:* switch legend on/off and set its size and position.\n",
    "* *profile:* an area to display additional information like a profile. Currently under development.  \n",
    "* *hot_area:* define an are to interact with the sandbox with markers (QR codes). Currently under development\n"
   ]
  },
  {
   "cell_type": "markdown",
   "metadata": {},
   "source": [
    "### load calibration data from file"
   ]
  },
  {
   "cell_type": "code",
   "execution_count": 9,
   "metadata": {},
   "outputs": [
    {
     "ename": "ValueError",
     "evalue": "unsupported pickle protocol: 3",
     "output_type": "error",
     "traceback": [
      "\u001b[1;31m\u001b[0m",
      "\u001b[1;31mValueError\u001b[0mTraceback (most recent call last)",
      "\u001b[1;32m<ipython-input-9-9a3ca15255cf>\u001b[0m in \u001b[0;36m<module>\u001b[1;34m()\u001b[0m\n\u001b[0;32m      1\u001b[0m \u001b[0mcalibration_infilename\u001b[0m \u001b[1;33m=\u001b[0m \u001b[1;34m\"sandbox_test.dat\"\u001b[0m\u001b[1;33m\u001b[0m\u001b[0m\n\u001b[1;32m----> 2\u001b[1;33m \u001b[0mcalibration\u001b[0m\u001b[1;33m.\u001b[0m\u001b[0mload\u001b[0m\u001b[1;33m(\u001b[0m\u001b[0mcalibration_file\u001b[0m\u001b[1;33m=\u001b[0m\u001b[0mcalibration_infilename\u001b[0m\u001b[1;33m)\u001b[0m\u001b[1;33m\u001b[0m\u001b[0m\n\u001b[0m",
      "\u001b[1;32mC:\\Users\\lisa-\\Documents\\RWTH\\CGRE_HiWi\\github_repo\\open_AR_Sandbox\\sandbox\\Sandbox.py\u001b[0m in \u001b[0;36mload\u001b[1;34m(self, calibration_file)\u001b[0m\n\u001b[0;32m    181\u001b[0m             \u001b[0mcalibration_file\u001b[0m \u001b[1;33m=\u001b[0m \u001b[0mself\u001b[0m\u001b[1;33m.\u001b[0m\u001b[0mcalibration_file\u001b[0m\u001b[1;33m\u001b[0m\u001b[0m\n\u001b[0;32m    182\u001b[0m         \u001b[1;32mtry\u001b[0m\u001b[1;33m:\u001b[0m\u001b[1;33m\u001b[0m\u001b[0m\n\u001b[1;32m--> 183\u001b[1;33m             \u001b[0mself\u001b[0m\u001b[1;33m.\u001b[0m\u001b[0mcalibration_data\u001b[0m \u001b[1;33m=\u001b[0m \u001b[0mpickle\u001b[0m\u001b[1;33m.\u001b[0m\u001b[0mload\u001b[0m\u001b[1;33m(\u001b[0m\u001b[0mopen\u001b[0m\u001b[1;33m(\u001b[0m\u001b[0mcalibration_file\u001b[0m\u001b[1;33m,\u001b[0m \u001b[1;34m'rb'\u001b[0m\u001b[1;33m)\u001b[0m\u001b[1;33m)\u001b[0m\u001b[1;33m\u001b[0m\u001b[0m\n\u001b[0m\u001b[0;32m    184\u001b[0m         \u001b[1;32mexcept\u001b[0m \u001b[0mOSError\u001b[0m\u001b[1;33m:\u001b[0m\u001b[1;33m\u001b[0m\u001b[0m\n\u001b[0;32m    185\u001b[0m             \u001b[1;32mprint\u001b[0m\u001b[1;33m(\u001b[0m\u001b[1;34m\"calibration data file not found\"\u001b[0m\u001b[1;33m)\u001b[0m\u001b[1;33m\u001b[0m\u001b[0m\n",
      "\u001b[1;32mC:\\Users\\lisa-\\Documents\\RWTH\\Anaconda3\\envs\\test\\lib\\pickle.pyc\u001b[0m in \u001b[0;36mload\u001b[1;34m(file)\u001b[0m\n\u001b[0;32m   1382\u001b[0m \u001b[1;33m\u001b[0m\u001b[0m\n\u001b[0;32m   1383\u001b[0m \u001b[1;32mdef\u001b[0m \u001b[0mload\u001b[0m\u001b[1;33m(\u001b[0m\u001b[0mfile\u001b[0m\u001b[1;33m)\u001b[0m\u001b[1;33m:\u001b[0m\u001b[1;33m\u001b[0m\u001b[0m\n\u001b[1;32m-> 1384\u001b[1;33m     \u001b[1;32mreturn\u001b[0m \u001b[0mUnpickler\u001b[0m\u001b[1;33m(\u001b[0m\u001b[0mfile\u001b[0m\u001b[1;33m)\u001b[0m\u001b[1;33m.\u001b[0m\u001b[0mload\u001b[0m\u001b[1;33m(\u001b[0m\u001b[1;33m)\u001b[0m\u001b[1;33m\u001b[0m\u001b[0m\n\u001b[0m\u001b[0;32m   1385\u001b[0m \u001b[1;33m\u001b[0m\u001b[0m\n\u001b[0;32m   1386\u001b[0m \u001b[1;32mdef\u001b[0m \u001b[0mloads\u001b[0m\u001b[1;33m(\u001b[0m\u001b[0mstr\u001b[0m\u001b[1;33m)\u001b[0m\u001b[1;33m:\u001b[0m\u001b[1;33m\u001b[0m\u001b[0m\n",
      "\u001b[1;32mC:\\Users\\lisa-\\Documents\\RWTH\\Anaconda3\\envs\\test\\lib\\pickle.pyc\u001b[0m in \u001b[0;36mload\u001b[1;34m(self)\u001b[0m\n\u001b[0;32m    862\u001b[0m             \u001b[1;32mwhile\u001b[0m \u001b[1;36m1\u001b[0m\u001b[1;33m:\u001b[0m\u001b[1;33m\u001b[0m\u001b[0m\n\u001b[0;32m    863\u001b[0m                 \u001b[0mkey\u001b[0m \u001b[1;33m=\u001b[0m \u001b[0mread\u001b[0m\u001b[1;33m(\u001b[0m\u001b[1;36m1\u001b[0m\u001b[1;33m)\u001b[0m\u001b[1;33m\u001b[0m\u001b[0m\n\u001b[1;32m--> 864\u001b[1;33m                 \u001b[0mdispatch\u001b[0m\u001b[1;33m[\u001b[0m\u001b[0mkey\u001b[0m\u001b[1;33m]\u001b[0m\u001b[1;33m(\u001b[0m\u001b[0mself\u001b[0m\u001b[1;33m)\u001b[0m\u001b[1;33m\u001b[0m\u001b[0m\n\u001b[0m\u001b[0;32m    865\u001b[0m         \u001b[1;32mexcept\u001b[0m \u001b[0m_Stop\u001b[0m\u001b[1;33m,\u001b[0m \u001b[0mstopinst\u001b[0m\u001b[1;33m:\u001b[0m\u001b[1;33m\u001b[0m\u001b[0m\n\u001b[0;32m    866\u001b[0m             \u001b[1;32mreturn\u001b[0m \u001b[0mstopinst\u001b[0m\u001b[1;33m.\u001b[0m\u001b[0mvalue\u001b[0m\u001b[1;33m\u001b[0m\u001b[0m\n",
      "\u001b[1;32mC:\\Users\\lisa-\\Documents\\RWTH\\Anaconda3\\envs\\test\\lib\\pickle.pyc\u001b[0m in \u001b[0;36mload_proto\u001b[1;34m(self)\u001b[0m\n\u001b[0;32m    890\u001b[0m         \u001b[0mproto\u001b[0m \u001b[1;33m=\u001b[0m \u001b[0mord\u001b[0m\u001b[1;33m(\u001b[0m\u001b[0mself\u001b[0m\u001b[1;33m.\u001b[0m\u001b[0mread\u001b[0m\u001b[1;33m(\u001b[0m\u001b[1;36m1\u001b[0m\u001b[1;33m)\u001b[0m\u001b[1;33m)\u001b[0m\u001b[1;33m\u001b[0m\u001b[0m\n\u001b[0;32m    891\u001b[0m         \u001b[1;32mif\u001b[0m \u001b[1;32mnot\u001b[0m \u001b[1;36m0\u001b[0m \u001b[1;33m<=\u001b[0m \u001b[0mproto\u001b[0m \u001b[1;33m<=\u001b[0m \u001b[1;36m2\u001b[0m\u001b[1;33m:\u001b[0m\u001b[1;33m\u001b[0m\u001b[0m\n\u001b[1;32m--> 892\u001b[1;33m             \u001b[1;32mraise\u001b[0m \u001b[0mValueError\u001b[0m\u001b[1;33m,\u001b[0m \u001b[1;34m\"unsupported pickle protocol: %d\"\u001b[0m \u001b[1;33m%\u001b[0m \u001b[0mproto\u001b[0m\u001b[1;33m\u001b[0m\u001b[0m\n\u001b[0m\u001b[0;32m    893\u001b[0m     \u001b[0mdispatch\u001b[0m\u001b[1;33m[\u001b[0m\u001b[0mPROTO\u001b[0m\u001b[1;33m]\u001b[0m \u001b[1;33m=\u001b[0m \u001b[0mload_proto\u001b[0m\u001b[1;33m\u001b[0m\u001b[0m\n\u001b[0;32m    894\u001b[0m \u001b[1;33m\u001b[0m\u001b[0m\n",
      "\u001b[1;31mValueError\u001b[0m: unsupported pickle protocol: 3"
     ]
    }
   ],
   "source": [
    "calibration_infilename = \"sandbox_test.dat\" \n",
    "calibration.load(calibration_file=calibration_infilename)"
   ]
  },
  {
   "cell_type": "markdown",
   "metadata": {},
   "source": [
    "### optional: adjust appearance of calibration frame "
   ]
  },
  {
   "cell_type": "code",
   "execution_count": null,
   "metadata": {},
   "outputs": [],
   "source": [
    "calibration.contours = True     # show or hide contours\n",
    "calibration.n_contours = 50     # number of contours between z_min and z_max\n",
    "calibration.cmap = 'viridis'    # name of colormap \n",
    "# calibration.contour_levels      # show the contour levels"
   ]
  },
  {
   "cell_type": "markdown",
   "metadata": {},
   "source": [
    "### open calibration widget \n",
    "### Parameters:\n",
    "* *rot_angle:* rotation of kinect in respect to projector \n",
    "* *x_lim, y_lim:* horizontal and vertical extent of projeced image in pixels\n",
    "* *x_pos, y_pos:* offset of projected frame from top left corner \n",
    "* *scale_factor:* scaling factor from kinect pixels to projector pixels \n",
    "* *z_range:* vertical extend of the sandbox in mm distance from the kinect sensor. the vertical model extend is later mapped to these these values, so choose a z_range and model extend that is in the correct ratio with the horizontal dimension to avoid vertical exaggeration.\n",
    "* *box_width, box_height:* horizontal extent of th sandbox in millimeters. THese values are only used to calculate the scale of the model but have no further effect.\n",
    "* *legend:* switch legend on/off and set its size and position.\n",
    "* *profile:* an area to display additional information like a profile. Currently under development.  \n",
    "* *hot_area:* define an are to interact with the sandbox with markers (QR codes). Currently under development\n",
    "\n",
    "### how to calibrate\n",
    "In the beginning you will see a depth image of the kinect in the upper left corner of the sandbox that is most probably not aligned at all with the sand. In the following we will step-by-step adjust the parameters to align the kinect, projector sandbox with each other. \n",
    "the image updates each time the value of a slider is changed. \n",
    "\n",
    "1. first of all it is time to get your hands dirty: make a huge pile of sand in the middle of the box. try to build it as high as possible or reasonable. and make sure that you have some spots on the left and right of the pile where is no sand left and you can see the bottom of the box. \n",
    "2. now adjust the z-range sliders to define the top and bottom of the box. pixels outside the range as well as invalid pixels that the kinect does not recognize atre white.  If possible you should set it up that the (z_max - z_min) is equal to the shorter horizontal dimension of the box.\n",
    "3. adjust rot_angle to make the edges of the box in the image parallel to the edges of the real box. Make sure the image is not upside down.\n",
    "4. adjust the left x_lim slider to cut away everything that is left of the box boundary. \n",
    "5. do the same for the top edge by adjusting the right y_lim slider.\n",
    "6. now align the top left corner of the image with the top left corner of the sandbox by adjusting x_pos and y_pos\n",
    "7. increase the scale_factor slider to make the projected image align with the real topography in the sandbox. use the bottom right corner of the sandbox as reference. \n",
    "8.adjust the right x_lim and the left y_lim sliders to cut off the image at he bottom and right edge. \n",
    "\n",
    "click \"close calibration\" when you are finished"
   ]
  },
  {
   "cell_type": "code",
   "execution_count": null,
   "metadata": {},
   "outputs": [],
   "source": [
    "calibration.create()"
   ]
  },
  {
   "cell_type": "markdown",
   "metadata": {},
   "source": [
    "## save calibration data to file"
   ]
  },
  {
   "cell_type": "code",
   "execution_count": null,
   "metadata": {},
   "outputs": [],
   "source": [
    "calibration_outfilename = \"sandbox_brisbane.dat\" \n",
    "calibration.save(calibration_file=calibration_outfilename)"
   ]
  },
  {
   "cell_type": "code",
   "execution_count": null,
   "metadata": {},
   "outputs": [],
   "source": []
  },
  {
   "cell_type": "code",
   "execution_count": null,
   "metadata": {},
   "outputs": [],
   "source": [
    "projector.start_stream()"
   ]
  },
  {
   "cell_type": "code",
   "execution_count": null,
   "metadata": {},
   "outputs": [],
   "source": []
  }
 ],
 "metadata": {
  "kernelspec": {
   "display_name": "Python 2",
   "language": "python",
   "name": "python2"
  },
  "language_info": {
   "codemirror_mode": {
    "name": "ipython",
    "version": 2
   },
   "file_extension": ".py",
   "mimetype": "text/x-python",
   "name": "python",
   "nbconvert_exporter": "python",
   "pygments_lexer": "ipython2",
   "version": "2.7.15"
  }
 },
 "nbformat": 4,
 "nbformat_minor": 2
}
