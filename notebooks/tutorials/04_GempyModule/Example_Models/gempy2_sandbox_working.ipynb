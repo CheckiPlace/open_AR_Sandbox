{
 "cells": [
  {
   "cell_type": "code",
   "execution_count": null,
   "metadata": {
    "slideshow": {
     "slide_type": "skip"
    }
   },
   "outputs": [],
   "source": [
    "import os,sys\n",
    "#set the path to the Sandbox repository\n",
    "sys.path.append('../../../../')\n",
    "sys.path.append('../../../../../gempy')\n",
    "#os.environ[\"THEANO_FLAGS\"] = \"mode=FAST_RUN,device=cuda\"\n",
    "\n",
    "#import gempy\n",
    "import gempy as gp\n",
    "#os.environ[\"THEANO_FLAGS\"] = \"mode=FAST_RUN,device=cuda\"\n",
    "os.environ[\"THEANO_FLAGS\"] = \"mode=FAST_RUN\"\n",
    "#import the sandbox\n",
    "import sandbox as sb\n",
    "# set the path to the calibration file\n",
    "CALIBRATION_FILE = '../../../calibration_files/my_calibration.json'\n",
    "\n",
    "import numpy as np\n",
    "import pickle\n",
    "import threading\n",
    "\n"
   ]
  },
  {
   "cell_type": "markdown",
   "metadata": {
    "slideshow": {
     "slide_type": "skip"
    }
   },
   "source": [
    "### Set up the sandbox \n",
    "\n",
    "First we activate the kinect"
   ]
  },
  {
   "cell_type": "code",
   "execution_count": null,
   "metadata": {
    "slideshow": {
     "slide_type": "skip"
    }
   },
   "outputs": [],
   "source": [
    "calibrationdata = sb.CalibrationData(file=CALIBRATION_FILE)\n",
    "kinect = sb.Sensor(calibrationdata)\n",
    "projector = sb.Projector(calibrationdata)\n",
    "\n",
    "\n",
    "\n"
   ]
  },
  {
   "cell_type": "code",
   "execution_count": null,
   "metadata": {},
   "outputs": [],
   "source": [
    "marker=sb.ArucoMarkers(kinect,calibrationdata)"
   ]
  },
  {
   "cell_type": "code",
   "execution_count": null,
   "metadata": {},
   "outputs": [],
   "source": [
    "def create_example_model(name, extent = [0,1000,0,1000,0,2300], do_sections=False, \n",
    "                         change_color=False, data_path='inputdata/', theano_optimizer='fast_compile'):\n",
    "    \n",
    "    all_models = ['Horizontal_layers', 'Recumbent_fold', 'Anticline',\n",
    "             'Pinchout', 'Fault', 'Unconformity']\n",
    "    \n",
    "    assert name in all_models, 'possible model names are '+ str(all_models)\n",
    "    geo_model = gp.create_model(name)\n",
    "    \n",
    "    if name == 'Horizontal_layers':\n",
    "        geo_model = gp.init_data(geo_model, extent=extent,resolution=[2,2,2], \n",
    "                                path_o = data_path+\"model1_orientations.csv\",\n",
    "                                path_i = data_path+\"model1_surface_points.csv\")\n",
    "        if change_color:\n",
    "            geo_model.surfaces.colors.change_colors({\"rock2\": '#9f0052', 'rock1': '#e36746', \n",
    "                                                 'basement': '#f9f871'})\n",
    "\n",
    "        gp.map_series_to_surfaces(geo_model, {\"Strat_Series\": ('rock2','rock1'),\n",
    "                                             \"Basement_Series\":('basement')})\n",
    "    \n",
    "    elif name == 'Recumbent_fold':\n",
    "        geo_model = gp.init_data(geo_model, extent=extent,resolution=[2,2,2], \n",
    "                        path_o = data_path + \"model3_orientations.csv\",\n",
    "                        path_i = data_path + \"model3_surface_points.csv\") \n",
    "        gp.map_series_to_surfaces(geo_model, {\"Strat_Series\": ('rock2','rock1'),\n",
    "                                             \"Basement_Series\":('basement')})\n",
    "        if change_color:\n",
    "            geo_model.surfaces.colors.change_colors({\"rock2\": '#e36746', 'rock1': '#c0539f', \n",
    "                                                 'basement': '#006fa8'})\n",
    "            \n",
    "    elif name == 'Anticline':\n",
    "        geo_model = gp.init_data(geo_model, extent=extent, resolution=[2,2,2], \n",
    "                                  path_o = data_path + \"model2_orientations.csv\",\n",
    "                                  path_i = data_path + \"model2_surface_points.csv\")\n",
    "        gp.map_series_to_surfaces(geo_model, {\"Strat_Series\": ('rock2','rock1'),\n",
    "                                             \"Basement_Series\":('basement')})\n",
    "        \n",
    "    elif name == 'Pinchout':\n",
    "        geo_model = gp.init_data(geo_model, extent=extent,resolution=[2,2,2], \n",
    "                                path_o = data_path + \"model4_orientations.csv\",\n",
    "                                path_i = data_path + \"model4_surface_points.csv\")\n",
    "        gp.map_series_to_surfaces(geo_model, {\"Strat_Series\": ('rock2','rock1'),\n",
    "                                             \"Basement_Series\":('basement')})\n",
    "        if change_color:\n",
    "            geo_model.surfaces.colors.change_colors({\"rock2\": '#a1b455', 'rock1': '#ffbe00', \n",
    "                                                 'basement': '#006471'})\n",
    "            \n",
    "    elif name == 'Fault':\n",
    "        geo_model = gp.init_data(geo_model, extent=extent,resolution=[2,2,2], \n",
    "                                path_o = data_path + \"model5_orientations.csv\",\n",
    "                                path_i = data_path + \"model5_surface_points.csv\") \n",
    "        gp.map_series_to_surfaces(geo_model, {\"Fault_Series\":'fault', \n",
    "                                 \"Strat_Series\": ('rock2','rock1')})\n",
    "        geo_model.set_is_fault(['Fault_Series'], change_color=False)\n",
    "        if change_color:\n",
    "            geo_model.surfaces.colors.change_colors({\"rock2\": '#00c2d0', 'rock1': '#a43d00', \n",
    "                                                 'basement': '#76a237', 'fault':'#000000'})\n",
    "            \n",
    "    elif name == 'Unconformity':\n",
    "        geo_model = gp.init_data(geo_model, extent=extent, resolution=[2,2,2], \n",
    "                                path_o = data_path + \"model6_orientations.csv\",\n",
    "                                path_i = data_path + \"model6_surface_points.csv\")\n",
    "        \n",
    "        gp.map_series_to_surfaces(geo_model, {\"Strat_Series1\": ('rock3'),\n",
    "                                             \"Strat_Series2\": ('rock2','rock1'),\n",
    "                                             \"Basement_Series\":('basement')})\n",
    "        \n",
    "    if do_sections:\n",
    "        geo_model.grid.set_section_grid({'section'+' '+name:([0,500],[1000,500],[30,30])})\n",
    "\n",
    "    interp_data = gp.set_interpolator(geo_model, compile_theano=True,\n",
    "                                        theano_optimizer=theano_optimizer)\n",
    "\n",
    "    _=gp.compute_model(geo_model, compute_mesh=False)\n",
    "    \n",
    "    if do_sections:\n",
    "        gp.plot.plot_section_by_name(geo_model,'section'+' '+name, show_data=False)\n",
    "        \n",
    "    return geo_model"
   ]
  },
  {
   "cell_type": "code",
   "execution_count": null,
   "metadata": {
    "scrolled": true
   },
   "outputs": [],
   "source": [
    "all_models = ['Horizontal_layers', 'Recumbent_fold', 'Anticline','Pinchout', 'Fault', 'Unconformity']\n",
    "\n",
    "model_dict = {}\n",
    "for model in all_models:\n",
    "    model_dict.update({model: create_example_model(model)})"
   ]
  },
  {
   "cell_type": "code",
   "execution_count": null,
   "metadata": {},
   "outputs": [],
   "source": [
    "model_dict\n"
   ]
  },
  {
   "cell_type": "code",
   "execution_count": null,
   "metadata": {},
   "outputs": [],
   "source": [
    "model_dict['Horizontal_layers']"
   ]
  },
  {
   "cell_type": "code",
   "execution_count": null,
   "metadata": {},
   "outputs": [],
   "source": [
    "geo_model = model_dict['Horizontal_layers']"
   ]
  },
  {
   "cell_type": "code",
   "execution_count": null,
   "metadata": {},
   "outputs": [],
   "source": [
    "gpsb=sb.GemPyModule(geo_model, calibrationdata, kinect, projector, Aruco=marker)"
   ]
  },
  {
   "cell_type": "code",
   "execution_count": null,
   "metadata": {},
   "outputs": [],
   "source": [
    "gpsb.setup()\n"
   ]
  },
  {
   "cell_type": "code",
   "execution_count": null,
   "metadata": {},
   "outputs": [],
   "source": [
    "gpsb.update()"
   ]
  },
  {
   "cell_type": "code",
   "execution_count": null,
   "metadata": {
    "scrolled": true
   },
   "outputs": [],
   "source": [
    "gpsb.run()"
   ]
  },
  {
   "cell_type": "code",
   "execution_count": null,
   "metadata": {},
   "outputs": [],
   "source": [
    "gpsb.widget_model_selector(model_dict)"
   ]
  },
  {
   "cell_type": "code",
   "execution_count": null,
   "metadata": {},
   "outputs": [],
   "source": [
    "gpsb.stop()"
   ]
  }
 ],
 "metadata": {
  "kernelspec": {
   "display_name": "Python 3",
   "language": "python",
   "name": "python3"
  },
  "language_info": {
   "codemirror_mode": {
    "name": "ipython",
    "version": 3
   },
   "file_extension": ".py",
   "mimetype": "text/x-python",
   "name": "python",
   "nbconvert_exporter": "python",
   "pygments_lexer": "ipython3",
   "version": "3.7.5"
  }
 },
 "nbformat": 4,
 "nbformat_minor": 2
}
