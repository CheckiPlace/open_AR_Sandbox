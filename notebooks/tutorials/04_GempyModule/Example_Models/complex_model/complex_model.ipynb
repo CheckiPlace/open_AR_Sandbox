{
 "cells": [
  {
   "cell_type": "code",
   "execution_count": null,
   "metadata": {
    "slideshow": {
     "slide_type": "skip"
    }
   },
   "outputs": [],
   "source": [
    "import os,sys\n",
    "sys.path.append('../../../../../') #Sandbox\n",
    "sys.path.append('../../../../../../gempy') #Gempy\n",
    "\n",
    "import gempy as gp\n",
    "os.environ[\"THEANO_FLAGS\"] = \"mode=FAST_RUN\""
   ]
  },
  {
   "cell_type": "code",
   "execution_count": null,
   "metadata": {},
   "outputs": [],
   "source": [
    "import matplotlib.pyplot as plt\n",
    "import matplotlib.image as mpimg"
   ]
  },
  {
   "cell_type": "markdown",
   "metadata": {},
   "source": [
    "## Initialize the model"
   ]
  },
  {
   "cell_type": "code",
   "execution_count": null,
   "metadata": {},
   "outputs": [],
   "source": [
    "geo_model = gp.create_model('Complex Model')\n",
    "geo_model = gp.init_data(geo_model, extent= [0, 4000, 0, 2775, 200, 1500], resolution=[50, 10, 50])"
   ]
  },
  {
   "cell_type": "code",
   "execution_count": null,
   "metadata": {},
   "outputs": [],
   "source": [
    "map_view = gp.plot.Plot2D(geo_model)\n",
    "map_view.create_figure((15,8))\n",
    "ax = map_view.add_section(direction='z')\n",
    "# Reading image\n",
    "img = mpimg.imread('geological_model.png')\n",
    "# Plotting it inplace\n",
    "ax.imshow(img, origin='upper', alpha=.8, extent = (0, 4000, 0,2775))\n",
    "\n"
   ]
  },
  {
   "cell_type": "code",
   "execution_count": null,
   "metadata": {},
   "outputs": [],
   "source": [
    "gp.set_interpolator(geo_model, theano_optimizer='fast_run', verbose=[])"
   ]
  },
  {
   "cell_type": "code",
   "execution_count": null,
   "metadata": {},
   "outputs": [],
   "source": [
    "geo_model.add_features(['Fault2','Cycle2','Fault1','Cycle1'])\n",
    "geo_model.delete_features('Default series')"
   ]
  },
  {
   "cell_type": "code",
   "execution_count": null,
   "metadata": {},
   "outputs": [],
   "source": [
    "geo_model.add_surfaces(['F2','H','G','F1','D','C','B', 'A'])"
   ]
  },
  {
   "cell_type": "code",
   "execution_count": null,
   "metadata": {},
   "outputs": [],
   "source": [
    "gp.map_stack_to_surfaces(geo_model, {'Fault1':'F1', 'Fault2':'F2', 'Cycle2':['G','H']})"
   ]
  },
  {
   "cell_type": "code",
   "execution_count": null,
   "metadata": {},
   "outputs": [],
   "source": [
    "geo_model.set_is_fault(['Fault1', 'Fault2'])"
   ]
  },
  {
   "cell_type": "code",
   "execution_count": null,
   "metadata": {},
   "outputs": [],
   "source": [
    "###Cycle 1\n",
    "#surface B - before F1\n",
    "geo_model.add_surface_points(X=584, Y=285, Z=500, surface='B')\n",
    "geo_model.add_surface_points(X=494, Y=696, Z=500, surface='B')\n",
    "geo_model.add_surface_points(X=197, Y=1898, Z=500, surface='B')\n",
    "geo_model.add_surface_points(X=473, Y=2180, Z=400, surface='B')\n",
    "geo_model.add_surface_points(X=435, Y=2453, Z=400, surface='B')\n",
    "#surface C - before F1\n",
    "geo_model.add_surface_points(X=946, Y=188, Z=600, surface='C')\n",
    "geo_model.add_surface_points(X=853, Y=661, Z=600, surface='C')\n",
    "geo_model.add_surface_points(X=570, Y=1845, Z=600, surface='C')\n",
    "geo_model.add_surface_points(X=832, Y=2132, Z=500, surface='C')\n",
    "geo_model.add_surface_points(X=767, Y=2495, Z=500, surface='C')\n",
    "#Surface D - Before F1\n",
    "geo_model.add_surface_points(X=967, Y=1638, Z=800, surface='D')\n",
    "geo_model.add_surface_points(X=1095, Y=996, Z=800, surface='D')\n",
    "# Adding orientation to Cycle 1\n",
    "geo_model.add_orientations(X=832, Y=2132, Z=500, surface='C', orientation = [76,17.88,1])\n",
    "#surface B - After F1\n",
    "geo_model.add_surface_points(X=1447, Y=2554, Z=500, surface='B')\n",
    "geo_model.add_surface_points(X=1511, Y=2200, Z=500, surface='B')\n",
    "geo_model.add_surface_points(X=1549, Y=629, Z=600, surface='B')\n",
    "geo_model.add_surface_points(X=1630, Y=287, Z=600, surface='B')\n",
    "#surface C - After F1\n",
    "geo_model.add_surface_points(X=1891, Y=2063, Z=600, surface='C')\n",
    "geo_model.add_surface_points(X=1605, Y=1846, Z=700, surface='C')\n",
    "geo_model.add_surface_points(X=1306, Y=1641, Z=800, surface='C')\n",
    "geo_model.add_surface_points(X=1476, Y=979, Z=800, surface='C')\n",
    "geo_model.add_surface_points(X=1839, Y=962, Z=700, surface='C')\n",
    "geo_model.add_surface_points(X=2185, Y=893, Z=600, surface='C')\n",
    "geo_model.add_surface_points(X=2245, Y=547, Z=600, surface='C')\n",
    "#Surface D - After F1\n",
    "geo_model.add_surface_points(X=2809, Y=2567, Z=600, surface='D')\n",
    "geo_model.add_surface_points(X=2843, Y=2448, Z=600, surface='D')\n",
    "geo_model.add_surface_points(X=2873, Y=876, Z=700, surface='D')\n",
    "# Surface D - After F2\n",
    "geo_model.add_surface_points(X=3056, Y=2439, Z=650, surface='D')\n",
    "geo_model.add_surface_points(X=3151, Y=1292, Z=700, surface='D')\n",
    "\n",
    "### Fault 1\n",
    "# Surface F1\n",
    "geo_model.add_surface_points(X=1203, Y=138, Z=600, surface='F1')\n",
    "geo_model.add_surface_points(X=1250, Y=1653, Z=800, surface='F1')\n",
    "#orientation to Fault 1\n",
    "geo_model.add_orientations(X=1280, Y=2525, Z=500, surface='F1', orientation = [272,90,1])\n",
    "\n",
    "### Cycle 2\n",
    "# Surface G - Before F2\n",
    "geo_model.add_surface_points(X=1012, Y=1493, Z=900, surface='G')\n",
    "geo_model.add_surface_points(X=1002, Y=1224, Z=900, surface='G')\n",
    "geo_model.add_surface_points(X=1579, Y=1376, Z=850, surface='G')\n",
    "geo_model.add_surface_points(X=2489, Y=336, Z=750, surface='G')\n",
    "geo_model.add_surface_points(X=2814, Y=1848, Z=750, surface='G')\n",
    "#Surface H - Before F2\n",
    "geo_model.add_surface_points(X=2567, Y=129, Z=850, surface='H')\n",
    "geo_model.add_surface_points(X=3012, Y=726, Z=800, surface='H')\n",
    "#Orientation to cycle 2\n",
    "geo_model.add_orientations(X=1996, Y=47, Z=800, surface='G', orientation = [92,5.54,1])\n",
    "#Surface G - After F2\n",
    "geo_model.add_surface_points(X=3031, Y=2725, Z=800, surface='G')\n",
    "geo_model.add_surface_points(X=3281, Y=2314, Z=750, surface='G')\n",
    "geo_model.add_surface_points(X=3311, Y=1357, Z=750, surface='G')\n",
    "geo_model.add_surface_points(X=3336, Y=898, Z=750, surface='G')\n",
    "#Surface H - After F2\n",
    "geo_model.add_surface_points(X=3218, Y=1818, Z=890, surface='H')\n",
    "geo_model.add_surface_points(X=3934, Y=1207, Z=810, surface='H')\n",
    "geo_model.add_surface_points(X=3336, Y=704, Z=850, surface='H')\n",
    "\n",
    "### Fault 2\n",
    "geo_model.add_surface_points(X=3232, Y=178, Z=1000, surface='F2')\n",
    "geo_model.add_surface_points(X=2912, Y=2653, Z=700, surface='F2')\n",
    "#Add orientation to Fault 2\n",
    "geo_model.add_orientations(X=3132, Y=951, Z=700, surface='F2', orientation = [85,90,1])\n",
    "\n",
    "\n"
   ]
  },
  {
   "cell_type": "code",
   "execution_count": null,
   "metadata": {},
   "outputs": [],
   "source": [
    "gp.compute_model(geo_model, sort_surfaces=False)"
   ]
  },
  {
   "cell_type": "code",
   "execution_count": null,
   "metadata": {},
   "outputs": [],
   "source": [
    "map_view.remove(ax)\n",
    "map_view.plot_data(ax, direction='z', cell_number=5, legend ='force')\n",
    "ax.figure"
   ]
  },
  {
   "cell_type": "code",
   "execution_count": null,
   "metadata": {},
   "outputs": [],
   "source": [
    "profile_view = gp.plot.Plot2D(geo_model)\n",
    "profile_view.create_figure((15, 8))\n",
    "ax2 = profile_view.add_section(direction='y')\n",
    "#Cross-section of the model\n",
    "ax2.set_xlim(geo_model.grid.regular_grid.extent[0], geo_model.grid.regular_grid.extent[1])\n",
    "ax2.set_ylim(geo_model.grid.regular_grid.extent[4], geo_model.grid.regular_grid.extent[5])\n",
    "\n",
    "profile_view.remove(ax2)\n",
    "profile_view.plot_lith(ax2, cell_number=5, legend ='force')\n",
    "#ax2.figure"
   ]
  },
  {
   "cell_type": "code",
   "execution_count": null,
   "metadata": {},
   "outputs": [],
   "source": [
    "# Plot 2D\n",
    "map_view.remove(ax)\n",
    "map_view.plot_data(ax, direction='z', cell_number=5, legend ='force')\n",
    "\n",
    "profile_view.remove(ax2)\n",
    "profile_view.plot_lith(ax2, cell_number=5, legend ='force')\n",
    "\n",
    "#Plot 3D\n",
    "view_3D = gp.plot_3d(geo_model, plotter_type=\"basic\", notebook= True )\n",
    "view_3D.plot_data()\n",
    "view_3D.plot_surfaces()\n",
    "view_3D.plot_structured_grid(opacity=.2)"
   ]
  },
  {
   "cell_type": "markdown",
   "metadata": {},
   "source": [
    "## Initialize Sensor and Projector"
   ]
  },
  {
   "cell_type": "code",
   "execution_count": null,
   "metadata": {},
   "outputs": [],
   "source": [
    "#save the paths to the calibration files \n",
    "from sandbox import _calibration_dir\n",
    "_calibprojector = _calibration_dir + \"my_projector_calibration.json\"\n",
    "_calibsensor = _calibration_dir + \"my_sensor_calibration.json\""
   ]
  },
  {
   "cell_type": "code",
   "execution_count": null,
   "metadata": {},
   "outputs": [],
   "source": [
    "#Import Sensor\n",
    "from sandbox.sensor import Sensor\n",
    "sensor = Sensor(calibsensor=_calibsensor, name=\"kinect_v2\")"
   ]
  },
  {
   "cell_type": "code",
   "execution_count": null,
   "metadata": {},
   "outputs": [],
   "source": [
    "# Import projector\n",
    "from sandbox.projector import Projector\n",
    "projector = Projector(calibprojector=_calibprojector)\n"
   ]
  },
  {
   "cell_type": "markdown",
   "metadata": {},
   "source": [
    "## Initialize marker detection"
   ]
  },
  {
   "cell_type": "code",
   "execution_count": null,
   "metadata": {},
   "outputs": [],
   "source": [
    "#Initialize the aruco detection\n",
    "from sandbox.markers import MarkerDetection\n",
    "aruco = MarkerDetection(sensor=sensor)"
   ]
  },
  {
   "cell_type": "markdown",
   "metadata": {},
   "source": [
    "## Initialize main thread for live update"
   ]
  },
  {
   "cell_type": "code",
   "execution_count": null,
   "metadata": {},
   "outputs": [],
   "source": [
    "from sandbox.main_thread import MainThread\n",
    "main = MainThread(sensor=sensor, projector=projector, aruco=aruco)"
   ]
  },
  {
   "cell_type": "code",
   "execution_count": null,
   "metadata": {},
   "outputs": [],
   "source": [
    "# Start the thread \n",
    "main.run()"
   ]
  },
  {
   "cell_type": "code",
   "execution_count": null,
   "metadata": {},
   "outputs": [],
   "source": [
    "main.widget_plot_module()"
   ]
  },
  {
   "cell_type": "markdown",
   "metadata": {},
   "source": [
    "## Initialize the gempy module "
   ]
  },
  {
   "cell_type": "code",
   "execution_count": null,
   "metadata": {
    "scrolled": true
   },
   "outputs": [],
   "source": [
    "from sandbox.modules import GemPyModule\n",
    "gpsb= GemPyModule(geo_model = geo_model, \n",
    "                  extent = sensor.extent, \n",
    "                  box=sensor.physical_dimensions, \n",
    "                  load_examples = False,\n",
    "                 )"
   ]
  },
  {
   "cell_type": "markdown",
   "metadata": {},
   "source": [
    "## Add the module to the main thread"
   ]
  },
  {
   "cell_type": "code",
   "execution_count": null,
   "metadata": {
    "scrolled": true
   },
   "outputs": [],
   "source": [
    "main.add_module(name='gempy', module=gpsb)"
   ]
  },
  {
   "cell_type": "code",
   "execution_count": null,
   "metadata": {},
   "outputs": [],
   "source": [
    "gpsb.show_boundary = True\n",
    "gpsb.show_lith = True\n",
    "gpsb.show_hillshades = False\n",
    "gpsb.show_contour = False\n",
    "gpsb.show_fill_contour = False"
   ]
  },
  {
   "cell_type": "code",
   "execution_count": null,
   "metadata": {},
   "outputs": [],
   "source": [
    "\n"
   ]
  },
  {
   "cell_type": "code",
   "execution_count": null,
   "metadata": {},
   "outputs": [],
   "source": [
    "widget = gpsb.widget_model_selector()\n",
    "widget.show()"
   ]
  },
  {
   "cell_type": "code",
   "execution_count": null,
   "metadata": {},
   "outputs": [],
   "source": [
    "gpsb.show_widgets().show()  "
   ]
  },
  {
   "cell_type": "code",
   "execution_count": null,
   "metadata": {},
   "outputs": [],
   "source": [
    "#Stop Thread\n",
    "\n",
    "\n",
    "\n",
    "\n",
    "\n",
    "\n",
    "\n",
    "main.stop()"
   ]
  },
  {
   "cell_type": "code",
   "execution_count": null,
   "metadata": {},
   "outputs": [],
   "source": []
  },
  {
   "cell_type": "code",
   "execution_count": null,
   "metadata": {},
   "outputs": [],
   "source": []
  },
  {
   "cell_type": "code",
   "execution_count": null,
   "metadata": {},
   "outputs": [],
   "source": []
  }
 ],
 "metadata": {
  "kernelspec": {
   "display_name": "Python 3",
   "language": "python",
   "name": "python3"
  },
  "language_info": {
   "codemirror_mode": {
    "name": "ipython",
    "version": 3
   },
   "file_extension": ".py",
   "mimetype": "text/x-python",
   "name": "python",
   "nbconvert_exporter": "python",
   "pygments_lexer": "ipython3",
   "version": "3.7.8"
  }
 },
 "nbformat": 4,
 "nbformat_minor": 2
}
