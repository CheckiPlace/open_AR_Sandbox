{
 "cells": [
  {
   "cell_type": "markdown",
   "metadata": {},
   "source": [
    "# Visualizing RMS Grid datasets in the sandbox\n",
    "\n",
    "First we import the necessary modules:"
   ]
  },
  {
   "cell_type": "code",
   "execution_count": 1,
   "metadata": {},
   "outputs": [
    {
     "name": "stdout",
     "output_type": "stream",
     "text": [
      "Freenect module not found, KinectV1 will not work.\n"
     ]
    }
   ],
   "source": [
    "import os,sys\n",
    "#set the path to the Sandbox repository\n",
    "sys.path.append('../../sandbox')\n",
    "#import the sandbox\n",
    "import sandbox as sb\n",
    "import matplotlib.pyplot as plt"
   ]
  },
  {
   "cell_type": "markdown",
   "metadata": {},
   "source": [
    "## Block Module\n",
    "The Sandbox.BlockModule class contains all necessary methods to visualize RMS grid data. In the following steps we will create an instance of the module and load one or more RMS grids from VIP Datasets. Furthermore we will call methods to specify a custom colorbar and range for some datasets. \n",
    "For now the dimensions of the RMS grid are scaled to the dimensions of the sandbox, so if you need for example a larger vertical block size, adjust the vertical range accordingly. The horizontal aspect ratio of the sandbox is 1.2:1. Any model with a similar aspect ratio should look just fine. "
   ]
  },
  {
   "cell_type": "code",
   "execution_count": 2,
   "metadata": {},
   "outputs": [],
   "source": [
    "#instantiate the block module module to display RMS Grids:\n",
    "module = sb.RMS_Grid()"
   ]
  },
  {
   "cell_type": "code",
   "execution_count": 4,
   "metadata": {
    "scrolled": true
   },
   "outputs": [
    {
     "name": "stdout",
     "output_type": "stream",
     "text": [
      "nx ny, nz:\n",
      "120 166 105\n",
      "loading cell positions\n",
      "processing coordinates in layer 0\n",
      "processing coordinates in layer 1\n",
      "processing coordinates in layer 2\n",
      "processing coordinates in layer 3\n",
      "processing coordinates in layer 4\n",
      "processing coordinates in layer 5\n",
      "processing coordinates in layer 6\n",
      "processing coordinates in layer 7\n",
      "processing coordinates in layer 8\n",
      "processing coordinates in layer 9\n",
      "processing coordinates in layer 10\n",
      "processing coordinates in layer 11\n",
      "processing coordinates in layer 12\n",
      "processing coordinates in layer 13\n",
      "processing coordinates in layer 14\n",
      "processing coordinates in layer 15\n",
      "processing coordinates in layer 16\n",
      "processing coordinates in layer 17\n",
      "processing coordinates in layer 18\n",
      "processing coordinates in layer 19\n",
      "processing coordinates in layer 20\n",
      "processing coordinates in layer 21\n",
      "processing coordinates in layer 22\n",
      "processing coordinates in layer 23\n",
      "processing coordinates in layer 24\n",
      "processing coordinates in layer 25\n",
      "processing coordinates in layer 26\n",
      "processing coordinates in layer 27\n",
      "processing coordinates in layer 28\n",
      "processing coordinates in layer 29\n",
      "processing coordinates in layer 30\n",
      "processing coordinates in layer 31\n",
      "processing coordinates in layer 32\n",
      "processing coordinates in layer 33\n",
      "processing coordinates in layer 34\n",
      "processing coordinates in layer 35\n",
      "processing coordinates in layer 36\n",
      "processing coordinates in layer 37\n",
      "processing coordinates in layer 38\n",
      "processing coordinates in layer 39\n",
      "processing coordinates in layer 40\n",
      "processing coordinates in layer 41\n",
      "processing coordinates in layer 42\n",
      "processing coordinates in layer 43\n",
      "processing coordinates in layer 44\n",
      "processing coordinates in layer 45\n",
      "processing coordinates in layer 46\n",
      "processing coordinates in layer 47\n",
      "processing coordinates in layer 48\n",
      "processing coordinates in layer 49\n",
      "processing coordinates in layer 50\n",
      "processing coordinates in layer 51\n",
      "processing coordinates in layer 52\n",
      "processing coordinates in layer 53\n",
      "processing coordinates in layer 54\n",
      "processing coordinates in layer 55\n",
      "processing coordinates in layer 56\n",
      "processing coordinates in layer 57\n",
      "processing coordinates in layer 58\n",
      "processing coordinates in layer 59\n",
      "processing coordinates in layer 60\n",
      "processing coordinates in layer 61\n",
      "processing coordinates in layer 62\n",
      "processing coordinates in layer 63\n",
      "processing coordinates in layer 64\n",
      "processing coordinates in layer 65\n",
      "processing coordinates in layer 66\n",
      "processing coordinates in layer 67\n",
      "processing coordinates in layer 68\n",
      "processing coordinates in layer 69\n",
      "processing coordinates in layer 70\n",
      "processing coordinates in layer 71\n",
      "processing coordinates in layer 72\n",
      "processing coordinates in layer 73\n",
      "processing coordinates in layer 74\n",
      "processing coordinates in layer 75\n",
      "processing coordinates in layer 76\n",
      "processing coordinates in layer 77\n",
      "processing coordinates in layer 78\n",
      "processing coordinates in layer 79\n",
      "processing coordinates in layer 80\n",
      "processing coordinates in layer 81\n",
      "processing coordinates in layer 82\n",
      "processing coordinates in layer 83\n",
      "processing coordinates in layer 84\n",
      "processing coordinates in layer 85\n",
      "processing coordinates in layer 86\n",
      "processing coordinates in layer 87\n",
      "processing coordinates in layer 88\n",
      "processing coordinates in layer 89\n",
      "processing coordinates in layer 90\n",
      "processing coordinates in layer 91\n",
      "processing coordinates in layer 92\n",
      "processing coordinates in layer 93\n",
      "processing coordinates in layer 94\n",
      "processing coordinates in layer 95\n",
      "processing coordinates in layer 96\n",
      "processing coordinates in layer 97\n",
      "processing coordinates in layer 98\n",
      "processing coordinates in layer 99\n",
      "processing coordinates in layer 100\n",
      "processing coordinates in layer 101\n",
      "processing coordinates in layer 102\n",
      "processing coordinates in layer 103\n",
      "processing coordinates in layer 104\n",
      "coordinates loaded\n",
      "Livecells loaded\n",
      "FaultBlock loaded\n",
      "Zone loaded\n",
      "end of file reached\n",
      "fluid loaded\n",
      "ntg loaded\n"
     ]
    },
    {
     "data": {
      "text/plain": [
       "dict_keys(['mask', 'FaultBlock', 'Zone', 'fluid', 'ntg'])"
      ]
     },
     "execution_count": 4,
     "metadata": {},
     "output_type": "execute_result"
    }
   ],
   "source": [
    "# specify path to the folder where the grids are stored: \n",
    "#grid_folder='/Users/simon/Documents/Equinor/grids/'\n",
    "grid_folder='/Users/Admin/PycharmProjects/open_AR_Sandbox/grids_do_not_push/'\n",
    "\n",
    "#load a dataset \n",
    "#module.load_model_vip(grid_folder+'reek_satnum.vip')\n",
    "#module.load_model_vip(grid_folder+'reek_eqlnum.vip')\n",
    "module.load_model_vip(grid_folder+'VIP_for_UKA.corp')\n",
    "\n",
    "#optional: load an additional block file and append it to the loaded dataset:\n",
    "#you can import multiple datasets as long as they share the model dimensions nx,ny,nz.\n",
    "\n",
    "additional_block_file=open(grid_folder+'VIP_ntg_fluid.fluid.inc', 'r')\n",
    "module.parse_block_vip(additional_block_file, module.block_dict,\"fluid\", module.nx, module.ny, module.nz)\n",
    "\n",
    "additional_block_file=open(grid_folder+'VIP_ntg_fluid.ntg.inc', 'r')\n",
    "module.parse_block_vip(additional_block_file, module.block_dict,\"ntg\", module.nx, module.ny, module.nz)\n",
    "\n",
    "#show the loaded datasets:\n",
    "module.block_dict.keys()"
   ]
  },
  {
   "cell_type": "markdown",
   "metadata": {},
   "source": [
    "## create reservoir topography map\n"
   ]
  },
  {
   "cell_type": "code",
   "execution_count": 5,
   "metadata": {},
   "outputs": [],
   "source": [
    "module.create_reservoir_topo()"
   ]
  },
  {
   "cell_type": "code",
   "execution_count": 6,
   "metadata": {},
   "outputs": [
    {
     "data": {
      "text/plain": [
       "<matplotlib.contour.QuadContourSet at 0x1cf36541780>"
      ]
     },
     "execution_count": 6,
     "metadata": {},
     "output_type": "execute_result"
    },
    {
     "data": {
      "image/png": "[encoded data removed]",
      "text/plain": [
       "<Figure size 432x288 with 1 Axes>"
      ]
     },
     "metadata": {
      "needs_background": "light"
     },
     "output_type": "display_data"
    }
   ],
   "source": [
    "#preview the reservoir topography:\n",
    "plt.axis('equal')\n",
    "plt.contour(module.reservoir_topography)"
   ]
  },
  {
   "cell_type": "markdown",
   "metadata": {},
   "source": [
    "## convert to a regular grid\n",
    "interpolate and convert the irregular RMS grids into a regular grid. \n",
    "The default values for the regridding are the native resolution of the kinect and 100 depth levels. you can change the defaults by setting module.regridding_resolution, e.g. for testing (lower resolution will calculate a bit faster).\n",
    "\n",
    "This task will run for several minutes per dataset."
   ]
  },
  {
   "cell_type": "code",
   "execution_count": 7,
   "metadata": {},
   "outputs": [
    {
     "name": "stdout",
     "output_type": "stream",
     "text": [
      "processing grid:  mask\n",
      "done!\n",
      "processing grid:  FaultBlock\n",
      "done!\n",
      "processing grid:  Zone\n",
      "done!\n",
      "processing grid:  fluid\n",
      "done!\n",
      "processing grid:  ntg\n",
      "done!\n"
     ]
    }
   ],
   "source": [
    "module.regridding_resolution = [100,80,module.nz] \n",
    "module.convert_to_regular_grid()"
   ]
  },
  {
   "cell_type": "code",
   "execution_count": null,
   "metadata": {},
   "outputs": [],
   "source": []
  },
  {
   "cell_type": "code",
   "execution_count": null,
   "metadata": {},
   "outputs": [],
   "source": [
    "# preview a slice from the dataset\n",
    "depth = 5\n",
    "key = 'Fluid'\n",
    "\n",
    "block=module.regular_grid_dict[key]\n",
    "plt.axis('equal')\n",
    "plt.pcolormesh(block[:,:,depth])"
   ]
  },
  {
   "cell_type": "code",
   "execution_count": null,
   "metadata": {},
   "outputs": [],
   "source": [
    "block=module.block_dict[key]\n",
    "plt.axis('equal')\n",
    "plt.pcolormesh(block[:,:,depth])"
   ]
  },
  {
   "cell_type": "markdown",
   "metadata": {},
   "source": [
    "## save dataset\n",
    "We save the caalculated regular grid to a file so conversion have to be done only once per dataset. \n",
    "The file can be loaded into the Sandbox with BlockModule.load_model(filename). "
   ]
  },
  {
   "cell_type": "code",
   "execution_count": null,
   "metadata": {
    "slideshow": {
     "slide_type": "slide"
    }
   },
   "outputs": [],
   "source": [
    "# save dataset to file\n",
    "module.save(grid_folder+\"reek_linear.pickle\")"
   ]
  },
  {
   "cell_type": "code",
   "execution_count": null,
   "metadata": {},
   "outputs": [],
   "source": [
    "module.regular_grid_dict['fluid'].max()"
   ]
  },
  {
   "cell_type": "code",
   "execution_count": null,
   "metadata": {},
   "outputs": [],
   "source": []
  }
 ],
 "metadata": {
  "kernelspec": {
   "display_name": "Python 3",
   "language": "python",
   "name": "python3"
  },
  "language_info": {
   "codemirror_mode": {
    "name": "ipython",
    "version": 3
   },
   "file_extension": ".py",
   "mimetype": "text/x-python",
   "name": "python",
   "nbconvert_exporter": "python",
   "pygments_lexer": "ipython3",
   "version": "3.7.3"
  }
 },
 "nbformat": 4,
 "nbformat_minor": 4
}
