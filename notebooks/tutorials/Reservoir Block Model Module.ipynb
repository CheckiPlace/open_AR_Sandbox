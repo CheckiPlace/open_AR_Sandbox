{
 "cells": [
  {
   "cell_type": "markdown",
   "metadata": {},
   "source": [
    "# Visualizing RMS Grid datasets in the sandbox\n",
    "\n",
    "First we import the necessary modules:"
   ]
  },
  {
   "cell_type": "code",
   "execution_count": null,
   "metadata": {},
   "outputs": [],
   "source": [
    "import os,sys\n",
    "#set the path to the Sandbox repository\n",
    "sys.path.append('../../sandbox')\n",
    "#import the sandbox\n",
    "import sandbox as sb"
   ]
  },
  {
   "cell_type": "markdown",
   "metadata": {},
   "source": [
    "### set up the sandbox\n",
    "Next we initialize the sandbox components for the projector and the sensor. To do so we need to specify a calibration data json file. If you do not have a calibration yet (or if the projected image of the sandbox does not align with your sirface anymore), create a new calibration first by following the instructions in the \"calibration.ipynb\" notebook."
   ]
  },
  {
   "cell_type": "code",
   "execution_count": null,
   "metadata": {},
   "outputs": [],
   "source": [
    "#load the calibration data from the json file\n",
    "calib = sb.CalibrationData(file='my_calibration.json')"
   ]
  },
  {
   "cell_type": "code",
   "execution_count": null,
   "metadata": {
    "scrolled": true
   },
   "outputs": [],
   "source": [
    "#instatiate a projector instance:\n",
    "# a new window will open. drag it to the projector screen and maximize by pressing F11\n",
    "\n",
    "projector = sb.Projector(calib)"
   ]
  },
  {
   "cell_type": "code",
   "execution_count": null,
   "metadata": {
    "scrolled": true
   },
   "outputs": [],
   "source": [
    "#initiate the kinect sensor:\n",
    "\n",
    "sensor = sb.KinectV2(calib)\n",
    "\n",
    "#if you do not have a kinect sensor connected:\n",
    "#comment out the line above and uncomment the line below to use a dummy sensor.\n",
    "\n",
    "#sensor = sb.DummySensor(calib, depth_limits=(500,2000))"
   ]
  },
  {
   "cell_type": "markdown",
   "metadata": {},
   "source": [
    "## Block Module\n",
    "The Sandbox.BlockModule class contains all necessary methods to visualize RMS grid data. In the following steps we will create an instance of the module and load one or more RMS grids from VIP Datasets. Furthermore we will call methods to specify a custom colorbar and range for some datasets. \n",
    "For now the dimensions of the RMS grid are scaled to the dimensions of the sandbox, so if you need for example a larger vertical block size, adjust the vertical range accordingly. The horizontal aspect ratio of the sandbox is 1.2:1. Any model with a similar aspect ratio should look just fine. "
   ]
  },
  {
   "cell_type": "code",
   "execution_count": null,
   "metadata": {},
   "outputs": [],
   "source": [
    "#instantiate the block module module to display RMS Grids:\n",
    "module = sb.BlockModule(calib, sensor, projector)"
   ]
  },
  {
   "cell_type": "code",
   "execution_count": null,
   "metadata": {
    "scrolled": true
   },
   "outputs": [],
   "source": [
    "# specify path to the folder where the grids are stored: \n",
    "grid_folder='/Users/Admin/PycharmProjects/open_AR_Sandbox/grids_do_not_push/'\n",
    "module.load_model(grid_folder+\"VIP_for_UKA_linear.pickle\")"
   ]
  },
  {
   "cell_type": "code",
   "execution_count": null,
   "metadata": {},
   "outputs": [],
   "source": [
    "# specify custom colormaps:\n",
    "#norm specifies the minimum and maximum value of the cells\n",
    "module.set_colormap('fluid',cmap=module.create_cmap(['blue','green','red']),norm=module.create_norm(0,2))\n",
    "module.set_colormap('ntg',cmap=module.create_cmap(['green','yellow']),norm=module.create_norm(0.0,1.0))\n",
    "\n",
    "# for all other datasets, the 'jet' colormap is set as default:  \n",
    "module.set_colormaps()"
   ]
  },
  {
   "cell_type": "markdown",
   "metadata": {},
   "source": [
    "## start the sandbox\n",
    "now your model is set and ready to go! There are only two things to do: \n",
    "1. call the setup method of the model that prepares the sandbox \n",
    "2. call module.run() to start the sandbox thread. "
   ]
  },
  {
   "cell_type": "code",
   "execution_count": null,
   "metadata": {},
   "outputs": [],
   "source": [
    "#setup the module to prepare the \"run\" coroutine :\n",
    "module.setup() "
   ]
  },
  {
   "cell_type": "code",
   "execution_count": null,
   "metadata": {},
   "outputs": [],
   "source": [
    "# start the sandbox thread\n",
    "module.run()\n",
    "\n",
    "#Done! The Sandbox should now run"
   ]
  },
  {
   "cell_type": "markdown",
   "metadata": {},
   "source": [
    "## manipulation in runtime\n",
    "the sandbox is running in a separate thread. that means that you can make (some) changes while the sandbox is running. One build in example is the dataset selector widget that you can use to switch between the visualized datasets in runtime.\n",
    "\n",
    "For all other changes you make to any parameters it is important that you acquire and release the module's thread lock object (module.lock) each time that you want to make any changes. This way you make sure that you do not write any data that the sandbox is currently trying to access (which might lead to some unexpected behaviour).\n",
    "\n",
    "Here are some examples of changes you can make: "
   ]
  },
  {
   "cell_type": "code",
   "execution_count": null,
   "metadata": {
    "slideshow": {
     "slide_type": "slide"
    }
   },
   "outputs": [],
   "source": [
    "# show a selector widget to switch between the currently shown datasets:\n",
    "\n",
    "module.show_widgets()"
   ]
  },
  {
   "cell_type": "code",
   "execution_count": null,
   "metadata": {},
   "outputs": [],
   "source": [
    "# change the gaussian filter parameter of the sensor\n",
    "\n",
    "with module.lock:\n",
    "    print(\"sigma gauss was: \"+str(sensor.sigma_gauss) )\n",
    "    sensor.sigma_gauss=5\n",
    "    "
   ]
  },
  {
   "cell_type": "code",
   "execution_count": null,
   "metadata": {},
   "outputs": [],
   "source": [
    "# change the colormap of a dataset\n",
    "\n",
    "with module.lock:\n",
    "    module.set_colormap('fluid',\n",
    "                        cmap=module.create_cmap(['red','white','green']),\n",
    "                        norm=module.create_norm(0,2)\n",
    "                       )"
   ]
  },
  {
   "cell_type": "markdown",
   "metadata": {},
   "source": [
    "## stop the sandbox\n",
    "to stop the sandbox from running you have two options: Either restart the kernel or manually terminate the sandbox thread with module.stop()\n",
    "\n",
    "Using the stop() method has two advantages: all your variables  are still there and you can restart your sandbox any time you like by calling module.run() again."
   ]
  },
  {
   "cell_type": "code",
   "execution_count": null,
   "metadata": {
    "slideshow": {
     "slide_type": "slide"
    }
   },
   "outputs": [],
   "source": [
    "# execute this cell to stop the sandbox thread:\n",
    "module.stop()"
   ]
  }
 ],
 "metadata": {
  "kernelspec": {
   "display_name": "Python 3",
   "language": "python",
   "name": "python3"
  },
  "language_info": {
   "codemirror_mode": {
    "name": "ipython",
    "version": 3
   },
   "file_extension": ".py",
   "mimetype": "text/x-python",
   "name": "python",
   "nbconvert_exporter": "python",
   "pygments_lexer": "ipython3",
   "version": "3.7.4"
  }
 },
 "nbformat": 4,
 "nbformat_minor": 4
}
