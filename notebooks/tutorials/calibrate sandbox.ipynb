{
 "cells": [
  {
   "cell_type": "markdown",
   "metadata": {},
   "source": [
    "# Sandbox calibration\n",
    "with this notebook you can create or change the calibration of a sandbox setup.\n",
    "Use the sliders in the widget to set the dimensions and vertical range of the sandbox and align the projected image of the kinect with the box.\n",
    "\n",
    "\n",
    "\n",
    "\n",
    "\n"
   ]
  },
  {
   "cell_type": "markdown",
   "metadata": {},
   "source": [
    "## Some remarks on setting up the box\n",
    "\n",
    "Please consider the following guidelines to make your sandbox experience as pleasant as possible:\n",
    "- use a rectangular box, ideally with semitransparent (frosted) or opaque walls.\n",
    "- position the kinect and projector in a central position over the box. the closer they are together the better!\n",
    "- make sure the kinect is perfectly horizontal (=parallel to the floor of the box)\n",
    "- the higer the distance between the sandbox and the sensor/projector the better! the distance should be at leat 1-1.5 times the longest dimension of your box! Don't worry if the sandbox does not cover the entire field of view of the kinect, the resolution will still be more than good enough in the end!\n",
    "- adjust the keystone of the projector so that the egdes of the image are orthogonal. \n",
    "- adjust the position of the sandbox (or the projector/kinect) that the projected image is parallel to the box edges and covers the sandbox completely.\n",
    "- set the projection mode that the image is not mirrored or flipped when you look down at the sand from the front of the box.\n",
    "\n",
    "Now let us start with the calibration!\n",
    "\n"
   ]
  },
  {
   "cell_type": "code",
<<<<<<< HEAD
   "execution_count": null,
=======
   "execution_count": 2,
>>>>>>> gempy2-dev
   "metadata": {},
   "outputs": [
    {
     "name": "stderr",
     "output_type": "stream",
     "text": [
<<<<<<< HEAD
      "./../../../open_AR_Sandbox\\sandbox\\sandbox.py:7: UserWarning: Freenect is not installed. Sandbox wont work. Good luck\n",
<<<<<<< HEAD
      "  warn('Freenect is not installed. Sandbox wont work. Good luck')\n",
      "./../../../gempy\\gempy\\plotting\\visualization.py:36: UserWarning: Steno 3D package is not installed. No 3D online visualization available.\n",
      "  warnings.warn('Steno 3D package is not installed. No 3D online visualization available.')\n",
      "WARNING (theano.configdefaults): g++ not available, if using conda: `conda install m2w64-toolchain`\n",
      "C:\\Users\\lisa-\\Documents\\RWTH\\Anaconda3\\envs\\lisa3\\lib\\site-packages\\theano\\configdefaults.py:560: UserWarning: DeprecationWarning: there is no c++ compiler.This is deprecated and with Theano 0.11 a c++ compiler will be mandatory\n",
      "  warnings.warn(\"DeprecationWarning: there is no c++ compiler.\"\n",
      "WARNING (theano.configdefaults): g++ not detected ! Theano will be unable to execute optimized C-implementations (for both CPU and GPU) and will default to Python implementations. Performance will be severely degraded. To remove this warning, set Theano flags cxx to an empty string.\n",
      "WARNING (theano.tensor.blas): Using NumPy C-API based implementation for BLAS functions.\n",
      "./../../../gempy\\gempy\\topology.py:28: UserWarning: skimage package is not installed, which is required for geomodel topology analysis.\n",
      "  warnings.warn(\"skimage package is not installed, which is required for geomodel topology analysis.\")\n",
      "./../../../gempy\\gempy\\posterior_analysis.py:28: UserWarning: pymc (v3) package is not installed. No support for stochastic simulation posterior analysis.\n",
      "  warnings.warn(\"pymc (v3) package is not installed. No support for stochastic simulation posterior analysis.\")\n",
      "./../../../open_AR_Sandbox\\sandbox\\sandbox.py:34: RuntimeWarning: Two kernels cannot access the kinect at the same time. This will lead to a sudden death of the kernel. Be sure no other kernel is running before initialize a kinect object.\n",
=======
      "../../sandbox/sandbox.py:34: RuntimeWarning: Two kernels cannot access the kinect at the same time. This will lead to a sudden death of the kernel. Be sure no other kernel is running before initialize a kinect object.\n",
>>>>>>> gempy2-dev
      "  'Be sure no other kernel is running before initialize a kinect object.', RuntimeWarning)\n"
=======
      "  warn('Freenect is not installed. Sandbox wont work. Good luck')\n"
>>>>>>> old_master
     ]
    }
   ],
   "source": [
    "import os,sys\n",
<<<<<<< HEAD
    "sys.path.append('./../../../open_AR_Sandbox/')\n",
    "sys.path.append('./../../../gempy/')\n",
=======
    "sys.path.append('./open_AR_Sandbox/')\n",
    "sys.path.append('../../../gempy')\n",
    "sys.path.append('../../')\n",
    "\n",
>>>>>>> gempy2-dev
    "import sandbox.sandbox as sb\n",
    "#import Sandbox as sb"
   ]
  },
  {
   "cell_type": "markdown",
   "metadata": {},
   "source": [
    "### setup the sandbox\n",
    "initialize the components of the sandbox and opens an output stream in a new Chrome tab. Drag the tab to the projector screen and set to fullscreen (F11).\n",
    "If this step kills the kernel make sure there is not another notebook running with an active Kinect instance"
   ]
  },
  {
   "cell_type": "code",
   "execution_count": 3,
   "metadata": {},
   "outputs": [
    {
     "name": "stdout",
     "output_type": "stream",
     "text": [
      "looking for kinect...\n",
      "0\n",
      "kinect initialized\n"
     ]
    }
   ],
   "source": [
<<<<<<< HEAD
<<<<<<< HEAD
    "kinect = sb.Kinect(dummy=True)"
=======
    "kinect = sb.Kinect()"
>>>>>>> old_master
=======
    "kinect = sb.Kinect(dummy=False)"
>>>>>>> gempy2-dev
   ]
  },
  {
   "cell_type": "code",
   "execution_count": 3,
   "metadata": {},
   "outputs": [],
   "source": [
<<<<<<< HEAD
=======
    "\n",
>>>>>>> old_master
    "projector = sb.Projector(resolution = (1024,768))\n",
    "projector.refresh = 100           #Set projector refresh interval in milliseconds. 100ms = 10Hz \n",
    "projector.work_directory=\"./temp\"\n",
    "projector.start_stream()          #Open an new Tab with sandbox output.\n",
    "calibration = sb.Calibration(projector)#projector.calibration\n",
    "projector.set_calibration(calibration)"
   ]
  },
  {
   "cell_type": "markdown",
   "metadata": {},
   "source": [
    "### Parameters:\n",
    "* *rot_angle:* rotation of kinect in respect to projector \n",
    "* *x_lim, y_lim:* horizontal and vertical extent of projeced image in pixels\n",
    "* *x_pos, y_pos:* offset of projected frame from top left corner \n",
    "* *scale_factor:* scaling factor from kinect pixels to projector pixels \n",
    "* *z_range:* vertical extend of the sandbox in mm distance from the kinect sensor. the vertical model extend is later mapped to these these values, so choose a z_range and model extend that is in the correct ratio with the horizontal dimension to avoid vertical exaggeration.\n",
    "* *box_width, box_height:* horizontal extent of th sandbox in millimeters. THese values are only used to calculate the scale of the model but have no further effect.\n",
    "* *legend:* switch legend on/off and set its size and position.\n",
    "* *profile:* an area to display additional information like a profile. Currently under development.  \n",
    "* *hot_area:* define an are to interact with the sandbox with markers (QR codes). Currently under development\n"
   ]
  },
  {
   "cell_type": "markdown",
   "metadata": {},
   "source": [
    "### load calibration data from file"
   ]
  },
  {
   "cell_type": "code",
<<<<<<< HEAD
<<<<<<< HEAD
   "execution_count": 5,
=======
   "execution_count": 8,
>>>>>>> old_master
   "metadata": {},
   "outputs": [],
   "source": [
    "calibration_infilename = \"sandbox_test.dat\" \n",
=======
   "execution_count": 5,
   "metadata": {},
   "outputs": [],
   "source": [
    "calibration_infilename = \"sandbox_bern.dat\"\n",
    "calibration = sb.Calibration(projector)\n",
    "\n",
>>>>>>> gempy2-dev
    "calibration.load(calibration_file=calibration_infilename)"
   ]
  },
  {
   "cell_type": "code",
   "execution_count": 6,
   "metadata": {},
   "outputs": [],
   "source": [
    "projector.calibration = calibration"
   ]
  },
  {
   "cell_type": "markdown",
   "metadata": {},
   "source": [
    "### optional: adjust appearance of calibration frame "
   ]
  },
  {
   "cell_type": "code",
<<<<<<< HEAD
<<<<<<< HEAD
   "execution_count": 6,
=======
   "execution_count": 9,
>>>>>>> old_master
=======
   "execution_count": 7,
>>>>>>> gempy2-dev
   "metadata": {},
   "outputs": [],
   "source": [
    "calibration.contours = True     # show or hide contours\n",
    "calibration.n_contours = 50     # number of contours between z_min and z_max\n",
    "calibration.cmap = 'viridis'    # name of colormap \n",
    "# calibration.contour_levels      # show the contour levels"
   ]
  },
  {
   "cell_type": "markdown",
   "metadata": {},
   "source": [
    "### open calibration widget \n",
    "### Parameters:\n",
    "* *rot_angle:* rotation of kinect in respect to projector \n",
    "* *x_lim, y_lim:* horizontal and vertical extent of projeced image in pixels\n",
    "* *x_pos, y_pos:* offset of projected frame from top left corner \n",
    "* *scale_factor:* scaling factor from kinect pixels to projector pixels \n",
    "* *z_range:* vertical extend of the sandbox in mm distance from the kinect sensor. the vertical model extend is later mapped to these these values, so choose a z_range and model extend that is in the correct ratio with the horizontal dimension to avoid vertical exaggeration.\n",
    "* *box_width, box_height:* horizontal extent of th sandbox in millimeters. THese values are only used to calculate the scale of the model but have no further effect.\n",
    "* *legend:* switch legend on/off and set its size and position.\n",
    "* *profile:* an area to display additional information like a profile. Currently under development.  \n",
    "* *hot_area:* define an are to interact with the sandbox with markers (QR codes). Currently under development\n",
    "\n",
    "### how to calibrate\n",
    "In the beginning you will see a depth image of the kinect in the upper left corner of the sandbox that is most probably not aligned at all with the sand. In the following we will step-by-step adjust the parameters to align the kinect, projector sandbox with each other. \n",
    "the image updates each time the value of a slider is changed. \n",
    "\n",
    "1. first of all it is time to get your hands dirty: make a huge pile of sand in the middle of the box. try to build it as high as possible or reasonable. and make sure that you have some spots on the left and right of the pile where is no sand left and you can see the bottom of the box. \n",
    "2. now adjust the z-range sliders to define the top and bottom of the box. pixels outside the range as well as invalid pixels that the kinect does not recognize atre white.  If possible you should set it up that the (z_max - z_min) is equal to the shorter horizontal dimension of the box.\n",
    "3. adjust rot_angle to make the edges of the box in the image parallel to the edges of the real box. Make sure the image is not upside down.\n",
    "4. adjust the left x_lim slider to cut away everything that is left of the box boundary. \n",
    "5. do the same for the top edge by adjusting the right y_lim slider.\n",
    "6. now align the top left corner of the image with the top left corner of the sandbox by adjusting x_pos and y_pos\n",
    "7. increase the scale_factor slider to make the projected image align with the real topography in the sandbox. use the bottom right corner of the sandbox as reference. \n",
    "8.adjust the right x_lim and the left y_lim sliders to cut off the image at he bottom and right edge. \n",
    "\n",
    "click \"close calibration\" when you are finished"
   ]
  },
  {
   "cell_type": "code",
<<<<<<< HEAD
<<<<<<< HEAD
   "execution_count": 7,
   "metadata": {},
=======
   "execution_count": 8,
   "metadata": {
    "scrolled": false
   },
>>>>>>> gempy2-dev
   "outputs": [
    {
     "name": "stdout",
     "output_type": "stream",
     "text": [
      "no associated kinect specified, using last kinect instance created\n"
     ]
=======
   "execution_count": 10,
   "metadata": {},
   "outputs": [
    {
     "data": {
      "text/html": [
       "<p>Failed to display Jupyter Widget of type <code>interactive</code>.</p>\n",
       "<p>\n",
       "  If you're reading this message in the Jupyter Notebook or JupyterLab Notebook, it may mean\n",
       "  that the widgets JavaScript is still loading. If this message persists, it\n",
       "  likely means that the widgets JavaScript library is either not installed or\n",
       "  not enabled. See the <a href=\"https://ipywidgets.readthedocs.io/en/stable/user_install.html\">Jupyter\n",
       "  Widgets Documentation</a> for setup instructions.\n",
       "</p>\n",
       "<p>\n",
       "  If you're reading this message in another frontend (for example, a static\n",
       "  rendering on GitHub or <a href=\"https://nbviewer.jupyter.org/\">NBViewer</a>),\n",
       "  it may mean that your frontend doesn't currently support widgets.\n",
       "</p>\n"
      ],
      "text/plain": [
       "interactive(children=(IntSlider(value=-180, continuous_update=False, description='rot_angle', max=180, min=-180), IntRangeSlider(value=(0, 640), continuous_update=False, description='x_lim', max=640), IntRangeSlider(value=(0, 480), continuous_update=False, description='y_lim', max=480), IntSlider(value=0, description='x_pos', max=1024), IntSlider(value=0, description='y_pos', max=768), FloatSlider(value=1.0, continuous_update=False, description='scale_factor', max=4.0, min=0.1, step=0.01), IntRangeSlider(value=(800, 1400), continuous_update=False, description='z_range', max=2000, min=500), IntSlider(value=1000, continuous_update=False, description='box_width', max=2000), IntSlider(value=600, continuous_update=False, description='box_height', max=2000), ToggleButton(value=False, description='display a legend', icon='check', tooltip='Description'), IntRangeSlider(value=(718, 1023), continuous_update=False, description='legend_x_lim', max=1024), IntRangeSlider(value=(668, 718), continuous_update=False, description='legend_y_lim', max=768), ToggleButton(value=False, description='display a profile area', icon='check', tooltip='display a profile area'), IntRangeSlider(value=(974, 1023), continuous_update=False, description='profile_x_lim', max=1024), IntRangeSlider(value=(668, 767), continuous_update=False, description='profile_y_lim', max=768), ToggleButton(value=False, description='display a hot area for qr codes', icon='check', tooltip='display a hot area for qr codes'), IntRangeSlider(value=(974, 1023), continuous_update=False, description='hot_x_lim', max=1024), IntRangeSlider(value=(668, 767), continuous_update=False, description='hot_y_lim', max=768), ToggleButton(value=False, description='Close calibration', icon='check', tooltip='Close calibration'), Output()), _dom_classes=('widget-interact',))"
      ]
     },
     "metadata": {},
     "output_type": "execute_result"
>>>>>>> old_master
    },
    {
     "data": {
<<<<<<< HEAD
      "text/plain": [
<<<<<<< HEAD
       "interactive(children=(IntSlider(value=-180, continuous_update=False, description='rot_angle', max=180, min=-18…"
=======
       "<matplotlib.figure.Figure at 0x169693cfcc0>"
>>>>>>> old_master
=======
      "application/vnd.jupyter.widget-view+json": {
       "model_id": "ce02856d3a2443a8b8806f4a584710c8",
       "version_major": 2,
       "version_minor": 0
      },
      "text/plain": [
       "interactive(children=(IntSlider(value=0, continuous_update=False, description='rot_angle', max=180, min=-180),…"
>>>>>>> gempy2-dev
      ]
     },
     "metadata": {},
     "output_type": "display_data"
    }
   ],
   "source": [
    "calibration.create()"
   ]
  },
  {
   "cell_type": "markdown",
   "metadata": {},
   "source": [
    "## save calibration data to file"
   ]
  },
  {
   "cell_type": "code",
<<<<<<< HEAD
   "execution_count": 8,
=======
   "execution_count": 9,
>>>>>>> gempy2-dev
   "metadata": {},
   "outputs": [
    {
     "name": "stdout",
     "output_type": "stream",
     "text": [
<<<<<<< HEAD
      "calibration saved to sandbox_brisbane.dat\n"
=======
      "calibration saved to sandbox_bern.dat\n"
>>>>>>> gempy2-dev
     ]
    }
   ],
   "source": [
<<<<<<< HEAD
    "calibration_outfilename = \"sandbox_brisbane.dat\" \n",
=======
    "calibration_outfilename = \"sandbox_bern.dat\" \n",
>>>>>>> gempy2-dev
    "calibration.save(calibration_file=calibration_outfilename)"
   ]
  },
  {
   "cell_type": "code",
   "execution_count": null,
   "metadata": {},
   "outputs": [],
   "source": []
  },
  {
   "cell_type": "code",
   "execution_count": null,
   "metadata": {},
   "outputs": [],
   "source": [
    "projector.start_stream()"
   ]
  },
  {
   "cell_type": "code",
   "execution_count": null,
   "metadata": {},
   "outputs": [],
   "source": []
  }
 ],
 "metadata": {
  "kernelspec": {
   "display_name": "Python 3",
   "language": "python",
   "name": "python3"
  },
  "language_info": {
   "codemirror_mode": {
    "name": "ipython",
    "version": 3
   },
   "file_extension": ".py",
   "mimetype": "text/x-python",
   "name": "python",
   "nbconvert_exporter": "python",
   "pygments_lexer": "ipython3",
<<<<<<< HEAD
<<<<<<< HEAD
   "version": "3.6.6"
=======
   "version": "3.6.4"
>>>>>>> old_master
=======
   "version": "3.6.8"
>>>>>>> gempy2-dev
  }
 },
 "nbformat": 4,
 "nbformat_minor": 2
}
