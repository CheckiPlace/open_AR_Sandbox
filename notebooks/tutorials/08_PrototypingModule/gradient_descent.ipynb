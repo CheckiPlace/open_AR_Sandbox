{
 "cells": [
  {
   "cell_type": "code",
   "execution_count": null,
   "metadata": {},
   "outputs": [],
   "source": [
    "import os,sys\n",
    "#set the path to the Sandbox repository\n",
    "sys.path.append('../../../')\n",
    "#import the sandbox\n",
    "import sandbox as sb\n",
    "# set the path to the calibration file\n",
    "CALIBRATION_FILE = '../../calibration_files/my_calibration.json'\n"
   ]
  },
  {
   "cell_type": "code",
   "execution_count": null,
   "metadata": {},
   "outputs": [],
   "source": []
  },
  {
   "cell_type": "code",
   "execution_count": null,
   "metadata": {},
   "outputs": [],
   "source": [
    "calib = sb.CalibrationData(file = CALIBRATION_FILE)\n",
    "sensor = sb.Sensor(calib,sigma_gauss=5)\n",
    "projector = sb.Projector(calib)"
   ]
  },
  {
   "cell_type": "code",
   "execution_count": null,
   "metadata": {},
   "outputs": [],
   "source": [
    "aruco = sb.ArucoMarkers(sensor, calib)"
   ]
  },
  {
   "cell_type": "code",
   "execution_count": null,
   "metadata": {},
   "outputs": [],
   "source": [
    "module = sb.PrototypingModule(calib,sensor,projector, aruco)"
   ]
  },
  {
   "cell_type": "code",
   "execution_count": null,
   "metadata": {},
   "outputs": [],
   "source": [
    "module.setup()"
   ]
  },
  {
   "cell_type": "code",
   "execution_count": null,
   "metadata": {},
   "outputs": [],
   "source": [
    "module.run()"
   ]
  },
  {
   "cell_type": "code",
   "execution_count": null,
   "metadata": {},
   "outputs": [],
   "source": [
    "module.plot.cmap.set_over('k',1)\n",
    "module.plot.cmap.set_under('k',1)"
   ]
  },
  {
   "cell_type": "code",
   "execution_count": null,
   "metadata": {},
   "outputs": [],
   "source": [
    "df_position= module.Aruco.aruco_markers\n",
    "df_position.loc[df_position.is_inside_box == True,('box_x','box_y')].values[0]"
   ]
  },
  {
   "cell_type": "markdown",
   "metadata": {},
   "source": [
    "### start prototyping "
   ]
  },
  {
   "cell_type": "code",
   "execution_count": null,
   "metadata": {},
   "outputs": [],
   "source": [
    "import numpy as np\n",
    "import matplotlib.pyplot as plt\n",
    "import scipy\n"
   ]
  },
  {
   "cell_type": "code",
   "execution_count": null,
   "metadata": {},
   "outputs": [],
   "source": [
    "def gradient_decs_quian(n, frame, xy):\n",
    "    alpha = 0.01     # 学习率\n",
    "    tol = 1e-8\n",
    "    x , y = int(xy[0]), int(xy[1])   # 初始值\n",
    "    z1 = frame[y][x]\n",
    "    x_list = [x]\n",
    "    y_list = [y]\n",
    "    for i in range(n):\n",
    "        deriv1, deriv2 = np.gradient(frame)\n",
    "        #dimension x            \n",
    "        dx = deriv1[y][x]\n",
    "        dy = deriv2[y][x]\n",
    "        \n",
    "        x = int( x - alpha * dx)\n",
    "        y = int(y - alpha * dy)\n",
    "        z2 = frame[y][x]\n",
    "        x_list.append(x)\n",
    "        y_list.append(y)\n",
    "        #if z1 - z2 < tol :\n",
    "         #   return x_list, y_list\n",
    "        if z2 < z1:\n",
    "            z1 = z2\n",
    "    return x_list, y_list"
   ]
  },
  {
   "cell_type": "code",
   "execution_count": null,
   "metadata": {},
   "outputs": [],
   "source": [
    "def gradient_decs_daniel(n, frame, xy):\n",
    "    alpha = 0.1     # 学习率\n",
    "    tol = 1e-15\n",
    "    x , y = int(xy[0]), int(xy[1])   # 初始值\n",
    "    z1 = frame[y][x]\n",
    "    x_list = [x]\n",
    "    y_list = [y]\n",
    "    for i in range(n):\n",
    "        deriv1, deriv2 = np.gradient(frame)\n",
    "        #dimension x\n",
    "        if deriv1[y][x] < 0 :\n",
    "            y_pos = y + 1\n",
    "        elif deriv1[y][x] > 0:\n",
    "            y_pos = y -1\n",
    "        else:\n",
    "            y_pos = y\n",
    "        \n",
    "        if deriv2[y][x] < 0 :\n",
    "            x_pos = x + 1\n",
    "        elif deriv2[y][x] > 0:\n",
    "            x_pos = x - 1\n",
    "        else:\n",
    "            x_pos = x\n",
    "        \n",
    "        if deriv1[y][x] < deriv2[y][x]:\n",
    "            y = y_pos\n",
    "        elif deriv1[y][x] > deriv2[y][x]:\n",
    "            x = x_pos\n",
    "        else:\n",
    "            x= x_pos\n",
    "            y = y_pos\n",
    "            \n",
    "        #z2 = frame[x][y]\n",
    "\n",
    "        x_list.append(x)\n",
    "        y_list.append(y)\n",
    "        \n",
    "        #if z1 - z2 < tol :\n",
    "         #   return x_list, y_list, x, y\n",
    "        #if z2 < z1:\n",
    "          #  z1 = z2\n",
    "    return x_list, y_list"
   ]
  },
  {
   "cell_type": "code",
   "execution_count": null,
   "metadata": {},
   "outputs": [],
   "source": [
    "def gradient_decs_interp(n, frame, xy):\n",
    "    alpha = 0.005# 学习率\n",
    "    tol = 1e-10\n",
    "    x , y = int(xy[0]), int(xy[1])   # 初始值\n",
    "    z1 = frame[y][x]\n",
    "    z2 =0\n",
    "    x_list = [x]\n",
    "    y_list = [y]\n",
    "    der_y, der_x = np.gradient(frame)\n",
    "    count = 0\n",
    "    for i in range(n):\n",
    "    #while np.abs(z1 - z2) < tol or count <= n:\n",
    "\n",
    "        x_up = int(np.ceil(x))\n",
    "        x_down = int(np.floor(x))\n",
    "        \n",
    "        if x_up==x_down:\n",
    "            x_up +=1\n",
    "        \n",
    "        y_up = int(np.ceil(y))\n",
    "        y_down = int(np.floor(y))\n",
    "        \n",
    "        if y_up==y_down:\n",
    "            y_up +=1\n",
    "        \n",
    "        points = np.array([[x_up,y_up],\n",
    "                           [x_up,y_down],\n",
    "                           [x_down,y_up],\n",
    "                           [x_down,y_down]])\n",
    "        values = np.array([frame[y_up][x_up],\n",
    "                           frame[y_up][x_down],\n",
    "                           frame[y_down][x_up],\n",
    "                           frame[y_down][x_down]])\n",
    "        inter = scipy.interpolate.LinearNDInterpolator(points,values)\n",
    "\n",
    "        x_ = inter(x_down, y)-inter(x_up, y)\n",
    "        y_ = inter(x, y_down)-inter(x, y_up)\n",
    "\n",
    "        dx = x_/(x_down-x_up)\n",
    "        dy = y_/(y_down - y_up)\n",
    "   \n",
    "  \n",
    "        z1 = inter(x,y)          \n",
    "        x = ( x - alpha * dx)\n",
    "        y = (y - alpha * dy)\n",
    "        z2 = inter(x,y) \n",
    "        \n",
    "        x_list.append(x)\n",
    "        y_list.append(y)\n",
    "        count +=1\n",
    "    #print (count)\n",
    "\n",
    "    return x_list, y_list"
   ]
  },
  {
   "cell_type": "code",
   "execution_count": null,
   "metadata": {},
   "outputs": [],
   "source": [
    "def plot_from_notebook(sandbox_ax, sandbox_frame, xy):\n",
    "    frame = sandbox_frame\n",
    "    ax = sandbox_ax\n",
    "    frame = calib.s_max - frame\n",
    "    dx, dy = np.gradient(frame)\n",
    "    gradient = np.sqrt(dx*dx + dy*dy)\n",
    "    #ax.pcolormesh(dy, vmin =-2, vmax =2)#, vmin = calib.s_min, vmax = calib.s_max)\n",
    "    ax.pcolormesh(frame, cmap =\"gist_earth\")#, vmin = calib.s_min, vmax = calib.s_max)\n",
    "    levels=np.arange(0,frame.max(), 50)\n",
    "    ax.contour(frame, levels=levels, colors = 'black' )\n",
    "    \n",
    "    if xy is not None:\n",
    "        ax.plot(xy[0],xy[1],'r*')\n",
    "        #x_list, y_list, x, y = gradient_decs(1000, frame, xy)\n",
    "        #x_list1, y_list1 = gradient_decs_quian(1000, frame, xy)\n",
    "        #x_list2, y_list2 = gradient_decs_daniel(1000, frame, xy)\n",
    "        x_list3, y_list3 = gradient_decs_interp(5000, frame, xy)\n",
    "\n",
    "        #ax.plot(x_list1, y_list1,'r*' )\n",
    "        #ax.plot(x_list1[-1], y_list1[-1],'r*', markersize = 30)\n",
    "        \n",
    "        #ax.plot(x_list2, y_list2,'b*' )\n",
    "        #ax.plot(x_list2[-1], y_list2[-1],'b*', markersize = 30)\n",
    "        \n",
    "        ax.plot(x_list3, y_list3,'k*' )\n",
    "        ax.plot(x_list3[-1], y_list3[-1],'k*', markersize = 30)\n",
    "    \n",
    "    \n"
   ]
  },
  {
   "cell_type": "code",
   "execution_count": null,
   "metadata": {},
   "outputs": [],
   "source": [
    "module.function_to_run = module.plot_sandbox(plot_from_notebook)"
   ]
  },
  {
   "cell_type": "code",
   "execution_count": null,
   "metadata": {},
   "outputs": [],
   "source": [
    "module.active_connection=True"
   ]
  },
  {
   "cell_type": "code",
   "execution_count": null,
   "metadata": {},
   "outputs": [],
   "source": [
    "(module.Aruco.aruco_markers['box_x'].values[0], module.Aruco.aruco_markers['box_y'].values[0])"
   ]
  },
  {
   "cell_type": "code",
   "execution_count": null,
   "metadata": {},
   "outputs": [],
   "source": [
    "int(np.ceil(1.0))"
   ]
  },
  {
   "cell_type": "code",
   "execution_count": null,
   "metadata": {},
   "outputs": [],
   "source": [
    "frame = module.crop_frame(sensor.depth)\n",
    "frame = calib.s_max - frame\n",
    "dx, dy = np.gradient(frame)\n",
    "gradient = np.sqrt(dx**2 + dy**2)\n",
    "plt.pcolormesh(frame,vmin = frame.min(), vmax = frame.max(), cmap = \"gist_earth\")\n",
    "\n",
    "\n",
    "plt.colorbar()"
   ]
  },
  {
   "cell_type": "code",
   "execution_count": null,
   "metadata": {},
   "outputs": [],
   "source": [
    "np.save(\"topo2.npy\", frame)"
   ]
  },
  {
   "cell_type": "code",
   "execution_count": null,
   "metadata": {},
   "outputs": [],
   "source": [
    "gradient"
   ]
  },
  {
   "cell_type": "code",
   "execution_count": null,
   "metadata": {},
   "outputs": [],
   "source": [
    "gradient_decs(1000, frame, (140,100))"
   ]
  },
  {
   "cell_type": "code",
   "execution_count": null,
   "metadata": {},
   "outputs": [],
   "source": [
    "plt.pcolormesh(frame, vmin=calib.s_min, vmax = calib.s_max)\n",
    "levels=np.arange(calib.s_min, calib.s_max, 50)\n",
    "plt.contour(frame, levels=levels, colors = 'black' )\n",
    "plt.colorbar()"
   ]
  },
  {
   "cell_type": "code",
   "execution_count": null,
   "metadata": {},
   "outputs": [],
   "source": [
    "dx"
   ]
  },
  {
   "cell_type": "code",
   "execution_count": null,
   "metadata": {},
   "outputs": [],
   "source": []
  }
 ],
 "metadata": {
  "kernelspec": {
   "display_name": "Python [conda env:gempy-env]",
   "language": "python",
   "name": "conda-env-gempy-env-py"
  },
  "language_info": {
   "codemirror_mode": {
    "name": "ipython",
    "version": 3
   },
   "file_extension": ".py",
   "mimetype": "text/x-python",
   "name": "python",
   "nbconvert_exporter": "python",
   "pygments_lexer": "ipython3",
   "version": "3.7.5"
  }
 },
 "nbformat": 4,
 "nbformat_minor": 2
}
