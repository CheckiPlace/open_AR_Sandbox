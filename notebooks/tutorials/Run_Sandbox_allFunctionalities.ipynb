{
 "cells": [
  {
   "cell_type": "markdown",
   "metadata": {},
   "source": [
    "# Import the Sandbox \n"
   ]
  },
  {
   "cell_type": "markdown",
   "metadata": {},
   "source": [
    "<div class=\"alert alert-block alert-warning\">\n",
    "    <b> Acces to all modules: </b> This Notebook allow to change between modules using only widgets from the bokeh panel\n",
    "</div>"
   ]
  },
  {
   "cell_type": "code",
   "execution_count": null,
   "metadata": {},
   "outputs": [],
   "source": [
    "#Import the sandbox\n",
    "import os,sys\n",
    "sys.path.append('../../')\n",
    "import sandbox as sb"
   ]
  },
  {
   "cell_type": "markdown",
   "metadata": {},
   "source": [
    "## Start the Panel\n",
    "\n",
    "The panel will start with a simple line, opening a bokeh server for the projector and the widgets. Position the window in the projector image and use the widgets to change between modules. Each module will open its respective widgets in a new bokeh server allowing an easy interaction and control over all the features.\n",
    "\n",
    "Please always pass a correct calibration file "
   ]
  },
  {
   "cell_type": "code",
   "execution_count": null,
   "metadata": {},
   "outputs": [],
   "source": [
    "#path to the calibration file\n",
    "CALIBRATION_FILE = '../calibration_files/my_calibration.json'"
   ]
  },
  {
   "cell_type": "code",
   "execution_count": null,
   "metadata": {},
   "outputs": [],
   "source": [
    "sb.start_server(CALIBRATION_FILE, aruco_marker=True, geo_model=None)"
   ]
  },
  {
   "cell_type": "markdown",
   "metadata": {},
   "source": [
    "## Calibration\n",
    "In case that the frame of the sandbox is not calibrated, for a fast calibration you can use the following line of code and follow the bokeh instructions. In case of a more detailed explanation on how to do the calibration please go to the tutorials"
   ]
  },
  {
   "cell_type": "code",
   "execution_count": null,
   "metadata": {},
   "outputs": [],
   "source": [
    "sb.calibrate_sandbox()"
   ]
  },
  {
   "cell_type": "markdown",
   "metadata": {},
   "source": [
    "## Using Gempy\n",
    "If you want to use gempy models to visualize in the sandbox please create or load a model and then pass it as an argument to the function."
   ]
  },
  {
   "cell_type": "code",
   "execution_count": null,
   "metadata": {},
   "outputs": [],
   "source": [
    "import os,sys\n",
    "sys.path.append('../../../gempy')\n",
    "sys.path.append('../../')\n",
    "import gempy as gp\n",
    "os.environ[\"THEANO_FLAGS\"] = \"mode=FAST_RUN\"\n",
    "import sandbox as sb\n",
    "CALIBRATION_FILE = '../calibration_files/my_calibration.json'"
   ]
  },
  {
   "cell_type": "code",
   "execution_count": null,
   "metadata": {
    "scrolled": true
   },
   "outputs": [],
   "source": [
    "#### create example models from data_input files\n",
    "data_path = '04_GempyModule/Example_Models/inputdata/'\n",
    "def create_example_model(name, extent = [0,1000,0,1000,0,2300], do_sections=False, \n",
    "                         change_color=False, data_path=data_path, theano_optimizer='fast_compile'):\n",
    "    \n",
    "    all_models = ['Horizontal_layers', 'Recumbent_fold', 'Anticline',\n",
    "             'Pinchout', 'Fault', 'Unconformity']\n",
    "    \n",
    "    assert name in all_models, 'possible model names are '+ str(all_models)\n",
    "    geo_model = gp.create_model(name)\n",
    "    \n",
    "    if name == 'Horizontal_layers':\n",
    "        geo_model = gp.init_data(geo_model, extent=extent,resolution=[2,2,2], \n",
    "                                path_o = data_path+\"model1_orientations.csv\",\n",
    "                                path_i = data_path+\"model1_surface_points.csv\")\n",
    "        if change_color:\n",
    "            geo_model.surfaces.colors.change_colors({\"rock2\": '#9f0052', 'rock1': '#e36746', \n",
    "                                                 'basement': '#f9f871'})\n",
    "\n",
    "        gp.map_series_to_surfaces(geo_model, {\"Strat_Series\": ('rock2','rock1'),\n",
    "                                             \"Basement_Series\":('basement')})\n",
    "    \n",
    "    elif name == 'Recumbent_fold':\n",
    "        geo_model = gp.init_data(geo_model, extent=extent,resolution=[2,2,2], \n",
    "                        path_o = data_path + \"model3_orientations.csv\",\n",
    "                        path_i = data_path + \"model3_surface_points.csv\") \n",
    "        gp.map_series_to_surfaces(geo_model, {\"Strat_Series\": ('rock2','rock1'),\n",
    "                                             \"Basement_Series\":('basement')})\n",
    "        if change_color:\n",
    "            geo_model.surfaces.colors.change_colors({\"rock2\": '#e36746', 'rock1': '#c0539f', \n",
    "                                                 'basement': '#006fa8'})\n",
    "            \n",
    "    elif name == 'Anticline':\n",
    "        geo_model = gp.init_data(geo_model, extent=extent, resolution=[2,2,2], \n",
    "                                  path_o = data_path + \"model2_orientations.csv\",\n",
    "                                  path_i = data_path + \"model2_surface_points.csv\")\n",
    "        gp.map_series_to_surfaces(geo_model, {\"Strat_Series\": ('rock2','rock1'),\n",
    "                                             \"Basement_Series\":('basement')})\n",
    "        \n",
    "    elif name == 'Pinchout':\n",
    "        geo_model = gp.init_data(geo_model, extent=extent,resolution=[2,2,2], \n",
    "                                path_o = data_path + \"model4_orientations.csv\",\n",
    "                                path_i = data_path + \"model4_surface_points.csv\")\n",
    "        gp.map_series_to_surfaces(geo_model, {\"Strat_Series\": ('rock2','rock1'),\n",
    "                                             \"Basement_Series\":('basement')})\n",
    "        if change_color:\n",
    "            geo_model.surfaces.colors.change_colors({\"rock2\": '#a1b455', 'rock1': '#ffbe00', \n",
    "                                                 'basement': '#006471'})\n",
    "            \n",
    "    elif name == 'Fault':\n",
    "        geo_model = gp.init_data(geo_model, extent=extent,resolution=[2,2,2], \n",
    "                                path_o = data_path + \"model5_orientations.csv\",\n",
    "                                path_i = data_path + \"model5_surface_points.csv\") \n",
    "        gp.map_series_to_surfaces(geo_model, {\"Fault_Series\":'fault', \n",
    "                                 \"Strat_Series\": ('rock2','rock1')})\n",
    "        geo_model.set_is_fault(['Fault_Series'], change_color=False)\n",
    "        if change_color:\n",
    "            geo_model.surfaces.colors.change_colors({\"rock2\": '#00c2d0', 'rock1': '#a43d00', \n",
    "                                                 'basement': '#76a237', 'fault':'#000000'})\n",
    "            \n",
    "    elif name == 'Unconformity':\n",
    "        geo_model = gp.init_data(geo_model, extent=extent, resolution=[2,2,2], \n",
    "                                path_o = data_path + \"model6_orientations.csv\",\n",
    "                                path_i = data_path + \"model6_surface_points.csv\")\n",
    "        \n",
    "        gp.map_series_to_surfaces(geo_model, {\"Strat_Series1\": ('rock3'),\n",
    "                                             \"Strat_Series2\": ('rock2','rock1'),\n",
    "                                             \"Basement_Series\":('basement')})\n",
    "        \n",
    "    if do_sections:\n",
    "        geo_model.grid.set_section_grid({'section'+' '+name:([0,500],[1000,500],[30,30])})\n",
    "\n",
    "    interp_data = gp.set_interpolator(geo_model, compile_theano=True,\n",
    "                                        theano_optimizer=theano_optimizer)\n",
    "\n",
    "    _=gp.compute_model(geo_model, compute_mesh=False)\n",
    "    \n",
    "    if do_sections:\n",
    "        gp.plot.plot_section_by_name(geo_model,'section'+' '+name, show_data=False)\n",
    "        \n",
    "    return geo_model\n",
    "\n",
    "######## Load all example models\n",
    "\n",
    "all_models = ['Horizontal_layers', 'Recumbent_fold', 'Anticline','Pinchout', 'Fault', 'Unconformity']\n",
    "\n",
    "model_dict = {}\n",
    "for model in all_models:\n",
    "    model_dict.update({model: create_example_model(model)})\n",
    "\n",
    "\n",
    "##### select one model to start\n",
    "geo_model = model_dict['Horizontal_layers']\n",
    "#model = 'Fault'\n",
    "#geo_model = create_example_model(model)\n",
    "geo_model"
   ]
  },
  {
   "cell_type": "code",
   "execution_count": null,
   "metadata": {},
   "outputs": [],
   "source": [
    "##### start the server\n",
    "sb.start_server(CALIBRATION_FILE, aruco_marker=True, geo_model=geo_model)"
   ]
  },
  {
   "cell_type": "code",
   "execution_count": null,
   "metadata": {},
   "outputs": [],
   "source": []
  }
 ],
 "metadata": {
  "kernelspec": {
   "display_name": "Python 3",
   "language": "python",
   "name": "python3"
  },
  "language_info": {
   "codemirror_mode": {
    "name": "ipython",
    "version": 3
   },
   "file_extension": ".py",
   "mimetype": "text/x-python",
   "name": "python",
   "nbconvert_exporter": "python",
   "pygments_lexer": "ipython3",
   "version": "3.7.5"
  }
 },
 "nbformat": 4,
 "nbformat_minor": 2
}
