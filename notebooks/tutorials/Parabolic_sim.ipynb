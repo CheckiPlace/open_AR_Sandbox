{
 "cells": [
  {
   "cell_type": "markdown",
   "metadata": {},
   "source": [
    "# Simulate parabolic PDE with DEM as parameter field\n",
    "\n",
    "Idea: use sandbox DEM as paramerter field in a parabolic PDE simulation"
   ]
  },
  {
   "cell_type": "markdown",
   "metadata": {},
   "source": [
    "### import the libraries"
   ]
  },
  {
   "cell_type": "code",
   "execution_count": null,
   "metadata": {},
   "outputs": [],
   "source": [
    "import os,sys\n",
    "import matplotlib.pyplot as plt\n",
    "sys.path.append('./../../../open_AR_Sandbox')\n",
    "import sandbox.sandbox as sb"
   ]
  },
  {
   "cell_type": "markdown",
   "metadata": {},
   "source": [
    "### Setup the projector and Sensor and load a calibration"
   ]
  },
  {
   "cell_type": "code",
   "execution_count": null,
   "metadata": {
    "scrolled": false
   },
   "outputs": [],
   "source": [
    "calib = sb.CalibrationData(file = \"lunch_lehre_calibration.json\")\n",
    "sensor = sb.KinectV2(calib)\n",
    "projector = sb.Projector(calib)"
   ]
  },
  {
   "cell_type": "code",
   "execution_count": null,
   "metadata": {},
   "outputs": [],
   "source": [
    "module = sb.TopoModule(calib,sensor,projector)\n",
    "module.setup()"
   ]
  },
  {
   "cell_type": "markdown",
   "metadata": {},
   "source": [
    "### start prototyping "
   ]
  },
  {
   "cell_type": "code",
   "execution_count": null,
   "metadata": {},
   "outputs": [],
   "source": [
    "import numpy as np\n",
    "from scipy import sparse  # to define sparse matrices\n",
    "import scipy.sparse.linalg as ssl\n",
    "from scipy.sparse import (csr_matrix, coo_matrix, dia_matrix, lil_matrix,\n",
    "                              dok_matrix, rand, SparseEfficiencyWarning)"
   ]
  },
  {
   "cell_type": "code",
   "execution_count": null,
   "metadata": {},
   "outputs": [],
   "source": [
    "def poisson2d_param(N, M, params, dtype='d', format='csc'):\n",
    "    \"\"\"\n",
    "    Return a sparse matrix for the 2D Poisson problem\n",
    "    with standard 5-point finite difference stencil on a\n",
    "    square N-by-N grid.\n",
    "    \n",
    "    Consider heterogeneities in parameter field (argument params)\n",
    "    \"\"\"\n",
    "    if N == 1:\n",
    "        diags = np.asarray([[4]], dtype=dtype)\n",
    "        return dia_matrix((diags, [0]), shape=(1, 1)).asformat(format)\n",
    "\n",
    "    offsets = np.array([0, -N, N, -1, 1])\n",
    "\n",
    "    diags = np.empty((5, N*M), dtype=dtype)\n",
    "\n",
    "    diags[0] = -4  # main diagonal (note: in example it is 4)\n",
    "    diags[1:] = 1  # all offdiagonals (note: in example, it is -1!)\n",
    "        \n",
    "    # temper with parameter fields:\n",
    "    diags[0] = - 4 * np.ravel(params)\n",
    "    \n",
    "    # param_frame = np.ones_like(params) * 4.\n",
    "    # param_frame[1:-1, 1:-1] = params[:-2, 1:-1] + params[2:, 1:-1] + params[1:-1, 2:] + params[1:-1, :-2]\n",
    "    \n",
    "    param_comb = params[:-2, 1:-1] + params[2:, 1:-1] + params[1:-1, 2:] + params[1:-1, :-2]\n",
    "    param_frame = np.pad(param_comb, (1,1), 'edge')\n",
    "    \n",
    "    order_flag = 'F'   # {'C','F', 'A', 'K'}\n",
    "    \n",
    "    diags[0] = - np.ravel(param_frame, order=order_flag)\n",
    "    \n",
    "    # print(diags[0])\n",
    "    \n",
    "    diags[1] = np.ravel(params, order=order_flag)\n",
    "    diags[2] = np.ravel(params, order=order_flag)\n",
    "    diags[3] = np.ravel(params, order=order_flag)\n",
    "    diags[4] = np.ravel(params, order=order_flag)\n",
    "    \n",
    "    # set Neumann BCs\n",
    "    # diags[1, N-1::N] = 2\n",
    "    diags[3, N-2::N] = 2 * diags[3, N-2::N]\n",
    "    # diags[1, (N-1)**2:(N-1)**2+N] = 2\n",
    "    # diags[2, :2*N] = 2\n",
    "    diags[4, 1::N] = 2 * diags[4, 1::N]\n",
    "    # diags[3, (N-1)*N:] =2\n",
    "    \n",
    "    # diags[3, :] = 2\n",
    "    \n",
    "    # as before:\n",
    "    diags[3, N-1::N] = 0  # first lower diagonal\n",
    "    diags[4, N::N] = 0  # first upper diagonal\n",
    "    \n",
    "    # print(diags)\n",
    "\n",
    "    return dia_matrix((diags, offsets), shape=(N*M, N*M)).asformat(format)\n",
    "\n",
    "\n",
    "\n",
    "def scale_dem(sandbox_dem):\n",
    "    params = 1 + (sandbox_dem - np.min(sandbox_dem)) /\\\n",
    "    (np.max(sandbox_dem) - np.min(sandbox_dem))\n",
    "    return params**2\n",
    "\n",
    "def run_sim(params):\n",
    "    n = 150\n",
    "    m = 200\n",
    "    n, m = params.shape\n",
    "    T = poisson2d_param(n, m, params)\n",
    "    # set value with boundary conditions\n",
    "    b = np.zeros(n * m)\n",
    "    b_val = 20\n",
    "    b[:n] = -b_val\n",
    "    b[-n:] = b_val\n",
    "    # solve\n",
    "    u = ssl.spsolve(T, b)\n",
    "    u2 = u.reshape(m,n)\n",
    "    return u2\n",
    "\n",
    "def plot_field(u):\n",
    "    n,m = u.shape\n",
    "    x = np.linspace(0, 10, n)\n",
    "    y = np.linspace(0, 10, m)\n",
    "    X,Y = np.meshgrid(x,y)\n",
    "    # fig = plt.figure(figsize=(12,12))\n",
    "    # ax = fig.add_subplot(111, projection='3d')\n",
    "    # ax.plot_surface(X, Y, u2, cmap='viridis', cstride=2, rstride=2) # my new favourite colormap\n",
    "\n",
    "    fig = plt.figure(figsize=(14,8))\n",
    "    # \n",
    "    # plt.contourf(sandbox_dems[dem_id,:,:])\n",
    "    plt.contourf(u.T, 25, cmap='RdBu')\n",
    "    plt.axis('equal')\n",
    "    plt.colorbar()\n",
    "    plt.xlim([0,200])\n",
    "    plt.ylim([0,150])\n",
    "    plt.tight_layout()\n",
    "\n",
    "def plot_quiver(u):\n",
    "    n,m = u.shape\n",
    "    n_steps = 10\n",
    "    y = np.linspace(0,m,int(m/n_steps))\n",
    "    x = np.linspace(0,n,int(n/n_steps))\n",
    "    X,Y = np.meshgrid(x,y)\n",
    "\n",
    "    fig = plt.figure(figsize=(12,8))\n",
    "    plt.contourf(params, 25)\n",
    "    plt.quiver(X, Y, -np.gradient(u)[0][::n_steps,::n_steps],  -np.gradient(u)[1][::n_steps,::n_steps])\n",
    "    plt.axis('equal')\n",
    "    plt.xlim([0,200])\n",
    "    plt.ylim([0,150])\n",
    "    plt.tight_layout()\n",
    "\n",
    "def plot_streamlines(u,plot_lines=True, savefig=False, fig_filename=\"dtm_streamlines.png\"):\n",
    "    n,m = u.shape\n",
    "    n_steps = 10\n",
    "    y = np.linspace(0,m,int(m/n_steps+1))\n",
    "    x = np.linspace(0,n,int(n/n_steps+1))\n",
    "    X,Y = np.meshgrid(x,y)\n",
    "    \n",
    "    # print(X.shape)\n",
    "\n",
    "    fig = plt.figure(figsize=(12,8))\n",
    "    # plt.contourf(u2.T)\n",
    "    plt.contourf(params, 25)\n",
    "    plt.colorbar()\n",
    "    # plt.quiver(X, Y, -np.gradient(u2)[0].T[::n_steps,::n_steps],  -np.gradient(u2)[1].T[::n_steps,::n_steps])\n",
    "    plt.axis('equal')\n",
    "    speed = 1/np.sqrt(np.gradient(u)[0].T[::n_steps,::n_steps]**2 + np.gradient(u)[1].T[::n_steps,::n_steps]**2)\n",
    "    lw = 10*speed / speed.max()\n",
    "    tmp = -np.gradient(u)[0].T[::n_steps,::n_steps]\n",
    "    # print(tmp.shape)\n",
    "    if plot_lines:\n",
    "        plt.streamplot(X, Y,-np.gradient(u)[0].T[::n_steps,::n_steps],  -np.gradient(u)[1].T[::n_steps,::n_steps],\n",
    "                      linewidth=lw,\n",
    "                      color='w',\n",
    "                       arrowsize = 2.,\n",
    "                      integration_direction='forward')\n",
    "    # plt.xlim([0,200])\n",
    "    # plt.ylim([0,150])\n",
    "    plt.tight_layout()\n",
    "    if savefig:\n",
    "        plt.savefig(fig_filename)"
   ]
  },
  {
   "cell_type": "code",
   "execution_count": null,
   "metadata": {},
   "outputs": [],
   "source": [
    "\n",
    "\n",
    "\n",
    "\n",
    "\n",
    "\n",
    "\n",
    "\n",
    "\n",
    "\n",
    "\n",
    "\n",
    "\n",
    "\n",
    "\n",
    "\n",
    "\n",
    "\n",
    "\n",
    "\n",
    "\n",
    "\n",
    "\n",
    "\n",
    "\n",
    "\n",
    "\n",
    "\n",
    "\n",
    "\n",
    "\n",
    "\n",
    "\n",
    "\n",
    "\n",
    "\n",
    "\n",
    "\n",
    "\n",
    "\n",
    "\n"
   ]
  },
  {
   "cell_type": "code",
   "execution_count": null,
   "metadata": {},
   "outputs": [],
   "source": [
    "depth = sensor.get_frame()\n",
    "cropped_depth = module.clip_frame(module.crop_frame(depth))"
   ]
  },
  {
   "cell_type": "code",
   "execution_count": null,
   "metadata": {},
   "outputs": [],
   "source": [
    "plt.pcolormesh(cropped_depth)"
   ]
  },
  {
   "cell_type": "code",
   "execution_count": null,
   "metadata": {},
   "outputs": [],
   "source": [
    "params = scale_dem(cropped_depth)\n",
    "u = run_sim(params)"
   ]
  },
  {
   "cell_type": "code",
   "execution_count": null,
   "metadata": {
    "scrolled": false
   },
   "outputs": [],
   "source": [
    "# plot_field(u)\n",
    "\n",
    "plot_streamlines(u)\n"
   ]
  },
  {
   "cell_type": "code",
   "execution_count": null,
   "metadata": {},
   "outputs": [],
   "source": []
  },
  {
   "cell_type": "code",
   "execution_count": null,
   "metadata": {},
   "outputs": [],
   "source": []
  },
  {
   "cell_type": "code",
   "execution_count": null,
   "metadata": {},
   "outputs": [],
   "source": []
  }
 ],
 "metadata": {
  "kernelspec": {
   "display_name": "Python 3",
   "language": "python",
   "name": "python3"
  },
  "language_info": {
   "codemirror_mode": {
    "name": "ipython",
    "version": 3
   },
   "file_extension": ".py",
   "mimetype": "text/x-python",
   "name": "python",
   "nbconvert_exporter": "python",
   "pygments_lexer": "ipython3",
   "version": "3.7.4"
  }
 },
 "nbformat": 4,
 "nbformat_minor": 2
}
