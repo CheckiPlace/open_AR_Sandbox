{
 "cells": [
  {
   "cell_type": "code",
   "execution_count": 41,
   "metadata": {},
   "outputs": [],
   "source": [
    "import os,sys\n",
    "sys.path.append('../..')\n",
    "sys.path.append('../../../gempy/')\n",
    "import sandbox.sandbox as sb\n",
    "\n",
    "import gempy as gp\n",
    "#import gempy_sandbox a   s gpsb\n",
    "import numpy as np\n",
    "#from PIL import Image, ImageDraw\n",
    "import pickle"
   ]
  },
  {
   "cell_type": "markdown",
   "metadata": {},
   "source": [
    "### Set up the sandbox "
   ]
  },
  {
   "cell_type": "code",
   "execution_count": 38,
   "metadata": {},
   "outputs": [
    {
     "name": "stdout",
     "output_type": "stream",
     "text": [
      "dummy mode. get_frame() will return a synthetic depth frame, other functions may not work\n"
     ]
    }
   ],
   "source": [
    "calibration_filename = \"sandbox_test.dat\" \n",
    "\n",
    "kinect = sb.Kinect(dummy=True)"
   ]
  },
  {
   "cell_type": "code",
   "execution_count": 39,
   "metadata": {
    "scrolled": true
   },
   "outputs": [
    {
     "name": "stdout",
     "output_type": "stream",
     "text": [
      "created new calibration: <sandbox.sandbox.Calibration object at 0x1c40ab01d0>\n"
     ]
    }
   ],
   "source": [
    "projector = sb.Projector(resolution = (1024,768))\n",
    "projector.work_directory =\"./temp\"\n",
    "projector.refresh = 100\n",
    "\n",
    "projector.input_rescale  = False  \n",
    "calibration = projector.calibration\n",
    "calibration.load(calibration_file=calibration_filename)\n",
    "\n",
    "#projector.start_stream()          #Open an new Tab with sandbox output."
   ]
  },
  {
   "cell_type": "markdown",
   "metadata": {},
   "source": [
    "### Setup the model"
   ]
  },
  {
   "cell_type": "code",
   "execution_count": 40,
   "metadata": {},
   "outputs": [
    {
     "name": "stdout",
     "output_type": "stream",
     "text": [
      "Aspect ratio of the model is fixed in XY\n",
      "Model size is limited by X dimension\n",
      "scale in Model units/ mm (X,Y,Z): [2.0, 2.5, 2.092050209205021]\n",
      "the shown extent is [0.0, 1996.875, 0.0, 1496.875] \n"
     ]
    }
   ],
   "source": [
    "\n",
    "geo_model = gp.load_model('./../../../gempy/notebooks/tutorials/saves/ch1-2.pickle')\n",
    "scale=sb.Scale(extent=[0,2000,0,1500,0,2000] , calibration=calibration) #initialize scale object to handle the scaling of the model in the andbox\n",
    "\n",
    "scale.calculate_scales()\n",
    "\n",
    "grid = sb.Grid(calibration=calibration,scale=scale)"
   ]
  },
  {
   "cell_type": "code",
   "execution_count": 5,
   "metadata": {},
   "outputs": [
    {
     "name": "stdout",
     "output_type": "stream",
     "text": [
      "\u001b[34m2016-ml-contest\u001b[m\u001b[m \u001b[34mbroken_gempy\u001b[m\u001b[m    \u001b[34mgempy\u001b[m\u001b[m           \u001b[34mlibfreenect\u001b[m\u001b[m     \u001b[34mopen_AR_Sandbox\u001b[m\u001b[m\r\n",
      "\u001b[34mAR-Sandbox\u001b[m\u001b[m      \u001b[34mdevito\u001b[m\u001b[m          \u001b[34mgempy-server\u001b[m\u001b[m    \u001b[34mold_gempy\u001b[m\u001b[m       \u001b[34msandbox\u001b[m\u001b[m\r\n"
     ]
    }
   ],
   "source": [
    "!ls ./../../../"
   ]
  },
  {
   "cell_type": "markdown",
   "metadata": {},
   "source": [
    "### set up the visualization"
   ]
  },
  {
   "cell_type": "code",
   "execution_count": 6,
   "metadata": {},
   "outputs": [],
   "source": [
    "x = range(scale.output_res[0])\n",
    "y = range(scale.output_res[1])\n",
    "\n",
    "geol_map = sb.Plot(\n",
    "    calibration=calibration,\n",
    "    cmap=gp.plot.cmap,\n",
    "    norm=gp.plot.norm\n",
    "    )\n",
    "\n",
    "\n",
    "fault_line = sb.Contour(\n",
    "    start=0.5,\n",
    "    end=2.5,\n",
    "    step=1.0,\n",
    "    linewidth=3.0,\n",
    "    colors=[(1.0, 1.0, 1.0, 1.0)]\n",
    "    )\n",
    "\n",
    "main_contours = sb.Contour(\n",
    "    start=scale.extent[4],\n",
    "    end=scale.extent[5],\n",
    "    step=100,\n",
    "    show_labels=True\n",
    "    )\n",
    "\n",
    "sub_contours = sb.Contour(     \n",
    "\n",
    "    start=scale.extent[4],\n",
    "    end=scale.extent[5],\n",
    "    step=25,\n",
    "    linewidth=0.8,\n",
    "    colors=[(0, 0, 0, 0.7)],\n",
    "   )\n",
    "\n",
    "\n",
    "\n",
    " "
   ]
  },
  {
   "cell_type": "code",
   "execution_count": 21,
   "metadata": {},
   "outputs": [
    {
     "ename": "NameError",
     "evalue": "name 'sol' is not defined",
     "output_type": "error",
     "traceback": [
      "\u001b[0;31m---------------------------------------------------------------------------\u001b[0m",
      "\u001b[0;31mNameError\u001b[0m                                 Traceback (most recent call last)",
      "\u001b[0;32m<ipython-input-21-a500d1a2fe57>\u001b[0m in \u001b[0;36m<module>\u001b[0;34m()\u001b[0m\n\u001b[0;32m----> 1\u001b[0;31m \u001b[0mlith_block\u001b[0m \u001b[0;34m=\u001b[0m \u001b[0msol\u001b[0m\u001b[0;34m.\u001b[0m\u001b[0mlith_block\u001b[0m\u001b[0;34m.\u001b[0m\u001b[0mreshape\u001b[0m\u001b[0;34m(\u001b[0m\u001b[0;34m(\u001b[0m\u001b[0mscale\u001b[0m\u001b[0;34m.\u001b[0m\u001b[0moutput_res\u001b[0m\u001b[0;34m[\u001b[0m\u001b[0;36m1\u001b[0m\u001b[0;34m]\u001b[0m\u001b[0;34m,\u001b[0m \u001b[0mscale\u001b[0m\u001b[0;34m.\u001b[0m\u001b[0moutput_res\u001b[0m\u001b[0;34m[\u001b[0m\u001b[0;36m0\u001b[0m\u001b[0;34m]\u001b[0m\u001b[0;34m)\u001b[0m\u001b[0;34m)\u001b[0m\u001b[0;34m\u001b[0m\u001b[0m\n\u001b[0m\u001b[1;32m      2\u001b[0m \u001b[0mscalar_block\u001b[0m \u001b[0;34m=\u001b[0m \u001b[0msol\u001b[0m\u001b[0;34m.\u001b[0m\u001b[0mscalar_field_lith\u001b[0m\u001b[0;34m.\u001b[0m\u001b[0mreshape\u001b[0m\u001b[0;34m(\u001b[0m\u001b[0;34m(\u001b[0m\u001b[0mscale\u001b[0m\u001b[0;34m.\u001b[0m\u001b[0moutput_res\u001b[0m\u001b[0;34m[\u001b[0m\u001b[0;36m1\u001b[0m\u001b[0;34m]\u001b[0m\u001b[0;34m,\u001b[0m \u001b[0mscale\u001b[0m\u001b[0;34m.\u001b[0m\u001b[0moutput_res\u001b[0m\u001b[0;34m[\u001b[0m\u001b[0;36m0\u001b[0m\u001b[0;34m]\u001b[0m\u001b[0;34m)\u001b[0m\u001b[0;34m)\u001b[0m\u001b[0;34m\u001b[0m\u001b[0m\n",
      "\u001b[0;31mNameError\u001b[0m: name 'sol' is not defined"
     ]
    }
   ],
   "source": []
  },
  {
   "cell_type": "code",
   "execution_count": 32,
   "metadata": {},
   "outputs": [
    {
     "name": "stdout",
     "output_type": "stream",
     "text": [
      "<bound method Normalize.scaled of <matplotlib.colors.BoundaryNorm object at 0x18192f1eb8>>\n"
     ]
    }
   ],
   "source": [
    "print()"
   ]
  },
  {
   "cell_type": "code",
   "execution_count": null,
   "metadata": {},
   "outputs": [],
   "source": []
  },
  {
   "cell_type": "code",
   "execution_count": 22,
   "metadata": {},
   "outputs": [],
   "source": [
    "#new structure\n",
    "def run():\n",
    "    grid.update_grid(kinect.get_filtered_frame(n_frames=3,sigma_gauss=4))\n",
    "    sol = gp.compute_model_at(grid.depth_grid, geo_model)\n",
    "\n",
    "    lith_block = sol.lith_block.reshape((scale.output_res[1], scale.output_res[0]))\n",
    "    scalar_block = sol.scalar_field_lith.reshape((scale.output_res[1], scale.output_res[0]))\n",
    "    geol_map.create_empty_frame()\n",
    "    #geol_map.render_frame(lith_block)\n",
    "    lith_levels = sol.scalar_field_at_interfaces[-1].sort()\n",
    "    geol_map.add_lith_contours(scalar_block, levels=lith_levels)\n",
    "    \n",
    "    elevation = grid.depth_grid.reshape((scale.output_res[1], scale.output_res[0], 3))[:, :, 2]\n",
    "    #fault_data = sol.fault_blocks.reshape((scalgeol_map.outfilee.output_res[1], scale.output_res[0])) \n",
    "    for fault in sol.fault_blocks:\n",
    "        fault=fault.reshape((scale.output_res[1],scale.output_res[0]))\n",
    "        geol_map.add_contours(fault_line, [x,y,fault])\n",
    "\n",
    "\n",
    "    geol_map.add_contours(main_contours,[x,y,elevation])\n",
    "    geol_map.add_contours(sub_contours,[x,y,elevation])\n",
    "    geol_map.save(outfile=\"./temp/current_frame.png\")\n",
    "    geol_map.save(outfile=\"./temp/current_frame.pdf\")   \n",
    "    projector.show(rescale=False)"
   ]
  },
  {
   "cell_type": "code",
   "execution_count": 23,
   "metadata": {},
   "outputs": [
    {
     "name": "stdout",
     "output_type": "stream",
     "text": [
      "[[30.73383904 30.73184204 30.72902298 ... 30.80283928 30.7990818\n",
      "  30.79532433]\n",
      " [30.73384285 30.73184586 30.7290287  ... 30.80280304 30.79904556\n",
      "  30.79528427]\n",
      " [30.73384476 30.73184967 30.72903252 ... 30.8027668  30.79900742\n",
      "  30.79524612]\n",
      " ...\n",
      " [30.33140755 30.72424698 30.72144127 ... 30.8018837  30.79789543\n",
      "  30.79390335]\n",
      " [30.33158112 30.7245121  30.72171021 ... 30.80216408 30.79817581\n",
      "  30.79418564]\n",
      " [30.33175278 30.72477913 30.72197914 ... 30.31230736 30.31201935\n",
      "  30.31172943]]\n",
      "[[3. 3. 3. ... 2. 2. 2.]\n",
      " [3. 3. 3. ... 2. 2. 2.]\n",
      " [3. 3. 3. ... 2. 2. 2.]\n",
      " ...\n",
      " [6. 3. 3. ... 2. 2. 2.]\n",
      " [6. 3. 3. ... 2. 2. 2.]\n",
      " [6. 3. 3. ... 6. 6. 6.]]\n"
     ]
    }
   ],
   "source": [
    "while True:\n",
    "run()\n"
   ]
  },
  {
   "cell_type": "code",
   "execution_count": 33,
   "metadata": {},
   "outputs": [],
   "source": [
    "def export_topographic_map(output=\"./temp/topographic_map.pdf\"):\n",
    "    grid.update_grid(kinect.get_filtered_frame(n_frames=3,sigma_gauss=4))\n",
    "    geol_map.create_empty_frame()\n",
    "    elevation = grid.depth_grid.reshape((scale.output_res[1], scale.output_res[0], 3))[:, :, 2]\n",
    "    geol_map.add_contours(main_contours,[x,y,elevation])\n",
    "    geol_map.add_contours(sub_contours,[x,y,elevation])\n",
    "    geol_map.save(outfile=output)  \n",
    "    \n",
    "def export_geological_map(output=\"./temp/geological_map.pdf\"): \n",
    "    print(\"there is still a bug in the map that causes the uppermost lithology to be displayed in the basement color. Unfortunately we do not have a quick fix for this currently... Sorry! Please fix the map yourself, for example using illustrator\")\n",
    "    grid.update_grid(kinect.get_filtered_frame(n_frames=3,sigma_gauss=4))\n",
    "    sol = gp.compute_model_at(grid.depth_grid, geo_model)\n",
    "    \n",
    "    lith_block = sol.lith_block.reshape((scale.output_res[1], scale.output_res[0]))\n",
    "    geol_map.create_empty_frame()\n",
    "    lith_levels = sol.scalar_field_at_interfaces[-1].sort()\n",
    "    geol_map.add_lith_contours(lith_block, levels=lith_levels)\n",
    "    \n",
    "    elevation = grid.depth_grid.reshape((scale.output_res[1], scale.output_res[0], 3))[:, :, 2]\n",
    "    #fault_data = sol.fault_blocks.reshape((scalgeol_map.outfilee.output_res[1], scale.output_res[0])) \n",
    "    for fault in sol.fault_blocks:\n",
    "        fault=fault.reshape((scale.output_res[1],scale.output_res[0]))\n",
    "        geol_map.add_contours(fault_line, [x,y,fault])\n",
    "        \n",
    "    geol_map.add_contours(main_contours,[x,y,elevation])\n",
    "    geol_map.add_contours(sub_contours,[x,y,elevation])\n",
    "    geol_map.save(outfile=output)  \n",
    "\n"
   ]
  },
  {
   "cell_type": "code",
   "execution_count": 34,
   "metadata": {},
   "outputs": [],
   "source": [
    "projector.start_stream()"
   ]
  },
  {
   "cell_type": "code",
   "execution_count": 35,
   "metadata": {},
   "outputs": [
    {
     "name": "stdout",
     "output_type": "stream",
     "text": [
      "there is still a bug in the map that causes the uppermost lithology to be displayed in the basement color. Unfortunately we do not have a quick fix for this currently... Sorry! Please fix the map yourself, for example using illustrator\n"
     ]
    }
   ],
   "source": [
    "export_geological_map()"
   ]
  },
  {
   "cell_type": "code",
   "execution_count": 36,
   "metadata": {},
   "outputs": [],
   "source": [
    "export_topographic_map()"
   ]
  },
  {
   "cell_type": "markdown",
   "metadata": {},
   "source": [
    "x"
   ]
  },
  {
   "cell_type": "markdown",
   "metadata": {},
   "source": [
    "## deprecated:"
   ]
  },
  {
   "cell_type": "code",
   "execution_count": null,
   "metadata": {},
   "outputs": [],
   "source": [
    "kinect.sigma_gauss=7"
   ]
  },
  {
   "cell_type": "markdown",
   "metadata": {},
   "source": [
    "### Toggle fault visibility"
   ]
  },
  {
   "cell_type": "code",
   "execution_count": null,
   "metadata": {},
   "outputs": [],
   "source": [
    "geology.pause()\n",
    "if geology.module.show_faults is True:\n",
    "    geology.module.show_faults = False\n",
    "else:\n",
    "    geology.module.show_faults = True\n",
    "geology.resume()\n",
    "    "
   ]
  },
  {
   "cell_type": "markdown",
   "metadata": {},
   "source": [
    "## change contour levels "
   ]
  },
  {
   "cell_type": "code",
   "execution_count": null,
   "metadata": {},
   "outputs": [],
   "source": [
    "       self.fig = plt.figure(figsize=(self.w, self.h), dpi=100, frameon=False)\n",
    "        self.ax = plt.Axes(self.fig, [0., 0., 1., 1.])\n",
    "        self.ax.set_axis_off()\n",
    "        self.fig.add_axes(self.ax)\n",
    "\n",
    "geology.pause()\n",
    "start = 0\n",
    "end = 2000\n",
    "main_step = 50\n",
    "sub_step = 10\n",
    "\n",
    "geology.module.main_contours = np.arange(start, end, main_step)\n",
    "geology.module.sub_contours = np.arange(start, end, sub_step)\n",
    "geology.resume()"
   ]
  },
  {
   "cell_type": "code",
   "execution_count": null,
   "metadata": {},
   "outputs": [],
   "source": [
    "geology.lock.acquire()\n",
    "geology.lock.release()\n"
   ]
  },
  {
   "cell_type": "code",
   "execution_count": null,
   "metadata": {},
   "outputs": [],
   "source": [
    "geo_model_3d = gp.load_model('./gempy/notebooks/tutorials/saves/ch1-2.pickle')\n"
   ]
  },
  {
   "cell_type": "code",
   "execution_count": null,
   "metadata": {},
   "outputs": [],
   "source": [
    "for i in range(10):\n",
    "    with geology.lock:\n",
    "        gp.plot.plot_section(geo_model_3d, 10)"
   ]
  },
  {
   "cell_type": "code",
   "execution_count": null,
   "metadata": {},
   "outputs": [],
   "source": [
    "with geology.lock:\n",
    "    for i in range(10):\n",
    "        gp.plot.plot_section(geo_model_3d, 10)"
   ]
  },
  {
   "cell_type": "code",
   "execution_count": null,
   "metadata": {},
   "outputs": [],
   "source": [
    "geology.lock.release()"
   ]
  },
  {
   "cell_type": "code",
   "execution_count": null,
   "metadata": {},
   "outputs": [],
   "source": [
    "geology.lock.locked()"
   ]
  },
  {
   "cell_type": "code",
   "execution_count": null,
   "metadata": {},
   "outputs": [],
   "source": [
    "geology.run()"
   ]
  },
  {
   "cell_type": "code",
   "execution_count": null,
   "metadata": {
    "scrolled": true
   },
   "outputs": [],
   "source": [
    "a = 0\n",
    "for i in range(100000):\n",
    "    a += i\n"
   ]
  },
  {
   "cell_type": "code",
   "execution_count": null,
   "metadata": {},
   "outputs": [],
   "source": []
  },
  {
   "cell_type": "code",
   "execution_count": null,
   "metadata": {},
   "outputs": [],
   "source": [
    "with geology.lock:\n",
    "    for i in range(10):\n",
    "        gp.compute_model(geo_model_3d)"
   ]
  },
  {
   "cell_type": "code",
   "execution_count": null,
   "metadata": {},
   "outputs": [],
   "source": [
    "geo_model.interpolator.theano_graph"
   ]
  },
  {
   "cell_type": "code",
   "execution_count": null,
   "metadata": {},
   "outputs": [],
   "source": [
    "for i in range(10):\n",
    "    gp.compute_model(geo_model_3d)"
   ]
  },
  {
   "cell_type": "code",
   "execution_count": null,
   "metadata": {},
   "outputs": [],
   "source": [
    "geo_model_3d.solutions"
   ]
  },
  {
   "cell_type": "code",
   "execution_count": null,
   "metadata": {},
   "outputs": [],
   "source": []
  },
  {
   "cell_type": "code",
   "execution_count": null,
   "metadata": {},
   "outputs": [],
   "source": []
  }
 ],
 "metadata": {
  "kernelspec": {
   "display_name": "Python 2",
   "language": "python",
   "name": "python2"
  },
  "language_info": {
   "codemirror_mode": {
    "name": "ipython",
    "version": 2
   },
   "file_extension": ".py",
   "mimetype": "text/x-python",
   "name": "python",
   "nbconvert_exporter": "python",
   "pygments_lexer": "ipython2",
   "version": "2.7.10"
  }
 },
 "nbformat": 4,
 "nbformat_minor": 2
}
