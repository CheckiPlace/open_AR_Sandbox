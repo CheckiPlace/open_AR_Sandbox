{
 "cells": [
  {
   "cell_type": "markdown",
   "metadata": {},
   "source": [
    "# Sandbox Projector calibration\n",
    "In this tutorial we will learn the basic steps to set up the projector for the _open AR Sandbox_. \n",
    "This not only involves tweaking of calibration parameters, but also the adjustment of your hardware component.\n",
    "\n",
    "Let's start with importing the main module:"
   ]
  },
  {
   "cell_type": "code",
   "execution_count": null,
   "metadata": {
    "pycharm": {
     "is_executing": false,
     "name": "#%%\n"
    }
   },
   "outputs": [],
   "source": [
    "#Only useful when sandbox is not installed\n",
    "import os,sys\n",
    "sys.path.append('../../../')\n",
    "#\n",
    "from sandbox import _calibration_dir\n",
    "from sandbox.projector import Projector\n"
   ]
  },
  {
   "cell_type": "markdown",
   "metadata": {},
   "source": [
    "### Before starting:\n",
    "The Sandbox consists of several core components (classes) which need to be initialized and can be all adjusted according to the hardware setup, your visualization preferences or different model inputs.\n",
    "\n",
    "**Projector**: This is actually a dashboard with the main frame (displaying the model map), as well as optional areas for a legend, a profile view or an interactive control area.\n",
    "\n",
    "The Projector components are standardised.We start by creating an instance of the Projector Class. Here we already need to supply the resolution of our projector hardware, e.g. 1280x800 pixel."
   ]
  },
  {
   "cell_type": "code",
   "execution_count": null,
   "metadata": {
    "pycharm": {
     "is_executing": false,
     "name": "#%%\n"
    }
   },
   "outputs": [],
   "source": [
    "#use_panel = True will open automatically a panel server \n",
    "proj = Projector(use_panel=True, p_width=1280, p_height=800, show_legend=True, show_colorbar=True)"
   ]
  },
  {
   "cell_type": "markdown",
   "metadata": {
    "pycharm": {
     "name": "#%% md\n"
    }
   },
   "source": [
    "The projector cretes a matplotlib figure with its corresponding axes. You can use these axes as you want and display whatever plot, image, or text in the figure. Just remember to trigger the update in the panel to refresh the image. Run the cell below to see an example."
   ]
  },
  {
   "cell_type": "code",
   "execution_count": null,
   "metadata": {
    "scrolled": false
   },
   "outputs": [],
   "source": [
    "figure = proj.figure\n",
    "axes = proj.ax\n",
    "# Minimal example of plotting a line \n",
    "axes.plot([10,20],[50,50], 'r-*', label=\"line\")\n",
    "# Trigger the update in the sandbox panel\n",
    "proj.trigger()"
   ]
  },
  {
   "cell_type": "code",
   "execution_count": null,
   "metadata": {},
   "outputs": [],
   "source": [
    "# To clean the axes from the figure\n",
    "proj.clear_axes()"
   ]
  },
  {
   "cell_type": "markdown",
   "metadata": {},
   "source": [
    "**For more information:** Please visit [matplotlib](https://matplotlib.org/) for more information on how to use axes "
   ]
  },
  {
   "cell_type": "markdown",
   "metadata": {},
   "source": [
    "**Adjust your hardware**\n",
    "\n",
    "\n",
    "Please adjust the projector in a way, that at least the whole sandbox including the four corner poles are covered by the iluminated area. Make sure that the borders of the sandbox are parallel to the borders of the sandbox. If necessary, rotate the projector and adjust the keystone correction until the projected image is parallel to all boarders of the sandbox. Some projectors assist you with a test picture that can be switched on in the options. Depending on the color of the sand you use, you can additionally adjust the color temperature of your projector to get better colour representations. If you wish to use some additional projection areas (e.g. a legend), increase the iluminated area in order to have enough space on a panel outside the box. Also it is important that the projected area is as close to a square as possible. \n",
    "\n",
    "**Adjust the software**\n",
    "\n",
    "The following command starts a calibration panel inside this notebook. You can use the four sliders until the main frame exactly covers the entire sandbox. Start with the upper left corner. Adjust the top and left margin sliders to shift the main frames position up and down and left and right. Next, use the last two sliders to adjust the size (width and height) of the main frame."
   ]
  },
  {
   "cell_type": "code",
   "execution_count": null,
   "metadata": {
    "pycharm": {
     "is_executing": false,
     "name": "#%%\n"
    },
    "scrolled": false
   },
   "outputs": [],
   "source": [
    "widget = proj.calibrate_projector()\n",
    "widget\n"
   ]
  },
  {
   "cell_type": "markdown",
   "metadata": {},
   "source": [
    "## (optional) Sidebar\n",
    "\n",
    "Is possible to include a sidebar including a colorbar, legend, profile area or box to add any additional information you want to be displayed. This information will be saved in the calibration file and can be used for any module."
   ]
  },
  {
   "cell_type": "markdown",
   "metadata": {},
   "source": [
    "### Colorbar\n",
    "\n",
    "A colorbar can de added to the right side or at the bottom of the principal frame. In the widgets, you need to change the orientation of the colorbar for this, and set the sliders to fit the area dedicated to the colorbar. For here you can set a customizable label to be added to the colorbar."
   ]
  },
  {
   "cell_type": "code",
   "execution_count": null,
   "metadata": {},
   "outputs": [],
   "source": [
    "proj.show_widget_colorbar()"
   ]
  },
  {
   "cell_type": "markdown",
   "metadata": {},
   "source": [
    "The sandbox will take care of getting the vmin, vmax and colormap when the main thread of the sandbox is running"
   ]
  },
  {
   "cell_type": "code",
   "execution_count": null,
   "metadata": {},
   "outputs": [],
   "source": [
    "proj.set_colorbar(vmin = 0, vmax = 100, cmap = \"magma\", label = \"Custom\" )"
   ]
  },
  {
   "cell_type": "markdown",
   "metadata": {},
   "source": [
    "### Legend"
   ]
  },
  {
   "cell_type": "markdown",
   "metadata": {},
   "source": [
    "Is possible to show the legends of the information plotted; like the Aruco markers. \n",
    "\n",
    "The following shows a minimal example where the handles and the labels of another figure are added to the sandbox. "
   ]
  },
  {
   "cell_type": "code",
   "execution_count": null,
   "metadata": {},
   "outputs": [],
   "source": [
    "# Set the extent of the legend panel in the dashboard\n",
    "proj.show_widget_legend()"
   ]
  },
  {
   "cell_type": "code",
   "execution_count": null,
   "metadata": {},
   "outputs": [],
   "source": [
    "import matplotlib.pyplot as plt\n",
    "import numpy as np\n",
    "\n",
    "fig, ax = plt.subplots()\n",
    "x = np.arange(10)\n",
    "for i in range(3):\n",
    "    ax.plot(x**3, x * (i+1), label='line %d' % i) "
   ]
  },
  {
   "cell_type": "code",
   "execution_count": null,
   "metadata": {},
   "outputs": [],
   "source": [
    "handles, labels = ax.get_legend_handles_labels()\n",
    "print(handles, labels)"
   ]
  },
  {
   "cell_type": "code",
   "execution_count": null,
   "metadata": {
    "scrolled": true
   },
   "outputs": [],
   "source": [
    "proj.set_legend(handles = handles, labels = labels)"
   ]
  },
  {
   "cell_type": "markdown",
   "metadata": {},
   "source": [
    "There are many other Matplotlib objects that can be used in this way. "
   ]
  },
  {
   "cell_type": "code",
   "execution_count": null,
   "metadata": {},
   "outputs": [],
   "source": [
    "from matplotlib.patches import Patch\n",
    "from matplotlib.lines import Line2D\n",
    "\n",
    "legend_elements = [Line2D([0], [0], color='b', lw=4, label='Line'),\n",
    "                   Line2D([0], [0], marker='o', color='w', label='Scatter',\n",
    "                          markerfacecolor='g', markersize=15),\n",
    "                   Patch(facecolor='orange', edgecolor='r',\n",
    "                         label='Color Patch')]\n",
    "proj.set_legend(legend_elements)"
   ]
  },
  {
   "cell_type": "markdown",
   "metadata": {},
   "source": [
    "We can do the same with the sandbox frame. But now the handles and labels are internally stored by the sandbox. "
   ]
  },
  {
   "cell_type": "code",
   "execution_count": null,
   "metadata": {},
   "outputs": [],
   "source": [
    "for i in range(3):\n",
    "    proj.ax.plot(x, x * (i+1), label='Another line %d' % i) \n",
    "proj.trigger()\n",
    "proj.set_legend()"
   ]
  },
  {
   "cell_type": "markdown",
   "metadata": {},
   "source": [
    "### Hot area\n",
    "This area can be used for displaying logos, images, or any additional feature you want to be displayed. "
   ]
  },
  {
   "cell_type": "markdown",
   "metadata": {},
   "source": []
  },
  {
   "cell_type": "markdown",
   "metadata": {},
   "source": [
    "## Save calibration\n",
    "Once the projection fits the sandbox we can save the current calibration in order to use this calibration for future usages and not to go through the whole process again, you can simply save the calibration in a human-readable JSON file. Also include this file in bug reports to help us improve the Open AR Sandbox."
   ]
  },
  {
   "cell_type": "code",
   "execution_count": null,
   "metadata": {},
   "outputs": [],
   "source": [
    "proj.save_json(file = _calibration_dir + 'my_projector_calibration.json')"
   ]
  },
  {
   "cell_type": "markdown",
   "metadata": {},
   "source": [
    "Now use the following line to open the calibrated projector. "
   ]
  },
  {
   "cell_type": "code",
   "execution_count": null,
   "metadata": {},
   "outputs": [],
   "source": [
    "proj = Projector(calibprojector=_calibration_dir + 'my_projector_calibration.json', \n",
    "                 use_panel=True, \n",
    "                 show_colorbar=True,\n",
    "                show_legend=True)"
   ]
  },
  {
   "cell_type": "code",
   "execution_count": null,
   "metadata": {},
   "outputs": [],
   "source": []
  }
 ],
 "metadata": {
  "kernelspec": {
   "display_name": "Python 3",
   "language": "python",
   "name": "python3"
  },
  "language_info": {
   "codemirror_mode": {
    "name": "ipython",
    "version": 3
   },
   "file_extension": ".py",
   "mimetype": "text/x-python",
   "name": "python",
   "nbconvert_exporter": "python",
   "pygments_lexer": "ipython3",
   "version": "3.7.9"
  },
  "pycharm": {
   "stem_cell": {
    "cell_type": "raw",
    "metadata": {
     "collapsed": false
    },
    "source": []
   }
  }
 },
 "nbformat": 4,
 "nbformat_minor": 1
}
