{
 "cells": [
  {
   "cell_type": "code",
   "execution_count": null,
   "metadata": {},
   "outputs": [],
   "source": [
    "import os,sys\n",
    "#sys.path.append('/home/miguel/PycharmProjects/open_AR_Sandbox')\n",
    "sys.path.append('..')\n",
    "sys.path.append(\"/Users/simon/Documents/coding/git/gempy\")\n",
    "\n",
    "import Sandbox as sb\n",
    "import gempy as gp\n",
    "import gempy_sandbox as gpsb\n",
    "from PIL import Image, ImageDraw\n",
    "import pickle\n"
   ]
  },
  {
   "cell_type": "code",
   "execution_count": null,
   "metadata": {},
   "outputs": [],
   "source": [
    "gempy_path= \"/Users/simon/Documents/coding/git/gempy\""
   ]
  },
  {
   "cell_type": "code",
   "execution_count": null,
   "metadata": {},
   "outputs": [],
   "source": [
    "kin=sb.Kinect()"
   ]
  },
  {
   "cell_type": "code",
   "execution_count": null,
   "metadata": {},
   "outputs": [],
   "source": [
    "beamer=sb.Projector(resolution=(1920,1080))\n",
    "beamer.refresh=50"
   ]
  },
  {
   "cell_type": "code",
   "execution_count": null,
   "metadata": {},
   "outputs": [],
   "source": [
    "beamer.start_stream()"
   ]
  },
  {
   "cell_type": "code",
   "execution_count": null,
   "metadata": {},
   "outputs": [],
   "source": [
    "#beamer.calibration.load(calibration_file=\"sandbox_dummy.dat\")\n",
    "beamer.calibration.load(calibration_file=\"sandbox_standalone.dat\")"
   ]
  },
  {
   "cell_type": "code",
   "execution_count": null,
   "metadata": {},
   "outputs": [],
   "source": [
    "beamer.calibrate()"
   ]
  },
  {
   "cell_type": "code",
   "execution_count": null,
   "metadata": {},
   "outputs": [],
   "source": [
    "#beamer.calibration.save(calibration_file=\"sandbox_dummy.dat\")\n",
    "beamer.calibration.save(calibration_file=\"sandbox_standalone.dat\")"
   ]
  },
  {
   "cell_type": "code",
   "execution_count": null,
   "metadata": {},
   "outputs": [],
   "source": [
    "#geo_model = gp.load_model('/home/miguel/PycharmProjects/gempy/notebooks/tutorials/saves/ch1-2.pickle')\n",
    "geo_model = gp.load_model('/Users/simon/Documents/coding/git/gempy/notebooks/tutorials/saves/ch1-2.pickle')"
   ]
  },
  {
   "cell_type": "code",
   "execution_count": null,
   "metadata": {},
   "outputs": [],
   "source": [
    "sol = gp.compute_model(geo_model)"
   ]
  },
  {
   "cell_type": "code",
   "execution_count": null,
   "metadata": {},
   "outputs": [],
   "source": [
    "#Workaround to show Legend and 3D-model\n",
    " \n",
    "img=Image.open('legend_original.png')\n",
    "width = (beamer.calibration.calibration_data['legend_x_lim'][1]\n",
    "    -beamer.calibration.calibration_data['legend_x_lim'][0])\n",
    "wpercent = (width/float(img.size[0]))\n",
    "hsize = int((float(img.size[1])*float(wpercent)))\n",
    "img = img.resize((width,hsize), Image.ANTIALIAS)\n",
    "img.save('legend.png') \n",
    "\n",
    "img=Image.open('model_originale.png')\n",
    "width = (beamer.calibration.calibration_data['legend_x_lim'][1]\n",
    "    -beamer.calibration.calibration_data['legend_x_lim'][0])\n",
    "wpercent = (width/float(img.size[0]))\n",
    " \n",
    "hsize = int((float(img.size[1])*float(wpercent)))\n",
    "img = img.resize((width,hsize), Image.ANTIALIAS)\n",
    "img.save('hot.png') "
   ]
  },
  {
   "cell_type": "code",
   "execution_count": null,
   "metadata": {},
   "outputs": [],
   "source": [
    "model=gpsb.Model(geo_model,extent=[0,2000,0,2000,0,2000]) ##xmin and y min are flipped!\n",
    "#model.associated_calibration=beamer.calibration\n",
    "model.calculate_scales()\n",
    "model.create_empty_depth_grid()\n",
    "beamer.input_rescale = False"
   ]
  },
  {
   "cell_type": "code",
   "execution_count": null,
   "metadata": {},
   "outputs": [],
   "source": [
    "geology= sb.Module(model)"
   ]
  },
  {
   "cell_type": "code",
   "execution_count": null,
   "metadata": {},
   "outputs": [],
   "source": [
    "\n",
    "geology.module.delay=0.02\n",
    "#geology.module.show_framerate=True"
   ]
  },
  {
   "cell_type": "code",
   "execution_count": null,
   "metadata": {},
   "outputs": [],
   "source": [
    "geology.run()"
   ]
  },
  {
   "cell_type": "code",
   "execution_count": null,
   "metadata": {},
   "outputs": [],
   "source": [
    "#stop thread\n",
    "geology.kill()"
   ]
  },
  {
   "cell_type": "code",
   "execution_count": null,
   "metadata": {},
   "outputs": [],
   "source": [
    "geology.module.model.solutions"
   ]
  },
  {
   "cell_type": "code",
   "execution_count": null,
   "metadata": {},
   "outputs": [],
   "source": [
    "gp.compute_model_at(geology.module.depth_grid, geology.module.model)"
   ]
  },
  {
   "cell_type": "code",
   "execution_count": null,
   "metadata": {},
   "outputs": [],
   "source": [
    "geology.module.model.interpolator.set_theano_share_input()"
   ]
  },
  {
   "cell_type": "code",
   "execution_count": null,
   "metadata": {},
   "outputs": [],
   "source": [
    "geology.module.model.interpolator.theano_graph.grid_val_T.get_value()"
   ]
  },
  {
   "cell_type": "code",
   "execution_count": null,
   "metadata": {},
   "outputs": [],
   "source": [
    "geology.module.model.grid.values_r"
   ]
  },
  {
   "cell_type": "code",
   "execution_count": null,
   "metadata": {},
   "outputs": [],
   "source": [
    "geology.module.depth_grid"
   ]
  },
  {
   "cell_type": "code",
   "execution_count": null,
   "metadata": {},
   "outputs": [],
   "source": [
    "import numpy as np\n"
   ]
  },
  {
   "cell_type": "code",
   "execution_count": null,
   "metadata": {},
   "outputs": [],
   "source": [
    "geo_model.grid"
   ]
  },
  {
   "cell_type": "code",
   "execution_count": null,
   "metadata": {},
   "outputs": [],
   "source": [
    "geo_model.interpolator.set_theano_share_input()"
   ]
  },
  {
   "cell_type": "code",
   "execution_count": null,
   "metadata": {},
   "outputs": [],
   "source": [
    "gp.compute_model(geo_model, compute_mesh=False)"
   ]
  },
  {
   "cell_type": "code",
   "execution_count": null,
   "metadata": {},
   "outputs": [],
   "source": [
    "beamer."
   ]
  }
 ],
 "metadata": {
  "kernelspec": {
   "display_name": "Python 3",
   "language": "python",
   "name": "python3"
  },
  "language_info": {
   "codemirror_mode": {
    "name": "ipython",
    "version": 3
   },
   "file_extension": ".py",
   "mimetype": "text/x-python",
   "name": "python",
   "nbconvert_exporter": "python",
   "pygments_lexer": "ipython3",
   "version": "3.6.4"
  }
 },
 "nbformat": 4,
 "nbformat_minor": 2
}
